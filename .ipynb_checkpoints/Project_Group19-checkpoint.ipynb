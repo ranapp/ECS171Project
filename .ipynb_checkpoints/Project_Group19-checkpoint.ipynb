{
 "cells": [
  {
   "cell_type": "markdown",
   "metadata": {
    "id": "2FP3LpCYQw2G"
   },
   "source": [
    "#**Importing Data**"
   ]
  },
  {
   "cell_type": "code",
   "execution_count": 1,
   "metadata": {
    "id": "B8jzGHJoLtBT"
   },
   "outputs": [],
   "source": [
    "import pandas as pd\n",
    "import requests\n",
    "import io\n",
    "\n",
    "import numpy as np\n",
    "from sklearn.model_selection import train_test_split\n",
    "from sklearn.neural_network import MLPClassifier\n",
    "from sklearn.preprocessing import MinMaxScaler\n",
    "from sklearn.metrics import classification_report, confusion_matrix, multilabel_confusion_matrix\n",
    "from sklearn.metrics import mean_squared_error, accuracy_score, precision_score, recall_score\n",
    "import matplotlib.pyplot as plt\n",
    "\n",
    "from sklearn.linear_model import LinearRegression\n",
    "from sklearn.metrics import mean_squared_error, r2_score\n",
    "from sklearn.preprocessing import PolynomialFeatures\n",
    "from sklearn.preprocessing import StandardScaler\n",
    "import plotly.figure_factory as ff\n",
    "import pickle\n"
   ]
  },
  {
   "cell_type": "markdown",
   "metadata": {
    "id": "FB1KUAYRKhsj"
   },
   "source": [
    "Access Data"
   ]
  },
  {
   "cell_type": "code",
   "execution_count": 2,
   "metadata": {
    "colab": {
     "base_uri": "https://localhost:8080/",
     "height": 352
    },
    "id": "o9ZdsU7AJ6VR",
    "outputId": "404b378a-60e4-4acd-c739-4c2645bba4df"
   },
   "outputs": [
    {
     "data": {
      "text/html": [
       "<div>\n",
       "<style scoped>\n",
       "    .dataframe tbody tr th:only-of-type {\n",
       "        vertical-align: middle;\n",
       "    }\n",
       "\n",
       "    .dataframe tbody tr th {\n",
       "        vertical-align: top;\n",
       "    }\n",
       "\n",
       "    .dataframe thead th {\n",
       "        text-align: right;\n",
       "    }\n",
       "</style>\n",
       "<table border=\"1\" class=\"dataframe\">\n",
       "  <thead>\n",
       "    <tr style=\"text-align: right;\">\n",
       "      <th></th>\n",
       "      <th>Marital status</th>\n",
       "      <th>Application mode</th>\n",
       "      <th>Application order</th>\n",
       "      <th>Course</th>\n",
       "      <th>Daytime/evening attendance</th>\n",
       "      <th>Previous qualification</th>\n",
       "      <th>Nacionality</th>\n",
       "      <th>Mother's qualification</th>\n",
       "      <th>Father's qualification</th>\n",
       "      <th>Mother's occupation</th>\n",
       "      <th>...</th>\n",
       "      <th>Curricular units 2nd sem (credited)</th>\n",
       "      <th>Curricular units 2nd sem (enrolled)</th>\n",
       "      <th>Curricular units 2nd sem (evaluations)</th>\n",
       "      <th>Curricular units 2nd sem (approved)</th>\n",
       "      <th>Curricular units 2nd sem (grade)</th>\n",
       "      <th>Curricular units 2nd sem (without evaluations)</th>\n",
       "      <th>Unemployment rate</th>\n",
       "      <th>Inflation rate</th>\n",
       "      <th>GDP</th>\n",
       "      <th>Target</th>\n",
       "    </tr>\n",
       "  </thead>\n",
       "  <tbody>\n",
       "    <tr>\n",
       "      <th>0</th>\n",
       "      <td>1</td>\n",
       "      <td>8</td>\n",
       "      <td>5</td>\n",
       "      <td>2</td>\n",
       "      <td>1</td>\n",
       "      <td>1</td>\n",
       "      <td>1</td>\n",
       "      <td>13</td>\n",
       "      <td>10</td>\n",
       "      <td>6</td>\n",
       "      <td>...</td>\n",
       "      <td>0</td>\n",
       "      <td>0</td>\n",
       "      <td>0</td>\n",
       "      <td>0</td>\n",
       "      <td>0.000000</td>\n",
       "      <td>0</td>\n",
       "      <td>10.8</td>\n",
       "      <td>1.4</td>\n",
       "      <td>1.74</td>\n",
       "      <td>Dropout</td>\n",
       "    </tr>\n",
       "    <tr>\n",
       "      <th>1</th>\n",
       "      <td>1</td>\n",
       "      <td>6</td>\n",
       "      <td>1</td>\n",
       "      <td>11</td>\n",
       "      <td>1</td>\n",
       "      <td>1</td>\n",
       "      <td>1</td>\n",
       "      <td>1</td>\n",
       "      <td>3</td>\n",
       "      <td>4</td>\n",
       "      <td>...</td>\n",
       "      <td>0</td>\n",
       "      <td>6</td>\n",
       "      <td>6</td>\n",
       "      <td>6</td>\n",
       "      <td>13.666667</td>\n",
       "      <td>0</td>\n",
       "      <td>13.9</td>\n",
       "      <td>-0.3</td>\n",
       "      <td>0.79</td>\n",
       "      <td>Graduate</td>\n",
       "    </tr>\n",
       "    <tr>\n",
       "      <th>2</th>\n",
       "      <td>1</td>\n",
       "      <td>1</td>\n",
       "      <td>5</td>\n",
       "      <td>5</td>\n",
       "      <td>1</td>\n",
       "      <td>1</td>\n",
       "      <td>1</td>\n",
       "      <td>22</td>\n",
       "      <td>27</td>\n",
       "      <td>10</td>\n",
       "      <td>...</td>\n",
       "      <td>0</td>\n",
       "      <td>6</td>\n",
       "      <td>0</td>\n",
       "      <td>0</td>\n",
       "      <td>0.000000</td>\n",
       "      <td>0</td>\n",
       "      <td>10.8</td>\n",
       "      <td>1.4</td>\n",
       "      <td>1.74</td>\n",
       "      <td>Dropout</td>\n",
       "    </tr>\n",
       "    <tr>\n",
       "      <th>3</th>\n",
       "      <td>1</td>\n",
       "      <td>8</td>\n",
       "      <td>2</td>\n",
       "      <td>15</td>\n",
       "      <td>1</td>\n",
       "      <td>1</td>\n",
       "      <td>1</td>\n",
       "      <td>23</td>\n",
       "      <td>27</td>\n",
       "      <td>6</td>\n",
       "      <td>...</td>\n",
       "      <td>0</td>\n",
       "      <td>6</td>\n",
       "      <td>10</td>\n",
       "      <td>5</td>\n",
       "      <td>12.400000</td>\n",
       "      <td>0</td>\n",
       "      <td>9.4</td>\n",
       "      <td>-0.8</td>\n",
       "      <td>-3.12</td>\n",
       "      <td>Graduate</td>\n",
       "    </tr>\n",
       "    <tr>\n",
       "      <th>4</th>\n",
       "      <td>2</td>\n",
       "      <td>12</td>\n",
       "      <td>1</td>\n",
       "      <td>3</td>\n",
       "      <td>0</td>\n",
       "      <td>1</td>\n",
       "      <td>1</td>\n",
       "      <td>22</td>\n",
       "      <td>28</td>\n",
       "      <td>10</td>\n",
       "      <td>...</td>\n",
       "      <td>0</td>\n",
       "      <td>6</td>\n",
       "      <td>6</td>\n",
       "      <td>6</td>\n",
       "      <td>13.000000</td>\n",
       "      <td>0</td>\n",
       "      <td>13.9</td>\n",
       "      <td>-0.3</td>\n",
       "      <td>0.79</td>\n",
       "      <td>Graduate</td>\n",
       "    </tr>\n",
       "  </tbody>\n",
       "</table>\n",
       "<p>5 rows × 35 columns</p>\n",
       "</div>"
      ],
      "text/plain": [
       "   Marital status  Application mode  Application order  Course  \\\n",
       "0               1                 8                  5       2   \n",
       "1               1                 6                  1      11   \n",
       "2               1                 1                  5       5   \n",
       "3               1                 8                  2      15   \n",
       "4               2                12                  1       3   \n",
       "\n",
       "   Daytime/evening attendance  Previous qualification  Nacionality  \\\n",
       "0                           1                       1            1   \n",
       "1                           1                       1            1   \n",
       "2                           1                       1            1   \n",
       "3                           1                       1            1   \n",
       "4                           0                       1            1   \n",
       "\n",
       "   Mother's qualification  Father's qualification  Mother's occupation  ...  \\\n",
       "0                      13                      10                    6  ...   \n",
       "1                       1                       3                    4  ...   \n",
       "2                      22                      27                   10  ...   \n",
       "3                      23                      27                    6  ...   \n",
       "4                      22                      28                   10  ...   \n",
       "\n",
       "   Curricular units 2nd sem (credited)  Curricular units 2nd sem (enrolled)  \\\n",
       "0                                    0                                    0   \n",
       "1                                    0                                    6   \n",
       "2                                    0                                    6   \n",
       "3                                    0                                    6   \n",
       "4                                    0                                    6   \n",
       "\n",
       "   Curricular units 2nd sem (evaluations)  \\\n",
       "0                                       0   \n",
       "1                                       6   \n",
       "2                                       0   \n",
       "3                                      10   \n",
       "4                                       6   \n",
       "\n",
       "   Curricular units 2nd sem (approved)  Curricular units 2nd sem (grade)  \\\n",
       "0                                    0                          0.000000   \n",
       "1                                    6                         13.666667   \n",
       "2                                    0                          0.000000   \n",
       "3                                    5                         12.400000   \n",
       "4                                    6                         13.000000   \n",
       "\n",
       "   Curricular units 2nd sem (without evaluations)  Unemployment rate  \\\n",
       "0                                               0               10.8   \n",
       "1                                               0               13.9   \n",
       "2                                               0               10.8   \n",
       "3                                               0                9.4   \n",
       "4                                               0               13.9   \n",
       "\n",
       "   Inflation rate   GDP    Target  \n",
       "0             1.4  1.74   Dropout  \n",
       "1            -0.3  0.79  Graduate  \n",
       "2             1.4  1.74   Dropout  \n",
       "3            -0.8 -3.12  Graduate  \n",
       "4            -0.3  0.79  Graduate  \n",
       "\n",
       "[5 rows x 35 columns]"
      ]
     },
     "execution_count": 2,
     "metadata": {},
     "output_type": "execute_result"
    }
   ],
   "source": [
    "df = pd.read_csv('dataset.csv')\n",
    "df.head()"
   ]
  },
  {
   "cell_type": "code",
   "execution_count": 3,
   "metadata": {
    "colab": {
     "base_uri": "https://localhost:8080/"
    },
    "id": "mB1DvJNk3Gaz",
    "outputId": "97d86422-4c15-4597-f509-82e4416ee55a"
   },
   "outputs": [
    {
     "name": "stdout",
     "output_type": "stream",
     "text": [
      "Demension of the dataset:\n"
     ]
    },
    {
     "data": {
      "text/plain": [
       "(4424, 35)"
      ]
     },
     "execution_count": 3,
     "metadata": {},
     "output_type": "execute_result"
    }
   ],
   "source": [
    "print(\"Demension of the dataset:\")\n",
    "df.shape"
   ]
  },
  {
   "cell_type": "markdown",
   "metadata": {
    "id": "y9Sj_4Y_3QKV"
   },
   "source": [
    "#**Data Preprocessing**\n"
   ]
  },
  {
   "cell_type": "code",
   "execution_count": 4,
   "metadata": {
    "id": "wZ29kcigHQLO"
   },
   "outputs": [],
   "source": [
    "df.drop_duplicates(inplace=True)"
   ]
  },
  {
   "cell_type": "code",
   "execution_count": 5,
   "metadata": {
    "colab": {
     "base_uri": "https://localhost:8080/"
    },
    "id": "FlyshcNB567P",
    "outputId": "8c2de080-25dc-4538-8ca9-10e54d306193"
   },
   "outputs": [
    {
     "name": "stdout",
     "output_type": "stream",
     "text": [
      "Target : \n",
      "['Dropout' 'Graduate' 'Enrolled']\n"
     ]
    }
   ],
   "source": [
    "print(\"Target : \")\n",
    "print(df['Target'].unique())"
   ]
  },
  {
   "cell_type": "markdown",
   "metadata": {
    "id": "59TiwUa_7SMR"
   },
   "source": [
    "As we can see, there are three different elements in \"Target\". So, we can assign that: Dropout = 0, Graduate = 1, Enrolled = 2."
   ]
  },
  {
   "cell_type": "code",
   "execution_count": 6,
   "metadata": {
    "colab": {
     "base_uri": "https://localhost:8080/",
     "height": 540
    },
    "id": "uclkSv_j6mx3",
    "outputId": "4aac7b85-6063-4330-d7de-7349fb7870c7"
   },
   "outputs": [
    {
     "data": {
      "text/html": [
       "<div>\n",
       "<style scoped>\n",
       "    .dataframe tbody tr th:only-of-type {\n",
       "        vertical-align: middle;\n",
       "    }\n",
       "\n",
       "    .dataframe tbody tr th {\n",
       "        vertical-align: top;\n",
       "    }\n",
       "\n",
       "    .dataframe thead th {\n",
       "        text-align: right;\n",
       "    }\n",
       "</style>\n",
       "<table border=\"1\" class=\"dataframe\">\n",
       "  <thead>\n",
       "    <tr style=\"text-align: right;\">\n",
       "      <th></th>\n",
       "      <th>Marital status</th>\n",
       "      <th>Application mode</th>\n",
       "      <th>Application order</th>\n",
       "      <th>Course</th>\n",
       "      <th>Daytime/evening attendance</th>\n",
       "      <th>Previous qualification</th>\n",
       "      <th>Nacionality</th>\n",
       "      <th>Mother's qualification</th>\n",
       "      <th>Father's qualification</th>\n",
       "      <th>Mother's occupation</th>\n",
       "      <th>...</th>\n",
       "      <th>Curricular units 2nd sem (credited)</th>\n",
       "      <th>Curricular units 2nd sem (enrolled)</th>\n",
       "      <th>Curricular units 2nd sem (evaluations)</th>\n",
       "      <th>Curricular units 2nd sem (approved)</th>\n",
       "      <th>Curricular units 2nd sem (grade)</th>\n",
       "      <th>Curricular units 2nd sem (without evaluations)</th>\n",
       "      <th>Unemployment rate</th>\n",
       "      <th>Inflation rate</th>\n",
       "      <th>GDP</th>\n",
       "      <th>Target</th>\n",
       "    </tr>\n",
       "  </thead>\n",
       "  <tbody>\n",
       "    <tr>\n",
       "      <th>0</th>\n",
       "      <td>1</td>\n",
       "      <td>8</td>\n",
       "      <td>5</td>\n",
       "      <td>2</td>\n",
       "      <td>1</td>\n",
       "      <td>1</td>\n",
       "      <td>1</td>\n",
       "      <td>13</td>\n",
       "      <td>10</td>\n",
       "      <td>6</td>\n",
       "      <td>...</td>\n",
       "      <td>0</td>\n",
       "      <td>0</td>\n",
       "      <td>0</td>\n",
       "      <td>0</td>\n",
       "      <td>0.000000</td>\n",
       "      <td>0</td>\n",
       "      <td>10.8</td>\n",
       "      <td>1.4</td>\n",
       "      <td>1.74</td>\n",
       "      <td>0</td>\n",
       "    </tr>\n",
       "    <tr>\n",
       "      <th>1</th>\n",
       "      <td>1</td>\n",
       "      <td>6</td>\n",
       "      <td>1</td>\n",
       "      <td>11</td>\n",
       "      <td>1</td>\n",
       "      <td>1</td>\n",
       "      <td>1</td>\n",
       "      <td>1</td>\n",
       "      <td>3</td>\n",
       "      <td>4</td>\n",
       "      <td>...</td>\n",
       "      <td>0</td>\n",
       "      <td>6</td>\n",
       "      <td>6</td>\n",
       "      <td>6</td>\n",
       "      <td>13.666667</td>\n",
       "      <td>0</td>\n",
       "      <td>13.9</td>\n",
       "      <td>-0.3</td>\n",
       "      <td>0.79</td>\n",
       "      <td>1</td>\n",
       "    </tr>\n",
       "    <tr>\n",
       "      <th>2</th>\n",
       "      <td>1</td>\n",
       "      <td>1</td>\n",
       "      <td>5</td>\n",
       "      <td>5</td>\n",
       "      <td>1</td>\n",
       "      <td>1</td>\n",
       "      <td>1</td>\n",
       "      <td>22</td>\n",
       "      <td>27</td>\n",
       "      <td>10</td>\n",
       "      <td>...</td>\n",
       "      <td>0</td>\n",
       "      <td>6</td>\n",
       "      <td>0</td>\n",
       "      <td>0</td>\n",
       "      <td>0.000000</td>\n",
       "      <td>0</td>\n",
       "      <td>10.8</td>\n",
       "      <td>1.4</td>\n",
       "      <td>1.74</td>\n",
       "      <td>0</td>\n",
       "    </tr>\n",
       "    <tr>\n",
       "      <th>3</th>\n",
       "      <td>1</td>\n",
       "      <td>8</td>\n",
       "      <td>2</td>\n",
       "      <td>15</td>\n",
       "      <td>1</td>\n",
       "      <td>1</td>\n",
       "      <td>1</td>\n",
       "      <td>23</td>\n",
       "      <td>27</td>\n",
       "      <td>6</td>\n",
       "      <td>...</td>\n",
       "      <td>0</td>\n",
       "      <td>6</td>\n",
       "      <td>10</td>\n",
       "      <td>5</td>\n",
       "      <td>12.400000</td>\n",
       "      <td>0</td>\n",
       "      <td>9.4</td>\n",
       "      <td>-0.8</td>\n",
       "      <td>-3.12</td>\n",
       "      <td>1</td>\n",
       "    </tr>\n",
       "    <tr>\n",
       "      <th>4</th>\n",
       "      <td>2</td>\n",
       "      <td>12</td>\n",
       "      <td>1</td>\n",
       "      <td>3</td>\n",
       "      <td>0</td>\n",
       "      <td>1</td>\n",
       "      <td>1</td>\n",
       "      <td>22</td>\n",
       "      <td>28</td>\n",
       "      <td>10</td>\n",
       "      <td>...</td>\n",
       "      <td>0</td>\n",
       "      <td>6</td>\n",
       "      <td>6</td>\n",
       "      <td>6</td>\n",
       "      <td>13.000000</td>\n",
       "      <td>0</td>\n",
       "      <td>13.9</td>\n",
       "      <td>-0.3</td>\n",
       "      <td>0.79</td>\n",
       "      <td>1</td>\n",
       "    </tr>\n",
       "    <tr>\n",
       "      <th>...</th>\n",
       "      <td>...</td>\n",
       "      <td>...</td>\n",
       "      <td>...</td>\n",
       "      <td>...</td>\n",
       "      <td>...</td>\n",
       "      <td>...</td>\n",
       "      <td>...</td>\n",
       "      <td>...</td>\n",
       "      <td>...</td>\n",
       "      <td>...</td>\n",
       "      <td>...</td>\n",
       "      <td>...</td>\n",
       "      <td>...</td>\n",
       "      <td>...</td>\n",
       "      <td>...</td>\n",
       "      <td>...</td>\n",
       "      <td>...</td>\n",
       "      <td>...</td>\n",
       "      <td>...</td>\n",
       "      <td>...</td>\n",
       "      <td>...</td>\n",
       "    </tr>\n",
       "    <tr>\n",
       "      <th>4419</th>\n",
       "      <td>1</td>\n",
       "      <td>1</td>\n",
       "      <td>6</td>\n",
       "      <td>15</td>\n",
       "      <td>1</td>\n",
       "      <td>1</td>\n",
       "      <td>1</td>\n",
       "      <td>1</td>\n",
       "      <td>1</td>\n",
       "      <td>6</td>\n",
       "      <td>...</td>\n",
       "      <td>0</td>\n",
       "      <td>6</td>\n",
       "      <td>8</td>\n",
       "      <td>5</td>\n",
       "      <td>12.666667</td>\n",
       "      <td>0</td>\n",
       "      <td>15.5</td>\n",
       "      <td>2.8</td>\n",
       "      <td>-4.06</td>\n",
       "      <td>1</td>\n",
       "    </tr>\n",
       "    <tr>\n",
       "      <th>4420</th>\n",
       "      <td>1</td>\n",
       "      <td>1</td>\n",
       "      <td>2</td>\n",
       "      <td>15</td>\n",
       "      <td>1</td>\n",
       "      <td>1</td>\n",
       "      <td>19</td>\n",
       "      <td>1</td>\n",
       "      <td>1</td>\n",
       "      <td>10</td>\n",
       "      <td>...</td>\n",
       "      <td>0</td>\n",
       "      <td>6</td>\n",
       "      <td>6</td>\n",
       "      <td>2</td>\n",
       "      <td>11.000000</td>\n",
       "      <td>0</td>\n",
       "      <td>11.1</td>\n",
       "      <td>0.6</td>\n",
       "      <td>2.02</td>\n",
       "      <td>0</td>\n",
       "    </tr>\n",
       "    <tr>\n",
       "      <th>4421</th>\n",
       "      <td>1</td>\n",
       "      <td>1</td>\n",
       "      <td>1</td>\n",
       "      <td>12</td>\n",
       "      <td>1</td>\n",
       "      <td>1</td>\n",
       "      <td>1</td>\n",
       "      <td>22</td>\n",
       "      <td>27</td>\n",
       "      <td>10</td>\n",
       "      <td>...</td>\n",
       "      <td>0</td>\n",
       "      <td>8</td>\n",
       "      <td>9</td>\n",
       "      <td>1</td>\n",
       "      <td>13.500000</td>\n",
       "      <td>0</td>\n",
       "      <td>13.9</td>\n",
       "      <td>-0.3</td>\n",
       "      <td>0.79</td>\n",
       "      <td>0</td>\n",
       "    </tr>\n",
       "    <tr>\n",
       "      <th>4422</th>\n",
       "      <td>1</td>\n",
       "      <td>1</td>\n",
       "      <td>1</td>\n",
       "      <td>9</td>\n",
       "      <td>1</td>\n",
       "      <td>1</td>\n",
       "      <td>1</td>\n",
       "      <td>22</td>\n",
       "      <td>27</td>\n",
       "      <td>8</td>\n",
       "      <td>...</td>\n",
       "      <td>0</td>\n",
       "      <td>5</td>\n",
       "      <td>6</td>\n",
       "      <td>5</td>\n",
       "      <td>12.000000</td>\n",
       "      <td>0</td>\n",
       "      <td>9.4</td>\n",
       "      <td>-0.8</td>\n",
       "      <td>-3.12</td>\n",
       "      <td>1</td>\n",
       "    </tr>\n",
       "    <tr>\n",
       "      <th>4423</th>\n",
       "      <td>1</td>\n",
       "      <td>5</td>\n",
       "      <td>1</td>\n",
       "      <td>15</td>\n",
       "      <td>1</td>\n",
       "      <td>1</td>\n",
       "      <td>9</td>\n",
       "      <td>23</td>\n",
       "      <td>27</td>\n",
       "      <td>6</td>\n",
       "      <td>...</td>\n",
       "      <td>0</td>\n",
       "      <td>6</td>\n",
       "      <td>6</td>\n",
       "      <td>6</td>\n",
       "      <td>13.000000</td>\n",
       "      <td>0</td>\n",
       "      <td>12.7</td>\n",
       "      <td>3.7</td>\n",
       "      <td>-1.70</td>\n",
       "      <td>1</td>\n",
       "    </tr>\n",
       "  </tbody>\n",
       "</table>\n",
       "<p>4424 rows × 35 columns</p>\n",
       "</div>"
      ],
      "text/plain": [
       "      Marital status  Application mode  Application order  Course  \\\n",
       "0                  1                 8                  5       2   \n",
       "1                  1                 6                  1      11   \n",
       "2                  1                 1                  5       5   \n",
       "3                  1                 8                  2      15   \n",
       "4                  2                12                  1       3   \n",
       "...              ...               ...                ...     ...   \n",
       "4419               1                 1                  6      15   \n",
       "4420               1                 1                  2      15   \n",
       "4421               1                 1                  1      12   \n",
       "4422               1                 1                  1       9   \n",
       "4423               1                 5                  1      15   \n",
       "\n",
       "      Daytime/evening attendance  Previous qualification  Nacionality  \\\n",
       "0                              1                       1            1   \n",
       "1                              1                       1            1   \n",
       "2                              1                       1            1   \n",
       "3                              1                       1            1   \n",
       "4                              0                       1            1   \n",
       "...                          ...                     ...          ...   \n",
       "4419                           1                       1            1   \n",
       "4420                           1                       1           19   \n",
       "4421                           1                       1            1   \n",
       "4422                           1                       1            1   \n",
       "4423                           1                       1            9   \n",
       "\n",
       "      Mother's qualification  Father's qualification  Mother's occupation  \\\n",
       "0                         13                      10                    6   \n",
       "1                          1                       3                    4   \n",
       "2                         22                      27                   10   \n",
       "3                         23                      27                    6   \n",
       "4                         22                      28                   10   \n",
       "...                      ...                     ...                  ...   \n",
       "4419                       1                       1                    6   \n",
       "4420                       1                       1                   10   \n",
       "4421                      22                      27                   10   \n",
       "4422                      22                      27                    8   \n",
       "4423                      23                      27                    6   \n",
       "\n",
       "      ...  Curricular units 2nd sem (credited)  \\\n",
       "0     ...                                    0   \n",
       "1     ...                                    0   \n",
       "2     ...                                    0   \n",
       "3     ...                                    0   \n",
       "4     ...                                    0   \n",
       "...   ...                                  ...   \n",
       "4419  ...                                    0   \n",
       "4420  ...                                    0   \n",
       "4421  ...                                    0   \n",
       "4422  ...                                    0   \n",
       "4423  ...                                    0   \n",
       "\n",
       "      Curricular units 2nd sem (enrolled)  \\\n",
       "0                                       0   \n",
       "1                                       6   \n",
       "2                                       6   \n",
       "3                                       6   \n",
       "4                                       6   \n",
       "...                                   ...   \n",
       "4419                                    6   \n",
       "4420                                    6   \n",
       "4421                                    8   \n",
       "4422                                    5   \n",
       "4423                                    6   \n",
       "\n",
       "      Curricular units 2nd sem (evaluations)  \\\n",
       "0                                          0   \n",
       "1                                          6   \n",
       "2                                          0   \n",
       "3                                         10   \n",
       "4                                          6   \n",
       "...                                      ...   \n",
       "4419                                       8   \n",
       "4420                                       6   \n",
       "4421                                       9   \n",
       "4422                                       6   \n",
       "4423                                       6   \n",
       "\n",
       "      Curricular units 2nd sem (approved)  Curricular units 2nd sem (grade)  \\\n",
       "0                                       0                          0.000000   \n",
       "1                                       6                         13.666667   \n",
       "2                                       0                          0.000000   \n",
       "3                                       5                         12.400000   \n",
       "4                                       6                         13.000000   \n",
       "...                                   ...                               ...   \n",
       "4419                                    5                         12.666667   \n",
       "4420                                    2                         11.000000   \n",
       "4421                                    1                         13.500000   \n",
       "4422                                    5                         12.000000   \n",
       "4423                                    6                         13.000000   \n",
       "\n",
       "      Curricular units 2nd sem (without evaluations)  Unemployment rate  \\\n",
       "0                                                  0               10.8   \n",
       "1                                                  0               13.9   \n",
       "2                                                  0               10.8   \n",
       "3                                                  0                9.4   \n",
       "4                                                  0               13.9   \n",
       "...                                              ...                ...   \n",
       "4419                                               0               15.5   \n",
       "4420                                               0               11.1   \n",
       "4421                                               0               13.9   \n",
       "4422                                               0                9.4   \n",
       "4423                                               0               12.7   \n",
       "\n",
       "      Inflation rate   GDP  Target  \n",
       "0                1.4  1.74       0  \n",
       "1               -0.3  0.79       1  \n",
       "2                1.4  1.74       0  \n",
       "3               -0.8 -3.12       1  \n",
       "4               -0.3  0.79       1  \n",
       "...              ...   ...     ...  \n",
       "4419             2.8 -4.06       1  \n",
       "4420             0.6  2.02       0  \n",
       "4421            -0.3  0.79       0  \n",
       "4422            -0.8 -3.12       1  \n",
       "4423             3.7 -1.70       1  \n",
       "\n",
       "[4424 rows x 35 columns]"
      ]
     },
     "execution_count": 6,
     "metadata": {},
     "output_type": "execute_result"
    }
   ],
   "source": [
    "class_mapping = {'Dropout': 0, 'Graduate': 1, 'Enrolled' : 2}\n",
    "df['Target'] = df['Target'].map(class_mapping)\n",
    "df"
   ]
  },
  {
   "cell_type": "markdown",
   "metadata": {
    "id": "H2S1datNvjwJ"
   },
   "source": [
    "mannually drop 6 relatively useless attributes"
   ]
  },
  {
   "cell_type": "code",
   "execution_count": 7,
   "metadata": {
    "colab": {
     "base_uri": "https://localhost:8080/",
     "height": 540
    },
    "id": "j6bsdE0Xvm-y",
    "outputId": "373fdd82-e69b-4caf-fd49-d96abcbf5e52"
   },
   "outputs": [
    {
     "data": {
      "text/html": [
       "<div>\n",
       "<style scoped>\n",
       "    .dataframe tbody tr th:only-of-type {\n",
       "        vertical-align: middle;\n",
       "    }\n",
       "\n",
       "    .dataframe tbody tr th {\n",
       "        vertical-align: top;\n",
       "    }\n",
       "\n",
       "    .dataframe thead th {\n",
       "        text-align: right;\n",
       "    }\n",
       "</style>\n",
       "<table border=\"1\" class=\"dataframe\">\n",
       "  <thead>\n",
       "    <tr style=\"text-align: right;\">\n",
       "      <th></th>\n",
       "      <th>Application mode</th>\n",
       "      <th>Application order</th>\n",
       "      <th>Course</th>\n",
       "      <th>Daytime/evening attendance</th>\n",
       "      <th>Previous qualification</th>\n",
       "      <th>Mother's qualification</th>\n",
       "      <th>Father's qualification</th>\n",
       "      <th>Mother's occupation</th>\n",
       "      <th>Father's occupation</th>\n",
       "      <th>Displaced</th>\n",
       "      <th>...</th>\n",
       "      <th>Curricular units 2nd sem (credited)</th>\n",
       "      <th>Curricular units 2nd sem (enrolled)</th>\n",
       "      <th>Curricular units 2nd sem (evaluations)</th>\n",
       "      <th>Curricular units 2nd sem (approved)</th>\n",
       "      <th>Curricular units 2nd sem (grade)</th>\n",
       "      <th>Curricular units 2nd sem (without evaluations)</th>\n",
       "      <th>Unemployment rate</th>\n",
       "      <th>Inflation rate</th>\n",
       "      <th>GDP</th>\n",
       "      <th>Target</th>\n",
       "    </tr>\n",
       "  </thead>\n",
       "  <tbody>\n",
       "    <tr>\n",
       "      <th>0</th>\n",
       "      <td>8</td>\n",
       "      <td>5</td>\n",
       "      <td>2</td>\n",
       "      <td>1</td>\n",
       "      <td>1</td>\n",
       "      <td>13</td>\n",
       "      <td>10</td>\n",
       "      <td>6</td>\n",
       "      <td>10</td>\n",
       "      <td>1</td>\n",
       "      <td>...</td>\n",
       "      <td>0</td>\n",
       "      <td>0</td>\n",
       "      <td>0</td>\n",
       "      <td>0</td>\n",
       "      <td>0.000000</td>\n",
       "      <td>0</td>\n",
       "      <td>10.8</td>\n",
       "      <td>1.4</td>\n",
       "      <td>1.74</td>\n",
       "      <td>0</td>\n",
       "    </tr>\n",
       "    <tr>\n",
       "      <th>1</th>\n",
       "      <td>6</td>\n",
       "      <td>1</td>\n",
       "      <td>11</td>\n",
       "      <td>1</td>\n",
       "      <td>1</td>\n",
       "      <td>1</td>\n",
       "      <td>3</td>\n",
       "      <td>4</td>\n",
       "      <td>4</td>\n",
       "      <td>1</td>\n",
       "      <td>...</td>\n",
       "      <td>0</td>\n",
       "      <td>6</td>\n",
       "      <td>6</td>\n",
       "      <td>6</td>\n",
       "      <td>13.666667</td>\n",
       "      <td>0</td>\n",
       "      <td>13.9</td>\n",
       "      <td>-0.3</td>\n",
       "      <td>0.79</td>\n",
       "      <td>1</td>\n",
       "    </tr>\n",
       "    <tr>\n",
       "      <th>2</th>\n",
       "      <td>1</td>\n",
       "      <td>5</td>\n",
       "      <td>5</td>\n",
       "      <td>1</td>\n",
       "      <td>1</td>\n",
       "      <td>22</td>\n",
       "      <td>27</td>\n",
       "      <td>10</td>\n",
       "      <td>10</td>\n",
       "      <td>1</td>\n",
       "      <td>...</td>\n",
       "      <td>0</td>\n",
       "      <td>6</td>\n",
       "      <td>0</td>\n",
       "      <td>0</td>\n",
       "      <td>0.000000</td>\n",
       "      <td>0</td>\n",
       "      <td>10.8</td>\n",
       "      <td>1.4</td>\n",
       "      <td>1.74</td>\n",
       "      <td>0</td>\n",
       "    </tr>\n",
       "    <tr>\n",
       "      <th>3</th>\n",
       "      <td>8</td>\n",
       "      <td>2</td>\n",
       "      <td>15</td>\n",
       "      <td>1</td>\n",
       "      <td>1</td>\n",
       "      <td>23</td>\n",
       "      <td>27</td>\n",
       "      <td>6</td>\n",
       "      <td>4</td>\n",
       "      <td>1</td>\n",
       "      <td>...</td>\n",
       "      <td>0</td>\n",
       "      <td>6</td>\n",
       "      <td>10</td>\n",
       "      <td>5</td>\n",
       "      <td>12.400000</td>\n",
       "      <td>0</td>\n",
       "      <td>9.4</td>\n",
       "      <td>-0.8</td>\n",
       "      <td>-3.12</td>\n",
       "      <td>1</td>\n",
       "    </tr>\n",
       "    <tr>\n",
       "      <th>4</th>\n",
       "      <td>12</td>\n",
       "      <td>1</td>\n",
       "      <td>3</td>\n",
       "      <td>0</td>\n",
       "      <td>1</td>\n",
       "      <td>22</td>\n",
       "      <td>28</td>\n",
       "      <td>10</td>\n",
       "      <td>10</td>\n",
       "      <td>0</td>\n",
       "      <td>...</td>\n",
       "      <td>0</td>\n",
       "      <td>6</td>\n",
       "      <td>6</td>\n",
       "      <td>6</td>\n",
       "      <td>13.000000</td>\n",
       "      <td>0</td>\n",
       "      <td>13.9</td>\n",
       "      <td>-0.3</td>\n",
       "      <td>0.79</td>\n",
       "      <td>1</td>\n",
       "    </tr>\n",
       "    <tr>\n",
       "      <th>...</th>\n",
       "      <td>...</td>\n",
       "      <td>...</td>\n",
       "      <td>...</td>\n",
       "      <td>...</td>\n",
       "      <td>...</td>\n",
       "      <td>...</td>\n",
       "      <td>...</td>\n",
       "      <td>...</td>\n",
       "      <td>...</td>\n",
       "      <td>...</td>\n",
       "      <td>...</td>\n",
       "      <td>...</td>\n",
       "      <td>...</td>\n",
       "      <td>...</td>\n",
       "      <td>...</td>\n",
       "      <td>...</td>\n",
       "      <td>...</td>\n",
       "      <td>...</td>\n",
       "      <td>...</td>\n",
       "      <td>...</td>\n",
       "      <td>...</td>\n",
       "    </tr>\n",
       "    <tr>\n",
       "      <th>4419</th>\n",
       "      <td>1</td>\n",
       "      <td>6</td>\n",
       "      <td>15</td>\n",
       "      <td>1</td>\n",
       "      <td>1</td>\n",
       "      <td>1</td>\n",
       "      <td>1</td>\n",
       "      <td>6</td>\n",
       "      <td>5</td>\n",
       "      <td>0</td>\n",
       "      <td>...</td>\n",
       "      <td>0</td>\n",
       "      <td>6</td>\n",
       "      <td>8</td>\n",
       "      <td>5</td>\n",
       "      <td>12.666667</td>\n",
       "      <td>0</td>\n",
       "      <td>15.5</td>\n",
       "      <td>2.8</td>\n",
       "      <td>-4.06</td>\n",
       "      <td>1</td>\n",
       "    </tr>\n",
       "    <tr>\n",
       "      <th>4420</th>\n",
       "      <td>1</td>\n",
       "      <td>2</td>\n",
       "      <td>15</td>\n",
       "      <td>1</td>\n",
       "      <td>1</td>\n",
       "      <td>1</td>\n",
       "      <td>1</td>\n",
       "      <td>10</td>\n",
       "      <td>10</td>\n",
       "      <td>1</td>\n",
       "      <td>...</td>\n",
       "      <td>0</td>\n",
       "      <td>6</td>\n",
       "      <td>6</td>\n",
       "      <td>2</td>\n",
       "      <td>11.000000</td>\n",
       "      <td>0</td>\n",
       "      <td>11.1</td>\n",
       "      <td>0.6</td>\n",
       "      <td>2.02</td>\n",
       "      <td>0</td>\n",
       "    </tr>\n",
       "    <tr>\n",
       "      <th>4421</th>\n",
       "      <td>1</td>\n",
       "      <td>1</td>\n",
       "      <td>12</td>\n",
       "      <td>1</td>\n",
       "      <td>1</td>\n",
       "      <td>22</td>\n",
       "      <td>27</td>\n",
       "      <td>10</td>\n",
       "      <td>10</td>\n",
       "      <td>1</td>\n",
       "      <td>...</td>\n",
       "      <td>0</td>\n",
       "      <td>8</td>\n",
       "      <td>9</td>\n",
       "      <td>1</td>\n",
       "      <td>13.500000</td>\n",
       "      <td>0</td>\n",
       "      <td>13.9</td>\n",
       "      <td>-0.3</td>\n",
       "      <td>0.79</td>\n",
       "      <td>0</td>\n",
       "    </tr>\n",
       "    <tr>\n",
       "      <th>4422</th>\n",
       "      <td>1</td>\n",
       "      <td>1</td>\n",
       "      <td>9</td>\n",
       "      <td>1</td>\n",
       "      <td>1</td>\n",
       "      <td>22</td>\n",
       "      <td>27</td>\n",
       "      <td>8</td>\n",
       "      <td>5</td>\n",
       "      <td>1</td>\n",
       "      <td>...</td>\n",
       "      <td>0</td>\n",
       "      <td>5</td>\n",
       "      <td>6</td>\n",
       "      <td>5</td>\n",
       "      <td>12.000000</td>\n",
       "      <td>0</td>\n",
       "      <td>9.4</td>\n",
       "      <td>-0.8</td>\n",
       "      <td>-3.12</td>\n",
       "      <td>1</td>\n",
       "    </tr>\n",
       "    <tr>\n",
       "      <th>4423</th>\n",
       "      <td>5</td>\n",
       "      <td>1</td>\n",
       "      <td>15</td>\n",
       "      <td>1</td>\n",
       "      <td>1</td>\n",
       "      <td>23</td>\n",
       "      <td>27</td>\n",
       "      <td>6</td>\n",
       "      <td>10</td>\n",
       "      <td>1</td>\n",
       "      <td>...</td>\n",
       "      <td>0</td>\n",
       "      <td>6</td>\n",
       "      <td>6</td>\n",
       "      <td>6</td>\n",
       "      <td>13.000000</td>\n",
       "      <td>0</td>\n",
       "      <td>12.7</td>\n",
       "      <td>3.7</td>\n",
       "      <td>-1.70</td>\n",
       "      <td>1</td>\n",
       "    </tr>\n",
       "  </tbody>\n",
       "</table>\n",
       "<p>4424 rows × 31 columns</p>\n",
       "</div>"
      ],
      "text/plain": [
       "      Application mode  Application order  Course  Daytime/evening attendance  \\\n",
       "0                    8                  5       2                           1   \n",
       "1                    6                  1      11                           1   \n",
       "2                    1                  5       5                           1   \n",
       "3                    8                  2      15                           1   \n",
       "4                   12                  1       3                           0   \n",
       "...                ...                ...     ...                         ...   \n",
       "4419                 1                  6      15                           1   \n",
       "4420                 1                  2      15                           1   \n",
       "4421                 1                  1      12                           1   \n",
       "4422                 1                  1       9                           1   \n",
       "4423                 5                  1      15                           1   \n",
       "\n",
       "      Previous qualification  Mother's qualification  Father's qualification  \\\n",
       "0                          1                      13                      10   \n",
       "1                          1                       1                       3   \n",
       "2                          1                      22                      27   \n",
       "3                          1                      23                      27   \n",
       "4                          1                      22                      28   \n",
       "...                      ...                     ...                     ...   \n",
       "4419                       1                       1                       1   \n",
       "4420                       1                       1                       1   \n",
       "4421                       1                      22                      27   \n",
       "4422                       1                      22                      27   \n",
       "4423                       1                      23                      27   \n",
       "\n",
       "      Mother's occupation  Father's occupation  Displaced  ...  \\\n",
       "0                       6                   10          1  ...   \n",
       "1                       4                    4          1  ...   \n",
       "2                      10                   10          1  ...   \n",
       "3                       6                    4          1  ...   \n",
       "4                      10                   10          0  ...   \n",
       "...                   ...                  ...        ...  ...   \n",
       "4419                    6                    5          0  ...   \n",
       "4420                   10                   10          1  ...   \n",
       "4421                   10                   10          1  ...   \n",
       "4422                    8                    5          1  ...   \n",
       "4423                    6                   10          1  ...   \n",
       "\n",
       "      Curricular units 2nd sem (credited)  \\\n",
       "0                                       0   \n",
       "1                                       0   \n",
       "2                                       0   \n",
       "3                                       0   \n",
       "4                                       0   \n",
       "...                                   ...   \n",
       "4419                                    0   \n",
       "4420                                    0   \n",
       "4421                                    0   \n",
       "4422                                    0   \n",
       "4423                                    0   \n",
       "\n",
       "      Curricular units 2nd sem (enrolled)  \\\n",
       "0                                       0   \n",
       "1                                       6   \n",
       "2                                       6   \n",
       "3                                       6   \n",
       "4                                       6   \n",
       "...                                   ...   \n",
       "4419                                    6   \n",
       "4420                                    6   \n",
       "4421                                    8   \n",
       "4422                                    5   \n",
       "4423                                    6   \n",
       "\n",
       "      Curricular units 2nd sem (evaluations)  \\\n",
       "0                                          0   \n",
       "1                                          6   \n",
       "2                                          0   \n",
       "3                                         10   \n",
       "4                                          6   \n",
       "...                                      ...   \n",
       "4419                                       8   \n",
       "4420                                       6   \n",
       "4421                                       9   \n",
       "4422                                       6   \n",
       "4423                                       6   \n",
       "\n",
       "      Curricular units 2nd sem (approved)  Curricular units 2nd sem (grade)  \\\n",
       "0                                       0                          0.000000   \n",
       "1                                       6                         13.666667   \n",
       "2                                       0                          0.000000   \n",
       "3                                       5                         12.400000   \n",
       "4                                       6                         13.000000   \n",
       "...                                   ...                               ...   \n",
       "4419                                    5                         12.666667   \n",
       "4420                                    2                         11.000000   \n",
       "4421                                    1                         13.500000   \n",
       "4422                                    5                         12.000000   \n",
       "4423                                    6                         13.000000   \n",
       "\n",
       "      Curricular units 2nd sem (without evaluations)  Unemployment rate  \\\n",
       "0                                                  0               10.8   \n",
       "1                                                  0               13.9   \n",
       "2                                                  0               10.8   \n",
       "3                                                  0                9.4   \n",
       "4                                                  0               13.9   \n",
       "...                                              ...                ...   \n",
       "4419                                               0               15.5   \n",
       "4420                                               0               11.1   \n",
       "4421                                               0               13.9   \n",
       "4422                                               0                9.4   \n",
       "4423                                               0               12.7   \n",
       "\n",
       "      Inflation rate   GDP  Target  \n",
       "0                1.4  1.74       0  \n",
       "1               -0.3  0.79       1  \n",
       "2                1.4  1.74       0  \n",
       "3               -0.8 -3.12       1  \n",
       "4               -0.3  0.79       1  \n",
       "...              ...   ...     ...  \n",
       "4419             2.8 -4.06       1  \n",
       "4420             0.6  2.02       0  \n",
       "4421            -0.3  0.79       0  \n",
       "4422            -0.8 -3.12       1  \n",
       "4423             3.7 -1.70       1  \n",
       "\n",
       "[4424 rows x 31 columns]"
      ]
     },
     "execution_count": 7,
     "metadata": {},
     "output_type": "execute_result"
    }
   ],
   "source": [
    "df_ohe = df.copy()\n",
    "df_ohe.drop(columns=['Marital status'], axis=1, inplace=True)\n",
    "df_ohe.drop(columns=['Nacionality'], axis=1, inplace=True)\n",
    "df_ohe.drop(columns=['Educational special needs'], axis=1, inplace=True)\n",
    "df_ohe.drop(columns=['International'], axis=1, inplace=True)\n",
    "df_ohe"
   ]
  },
  {
   "cell_type": "code",
   "execution_count": 8,
   "metadata": {},
   "outputs": [
    {
     "name": "stdout",
     "output_type": "stream",
     "text": [
      "Index(['Application mode', 'Application order', 'Course',\n",
      "       'Daytime/evening attendance', 'Previous qualification',\n",
      "       'Mother's qualification', 'Father's qualification',\n",
      "       'Mother's occupation', 'Father's occupation', 'Displaced', 'Debtor',\n",
      "       'Tuition fees up to date', 'Gender', 'Scholarship holder',\n",
      "       'Age at enrollment', 'Curricular units 1st sem (credited)',\n",
      "       'Curricular units 1st sem (enrolled)',\n",
      "       'Curricular units 1st sem (evaluations)',\n",
      "       'Curricular units 1st sem (approved)',\n",
      "       'Curricular units 1st sem (grade)',\n",
      "       'Curricular units 1st sem (without evaluations)',\n",
      "       'Curricular units 2nd sem (credited)',\n",
      "       'Curricular units 2nd sem (enrolled)',\n",
      "       'Curricular units 2nd sem (evaluations)',\n",
      "       'Curricular units 2nd sem (approved)',\n",
      "       'Curricular units 2nd sem (grade)',\n",
      "       'Curricular units 2nd sem (without evaluations)', 'Unemployment rate',\n",
      "       'Inflation rate', 'GDP', 'Target'],\n",
      "      dtype='object')\n"
     ]
    }
   ],
   "source": [
    "print(df_ohe.keys())"
   ]
  },
  {
   "cell_type": "code",
   "execution_count": 27,
   "metadata": {},
   "outputs": [
    {
     "data": {
      "text/html": [
       "<div>\n",
       "<style scoped>\n",
       "    .dataframe tbody tr th:only-of-type {\n",
       "        vertical-align: middle;\n",
       "    }\n",
       "\n",
       "    .dataframe tbody tr th {\n",
       "        vertical-align: top;\n",
       "    }\n",
       "\n",
       "    .dataframe thead th {\n",
       "        text-align: right;\n",
       "    }\n",
       "</style>\n",
       "<table border=\"1\" class=\"dataframe\">\n",
       "  <thead>\n",
       "    <tr style=\"text-align: right;\">\n",
       "      <th></th>\n",
       "      <th>Application mode</th>\n",
       "      <th>Application order</th>\n",
       "      <th>Course</th>\n",
       "      <th>Daytime/evening attendance</th>\n",
       "      <th>Previous qualification</th>\n",
       "      <th>Mother's qualification</th>\n",
       "      <th>Father's qualification</th>\n",
       "      <th>Mother's occupation</th>\n",
       "      <th>Father's occupation</th>\n",
       "      <th>Displaced</th>\n",
       "      <th>...</th>\n",
       "      <th>Curricular units 2nd sem (credited)</th>\n",
       "      <th>Curricular units 2nd sem (enrolled)</th>\n",
       "      <th>Curricular units 2nd sem (evaluations)</th>\n",
       "      <th>Curricular units 2nd sem (approved)</th>\n",
       "      <th>Curricular units 2nd sem (grade)</th>\n",
       "      <th>Curricular units 2nd sem (without evaluations)</th>\n",
       "      <th>Unemployment rate</th>\n",
       "      <th>Inflation rate</th>\n",
       "      <th>GDP</th>\n",
       "      <th>Target</th>\n",
       "    </tr>\n",
       "  </thead>\n",
       "  <tbody>\n",
       "    <tr>\n",
       "      <th>0</th>\n",
       "      <td>1</td>\n",
       "      <td>4</td>\n",
       "      <td>12</td>\n",
       "      <td>0</td>\n",
       "      <td>1</td>\n",
       "      <td>13</td>\n",
       "      <td>27</td>\n",
       "      <td>10</td>\n",
       "      <td>8</td>\n",
       "      <td>1</td>\n",
       "      <td>...</td>\n",
       "      <td>0</td>\n",
       "      <td>6</td>\n",
       "      <td>6</td>\n",
       "      <td>6</td>\n",
       "      <td>13.5</td>\n",
       "      <td>0</td>\n",
       "      <td>12.7</td>\n",
       "      <td>1.4</td>\n",
       "      <td>-1.7</td>\n",
       "      <td>1</td>\n",
       "    </tr>\n",
       "  </tbody>\n",
       "</table>\n",
       "<p>1 rows × 31 columns</p>\n",
       "</div>"
      ],
      "text/plain": [
       "   Application mode  Application order  Course  Daytime/evening attendance  \\\n",
       "0                 1                  4      12                           0   \n",
       "\n",
       "   Previous qualification  Mother's qualification  Father's qualification  \\\n",
       "0                       1                      13                      27   \n",
       "\n",
       "   Mother's occupation  Father's occupation  Displaced  ...  \\\n",
       "0                   10                    8          1  ...   \n",
       "\n",
       "   Curricular units 2nd sem (credited)  Curricular units 2nd sem (enrolled)  \\\n",
       "0                                    0                                    6   \n",
       "\n",
       "   Curricular units 2nd sem (evaluations)  \\\n",
       "0                                       6   \n",
       "\n",
       "   Curricular units 2nd sem (approved)  Curricular units 2nd sem (grade)  \\\n",
       "0                                    6                              13.5   \n",
       "\n",
       "   Curricular units 2nd sem (without evaluations)  Unemployment rate  \\\n",
       "0                                               0               12.7   \n",
       "\n",
       "   Inflation rate  GDP  Target  \n",
       "0             1.4 -1.7       1  \n",
       "\n",
       "[1 rows x 31 columns]"
      ]
     },
     "execution_count": 27,
     "metadata": {},
     "output_type": "execute_result"
    }
   ],
   "source": [
    "# Define the input array\n",
    "arr = [1, 4, 12, 0, 1, 13, 27, 10, 8, 1, 0, 1, 1, 0, 18, 0, 6, 9, 6, 12.2, 0, 0, 6, 6, 6, 13.5, 0, 12.7, 1.4, -1.7, 1]\n",
    "\n",
    "labs = ['Application mode', 'Application order', 'Course',\n",
    "       'Daytime/evening attendance', 'Previous qualification',\n",
    "       \"Mother's qualification\", \"Father's qualification\",\n",
    "       \"Mother's occupation\", \"Father's occupation\", 'Displaced', 'Debtor',\n",
    "       'Tuition fees up to date', 'Gender', 'Scholarship holder',\n",
    "       'Age at enrollment', 'Curricular units 1st sem (credited)',\n",
    "       'Curricular units 1st sem (enrolled)',\n",
    "       'Curricular units 1st sem (evaluations)',\n",
    "       'Curricular units 1st sem (approved)',\n",
    "       'Curricular units 1st sem (grade)',\n",
    "       'Curricular units 1st sem (without evaluations)',\n",
    "       'Curricular units 2nd sem (credited)',\n",
    "       'Curricular units 2nd sem (enrolled)',\n",
    "       'Curricular units 2nd sem (evaluations)',\n",
    "       'Curricular units 2nd sem (approved)',\n",
    "       'Curricular units 2nd sem (grade)',\n",
    "       'Curricular units 2nd sem (without evaluations)', 'Unemployment rate',\n",
    "       'Inflation rate', 'GDP', 'Target']\n",
    "\n",
    "cat_labs = ['Application mode', 'Course',\n",
    "       'Daytime/evening attendance', 'Previous qualification',\n",
    "       \"Mother's qualification\", \"Father's qualification\",\n",
    "       \"Mother's occupation\", \"Father's occupation\", 'Displaced', 'Debtor',\n",
    "        'Gender', 'Scholarship holder']\n",
    "\n",
    "# Create a DataFrame from the input array\n",
    "input_df = pd.DataFrame([arr], columns=labs)\n",
    "\n",
    "# Print the DataFrame with labels\n",
    "input_df.head()"
   ]
  },
  {
   "cell_type": "code",
   "execution_count": 28,
   "metadata": {},
   "outputs": [
    {
     "data": {
      "text/html": [
       "<div>\n",
       "<style scoped>\n",
       "    .dataframe tbody tr th:only-of-type {\n",
       "        vertical-align: middle;\n",
       "    }\n",
       "\n",
       "    .dataframe tbody tr th {\n",
       "        vertical-align: top;\n",
       "    }\n",
       "\n",
       "    .dataframe thead th {\n",
       "        text-align: right;\n",
       "    }\n",
       "</style>\n",
       "<table border=\"1\" class=\"dataframe\">\n",
       "  <thead>\n",
       "    <tr style=\"text-align: right;\">\n",
       "      <th></th>\n",
       "      <th>Application order</th>\n",
       "      <th>Tuition fees up to date</th>\n",
       "      <th>Age at enrollment</th>\n",
       "      <th>Curricular units 1st sem (credited)</th>\n",
       "      <th>Curricular units 1st sem (enrolled)</th>\n",
       "      <th>Curricular units 1st sem (evaluations)</th>\n",
       "      <th>Curricular units 1st sem (approved)</th>\n",
       "      <th>Curricular units 1st sem (grade)</th>\n",
       "      <th>Curricular units 1st sem (without evaluations)</th>\n",
       "      <th>Curricular units 2nd sem (credited)</th>\n",
       "      <th>...</th>\n",
       "      <th>Daytime/evening attendance_0</th>\n",
       "      <th>Previous qualification_1</th>\n",
       "      <th>Mother's qualification_13</th>\n",
       "      <th>Father's qualification_27</th>\n",
       "      <th>Mother's occupation_10</th>\n",
       "      <th>Father's occupation_8</th>\n",
       "      <th>Displaced_1</th>\n",
       "      <th>Debtor_0</th>\n",
       "      <th>Gender_1</th>\n",
       "      <th>Scholarship holder_0</th>\n",
       "    </tr>\n",
       "  </thead>\n",
       "  <tbody>\n",
       "    <tr>\n",
       "      <th>0</th>\n",
       "      <td>4</td>\n",
       "      <td>1</td>\n",
       "      <td>18</td>\n",
       "      <td>0</td>\n",
       "      <td>6</td>\n",
       "      <td>9</td>\n",
       "      <td>6</td>\n",
       "      <td>12.2</td>\n",
       "      <td>0</td>\n",
       "      <td>0</td>\n",
       "      <td>...</td>\n",
       "      <td>1</td>\n",
       "      <td>1</td>\n",
       "      <td>1</td>\n",
       "      <td>1</td>\n",
       "      <td>1</td>\n",
       "      <td>1</td>\n",
       "      <td>1</td>\n",
       "      <td>1</td>\n",
       "      <td>1</td>\n",
       "      <td>1</td>\n",
       "    </tr>\n",
       "  </tbody>\n",
       "</table>\n",
       "<p>1 rows × 31 columns</p>\n",
       "</div>"
      ],
      "text/plain": [
       "   Application order  Tuition fees up to date  Age at enrollment  \\\n",
       "0                  4                        1                 18   \n",
       "\n",
       "   Curricular units 1st sem (credited)  Curricular units 1st sem (enrolled)  \\\n",
       "0                                    0                                    6   \n",
       "\n",
       "   Curricular units 1st sem (evaluations)  \\\n",
       "0                                       9   \n",
       "\n",
       "   Curricular units 1st sem (approved)  Curricular units 1st sem (grade)  \\\n",
       "0                                    6                              12.2   \n",
       "\n",
       "   Curricular units 1st sem (without evaluations)  \\\n",
       "0                                               0   \n",
       "\n",
       "   Curricular units 2nd sem (credited)  ...  Daytime/evening attendance_0  \\\n",
       "0                                    0  ...                             1   \n",
       "\n",
       "   Previous qualification_1  Mother's qualification_13  \\\n",
       "0                         1                          1   \n",
       "\n",
       "   Father's qualification_27  Mother's occupation_10  Father's occupation_8  \\\n",
       "0                          1                       1                      1   \n",
       "\n",
       "   Displaced_1  Debtor_0  Gender_1  Scholarship holder_0  \n",
       "0            1         1         1                     1  \n",
       "\n",
       "[1 rows x 31 columns]"
      ]
     },
     "execution_count": 28,
     "metadata": {},
     "output_type": "execute_result"
    }
   ],
   "source": [
    "\n",
    "input_df_encoded = pd.get_dummies(input_df, columns=cat_labs)\n",
    "input_df_encoded"
   ]
  },
  {
   "cell_type": "code",
   "execution_count": 37,
   "metadata": {},
   "outputs": [
    {
     "data": {
      "text/html": [
       "<div>\n",
       "<style scoped>\n",
       "    .dataframe tbody tr th:only-of-type {\n",
       "        vertical-align: middle;\n",
       "    }\n",
       "\n",
       "    .dataframe tbody tr th {\n",
       "        vertical-align: top;\n",
       "    }\n",
       "\n",
       "    .dataframe thead th {\n",
       "        text-align: right;\n",
       "    }\n",
       "</style>\n",
       "<table border=\"1\" class=\"dataframe\">\n",
       "  <thead>\n",
       "    <tr style=\"text-align: right;\">\n",
       "      <th></th>\n",
       "      <th>Application mode</th>\n",
       "      <th>Application order</th>\n",
       "      <th>Course</th>\n",
       "      <th>Daytime/evening attendance</th>\n",
       "      <th>Previous qualification</th>\n",
       "      <th>Mother's qualification</th>\n",
       "      <th>Father's qualification</th>\n",
       "      <th>Mother's occupation</th>\n",
       "      <th>Father's occupation</th>\n",
       "      <th>Displaced</th>\n",
       "      <th>...</th>\n",
       "      <th>Curricular units 1st sem (without evaluations)</th>\n",
       "      <th>Curricular units 2nd sem (credited)</th>\n",
       "      <th>Curricular units 2nd sem (enrolled)</th>\n",
       "      <th>Curricular units 2nd sem (evaluations)</th>\n",
       "      <th>Curricular units 2nd sem (approved)</th>\n",
       "      <th>Curricular units 2nd sem (grade)</th>\n",
       "      <th>Curricular units 2nd sem (without evaluations)</th>\n",
       "      <th>Unemployment rate</th>\n",
       "      <th>Inflation rate</th>\n",
       "      <th>GDP</th>\n",
       "    </tr>\n",
       "  </thead>\n",
       "  <tbody>\n",
       "    <tr>\n",
       "      <th>0</th>\n",
       "      <td>0</td>\n",
       "      <td>4</td>\n",
       "      <td>0</td>\n",
       "      <td>0</td>\n",
       "      <td>0</td>\n",
       "      <td>0</td>\n",
       "      <td>0</td>\n",
       "      <td>0</td>\n",
       "      <td>0</td>\n",
       "      <td>0</td>\n",
       "      <td>...</td>\n",
       "      <td>0</td>\n",
       "      <td>0</td>\n",
       "      <td>6</td>\n",
       "      <td>6</td>\n",
       "      <td>6</td>\n",
       "      <td>13.5</td>\n",
       "      <td>0</td>\n",
       "      <td>12.7</td>\n",
       "      <td>1.4</td>\n",
       "      <td>-1.7</td>\n",
       "    </tr>\n",
       "  </tbody>\n",
       "</table>\n",
       "<p>1 rows × 30 columns</p>\n",
       "</div>"
      ],
      "text/plain": [
       "   Application mode  Application order  Course  Daytime/evening attendance  \\\n",
       "0                 0                  4       0                           0   \n",
       "\n",
       "   Previous qualification  Mother's qualification  Father's qualification  \\\n",
       "0                       0                       0                       0   \n",
       "\n",
       "   Mother's occupation  Father's occupation  Displaced  ...  \\\n",
       "0                    0                    0          0  ...   \n",
       "\n",
       "   Curricular units 1st sem (without evaluations)  \\\n",
       "0                                               0   \n",
       "\n",
       "   Curricular units 2nd sem (credited)  Curricular units 2nd sem (enrolled)  \\\n",
       "0                                    0                                    6   \n",
       "\n",
       "   Curricular units 2nd sem (evaluations)  \\\n",
       "0                                       6   \n",
       "\n",
       "   Curricular units 2nd sem (approved)  Curricular units 2nd sem (grade)  \\\n",
       "0                                    6                              13.5   \n",
       "\n",
       "   Curricular units 2nd sem (without evaluations)  Unemployment rate  \\\n",
       "0                                               0               12.7   \n",
       "\n",
       "   Inflation rate  GDP  \n",
       "0             1.4 -1.7  \n",
       "\n",
       "[1 rows x 30 columns]"
      ]
     },
     "execution_count": 37,
     "metadata": {},
     "output_type": "execute_result"
    }
   ],
   "source": [
    "input_df_encoded = input_df_encoded.reindex(columns=labs[:-1], fill_value=0)\n",
    "input_df_encoded"
   ]
  },
  {
   "cell_type": "code",
   "execution_count": null,
   "metadata": {},
   "outputs": [],
   "source": [
    "column_names = df_ohe.columns.tolist()\n",
    "\n",
    "cats_set = set(cats)\n",
    "names_set = set(column_names)\n",
    "\n",
    "common_strings = names_set.intersection(cats_set)\n",
    "\n",
    "nats =  [item for item in names_set if item not in common_strings] # numerical attributes\n",
    "nats.remove('Target')"
   ]
  },
  {
   "cell_type": "code",
   "execution_count": 40,
   "metadata": {},
   "outputs": [
    {
     "name": "stdout",
     "output_type": "stream",
     "text": [
      "Normalized data:\n",
      "   Application mode  Application order  Course  Daytime/evening attendance  \\\n",
      "0                 0                0.0       0                           0   \n",
      "\n",
      "   Previous qualification  Mother's qualification  Father's qualification  \\\n",
      "0                       0                       0                       0   \n",
      "\n",
      "   Mother's occupation  Father's occupation  Displaced  ...  \\\n",
      "0                    0                    0          0  ...   \n",
      "\n",
      "   Curricular units 1st sem (without evaluations)  \\\n",
      "0                                             0.0   \n",
      "\n",
      "   Curricular units 2nd sem (credited)  Curricular units 2nd sem (enrolled)  \\\n",
      "0                                  0.0                                  0.0   \n",
      "\n",
      "   Curricular units 2nd sem (evaluations)  \\\n",
      "0                                     0.0   \n",
      "\n",
      "   Curricular units 2nd sem (approved)  Curricular units 2nd sem (grade)  \\\n",
      "0                                  0.0                               0.0   \n",
      "\n",
      "   Curricular units 2nd sem (without evaluations)  Unemployment rate  \\\n",
      "0                                             0.0                0.0   \n",
      "\n",
      "   Inflation rate  GDP  \n",
      "0             0.0  0.0  \n",
      "\n",
      "[1 rows x 30 columns]\n"
     ]
    }
   ],
   "source": [
    "\n",
    "from sklearn.preprocessing import MinMaxScaler\n",
    "\n",
    "\n",
    "num_in_df = input_df_encoded[nats]\n",
    "\n",
    "scaler = MinMaxScaler()\n",
    "in_scaled_data = scaler.fit_transform(num_in_df)\n",
    "\n",
    "in_scaled_df = pd.DataFrame(in_scaled_data, columns=nats)\n",
    "\n",
    "input_df_encoded[nats] = in_scaled_df\n",
    "\n",
    "print(\"Normalized data:\")\n",
    "print(input_df_encoded)"
   ]
  },
  {
   "cell_type": "markdown",
   "metadata": {
    "id": "UAh5V2yKy3m5"
   },
   "source": [
    "**Preprocessing one-hot encoding**\n",
    "\n",
    "By the Data Description, we can know Application order, Age at enrollment, Curricular units 1st sem (credited),\n",
    "Curricular units 1st sem (enrolled),\n",
    "Curricular units 1st sem (evaluations),\n",
    "Curricular units 1st sem (approved), Curricular units 1st sem (grade), Curricular units 1st sem (without evaluations), Curricular units 2nd sem (credited), curricular units 2nd sem (enrolled)\tCurricular units 2nd sem (evaluations),\tCurricular units 2nd sem (approved),\tCurricular units 2nd sem (grade),\tCurricular units 2nd sem (without evaluations),\tUnemployment rate, Inflation rate and GDP are numerical variables. \n",
    "\n",
    "If it is not a numerical variable, then it is a categorical variable.\n",
    "\n",
    "In order to use one-hot encoding, we need to convert categorical variables into a numerical representation.\n",
    "\n",
    "Thus, we need to one hot encode those categorical variables.\n"
   ]
  },
  {
   "cell_type": "code",
   "execution_count": 29,
   "metadata": {
    "colab": {
     "base_uri": "https://localhost:8080/"
    },
    "id": "e6Wym_oAyz54",
    "outputId": "ae2967f6-4543-4c7c-f9f8-42794e348501"
   },
   "outputs": [
    {
     "name": "stdout",
     "output_type": "stream",
     "text": [
      "Unique elements:\n",
      "[0 1]\n",
      "[ 6  4 10  8  5  2 16  1  7  3 12  9 20 28 13 29 23 32 30 18 24 19 11 21\n",
      " 15 27 31 14 22 17 26 25]\n",
      "[10  3 27 28  1 14  5  4 24  2 29  9  7 26 18 30 12 15 25 31 16 11 20 33\n",
      " 13 32  8  6 21 17 34 23 19 22]\n",
      "[ 8  6  1 12  9 17 15 16 14  4 13  7  3  2  5 18 10 11]\n",
      "[0 1]\n",
      "[ 1 12 16 14  8  3 15  2  4  9 17 11  6  7 13  5 10]\n",
      "[1 0]\n",
      "[ 2 11  5 15  3 17 12 10 14 16  6  8 13  9  4  1  7]\n",
      "[10  4  8 11  6  9  5  2  3 22  7  1 12 39 19 13 29 46 43 34 44 30 41 24\n",
      " 23 45 35 26 28 36 16 37 31 42 20 15 40 25 21 17 32 38 27 18 14 33]\n",
      "[1 0]\n",
      "[13  1 22 23  3  4 27  2 19 10 25  7  5 24  9 26 18 11 20 21  6  8 17 28\n",
      " 12 14 16 15 29]\n",
      "[1 0]\n",
      "[1 0]\n"
     ]
    }
   ],
   "source": [
    "cats = ['Marital status',\t'Application mode', 'Daytime/evening attendance',\t'Previous qualification', 'Nacionality',\t\"Mother's qualification\",\t\"Father's qualification\",\t\"Mother's occupation\", \\\n",
    "         \"Father's occupation\", 'Debtor', 'Gender',\t'Scholarship holder', 'Course', 'International','Tuition fees up to date', 'Educational special needs','Displaced'] \n",
    "column_names = df_ohe.columns.tolist()\n",
    "cats_set = set(cats)\n",
    "names_set = set(column_names)\n",
    "\n",
    "cats = names_set.intersection(cats_set)\n",
    "print(\"Unique elements:\")\n",
    "for cat in cats:\n",
    "    print(df_ohe[cat].unique()) \n"
   ]
  },
  {
   "cell_type": "code",
   "execution_count": 30,
   "metadata": {
    "colab": {
     "base_uri": "https://localhost:8080/"
    },
    "id": "3cqdzM-2Ade0",
    "outputId": "c5226ee6-cd28-42c4-b1ed-e9c548fd43f2"
   },
   "outputs": [
    {
     "name": "stdout",
     "output_type": "stream",
     "text": [
      "Index([], dtype='object')\n"
     ]
    }
   ],
   "source": [
    "print(df.columns[df.isna().any()])\n",
    "df_ohe = df_ohe.fillna(0)"
   ]
  },
  {
   "cell_type": "code",
   "execution_count": 31,
   "metadata": {
    "colab": {
     "base_uri": "https://localhost:8080/",
     "height": 369
    },
    "id": "EAn90ppSAk7-",
    "outputId": "26cde32b-2773-4087-9882-f19791f2e4ab"
   },
   "outputs": [
    {
     "name": "stdout",
     "output_type": "stream",
     "text": [
      "(4424, 31)\n"
     ]
    },
    {
     "data": {
      "text/html": [
       "<div>\n",
       "<style scoped>\n",
       "    .dataframe tbody tr th:only-of-type {\n",
       "        vertical-align: middle;\n",
       "    }\n",
       "\n",
       "    .dataframe tbody tr th {\n",
       "        vertical-align: top;\n",
       "    }\n",
       "\n",
       "    .dataframe thead th {\n",
       "        text-align: right;\n",
       "    }\n",
       "</style>\n",
       "<table border=\"1\" class=\"dataframe\">\n",
       "  <thead>\n",
       "    <tr style=\"text-align: right;\">\n",
       "      <th></th>\n",
       "      <th>Application mode</th>\n",
       "      <th>Application order</th>\n",
       "      <th>Course</th>\n",
       "      <th>Daytime/evening attendance</th>\n",
       "      <th>Previous qualification</th>\n",
       "      <th>Mother's qualification</th>\n",
       "      <th>Father's qualification</th>\n",
       "      <th>Mother's occupation</th>\n",
       "      <th>Father's occupation</th>\n",
       "      <th>Displaced</th>\n",
       "      <th>...</th>\n",
       "      <th>Curricular units 2nd sem (credited)</th>\n",
       "      <th>Curricular units 2nd sem (enrolled)</th>\n",
       "      <th>Curricular units 2nd sem (evaluations)</th>\n",
       "      <th>Curricular units 2nd sem (approved)</th>\n",
       "      <th>Curricular units 2nd sem (grade)</th>\n",
       "      <th>Curricular units 2nd sem (without evaluations)</th>\n",
       "      <th>Unemployment rate</th>\n",
       "      <th>Inflation rate</th>\n",
       "      <th>GDP</th>\n",
       "      <th>Target</th>\n",
       "    </tr>\n",
       "  </thead>\n",
       "  <tbody>\n",
       "    <tr>\n",
       "      <th>0</th>\n",
       "      <td>8</td>\n",
       "      <td>5</td>\n",
       "      <td>2</td>\n",
       "      <td>1</td>\n",
       "      <td>1</td>\n",
       "      <td>13</td>\n",
       "      <td>10</td>\n",
       "      <td>6</td>\n",
       "      <td>10</td>\n",
       "      <td>1</td>\n",
       "      <td>...</td>\n",
       "      <td>0</td>\n",
       "      <td>0</td>\n",
       "      <td>0</td>\n",
       "      <td>0</td>\n",
       "      <td>0.000000</td>\n",
       "      <td>0</td>\n",
       "      <td>10.8</td>\n",
       "      <td>1.4</td>\n",
       "      <td>1.74</td>\n",
       "      <td>0</td>\n",
       "    </tr>\n",
       "    <tr>\n",
       "      <th>1</th>\n",
       "      <td>6</td>\n",
       "      <td>1</td>\n",
       "      <td>11</td>\n",
       "      <td>1</td>\n",
       "      <td>1</td>\n",
       "      <td>1</td>\n",
       "      <td>3</td>\n",
       "      <td>4</td>\n",
       "      <td>4</td>\n",
       "      <td>1</td>\n",
       "      <td>...</td>\n",
       "      <td>0</td>\n",
       "      <td>6</td>\n",
       "      <td>6</td>\n",
       "      <td>6</td>\n",
       "      <td>13.666667</td>\n",
       "      <td>0</td>\n",
       "      <td>13.9</td>\n",
       "      <td>-0.3</td>\n",
       "      <td>0.79</td>\n",
       "      <td>1</td>\n",
       "    </tr>\n",
       "    <tr>\n",
       "      <th>2</th>\n",
       "      <td>1</td>\n",
       "      <td>5</td>\n",
       "      <td>5</td>\n",
       "      <td>1</td>\n",
       "      <td>1</td>\n",
       "      <td>22</td>\n",
       "      <td>27</td>\n",
       "      <td>10</td>\n",
       "      <td>10</td>\n",
       "      <td>1</td>\n",
       "      <td>...</td>\n",
       "      <td>0</td>\n",
       "      <td>6</td>\n",
       "      <td>0</td>\n",
       "      <td>0</td>\n",
       "      <td>0.000000</td>\n",
       "      <td>0</td>\n",
       "      <td>10.8</td>\n",
       "      <td>1.4</td>\n",
       "      <td>1.74</td>\n",
       "      <td>0</td>\n",
       "    </tr>\n",
       "    <tr>\n",
       "      <th>3</th>\n",
       "      <td>8</td>\n",
       "      <td>2</td>\n",
       "      <td>15</td>\n",
       "      <td>1</td>\n",
       "      <td>1</td>\n",
       "      <td>23</td>\n",
       "      <td>27</td>\n",
       "      <td>6</td>\n",
       "      <td>4</td>\n",
       "      <td>1</td>\n",
       "      <td>...</td>\n",
       "      <td>0</td>\n",
       "      <td>6</td>\n",
       "      <td>10</td>\n",
       "      <td>5</td>\n",
       "      <td>12.400000</td>\n",
       "      <td>0</td>\n",
       "      <td>9.4</td>\n",
       "      <td>-0.8</td>\n",
       "      <td>-3.12</td>\n",
       "      <td>1</td>\n",
       "    </tr>\n",
       "    <tr>\n",
       "      <th>4</th>\n",
       "      <td>12</td>\n",
       "      <td>1</td>\n",
       "      <td>3</td>\n",
       "      <td>0</td>\n",
       "      <td>1</td>\n",
       "      <td>22</td>\n",
       "      <td>28</td>\n",
       "      <td>10</td>\n",
       "      <td>10</td>\n",
       "      <td>0</td>\n",
       "      <td>...</td>\n",
       "      <td>0</td>\n",
       "      <td>6</td>\n",
       "      <td>6</td>\n",
       "      <td>6</td>\n",
       "      <td>13.000000</td>\n",
       "      <td>0</td>\n",
       "      <td>13.9</td>\n",
       "      <td>-0.3</td>\n",
       "      <td>0.79</td>\n",
       "      <td>1</td>\n",
       "    </tr>\n",
       "  </tbody>\n",
       "</table>\n",
       "<p>5 rows × 31 columns</p>\n",
       "</div>"
      ],
      "text/plain": [
       "   Application mode  Application order  Course  Daytime/evening attendance  \\\n",
       "0                 8                  5       2                           1   \n",
       "1                 6                  1      11                           1   \n",
       "2                 1                  5       5                           1   \n",
       "3                 8                  2      15                           1   \n",
       "4                12                  1       3                           0   \n",
       "\n",
       "   Previous qualification  Mother's qualification  Father's qualification  \\\n",
       "0                       1                      13                      10   \n",
       "1                       1                       1                       3   \n",
       "2                       1                      22                      27   \n",
       "3                       1                      23                      27   \n",
       "4                       1                      22                      28   \n",
       "\n",
       "   Mother's occupation  Father's occupation  Displaced  ...  \\\n",
       "0                    6                   10          1  ...   \n",
       "1                    4                    4          1  ...   \n",
       "2                   10                   10          1  ...   \n",
       "3                    6                    4          1  ...   \n",
       "4                   10                   10          0  ...   \n",
       "\n",
       "   Curricular units 2nd sem (credited)  Curricular units 2nd sem (enrolled)  \\\n",
       "0                                    0                                    0   \n",
       "1                                    0                                    6   \n",
       "2                                    0                                    6   \n",
       "3                                    0                                    6   \n",
       "4                                    0                                    6   \n",
       "\n",
       "   Curricular units 2nd sem (evaluations)  \\\n",
       "0                                       0   \n",
       "1                                       6   \n",
       "2                                       0   \n",
       "3                                      10   \n",
       "4                                       6   \n",
       "\n",
       "   Curricular units 2nd sem (approved)  Curricular units 2nd sem (grade)  \\\n",
       "0                                    0                          0.000000   \n",
       "1                                    6                         13.666667   \n",
       "2                                    0                          0.000000   \n",
       "3                                    5                         12.400000   \n",
       "4                                    6                         13.000000   \n",
       "\n",
       "   Curricular units 2nd sem (without evaluations)  Unemployment rate  \\\n",
       "0                                               0               10.8   \n",
       "1                                               0               13.9   \n",
       "2                                               0               10.8   \n",
       "3                                               0                9.4   \n",
       "4                                               0               13.9   \n",
       "\n",
       "   Inflation rate   GDP  Target  \n",
       "0             1.4  1.74       0  \n",
       "1            -0.3  0.79       1  \n",
       "2             1.4  1.74       0  \n",
       "3            -0.8 -3.12       1  \n",
       "4            -0.3  0.79       1  \n",
       "\n",
       "[5 rows x 31 columns]"
      ]
     },
     "metadata": {},
     "output_type": "display_data"
    }
   ],
   "source": [
    "print(df_ohe.shape)\n",
    "display(df_ohe.head(5))"
   ]
  },
  {
   "cell_type": "code",
   "execution_count": 32,
   "metadata": {},
   "outputs": [
    {
     "name": "stdout",
     "output_type": "stream",
     "text": [
      "Index(['Application mode', 'Application order', 'Course',\n",
      "       'Daytime/evening attendance', 'Previous qualification',\n",
      "       'Mother's qualification', 'Father's qualification',\n",
      "       'Mother's occupation', 'Father's occupation', 'Displaced', 'Debtor',\n",
      "       'Tuition fees up to date', 'Gender', 'Scholarship holder',\n",
      "       'Age at enrollment', 'Curricular units 1st sem (credited)',\n",
      "       'Curricular units 1st sem (enrolled)',\n",
      "       'Curricular units 1st sem (evaluations)',\n",
      "       'Curricular units 1st sem (approved)',\n",
      "       'Curricular units 1st sem (grade)',\n",
      "       'Curricular units 1st sem (without evaluations)',\n",
      "       'Curricular units 2nd sem (credited)',\n",
      "       'Curricular units 2nd sem (enrolled)',\n",
      "       'Curricular units 2nd sem (evaluations)',\n",
      "       'Curricular units 2nd sem (approved)',\n",
      "       'Curricular units 2nd sem (grade)',\n",
      "       'Curricular units 2nd sem (without evaluations)', 'Unemployment rate',\n",
      "       'Inflation rate', 'GDP', 'Target'],\n",
      "      dtype='object')\n"
     ]
    }
   ],
   "source": [
    "print(df_ohe.keys())"
   ]
  },
  {
   "cell_type": "code",
   "execution_count": 33,
   "metadata": {
    "colab": {
     "base_uri": "https://localhost:8080/",
     "height": 575
    },
    "id": "BZKzfZBmBsh1",
    "outputId": "e1393503-a1f8-43e3-8556-5e6c69860c3a"
   },
   "outputs": [
    {
     "data": {
      "text/html": [
       "<div>\n",
       "<style scoped>\n",
       "    .dataframe tbody tr th:only-of-type {\n",
       "        vertical-align: middle;\n",
       "    }\n",
       "\n",
       "    .dataframe tbody tr th {\n",
       "        vertical-align: top;\n",
       "    }\n",
       "\n",
       "    .dataframe thead th {\n",
       "        text-align: right;\n",
       "    }\n",
       "</style>\n",
       "<table border=\"1\" class=\"dataframe\">\n",
       "  <thead>\n",
       "    <tr style=\"text-align: right;\">\n",
       "      <th></th>\n",
       "      <th>Application order</th>\n",
       "      <th>Age at enrollment</th>\n",
       "      <th>Curricular units 1st sem (credited)</th>\n",
       "      <th>Curricular units 1st sem (enrolled)</th>\n",
       "      <th>Curricular units 1st sem (evaluations)</th>\n",
       "      <th>Curricular units 1st sem (approved)</th>\n",
       "      <th>Curricular units 1st sem (grade)</th>\n",
       "      <th>Curricular units 1st sem (without evaluations)</th>\n",
       "      <th>Curricular units 2nd sem (credited)</th>\n",
       "      <th>Curricular units 2nd sem (enrolled)</th>\n",
       "      <th>...</th>\n",
       "      <th>Mother's qualification_24</th>\n",
       "      <th>Mother's qualification_25</th>\n",
       "      <th>Mother's qualification_26</th>\n",
       "      <th>Mother's qualification_27</th>\n",
       "      <th>Mother's qualification_28</th>\n",
       "      <th>Mother's qualification_29</th>\n",
       "      <th>Displaced_0</th>\n",
       "      <th>Displaced_1</th>\n",
       "      <th>Tuition fees up to date_0</th>\n",
       "      <th>Tuition fees up to date_1</th>\n",
       "    </tr>\n",
       "  </thead>\n",
       "  <tbody>\n",
       "    <tr>\n",
       "      <th>0</th>\n",
       "      <td>5</td>\n",
       "      <td>20</td>\n",
       "      <td>0</td>\n",
       "      <td>0</td>\n",
       "      <td>0</td>\n",
       "      <td>0</td>\n",
       "      <td>0.000000</td>\n",
       "      <td>0</td>\n",
       "      <td>0</td>\n",
       "      <td>0</td>\n",
       "      <td>...</td>\n",
       "      <td>0</td>\n",
       "      <td>0</td>\n",
       "      <td>0</td>\n",
       "      <td>0</td>\n",
       "      <td>0</td>\n",
       "      <td>0</td>\n",
       "      <td>0</td>\n",
       "      <td>1</td>\n",
       "      <td>0</td>\n",
       "      <td>1</td>\n",
       "    </tr>\n",
       "    <tr>\n",
       "      <th>1</th>\n",
       "      <td>1</td>\n",
       "      <td>19</td>\n",
       "      <td>0</td>\n",
       "      <td>6</td>\n",
       "      <td>6</td>\n",
       "      <td>6</td>\n",
       "      <td>14.000000</td>\n",
       "      <td>0</td>\n",
       "      <td>0</td>\n",
       "      <td>6</td>\n",
       "      <td>...</td>\n",
       "      <td>0</td>\n",
       "      <td>0</td>\n",
       "      <td>0</td>\n",
       "      <td>0</td>\n",
       "      <td>0</td>\n",
       "      <td>0</td>\n",
       "      <td>0</td>\n",
       "      <td>1</td>\n",
       "      <td>1</td>\n",
       "      <td>0</td>\n",
       "    </tr>\n",
       "    <tr>\n",
       "      <th>2</th>\n",
       "      <td>5</td>\n",
       "      <td>19</td>\n",
       "      <td>0</td>\n",
       "      <td>6</td>\n",
       "      <td>0</td>\n",
       "      <td>0</td>\n",
       "      <td>0.000000</td>\n",
       "      <td>0</td>\n",
       "      <td>0</td>\n",
       "      <td>6</td>\n",
       "      <td>...</td>\n",
       "      <td>0</td>\n",
       "      <td>0</td>\n",
       "      <td>0</td>\n",
       "      <td>0</td>\n",
       "      <td>0</td>\n",
       "      <td>0</td>\n",
       "      <td>0</td>\n",
       "      <td>1</td>\n",
       "      <td>1</td>\n",
       "      <td>0</td>\n",
       "    </tr>\n",
       "    <tr>\n",
       "      <th>3</th>\n",
       "      <td>2</td>\n",
       "      <td>20</td>\n",
       "      <td>0</td>\n",
       "      <td>6</td>\n",
       "      <td>8</td>\n",
       "      <td>6</td>\n",
       "      <td>13.428571</td>\n",
       "      <td>0</td>\n",
       "      <td>0</td>\n",
       "      <td>6</td>\n",
       "      <td>...</td>\n",
       "      <td>0</td>\n",
       "      <td>0</td>\n",
       "      <td>0</td>\n",
       "      <td>0</td>\n",
       "      <td>0</td>\n",
       "      <td>0</td>\n",
       "      <td>0</td>\n",
       "      <td>1</td>\n",
       "      <td>0</td>\n",
       "      <td>1</td>\n",
       "    </tr>\n",
       "    <tr>\n",
       "      <th>4</th>\n",
       "      <td>1</td>\n",
       "      <td>45</td>\n",
       "      <td>0</td>\n",
       "      <td>6</td>\n",
       "      <td>9</td>\n",
       "      <td>5</td>\n",
       "      <td>12.333333</td>\n",
       "      <td>0</td>\n",
       "      <td>0</td>\n",
       "      <td>6</td>\n",
       "      <td>...</td>\n",
       "      <td>0</td>\n",
       "      <td>0</td>\n",
       "      <td>0</td>\n",
       "      <td>0</td>\n",
       "      <td>0</td>\n",
       "      <td>0</td>\n",
       "      <td>1</td>\n",
       "      <td>0</td>\n",
       "      <td>0</td>\n",
       "      <td>1</td>\n",
       "    </tr>\n",
       "    <tr>\n",
       "      <th>...</th>\n",
       "      <td>...</td>\n",
       "      <td>...</td>\n",
       "      <td>...</td>\n",
       "      <td>...</td>\n",
       "      <td>...</td>\n",
       "      <td>...</td>\n",
       "      <td>...</td>\n",
       "      <td>...</td>\n",
       "      <td>...</td>\n",
       "      <td>...</td>\n",
       "      <td>...</td>\n",
       "      <td>...</td>\n",
       "      <td>...</td>\n",
       "      <td>...</td>\n",
       "      <td>...</td>\n",
       "      <td>...</td>\n",
       "      <td>...</td>\n",
       "      <td>...</td>\n",
       "      <td>...</td>\n",
       "      <td>...</td>\n",
       "      <td>...</td>\n",
       "    </tr>\n",
       "    <tr>\n",
       "      <th>4419</th>\n",
       "      <td>6</td>\n",
       "      <td>19</td>\n",
       "      <td>0</td>\n",
       "      <td>6</td>\n",
       "      <td>7</td>\n",
       "      <td>5</td>\n",
       "      <td>13.600000</td>\n",
       "      <td>0</td>\n",
       "      <td>0</td>\n",
       "      <td>6</td>\n",
       "      <td>...</td>\n",
       "      <td>0</td>\n",
       "      <td>0</td>\n",
       "      <td>0</td>\n",
       "      <td>0</td>\n",
       "      <td>0</td>\n",
       "      <td>0</td>\n",
       "      <td>1</td>\n",
       "      <td>0</td>\n",
       "      <td>0</td>\n",
       "      <td>1</td>\n",
       "    </tr>\n",
       "    <tr>\n",
       "      <th>4420</th>\n",
       "      <td>2</td>\n",
       "      <td>18</td>\n",
       "      <td>0</td>\n",
       "      <td>6</td>\n",
       "      <td>6</td>\n",
       "      <td>6</td>\n",
       "      <td>12.000000</td>\n",
       "      <td>0</td>\n",
       "      <td>0</td>\n",
       "      <td>6</td>\n",
       "      <td>...</td>\n",
       "      <td>0</td>\n",
       "      <td>0</td>\n",
       "      <td>0</td>\n",
       "      <td>0</td>\n",
       "      <td>0</td>\n",
       "      <td>0</td>\n",
       "      <td>0</td>\n",
       "      <td>1</td>\n",
       "      <td>1</td>\n",
       "      <td>0</td>\n",
       "    </tr>\n",
       "    <tr>\n",
       "      <th>4421</th>\n",
       "      <td>1</td>\n",
       "      <td>30</td>\n",
       "      <td>0</td>\n",
       "      <td>7</td>\n",
       "      <td>8</td>\n",
       "      <td>7</td>\n",
       "      <td>14.912500</td>\n",
       "      <td>0</td>\n",
       "      <td>0</td>\n",
       "      <td>8</td>\n",
       "      <td>...</td>\n",
       "      <td>0</td>\n",
       "      <td>0</td>\n",
       "      <td>0</td>\n",
       "      <td>0</td>\n",
       "      <td>0</td>\n",
       "      <td>0</td>\n",
       "      <td>0</td>\n",
       "      <td>1</td>\n",
       "      <td>0</td>\n",
       "      <td>1</td>\n",
       "    </tr>\n",
       "    <tr>\n",
       "      <th>4422</th>\n",
       "      <td>1</td>\n",
       "      <td>20</td>\n",
       "      <td>0</td>\n",
       "      <td>5</td>\n",
       "      <td>5</td>\n",
       "      <td>5</td>\n",
       "      <td>13.800000</td>\n",
       "      <td>0</td>\n",
       "      <td>0</td>\n",
       "      <td>5</td>\n",
       "      <td>...</td>\n",
       "      <td>0</td>\n",
       "      <td>0</td>\n",
       "      <td>0</td>\n",
       "      <td>0</td>\n",
       "      <td>0</td>\n",
       "      <td>0</td>\n",
       "      <td>0</td>\n",
       "      <td>1</td>\n",
       "      <td>0</td>\n",
       "      <td>1</td>\n",
       "    </tr>\n",
       "    <tr>\n",
       "      <th>4423</th>\n",
       "      <td>1</td>\n",
       "      <td>22</td>\n",
       "      <td>0</td>\n",
       "      <td>6</td>\n",
       "      <td>8</td>\n",
       "      <td>6</td>\n",
       "      <td>11.666667</td>\n",
       "      <td>0</td>\n",
       "      <td>0</td>\n",
       "      <td>6</td>\n",
       "      <td>...</td>\n",
       "      <td>0</td>\n",
       "      <td>0</td>\n",
       "      <td>0</td>\n",
       "      <td>0</td>\n",
       "      <td>0</td>\n",
       "      <td>0</td>\n",
       "      <td>0</td>\n",
       "      <td>1</td>\n",
       "      <td>0</td>\n",
       "      <td>1</td>\n",
       "    </tr>\n",
       "  </tbody>\n",
       "</table>\n",
       "<p>4424 rows × 223 columns</p>\n",
       "</div>"
      ],
      "text/plain": [
       "      Application order  Age at enrollment  \\\n",
       "0                     5                 20   \n",
       "1                     1                 19   \n",
       "2                     5                 19   \n",
       "3                     2                 20   \n",
       "4                     1                 45   \n",
       "...                 ...                ...   \n",
       "4419                  6                 19   \n",
       "4420                  2                 18   \n",
       "4421                  1                 30   \n",
       "4422                  1                 20   \n",
       "4423                  1                 22   \n",
       "\n",
       "      Curricular units 1st sem (credited)  \\\n",
       "0                                       0   \n",
       "1                                       0   \n",
       "2                                       0   \n",
       "3                                       0   \n",
       "4                                       0   \n",
       "...                                   ...   \n",
       "4419                                    0   \n",
       "4420                                    0   \n",
       "4421                                    0   \n",
       "4422                                    0   \n",
       "4423                                    0   \n",
       "\n",
       "      Curricular units 1st sem (enrolled)  \\\n",
       "0                                       0   \n",
       "1                                       6   \n",
       "2                                       6   \n",
       "3                                       6   \n",
       "4                                       6   \n",
       "...                                   ...   \n",
       "4419                                    6   \n",
       "4420                                    6   \n",
       "4421                                    7   \n",
       "4422                                    5   \n",
       "4423                                    6   \n",
       "\n",
       "      Curricular units 1st sem (evaluations)  \\\n",
       "0                                          0   \n",
       "1                                          6   \n",
       "2                                          0   \n",
       "3                                          8   \n",
       "4                                          9   \n",
       "...                                      ...   \n",
       "4419                                       7   \n",
       "4420                                       6   \n",
       "4421                                       8   \n",
       "4422                                       5   \n",
       "4423                                       8   \n",
       "\n",
       "      Curricular units 1st sem (approved)  Curricular units 1st sem (grade)  \\\n",
       "0                                       0                          0.000000   \n",
       "1                                       6                         14.000000   \n",
       "2                                       0                          0.000000   \n",
       "3                                       6                         13.428571   \n",
       "4                                       5                         12.333333   \n",
       "...                                   ...                               ...   \n",
       "4419                                    5                         13.600000   \n",
       "4420                                    6                         12.000000   \n",
       "4421                                    7                         14.912500   \n",
       "4422                                    5                         13.800000   \n",
       "4423                                    6                         11.666667   \n",
       "\n",
       "      Curricular units 1st sem (without evaluations)  \\\n",
       "0                                                  0   \n",
       "1                                                  0   \n",
       "2                                                  0   \n",
       "3                                                  0   \n",
       "4                                                  0   \n",
       "...                                              ...   \n",
       "4419                                               0   \n",
       "4420                                               0   \n",
       "4421                                               0   \n",
       "4422                                               0   \n",
       "4423                                               0   \n",
       "\n",
       "      Curricular units 2nd sem (credited)  \\\n",
       "0                                       0   \n",
       "1                                       0   \n",
       "2                                       0   \n",
       "3                                       0   \n",
       "4                                       0   \n",
       "...                                   ...   \n",
       "4419                                    0   \n",
       "4420                                    0   \n",
       "4421                                    0   \n",
       "4422                                    0   \n",
       "4423                                    0   \n",
       "\n",
       "      Curricular units 2nd sem (enrolled)  ...  Mother's qualification_24  \\\n",
       "0                                       0  ...                          0   \n",
       "1                                       6  ...                          0   \n",
       "2                                       6  ...                          0   \n",
       "3                                       6  ...                          0   \n",
       "4                                       6  ...                          0   \n",
       "...                                   ...  ...                        ...   \n",
       "4419                                    6  ...                          0   \n",
       "4420                                    6  ...                          0   \n",
       "4421                                    8  ...                          0   \n",
       "4422                                    5  ...                          0   \n",
       "4423                                    6  ...                          0   \n",
       "\n",
       "      Mother's qualification_25  Mother's qualification_26  \\\n",
       "0                             0                          0   \n",
       "1                             0                          0   \n",
       "2                             0                          0   \n",
       "3                             0                          0   \n",
       "4                             0                          0   \n",
       "...                         ...                        ...   \n",
       "4419                          0                          0   \n",
       "4420                          0                          0   \n",
       "4421                          0                          0   \n",
       "4422                          0                          0   \n",
       "4423                          0                          0   \n",
       "\n",
       "      Mother's qualification_27  Mother's qualification_28  \\\n",
       "0                             0                          0   \n",
       "1                             0                          0   \n",
       "2                             0                          0   \n",
       "3                             0                          0   \n",
       "4                             0                          0   \n",
       "...                         ...                        ...   \n",
       "4419                          0                          0   \n",
       "4420                          0                          0   \n",
       "4421                          0                          0   \n",
       "4422                          0                          0   \n",
       "4423                          0                          0   \n",
       "\n",
       "      Mother's qualification_29  Displaced_0  Displaced_1  \\\n",
       "0                             0            0            1   \n",
       "1                             0            0            1   \n",
       "2                             0            0            1   \n",
       "3                             0            0            1   \n",
       "4                             0            1            0   \n",
       "...                         ...          ...          ...   \n",
       "4419                          0            1            0   \n",
       "4420                          0            0            1   \n",
       "4421                          0            0            1   \n",
       "4422                          0            0            1   \n",
       "4423                          0            0            1   \n",
       "\n",
       "      Tuition fees up to date_0  Tuition fees up to date_1  \n",
       "0                             0                          1  \n",
       "1                             1                          0  \n",
       "2                             1                          0  \n",
       "3                             0                          1  \n",
       "4                             0                          1  \n",
       "...                         ...                        ...  \n",
       "4419                          0                          1  \n",
       "4420                          1                          0  \n",
       "4421                          0                          1  \n",
       "4422                          0                          1  \n",
       "4423                          0                          1  \n",
       "\n",
       "[4424 rows x 223 columns]"
      ]
     },
     "execution_count": 33,
     "metadata": {},
     "output_type": "execute_result"
    }
   ],
   "source": [
    "\n",
    "df_ohe = pd.get_dummies(df_ohe, columns=cats)\n",
    "df_ohe"
   ]
  },
  {
   "cell_type": "markdown",
   "metadata": {
    "id": "phaER6DADM4E"
   },
   "source": [
    "Data Transformation for Numerical attributes"
   ]
  },
  {
   "cell_type": "code",
   "execution_count": 41,
   "metadata": {
    "id": "hhLr8rzODNI1"
   },
   "outputs": [],
   "source": [
    "column_names = df_ohe.columns.tolist()\n",
    "\n",
    "cats_set = set(cats)\n",
    "names_set = set(column_names)\n",
    "\n",
    "common_strings = names_set.intersection(cats_set)\n",
    "\n",
    "nats =  [item for item in names_set if item not in common_strings] # numerical attributes\n",
    "nats.remove('Target')\n"
   ]
  },
  {
   "cell_type": "code",
   "execution_count": 42,
   "metadata": {
    "colab": {
     "base_uri": "https://localhost:8080/"
    },
    "id": "t6ASPTD9E8m_",
    "outputId": "c3b292f7-915f-44b9-8c08-21bf3e4ebe2a"
   },
   "outputs": [
    {
     "name": "stdout",
     "output_type": "stream",
     "text": [
      "Normalized data:\n",
      "      Application order  Age at enrollment  \\\n",
      "0              0.555556           0.056604   \n",
      "1              0.111111           0.037736   \n",
      "2              0.555556           0.037736   \n",
      "3              0.222222           0.056604   \n",
      "4              0.111111           0.528302   \n",
      "...                 ...                ...   \n",
      "4419           0.666667           0.037736   \n",
      "4420           0.222222           0.018868   \n",
      "4421           0.111111           0.245283   \n",
      "4422           0.111111           0.056604   \n",
      "4423           0.111111           0.094340   \n",
      "\n",
      "      Curricular units 1st sem (credited)  \\\n",
      "0                                     0.0   \n",
      "1                                     0.0   \n",
      "2                                     0.0   \n",
      "3                                     0.0   \n",
      "4                                     0.0   \n",
      "...                                   ...   \n",
      "4419                                  0.0   \n",
      "4420                                  0.0   \n",
      "4421                                  0.0   \n",
      "4422                                  0.0   \n",
      "4423                                  0.0   \n",
      "\n",
      "      Curricular units 1st sem (enrolled)  \\\n",
      "0                                0.000000   \n",
      "1                                0.230769   \n",
      "2                                0.230769   \n",
      "3                                0.230769   \n",
      "4                                0.230769   \n",
      "...                                   ...   \n",
      "4419                             0.230769   \n",
      "4420                             0.230769   \n",
      "4421                             0.269231   \n",
      "4422                             0.192308   \n",
      "4423                             0.230769   \n",
      "\n",
      "      Curricular units 1st sem (evaluations)  \\\n",
      "0                                   0.000000   \n",
      "1                                   0.133333   \n",
      "2                                   0.000000   \n",
      "3                                   0.177778   \n",
      "4                                   0.200000   \n",
      "...                                      ...   \n",
      "4419                                0.155556   \n",
      "4420                                0.133333   \n",
      "4421                                0.177778   \n",
      "4422                                0.111111   \n",
      "4423                                0.177778   \n",
      "\n",
      "      Curricular units 1st sem (approved)  Curricular units 1st sem (grade)  \\\n",
      "0                                0.000000                          0.000000   \n",
      "1                                0.230769                          0.741722   \n",
      "2                                0.000000                          0.000000   \n",
      "3                                0.230769                          0.711447   \n",
      "4                                0.192308                          0.653422   \n",
      "...                                   ...                               ...   \n",
      "4419                             0.192308                          0.720530   \n",
      "4420                             0.230769                          0.635762   \n",
      "4421                             0.269231                          0.790066   \n",
      "4422                             0.192308                          0.731126   \n",
      "4423                             0.230769                          0.618102   \n",
      "\n",
      "      Curricular units 1st sem (without evaluations)  \\\n",
      "0                                                0.0   \n",
      "1                                                0.0   \n",
      "2                                                0.0   \n",
      "3                                                0.0   \n",
      "4                                                0.0   \n",
      "...                                              ...   \n",
      "4419                                             0.0   \n",
      "4420                                             0.0   \n",
      "4421                                             0.0   \n",
      "4422                                             0.0   \n",
      "4423                                             0.0   \n",
      "\n",
      "      Curricular units 2nd sem (credited)  \\\n",
      "0                                     0.0   \n",
      "1                                     0.0   \n",
      "2                                     0.0   \n",
      "3                                     0.0   \n",
      "4                                     0.0   \n",
      "...                                   ...   \n",
      "4419                                  0.0   \n",
      "4420                                  0.0   \n",
      "4421                                  0.0   \n",
      "4422                                  0.0   \n",
      "4423                                  0.0   \n",
      "\n",
      "      Curricular units 2nd sem (enrolled)  ...  Mother's qualification_24  \\\n",
      "0                                0.000000  ...                        0.0   \n",
      "1                                0.260870  ...                        0.0   \n",
      "2                                0.260870  ...                        0.0   \n",
      "3                                0.260870  ...                        0.0   \n",
      "4                                0.260870  ...                        0.0   \n",
      "...                                   ...  ...                        ...   \n",
      "4419                             0.260870  ...                        0.0   \n",
      "4420                             0.260870  ...                        0.0   \n",
      "4421                             0.347826  ...                        0.0   \n",
      "4422                             0.217391  ...                        0.0   \n",
      "4423                             0.260870  ...                        0.0   \n",
      "\n",
      "      Mother's qualification_25  Mother's qualification_26  \\\n",
      "0                           0.0                        0.0   \n",
      "1                           0.0                        0.0   \n",
      "2                           0.0                        0.0   \n",
      "3                           0.0                        0.0   \n",
      "4                           0.0                        0.0   \n",
      "...                         ...                        ...   \n",
      "4419                        0.0                        0.0   \n",
      "4420                        0.0                        0.0   \n",
      "4421                        0.0                        0.0   \n",
      "4422                        0.0                        0.0   \n",
      "4423                        0.0                        0.0   \n",
      "\n",
      "      Mother's qualification_27  Mother's qualification_28  \\\n",
      "0                           0.0                        0.0   \n",
      "1                           0.0                        0.0   \n",
      "2                           0.0                        0.0   \n",
      "3                           0.0                        0.0   \n",
      "4                           0.0                        0.0   \n",
      "...                         ...                        ...   \n",
      "4419                        0.0                        0.0   \n",
      "4420                        0.0                        0.0   \n",
      "4421                        0.0                        0.0   \n",
      "4422                        0.0                        0.0   \n",
      "4423                        0.0                        0.0   \n",
      "\n",
      "      Mother's qualification_29  Displaced_0  Displaced_1  \\\n",
      "0                           0.0          0.0          1.0   \n",
      "1                           0.0          0.0          1.0   \n",
      "2                           0.0          0.0          1.0   \n",
      "3                           0.0          0.0          1.0   \n",
      "4                           0.0          1.0          0.0   \n",
      "...                         ...          ...          ...   \n",
      "4419                        0.0          1.0          0.0   \n",
      "4420                        0.0          0.0          1.0   \n",
      "4421                        0.0          0.0          1.0   \n",
      "4422                        0.0          0.0          1.0   \n",
      "4423                        0.0          0.0          1.0   \n",
      "\n",
      "      Tuition fees up to date_0  Tuition fees up to date_1  \n",
      "0                           0.0                        1.0  \n",
      "1                           1.0                        0.0  \n",
      "2                           1.0                        0.0  \n",
      "3                           0.0                        1.0  \n",
      "4                           0.0                        1.0  \n",
      "...                         ...                        ...  \n",
      "4419                        0.0                        1.0  \n",
      "4420                        1.0                        0.0  \n",
      "4421                        0.0                        1.0  \n",
      "4422                        0.0                        1.0  \n",
      "4423                        0.0                        1.0  \n",
      "\n",
      "[4424 rows x 223 columns]\n"
     ]
    }
   ],
   "source": [
    "import numpy as np\n",
    "import pandas as pd\n",
    "from sklearn.preprocessing import MinMaxScaler\n",
    "\n",
    "\n",
    "numeric_df = df_ohe[nats]\n",
    "\n",
    "scaler = MinMaxScaler()\n",
    "scaled_data = scaler.fit_transform(numeric_df)\n",
    "\n",
    "scaled_df = pd.DataFrame(scaled_data, columns=nats)\n",
    "\n",
    "df_ohe[nats] = scaled_df\n",
    "\n",
    "print(\"Normalized data:\")\n",
    "print(df_ohe)\n",
    "\n"
   ]
  },
  {
   "cell_type": "code",
   "execution_count": 43,
   "metadata": {
    "id": "3lq3bTKHyC10"
   },
   "outputs": [],
   "source": [
    "df_ohe.drop(df_ohe[df_ohe[\"Target\"]==2].index,inplace=True)"
   ]
  },
  {
   "cell_type": "code",
   "execution_count": 44,
   "metadata": {
    "scrolled": true
   },
   "outputs": [
    {
     "data": {
      "text/html": [
       "<div>\n",
       "<style scoped>\n",
       "    .dataframe tbody tr th:only-of-type {\n",
       "        vertical-align: middle;\n",
       "    }\n",
       "\n",
       "    .dataframe tbody tr th {\n",
       "        vertical-align: top;\n",
       "    }\n",
       "\n",
       "    .dataframe thead th {\n",
       "        text-align: right;\n",
       "    }\n",
       "</style>\n",
       "<table border=\"1\" class=\"dataframe\">\n",
       "  <thead>\n",
       "    <tr style=\"text-align: right;\">\n",
       "      <th></th>\n",
       "      <th>Application order</th>\n",
       "      <th>Age at enrollment</th>\n",
       "      <th>Curricular units 1st sem (credited)</th>\n",
       "      <th>Curricular units 1st sem (enrolled)</th>\n",
       "      <th>Curricular units 1st sem (evaluations)</th>\n",
       "      <th>Curricular units 1st sem (approved)</th>\n",
       "      <th>Curricular units 1st sem (grade)</th>\n",
       "      <th>Curricular units 1st sem (without evaluations)</th>\n",
       "      <th>Curricular units 2nd sem (credited)</th>\n",
       "      <th>Curricular units 2nd sem (enrolled)</th>\n",
       "      <th>...</th>\n",
       "      <th>Mother's qualification_24</th>\n",
       "      <th>Mother's qualification_25</th>\n",
       "      <th>Mother's qualification_26</th>\n",
       "      <th>Mother's qualification_27</th>\n",
       "      <th>Mother's qualification_28</th>\n",
       "      <th>Mother's qualification_29</th>\n",
       "      <th>Displaced_0</th>\n",
       "      <th>Displaced_1</th>\n",
       "      <th>Tuition fees up to date_0</th>\n",
       "      <th>Tuition fees up to date_1</th>\n",
       "    </tr>\n",
       "  </thead>\n",
       "  <tbody>\n",
       "    <tr>\n",
       "      <th>0</th>\n",
       "      <td>0.555556</td>\n",
       "      <td>0.056604</td>\n",
       "      <td>0.0</td>\n",
       "      <td>0.000000</td>\n",
       "      <td>0.000000</td>\n",
       "      <td>0.000000</td>\n",
       "      <td>0.000000</td>\n",
       "      <td>0.0</td>\n",
       "      <td>0.0</td>\n",
       "      <td>0.000000</td>\n",
       "      <td>...</td>\n",
       "      <td>0.0</td>\n",
       "      <td>0.0</td>\n",
       "      <td>0.0</td>\n",
       "      <td>0.0</td>\n",
       "      <td>0.0</td>\n",
       "      <td>0.0</td>\n",
       "      <td>0.0</td>\n",
       "      <td>1.0</td>\n",
       "      <td>0.0</td>\n",
       "      <td>1.0</td>\n",
       "    </tr>\n",
       "    <tr>\n",
       "      <th>1</th>\n",
       "      <td>0.111111</td>\n",
       "      <td>0.037736</td>\n",
       "      <td>0.0</td>\n",
       "      <td>0.230769</td>\n",
       "      <td>0.133333</td>\n",
       "      <td>0.230769</td>\n",
       "      <td>0.741722</td>\n",
       "      <td>0.0</td>\n",
       "      <td>0.0</td>\n",
       "      <td>0.260870</td>\n",
       "      <td>...</td>\n",
       "      <td>0.0</td>\n",
       "      <td>0.0</td>\n",
       "      <td>0.0</td>\n",
       "      <td>0.0</td>\n",
       "      <td>0.0</td>\n",
       "      <td>0.0</td>\n",
       "      <td>0.0</td>\n",
       "      <td>1.0</td>\n",
       "      <td>1.0</td>\n",
       "      <td>0.0</td>\n",
       "    </tr>\n",
       "    <tr>\n",
       "      <th>2</th>\n",
       "      <td>0.555556</td>\n",
       "      <td>0.037736</td>\n",
       "      <td>0.0</td>\n",
       "      <td>0.230769</td>\n",
       "      <td>0.000000</td>\n",
       "      <td>0.000000</td>\n",
       "      <td>0.000000</td>\n",
       "      <td>0.0</td>\n",
       "      <td>0.0</td>\n",
       "      <td>0.260870</td>\n",
       "      <td>...</td>\n",
       "      <td>0.0</td>\n",
       "      <td>0.0</td>\n",
       "      <td>0.0</td>\n",
       "      <td>0.0</td>\n",
       "      <td>0.0</td>\n",
       "      <td>0.0</td>\n",
       "      <td>0.0</td>\n",
       "      <td>1.0</td>\n",
       "      <td>1.0</td>\n",
       "      <td>0.0</td>\n",
       "    </tr>\n",
       "    <tr>\n",
       "      <th>3</th>\n",
       "      <td>0.222222</td>\n",
       "      <td>0.056604</td>\n",
       "      <td>0.0</td>\n",
       "      <td>0.230769</td>\n",
       "      <td>0.177778</td>\n",
       "      <td>0.230769</td>\n",
       "      <td>0.711447</td>\n",
       "      <td>0.0</td>\n",
       "      <td>0.0</td>\n",
       "      <td>0.260870</td>\n",
       "      <td>...</td>\n",
       "      <td>0.0</td>\n",
       "      <td>0.0</td>\n",
       "      <td>0.0</td>\n",
       "      <td>0.0</td>\n",
       "      <td>0.0</td>\n",
       "      <td>0.0</td>\n",
       "      <td>0.0</td>\n",
       "      <td>1.0</td>\n",
       "      <td>0.0</td>\n",
       "      <td>1.0</td>\n",
       "    </tr>\n",
       "    <tr>\n",
       "      <th>4</th>\n",
       "      <td>0.111111</td>\n",
       "      <td>0.528302</td>\n",
       "      <td>0.0</td>\n",
       "      <td>0.230769</td>\n",
       "      <td>0.200000</td>\n",
       "      <td>0.192308</td>\n",
       "      <td>0.653422</td>\n",
       "      <td>0.0</td>\n",
       "      <td>0.0</td>\n",
       "      <td>0.260870</td>\n",
       "      <td>...</td>\n",
       "      <td>0.0</td>\n",
       "      <td>0.0</td>\n",
       "      <td>0.0</td>\n",
       "      <td>0.0</td>\n",
       "      <td>0.0</td>\n",
       "      <td>0.0</td>\n",
       "      <td>1.0</td>\n",
       "      <td>0.0</td>\n",
       "      <td>0.0</td>\n",
       "      <td>1.0</td>\n",
       "    </tr>\n",
       "    <tr>\n",
       "      <th>...</th>\n",
       "      <td>...</td>\n",
       "      <td>...</td>\n",
       "      <td>...</td>\n",
       "      <td>...</td>\n",
       "      <td>...</td>\n",
       "      <td>...</td>\n",
       "      <td>...</td>\n",
       "      <td>...</td>\n",
       "      <td>...</td>\n",
       "      <td>...</td>\n",
       "      <td>...</td>\n",
       "      <td>...</td>\n",
       "      <td>...</td>\n",
       "      <td>...</td>\n",
       "      <td>...</td>\n",
       "      <td>...</td>\n",
       "      <td>...</td>\n",
       "      <td>...</td>\n",
       "      <td>...</td>\n",
       "      <td>...</td>\n",
       "      <td>...</td>\n",
       "    </tr>\n",
       "    <tr>\n",
       "      <th>4419</th>\n",
       "      <td>0.666667</td>\n",
       "      <td>0.037736</td>\n",
       "      <td>0.0</td>\n",
       "      <td>0.230769</td>\n",
       "      <td>0.155556</td>\n",
       "      <td>0.192308</td>\n",
       "      <td>0.720530</td>\n",
       "      <td>0.0</td>\n",
       "      <td>0.0</td>\n",
       "      <td>0.260870</td>\n",
       "      <td>...</td>\n",
       "      <td>0.0</td>\n",
       "      <td>0.0</td>\n",
       "      <td>0.0</td>\n",
       "      <td>0.0</td>\n",
       "      <td>0.0</td>\n",
       "      <td>0.0</td>\n",
       "      <td>1.0</td>\n",
       "      <td>0.0</td>\n",
       "      <td>0.0</td>\n",
       "      <td>1.0</td>\n",
       "    </tr>\n",
       "    <tr>\n",
       "      <th>4420</th>\n",
       "      <td>0.222222</td>\n",
       "      <td>0.018868</td>\n",
       "      <td>0.0</td>\n",
       "      <td>0.230769</td>\n",
       "      <td>0.133333</td>\n",
       "      <td>0.230769</td>\n",
       "      <td>0.635762</td>\n",
       "      <td>0.0</td>\n",
       "      <td>0.0</td>\n",
       "      <td>0.260870</td>\n",
       "      <td>...</td>\n",
       "      <td>0.0</td>\n",
       "      <td>0.0</td>\n",
       "      <td>0.0</td>\n",
       "      <td>0.0</td>\n",
       "      <td>0.0</td>\n",
       "      <td>0.0</td>\n",
       "      <td>0.0</td>\n",
       "      <td>1.0</td>\n",
       "      <td>1.0</td>\n",
       "      <td>0.0</td>\n",
       "    </tr>\n",
       "    <tr>\n",
       "      <th>4421</th>\n",
       "      <td>0.111111</td>\n",
       "      <td>0.245283</td>\n",
       "      <td>0.0</td>\n",
       "      <td>0.269231</td>\n",
       "      <td>0.177778</td>\n",
       "      <td>0.269231</td>\n",
       "      <td>0.790066</td>\n",
       "      <td>0.0</td>\n",
       "      <td>0.0</td>\n",
       "      <td>0.347826</td>\n",
       "      <td>...</td>\n",
       "      <td>0.0</td>\n",
       "      <td>0.0</td>\n",
       "      <td>0.0</td>\n",
       "      <td>0.0</td>\n",
       "      <td>0.0</td>\n",
       "      <td>0.0</td>\n",
       "      <td>0.0</td>\n",
       "      <td>1.0</td>\n",
       "      <td>0.0</td>\n",
       "      <td>1.0</td>\n",
       "    </tr>\n",
       "    <tr>\n",
       "      <th>4422</th>\n",
       "      <td>0.111111</td>\n",
       "      <td>0.056604</td>\n",
       "      <td>0.0</td>\n",
       "      <td>0.192308</td>\n",
       "      <td>0.111111</td>\n",
       "      <td>0.192308</td>\n",
       "      <td>0.731126</td>\n",
       "      <td>0.0</td>\n",
       "      <td>0.0</td>\n",
       "      <td>0.217391</td>\n",
       "      <td>...</td>\n",
       "      <td>0.0</td>\n",
       "      <td>0.0</td>\n",
       "      <td>0.0</td>\n",
       "      <td>0.0</td>\n",
       "      <td>0.0</td>\n",
       "      <td>0.0</td>\n",
       "      <td>0.0</td>\n",
       "      <td>1.0</td>\n",
       "      <td>0.0</td>\n",
       "      <td>1.0</td>\n",
       "    </tr>\n",
       "    <tr>\n",
       "      <th>4423</th>\n",
       "      <td>0.111111</td>\n",
       "      <td>0.094340</td>\n",
       "      <td>0.0</td>\n",
       "      <td>0.230769</td>\n",
       "      <td>0.177778</td>\n",
       "      <td>0.230769</td>\n",
       "      <td>0.618102</td>\n",
       "      <td>0.0</td>\n",
       "      <td>0.0</td>\n",
       "      <td>0.260870</td>\n",
       "      <td>...</td>\n",
       "      <td>0.0</td>\n",
       "      <td>0.0</td>\n",
       "      <td>0.0</td>\n",
       "      <td>0.0</td>\n",
       "      <td>0.0</td>\n",
       "      <td>0.0</td>\n",
       "      <td>0.0</td>\n",
       "      <td>1.0</td>\n",
       "      <td>0.0</td>\n",
       "      <td>1.0</td>\n",
       "    </tr>\n",
       "  </tbody>\n",
       "</table>\n",
       "<p>3630 rows × 223 columns</p>\n",
       "</div>"
      ],
      "text/plain": [
       "      Application order  Age at enrollment  \\\n",
       "0              0.555556           0.056604   \n",
       "1              0.111111           0.037736   \n",
       "2              0.555556           0.037736   \n",
       "3              0.222222           0.056604   \n",
       "4              0.111111           0.528302   \n",
       "...                 ...                ...   \n",
       "4419           0.666667           0.037736   \n",
       "4420           0.222222           0.018868   \n",
       "4421           0.111111           0.245283   \n",
       "4422           0.111111           0.056604   \n",
       "4423           0.111111           0.094340   \n",
       "\n",
       "      Curricular units 1st sem (credited)  \\\n",
       "0                                     0.0   \n",
       "1                                     0.0   \n",
       "2                                     0.0   \n",
       "3                                     0.0   \n",
       "4                                     0.0   \n",
       "...                                   ...   \n",
       "4419                                  0.0   \n",
       "4420                                  0.0   \n",
       "4421                                  0.0   \n",
       "4422                                  0.0   \n",
       "4423                                  0.0   \n",
       "\n",
       "      Curricular units 1st sem (enrolled)  \\\n",
       "0                                0.000000   \n",
       "1                                0.230769   \n",
       "2                                0.230769   \n",
       "3                                0.230769   \n",
       "4                                0.230769   \n",
       "...                                   ...   \n",
       "4419                             0.230769   \n",
       "4420                             0.230769   \n",
       "4421                             0.269231   \n",
       "4422                             0.192308   \n",
       "4423                             0.230769   \n",
       "\n",
       "      Curricular units 1st sem (evaluations)  \\\n",
       "0                                   0.000000   \n",
       "1                                   0.133333   \n",
       "2                                   0.000000   \n",
       "3                                   0.177778   \n",
       "4                                   0.200000   \n",
       "...                                      ...   \n",
       "4419                                0.155556   \n",
       "4420                                0.133333   \n",
       "4421                                0.177778   \n",
       "4422                                0.111111   \n",
       "4423                                0.177778   \n",
       "\n",
       "      Curricular units 1st sem (approved)  Curricular units 1st sem (grade)  \\\n",
       "0                                0.000000                          0.000000   \n",
       "1                                0.230769                          0.741722   \n",
       "2                                0.000000                          0.000000   \n",
       "3                                0.230769                          0.711447   \n",
       "4                                0.192308                          0.653422   \n",
       "...                                   ...                               ...   \n",
       "4419                             0.192308                          0.720530   \n",
       "4420                             0.230769                          0.635762   \n",
       "4421                             0.269231                          0.790066   \n",
       "4422                             0.192308                          0.731126   \n",
       "4423                             0.230769                          0.618102   \n",
       "\n",
       "      Curricular units 1st sem (without evaluations)  \\\n",
       "0                                                0.0   \n",
       "1                                                0.0   \n",
       "2                                                0.0   \n",
       "3                                                0.0   \n",
       "4                                                0.0   \n",
       "...                                              ...   \n",
       "4419                                             0.0   \n",
       "4420                                             0.0   \n",
       "4421                                             0.0   \n",
       "4422                                             0.0   \n",
       "4423                                             0.0   \n",
       "\n",
       "      Curricular units 2nd sem (credited)  \\\n",
       "0                                     0.0   \n",
       "1                                     0.0   \n",
       "2                                     0.0   \n",
       "3                                     0.0   \n",
       "4                                     0.0   \n",
       "...                                   ...   \n",
       "4419                                  0.0   \n",
       "4420                                  0.0   \n",
       "4421                                  0.0   \n",
       "4422                                  0.0   \n",
       "4423                                  0.0   \n",
       "\n",
       "      Curricular units 2nd sem (enrolled)  ...  Mother's qualification_24  \\\n",
       "0                                0.000000  ...                        0.0   \n",
       "1                                0.260870  ...                        0.0   \n",
       "2                                0.260870  ...                        0.0   \n",
       "3                                0.260870  ...                        0.0   \n",
       "4                                0.260870  ...                        0.0   \n",
       "...                                   ...  ...                        ...   \n",
       "4419                             0.260870  ...                        0.0   \n",
       "4420                             0.260870  ...                        0.0   \n",
       "4421                             0.347826  ...                        0.0   \n",
       "4422                             0.217391  ...                        0.0   \n",
       "4423                             0.260870  ...                        0.0   \n",
       "\n",
       "      Mother's qualification_25  Mother's qualification_26  \\\n",
       "0                           0.0                        0.0   \n",
       "1                           0.0                        0.0   \n",
       "2                           0.0                        0.0   \n",
       "3                           0.0                        0.0   \n",
       "4                           0.0                        0.0   \n",
       "...                         ...                        ...   \n",
       "4419                        0.0                        0.0   \n",
       "4420                        0.0                        0.0   \n",
       "4421                        0.0                        0.0   \n",
       "4422                        0.0                        0.0   \n",
       "4423                        0.0                        0.0   \n",
       "\n",
       "      Mother's qualification_27  Mother's qualification_28  \\\n",
       "0                           0.0                        0.0   \n",
       "1                           0.0                        0.0   \n",
       "2                           0.0                        0.0   \n",
       "3                           0.0                        0.0   \n",
       "4                           0.0                        0.0   \n",
       "...                         ...                        ...   \n",
       "4419                        0.0                        0.0   \n",
       "4420                        0.0                        0.0   \n",
       "4421                        0.0                        0.0   \n",
       "4422                        0.0                        0.0   \n",
       "4423                        0.0                        0.0   \n",
       "\n",
       "      Mother's qualification_29  Displaced_0  Displaced_1  \\\n",
       "0                           0.0          0.0          1.0   \n",
       "1                           0.0          0.0          1.0   \n",
       "2                           0.0          0.0          1.0   \n",
       "3                           0.0          0.0          1.0   \n",
       "4                           0.0          1.0          0.0   \n",
       "...                         ...          ...          ...   \n",
       "4419                        0.0          1.0          0.0   \n",
       "4420                        0.0          0.0          1.0   \n",
       "4421                        0.0          0.0          1.0   \n",
       "4422                        0.0          0.0          1.0   \n",
       "4423                        0.0          0.0          1.0   \n",
       "\n",
       "      Tuition fees up to date_0  Tuition fees up to date_1  \n",
       "0                           0.0                        1.0  \n",
       "1                           1.0                        0.0  \n",
       "2                           1.0                        0.0  \n",
       "3                           0.0                        1.0  \n",
       "4                           0.0                        1.0  \n",
       "...                         ...                        ...  \n",
       "4419                        0.0                        1.0  \n",
       "4420                        1.0                        0.0  \n",
       "4421                        0.0                        1.0  \n",
       "4422                        0.0                        1.0  \n",
       "4423                        0.0                        1.0  \n",
       "\n",
       "[3630 rows x 223 columns]"
      ]
     },
     "execution_count": 44,
     "metadata": {},
     "output_type": "execute_result"
    }
   ],
   "source": [
    "df_ohe"
   ]
  },
  {
   "cell_type": "code",
   "execution_count": 45,
   "metadata": {
    "colab": {
     "base_uri": "https://localhost:8080/"
    },
    "id": "eQ5mJZX-_81h",
    "outputId": "a7f2c273-10fc-4cd8-c260-115ec8fa01e9"
   },
   "outputs": [
    {
     "name": "stdout",
     "output_type": "stream",
     "text": [
      "Features of the dataset :\n",
      "       Marital status  Application mode  Application order       Course  \\\n",
      "count     4424.000000       4424.000000        4424.000000  4424.000000   \n",
      "mean         1.178571          6.886980           1.727848     9.899186   \n",
      "std          0.605747          5.298964           1.313793     4.331792   \n",
      "min          1.000000          1.000000           0.000000     1.000000   \n",
      "25%          1.000000          1.000000           1.000000     6.000000   \n",
      "50%          1.000000          8.000000           1.000000    10.000000   \n",
      "75%          1.000000         12.000000           2.000000    13.000000   \n",
      "max          6.000000         18.000000           9.000000    17.000000   \n",
      "\n",
      "       Daytime/evening attendance  Previous qualification  Nacionality  \\\n",
      "count                 4424.000000             4424.000000  4424.000000   \n",
      "mean                     0.890823                2.531420     1.254521   \n",
      "std                      0.311897                3.963707     1.748447   \n",
      "min                      0.000000                1.000000     1.000000   \n",
      "25%                      1.000000                1.000000     1.000000   \n",
      "50%                      1.000000                1.000000     1.000000   \n",
      "75%                      1.000000                1.000000     1.000000   \n",
      "max                      1.000000               17.000000    21.000000   \n",
      "\n",
      "       Mother's qualification  Father's qualification  Mother's occupation  \\\n",
      "count             4424.000000             4424.000000          4424.000000   \n",
      "mean                12.322107               16.455244             7.317812   \n",
      "std                  9.026251               11.044800             3.997828   \n",
      "min                  1.000000                1.000000             1.000000   \n",
      "25%                  2.000000                3.000000             5.000000   \n",
      "50%                 13.000000               14.000000             6.000000   \n",
      "75%                 22.000000               27.000000            10.000000   \n",
      "max                 29.000000               34.000000            32.000000   \n",
      "\n",
      "       ...  Curricular units 2nd sem (credited)  \\\n",
      "count  ...                          4424.000000   \n",
      "mean   ...                             0.541817   \n",
      "std    ...                             1.918546   \n",
      "min    ...                             0.000000   \n",
      "25%    ...                             0.000000   \n",
      "50%    ...                             0.000000   \n",
      "75%    ...                             0.000000   \n",
      "max    ...                            19.000000   \n",
      "\n",
      "       Curricular units 2nd sem (enrolled)  \\\n",
      "count                          4424.000000   \n",
      "mean                              6.232143   \n",
      "std                               2.195951   \n",
      "min                               0.000000   \n",
      "25%                               5.000000   \n",
      "50%                               6.000000   \n",
      "75%                               7.000000   \n",
      "max                              23.000000   \n",
      "\n",
      "       Curricular units 2nd sem (evaluations)  \\\n",
      "count                             4424.000000   \n",
      "mean                                 8.063291   \n",
      "std                                  3.947951   \n",
      "min                                  0.000000   \n",
      "25%                                  6.000000   \n",
      "50%                                  8.000000   \n",
      "75%                                 10.000000   \n",
      "max                                 33.000000   \n",
      "\n",
      "       Curricular units 2nd sem (approved)  Curricular units 2nd sem (grade)  \\\n",
      "count                          4424.000000                       4424.000000   \n",
      "mean                              4.435805                         10.230206   \n",
      "std                               3.014764                          5.210808   \n",
      "min                               0.000000                          0.000000   \n",
      "25%                               2.000000                         10.750000   \n",
      "50%                               5.000000                         12.200000   \n",
      "75%                               6.000000                         13.333333   \n",
      "max                              20.000000                         18.571429   \n",
      "\n",
      "       Curricular units 2nd sem (without evaluations)  Unemployment rate  \\\n",
      "count                                     4424.000000        4424.000000   \n",
      "mean                                         0.150316          11.566139   \n",
      "std                                          0.753774           2.663850   \n",
      "min                                          0.000000           7.600000   \n",
      "25%                                          0.000000           9.400000   \n",
      "50%                                          0.000000          11.100000   \n",
      "75%                                          0.000000          13.900000   \n",
      "max                                         12.000000          16.200000   \n",
      "\n",
      "       Inflation rate          GDP       Target  \n",
      "count     4424.000000  4424.000000  4424.000000  \n",
      "mean         1.228029     0.001969     0.858273  \n",
      "std          1.382711     2.269935     0.693326  \n",
      "min         -0.800000    -4.060000     0.000000  \n",
      "25%          0.300000    -1.700000     0.000000  \n",
      "50%          1.400000     0.320000     1.000000  \n",
      "75%          2.600000     1.790000     1.000000  \n",
      "max          3.700000     3.510000     2.000000  \n",
      "\n",
      "[8 rows x 35 columns]\n"
     ]
    }
   ],
   "source": [
    "print(\"Features of the dataset :\")\n",
    "print(df.describe(include = 'all'))"
   ]
  },
  {
   "cell_type": "markdown",
   "metadata": {
    "id": "i9yBdafSq1Z3"
   },
   "source": [
    "# **Exploratory Data Analysis**\n",
    "\n",
    "to do: leo kim"
   ]
  },
  {
   "cell_type": "code",
   "execution_count": 46,
   "metadata": {
    "id": "BOuYeObPsL2Y"
   },
   "outputs": [],
   "source": [
    "#will use mostly bar graphs to visualize and explore some data\n",
    "#since there are many (35) factors/columns, will only explore some data\n",
    "#data description and eda section in report is only 1-2 pages\n",
    "import seaborn as sns\n",
    "url = 'https://drive.google.com/uc?id=1RkoTj_yc3o99xDfzmE8q7QFURhf3FwdS'\n",
    "edadf = pd.read_csv(io.StringIO(requests.get(url).content.decode(\"utf-8\")))\n",
    "eda = edadf.copy()\n",
    "# display(eda)"
   ]
  },
  {
   "cell_type": "markdown",
   "metadata": {
    "id": "Cuql9n-LeOSq"
   },
   "source": [
    "The following plots will show a basic overview of some column/attribute data for visualization purposes."
   ]
  },
  {
   "cell_type": "code",
   "execution_count": 47,
   "metadata": {
    "colab": {
     "base_uri": "https://localhost:8080/",
     "height": 474
    },
    "id": "L3KzRfrNApSN",
    "outputId": "c24eb4dd-6b9b-4c31-896e-45d182757603"
   },
   "outputs": [
    {
     "ename": "AttributeError",
     "evalue": "'AxesSubplot' object has no attribute 'bar_label'",
     "output_type": "error",
     "traceback": [
      "\u001b[0;31m---------------------------------------------------------------------------\u001b[0m",
      "\u001b[0;31mAttributeError\u001b[0m                            Traceback (most recent call last)",
      "\u001b[0;32m<ipython-input-47-4c0c15996f0c>\u001b[0m in \u001b[0;36m<module>\u001b[0;34m\u001b[0m\n\u001b[1;32m      6\u001b[0m \u001b[0;34m\u001b[0m\u001b[0m\n\u001b[1;32m      7\u001b[0m \u001b[0;32mfor\u001b[0m \u001b[0mlabel\u001b[0m \u001b[0;32min\u001b[0m \u001b[0max\u001b[0m\u001b[0;34m.\u001b[0m\u001b[0mcontainers\u001b[0m\u001b[0;34m:\u001b[0m\u001b[0;34m\u001b[0m\u001b[0;34m\u001b[0m\u001b[0m\n\u001b[0;32m----> 8\u001b[0;31m     \u001b[0max\u001b[0m\u001b[0;34m.\u001b[0m\u001b[0mbar_label\u001b[0m\u001b[0;34m(\u001b[0m\u001b[0mlabel\u001b[0m\u001b[0;34m)\u001b[0m\u001b[0;34m\u001b[0m\u001b[0;34m\u001b[0m\u001b[0m\n\u001b[0m\u001b[1;32m      9\u001b[0m \u001b[0;34m\u001b[0m\u001b[0m\n\u001b[1;32m     10\u001b[0m \u001b[0mplt\u001b[0m\u001b[0;34m.\u001b[0m\u001b[0mshow\u001b[0m\u001b[0;34m(\u001b[0m\u001b[0;34m)\u001b[0m\u001b[0;34m\u001b[0m\u001b[0;34m\u001b[0m\u001b[0m\n",
      "\u001b[0;31mAttributeError\u001b[0m: 'AxesSubplot' object has no attribute 'bar_label'"
     ]
    },
    {
     "data": {
      "image/png": "[encoded data removed]",
      "text/plain": [
       "<Figure size 432x288 with 1 Axes>"
      ]
     },
     "metadata": {
      "needs_background": "light"
     },
     "output_type": "display_data"
    }
   ],
   "source": [
    "#basic overview of Target data counts\n",
    "ax = sns.countplot(x=eda[\"Target\"])\n",
    "plt.title('Distribution of Student Target Outcomes', size=15)\n",
    "plt.xlabel('Target')\n",
    "plt.ylabel('Number of Students')\n",
    "\n",
    "for label in ax.containers:\n",
    "    ax.bar_label(label)\n",
    "\n",
    "plt.show()"
   ]
  },
  {
   "cell_type": "code",
   "execution_count": 48,
   "metadata": {
    "colab": {
     "base_uri": "https://localhost:8080/"
    },
    "id": "hk5-WBfxPdOt",
    "outputId": "6024c8ca-2ff6-4ad9-de90-7faf0b539889"
   },
   "outputs": [
    {
     "name": "stdout",
     "output_type": "stream",
     "text": [
      "Total Students: 4424\n",
      "Dropout: 32.12%\n",
      "Graduate: 49.93%\n",
      "Enrolled: 17.95%\n"
     ]
    }
   ],
   "source": [
    "total_students = 1421+2209+794\n",
    "print(\"Total Students:\", total_students)\n",
    "print(\"Dropout:\" + ' {0:.2f}'.format(1421/total_students*100) + \"%\")\n",
    "print(\"Graduate:\" + ' {0:.2f}'.format(2209/total_students*100) + \"%\")\n",
    "print(\"Enrolled:\" + ' {0:.2f}'.format(794/total_students*100) + \"%\")"
   ]
  },
  {
   "cell_type": "markdown",
   "metadata": {
    "id": "Dz7TSkS7dquN"
   },
   "source": [
    "Most students in our dataset have graduated compared to dropped out. For our topic, we will drop Enrolled row values from the dataset. Enrolled does not answer our question because we need to know if the student has either graduated or dropped out. Enrolled just tells us that they are still in school and in progress."
   ]
  },
  {
   "cell_type": "code",
   "execution_count": 49,
   "metadata": {
    "colab": {
     "base_uri": "https://localhost:8080/",
     "height": 449
    },
    "id": "LgsoBBGqEmjo",
    "outputId": "a37321fa-ab66-4a50-a6bb-1f76c7ce878c"
   },
   "outputs": [
    {
     "data": {
      "image/png": "[encoded data removed]",
      "text/plain": [
       "<Figure size 432x288 with 1 Axes>"
      ]
     },
     "metadata": {
      "needs_background": "light"
     },
     "output_type": "display_data"
    }
   ],
   "source": [
    "#overview of student outcome target counts by gender\n",
    "sns.countplot(data=eda, x='Gender', hue='Target', hue_order=['Dropout', 'Enrolled', 'Graduate'])\n",
    "\n",
    "plt.xticks(ticks=[0,1], labels=['Female','Male'])\n",
    "plt.ylabel('Number of Students')\n",
    "plt.show()"
   ]
  },
  {
   "cell_type": "code",
   "execution_count": 50,
   "metadata": {
    "colab": {
     "base_uri": "https://localhost:8080/",
     "height": 429
    },
    "id": "p47sWjjARgd-",
    "outputId": "155fade3-5614-4255-f8c7-607796ff1b46"
   },
   "outputs": [
    {
     "data": {
      "image/png": "[encoded data removed]",
      "text/plain": [
       "<Figure size 432x288 with 1 Axes>"
      ]
     },
     "metadata": {
      "needs_background": "light"
     },
     "output_type": "display_data"
    },
    {
     "name": "stdout",
     "output_type": "stream",
     "text": [
      "Average age at enrollment: 23\n"
     ]
    }
   ],
   "source": [
    "#Example of looking for any outliers, in this case for the particular numerical attribute: age of enrollment\n",
    "sns.boxplot(y='Age at enrollment', flierprops={\"marker\":\"o\", \"markerfacecolor\":\"green\", \"markersize\":3.5,}, data=eda)\n",
    "plt.show()\n",
    "#note that round() will round down 2.49 to 2 and round up 2.5 to 3\n",
    "print(\"Average age at enrollment:\", round(np.mean(eda['Age at enrollment'])))"
   ]
  },
  {
   "cell_type": "markdown",
   "metadata": {
    "id": "JPSKvDuPS7CZ"
   },
   "source": [
    "Quick basic overview of simple demographic data using gender and age at enrollment.\n",
    "\n",
    "GENDER: Female has more graduates in this data.\n",
    "\n",
    "AGE AT ENROLLMENT: Average age of students in this data are younger at around 23 years old. The outliers start at 35 and onwards."
   ]
  },
  {
   "cell_type": "code",
   "execution_count": 51,
   "metadata": {
    "colab": {
     "base_uri": "https://localhost:8080/",
     "height": 449
    },
    "id": "qCLJCBfrUQ9K",
    "outputId": "8137a75c-22b0-463e-e691-72b402919649"
   },
   "outputs": [
    {
     "data": {
      "image/png": "[encoded data removed]",
      "text/plain": [
       "<Figure size 432x288 with 1 Axes>"
      ]
     },
     "metadata": {
      "needs_background": "light"
     },
     "output_type": "display_data"
    }
   ],
   "source": [
    "#overview of student outcome target counts by if tuition fees up to date\n",
    "sns.countplot(data=eda, x=\"Tuition fees up to date\", hue='Target', hue_order=['Dropout', 'Enrolled', 'Graduate'])\n",
    "\n",
    "plt.xticks(ticks=[0,1], labels=['No','Yes'])\n",
    "plt.xlabel('Tuition Fees Up to Date')\n",
    "plt.ylabel('Number of Students')\n",
    "plt.show()\n"
   ]
  },
  {
   "cell_type": "markdown",
   "metadata": {
    "id": "N473l-45fdnw"
   },
   "source": [
    "The majority of students that have graduated had tuition fees up to date. There is also a number of students that have dropped out that also had tuition fees up to date.\n",
    "\n",
    "However, take note how the majority of students that did not have tuition fees up to date dropped out."
   ]
  },
  {
   "cell_type": "code",
   "execution_count": 52,
   "metadata": {
    "colab": {
     "base_uri": "https://localhost:8080/",
     "height": 449
    },
    "id": "v1b4z-96Xpxd",
    "outputId": "db5be7eb-b2a1-46b0-9a65-dc98713b0146"
   },
   "outputs": [
    {
     "data": {
      "image/png": "[encoded data removed]",
      "text/plain": [
       "<Figure size 432x288 with 1 Axes>"
      ]
     },
     "metadata": {
      "needs_background": "light"
     },
     "output_type": "display_data"
    }
   ],
   "source": [
    "#overview of student outcome target counts by scholarship holders\n",
    "sns.countplot(data=eda, x=\"Scholarship holder\", hue='Target', hue_order=['Dropout', 'Enrolled', 'Graduate'])\n",
    "plt.xticks(ticks=[0,1], labels=['No','Yes'])\n",
    "plt.xlabel('Scholarship Holder')\n",
    "plt.ylabel('Number of Students')\n",
    "plt.show()"
   ]
  },
  {
   "cell_type": "markdown",
   "metadata": {
    "id": "VAxjS_POgCVL"
   },
   "source": [
    "Majority of scholarship holders ended up graduating.\n",
    "\n",
    "Majority of non scholarship holders also graduated. \n",
    "\n",
    "However, take note of how many students that dropped out were also non scholarship holders. "
   ]
  },
  {
   "cell_type": "code",
   "execution_count": 53,
   "metadata": {
    "colab": {
     "base_uri": "https://localhost:8080/",
     "height": 449
    },
    "id": "YuZL4KFyXzfZ",
    "outputId": "e3047b20-714d-4cca-9f81-86cda389e507"
   },
   "outputs": [
    {
     "data": {
      "image/png": "[encoded data removed]",
      "text/plain": [
       "<Figure size 432x288 with 1 Axes>"
      ]
     },
     "metadata": {
      "needs_background": "light"
     },
     "output_type": "display_data"
    }
   ],
   "source": [
    "#overview of student outcome target counts by course taken by students\n",
    "eda_course = eda.copy()\n",
    "eda_course['Course'] = eda_course['Course'].replace({1:'Biofuel Production Technologies',2:'Animation and Multimedia Design',3:'Social Service (Evening Attendance)',4:'Agronomy',5:'Communication Design',6:'Veterinary Nursing',7:'Informatics Engineering',8:'Equiniculture',9:'Management',10:'Social Service',11:'Tourism',12:'Nursing',13:'Oral Hygiene',14:'Advertising and Marketing Management',15:'Journalism and Communication',16:'Basic Education',17:'Management (Evening Attendance)'})\n",
    "# display(eda_course)\n",
    "ax = sns.countplot(data=eda_course, y=\"Course\", hue=\"Target\")\n",
    "plt.xlabel('Number of Students')\n",
    "plt.ylabel('Course')\n",
    "plt.yticks(labels=None)\n",
    "plt.show()"
   ]
  },
  {
   "cell_type": "markdown",
   "metadata": {
    "id": "kcCsETsPgW3X"
   },
   "source": [
    "Majority of graduates were enrolled in Nursing, Social Service, Journalism and Communication, and Veterinary Nursing."
   ]
  },
  {
   "cell_type": "markdown",
   "metadata": {
    "id": "9j6kfu9Akz2b"
   },
   "source": [
    "Overall, for a basic idea of the data, we looked at a mix of demographic, economic, and academic data to see the student outcomes based on the observed attributes.\n",
    "\n",
    "These previous basic plots were mostly just for visual purposes."
   ]
  },
  {
   "cell_type": "markdown",
   "metadata": {
    "id": "3HhwJ7kle_x8"
   },
   "source": [
    "Now, the next set of plots will dive deeper into the data. \n",
    "\n",
    "We will look at correlation (heat map) between the attributes.\n",
    "\n",
    "We will also look at some important features of our dataset."
   ]
  },
  {
   "cell_type": "code",
   "execution_count": 54,
   "metadata": {
    "colab": {
     "base_uri": "https://localhost:8080/",
     "height": 1000
    },
    "id": "-E13beXgzQYz",
    "outputId": "8dc5c5f3-8d24-4c45-cca0-f41ed80d78bb"
   },
   "outputs": [
    {
     "data": {
      "image/png": "[encoded data removed]",
      "text/plain": [
       "<Figure size 720x720 with 2 Axes>"
      ]
     },
     "metadata": {
      "needs_background": "light"
     },
     "output_type": "display_data"
    }
   ],
   "source": [
    "#make figure bigger because many categories\n",
    "plt.figure(figsize=(10,10))\n",
    "\n",
    "#selecting only the numerical columns\n",
    "eda_heatmap = eda.select_dtypes(include=np.number)\n",
    "# display(eda_heatmap)\n",
    "\n",
    "#using correlation method\n",
    "#too many categories, so no annotations inside the boxes unless the figure is super big\n",
    "sns.heatmap(eda_heatmap.corr(), vmin=-1, vmax=1, center= 0, cmap='coolwarm')\n",
    "plt.title('Correlation Heatmap Between Attributes')\n",
    "plt.show()"
   ]
  },
  {
   "cell_type": "markdown",
   "metadata": {
    "id": "ruLbuRyDgjJ8"
   },
   "source": [
    "Stronger positive correlations between the groups of categories involved with units enrolled during in school. Note how 2nd semester units positively correlate with 1st semester units. Mostly just tells us that these are continuing students in school. However, note how international and nacionality have high correlation with each other."
   ]
  },
  {
   "cell_type": "code",
   "execution_count": 55,
   "metadata": {
    "colab": {
     "base_uri": "https://localhost:8080/"
    },
    "id": "smfJlBENx9py",
    "outputId": "cfaa9098-e277-4331-eb93-a12c3714dd8b"
   },
   "outputs": [
    {
     "data": {
      "text/plain": [
       "Portuguese              4314\n",
       "Brazilian                 38\n",
       "Santomean                 14\n",
       "Spanish                   13\n",
       "Cape Verdean              13\n",
       "Guinean                    5\n",
       "Republic of Moldovan       3\n",
       "Italian                    3\n",
       "Ukranian                   3\n",
       "German                     2\n",
       "Mozambican                 2\n",
       "Russian                    2\n",
       "Romanian                   2\n",
       "Angolan                    2\n",
       "Mexican                    2\n",
       "Lithuania                  1\n",
       "English                    1\n",
       "Turkish                    1\n",
       "Dutch                      1\n",
       "Colombian                  1\n",
       "Cuban                      1\n",
       "Name: Nacionality, dtype: int64"
      ]
     },
     "execution_count": 55,
     "metadata": {},
     "output_type": "execute_result"
    }
   ],
   "source": [
    "eda_n = eda.copy()\n",
    "eda_n.Nacionality = eda_n.Nacionality.replace(range(1,22), ['Portuguese', 'German','Spanish', 'Italian', 'Dutch', 'English', 'Lithuania', 'Angolan', 'Cape Verdean', 'Guinean', 'Mozambican', 'Santomean', 'Turkish', 'Brazilian', 'Romanian', 'Republic of Moldovan', 'Mexican', 'Ukranian', 'Russian', 'Cuban', 'Colombian'])\n",
    "eda_n.Nacionality.value_counts()"
   ]
  },
  {
   "cell_type": "markdown",
   "metadata": {
    "id": "dC26Y-zu0RW4"
   },
   "source": [
    "Dataset has dominant amount of Portuguese students which correlates with the international attribute as well. May be useful to drop Nacionality and International attributes because of the bias in these two attributes."
   ]
  },
  {
   "cell_type": "markdown",
   "metadata": {
    "id": "EaLGJSIVyYuq"
   },
   "source": [
    "Now, lets look at feature importance using xgboost. Xgboost was one of the techniques mentioned in the paper to find the more important features of this dataset."
   ]
  },
  {
   "cell_type": "code",
   "execution_count": 56,
   "metadata": {
    "id": "am321FvphSU8"
   },
   "outputs": [],
   "source": [
    "url = 'https://drive.google.com/uc?id=1RkoTj_yc3o99xDfzmE8q7QFURhf3FwdS'\n",
    "df = pd.read_csv(io.StringIO(requests.get(url).content.decode(\"utf-8\")))\n",
    "fi_df = df.copy()\n",
    "# display(nb_df)\n",
    "\n",
    "#preprocessing\n",
    "\n",
    "#assign Target values and drop enrolled value\n",
    "class_mapping = {'Dropout': 0, 'Graduate': 1, 'Enrolled' : 2}\n",
    "fi_df['Target'] = fi_df['Target'].map(class_mapping)\n",
    "\n",
    "#drop dupes\n",
    "fi_df.drop_duplicates(inplace=True)\n",
    "\n",
    "#look for and fill any na with 0\n",
    "# print(fi_df.columns[fi_df.isna().any()])\n",
    "fi_df.columns[fi_df.isna().any()]\n",
    "fi_df = fi_df.fillna(0)\n",
    "eda_fi = fi_df.copy()"
   ]
  },
  {
   "cell_type": "code",
   "execution_count": 57,
   "metadata": {
    "id": "sV1pJmUZpAMD"
   },
   "outputs": [],
   "source": [
    "from sklearn.preprocessing import StandardScaler\n",
    "from sklearn.model_selection import train_test_split\n",
    "\n",
    "X = eda_fi.drop('Target', axis=1)\n",
    "y = eda_fi['Target']\n",
    "X_train, X_test, y_train, y_test = train_test_split(X, y, test_size=0.25, random_state=42)\n",
    "\n",
    "ss = StandardScaler()\n",
    "X_train_scaled = ss.fit_transform(X_train)\n",
    "X_test_scaled = ss.transform(X_test)"
   ]
  },
  {
   "cell_type": "code",
   "execution_count": 58,
   "metadata": {
    "id": "tvF56o03pRMy"
   },
   "outputs": [
    {
     "name": "stderr",
     "output_type": "stream",
     "text": [
      "/Library/Frameworks/Python.framework/Versions/3.8/lib/python3.8/site-packages/xgboost/sklearn.py:1224: UserWarning: The use of label encoder in XGBClassifier is deprecated and will be removed in a future release. To remove this warning, do the following: 1) Pass option use_label_encoder=False when constructing XGBClassifier object; and 2) Encode your labels (y) as integers starting with 0, i.e. 0, 1, 2, ..., [num_class - 1].\n",
      "  warnings.warn(label_encoder_deprecation_msg, UserWarning)\n"
     ]
    },
    {
     "name": "stdout",
     "output_type": "stream",
     "text": [
      "[18:27:30] WARNING: /Users/runner/work/xgboost/xgboost/src/learner.cc:1115: Starting in XGBoost 1.3.0, the default evaluation metric used with the objective 'multi:softprob' was changed from 'merror' to 'mlogloss'. Explicitly set eval_metric if you'd like to restore the old behavior.\n"
     ]
    }
   ],
   "source": [
    "from xgboost import XGBClassifier\n",
    "\n",
    "model = XGBClassifier()\n",
    "model.fit(X_train_scaled, y_train)\n",
    "importances = pd.DataFrame(data={\n",
    "    'Attribute': X_train.columns,\n",
    "    'Importance': model.feature_importances_\n",
    "})\n",
    "importances = importances.sort_values(by='Importance', ascending=False)"
   ]
  },
  {
   "cell_type": "code",
   "execution_count": 59,
   "metadata": {
    "colab": {
     "base_uri": "https://localhost:8080/",
     "height": 863
    },
    "id": "LHSvXoWKpW-V",
    "outputId": "6057d8aa-7658-48bc-efaa-d366343df44e"
   },
   "outputs": [
    {
     "data": {
      "image/png": "[encoded data removed]",
      "text/plain": [
       "<Figure size 720x720 with 1 Axes>"
      ]
     },
     "metadata": {
      "needs_background": "light"
     },
     "output_type": "display_data"
    }
   ],
   "source": [
    "#sort the bar plot ascending order: higher values to bottom values\n",
    "importances.sort_values('Importance',inplace=True)\n",
    "\n",
    "#create plot\n",
    "#use figsize to adjust size of plot\n",
    "fig, ax = plt.subplots(figsize=(10, 10))\n",
    "plt.barh(y=importances['Attribute'], width=importances['Importance'],color='blue')\n",
    "ax.xaxis.set_tick_params(pad=5)\n",
    "ax.yaxis.set_tick_params(pad=5)\n",
    "plt.title('Feature Importances', size=20)\n",
    "\n",
    "plt.show()"
   ]
  },
  {
   "cell_type": "markdown",
   "metadata": {
    "id": "fVQch2vj1udf"
   },
   "source": [
    "This was just one method using xgboost to see what kind of features in our dataset might be important. There are multiple ways to use xgboost but this was a basic way to use xgboost.\n",
    "\n",
    "It can be seen how curricular units along with some economic features such as scholarship holder and tuition fee status seem to be important features. These types of features may be kept when using the models.\n",
    "\n",
    "Based on this plot and the heatmap from below, we could consider dropping some features from the dataset."
   ]
  },
  {
   "cell_type": "markdown",
   "metadata": {
    "id": "wpZTUZOWSyMT"
   },
   "source": [
    "# **Polynomial Regression**\n",
    "\n",
    "to do: arya"
   ]
  },
  {
   "cell_type": "code",
   "execution_count": 60,
   "metadata": {
    "colab": {
     "base_uri": "https://localhost:8080/"
    },
    "id": "LnTn7w8xect-",
    "outputId": "f3fdcefc-47b4-46e1-d4b3-29712a32d2b0"
   },
   "outputs": [
    {
     "name": "stdout",
     "output_type": "stream",
     "text": [
      "(2904, 222) (726, 222)\n",
      "(2904,) (726,)\n"
     ]
    }
   ],
   "source": [
    "dd = df_ohe.copy()\n",
    "nb_train, nb_test = train_test_split(dd, test_size=0.2, random_state=0)\n",
    "X_nb_train, y_nb_train = nb_train.drop(columns=['Target']), nb_train['Target']\n",
    "X_nb_test, y_nb_test = nb_test.drop(columns=['Target']), nb_test['Target']\n",
    "print(X_nb_train.shape, X_nb_test.shape)\n",
    "print(y_nb_train.shape, y_nb_test.shape)"
   ]
  },
  {
   "cell_type": "code",
   "execution_count": 61,
   "metadata": {
    "colab": {
     "base_uri": "https://localhost:8080/"
    },
    "id": "jUK3PsIp7UBv",
    "outputId": "dbeff116-2f43-421f-9433-5ebc6c267b6a"
   },
   "outputs": [
    {
     "data": {
      "text/plain": [
       "781     0\n",
       "4208    0\n",
       "2512    1\n",
       "1536    0\n",
       "1728    0\n",
       "Name: Target, dtype: int64"
      ]
     },
     "execution_count": 61,
     "metadata": {},
     "output_type": "execute_result"
    }
   ],
   "source": [
    "y_nb_train.head()"
   ]
  },
  {
   "cell_type": "code",
   "execution_count": 62,
   "metadata": {
    "id": "BCsOpPu3C3-P"
   },
   "outputs": [],
   "source": [
    "y_nb_train = np.asarray(y_nb_train).reshape(-1, 1)"
   ]
  },
  {
   "cell_type": "code",
   "execution_count": 63,
   "metadata": {
    "colab": {
     "base_uri": "https://localhost:8080/"
    },
    "id": "yjKid2QSHIzv",
    "outputId": "75fbc664-3496-4f9e-c07a-b00111071c35"
   },
   "outputs": [
    {
     "name": "stdout",
     "output_type": "stream",
     "text": [
      "Intercept: [1.10865193e+11] Coefficients: [[-8.00946811e-03 -5.27245394e-02 -5.64586277e-01 -9.88966644e-02\n",
      "  -1.52265066e-01  1.16590123e+00 -5.63407741e-02  1.43499677e-01\n",
      "  -4.39926672e-01 -1.74455933e+00 -3.55973794e-01  2.53866848e+00\n",
      "  -1.49460373e-01  1.78615880e-01 -3.40940495e-02  2.34280575e-02\n",
      "   1.79298754e-02  4.32752887e+10  4.32752887e+10 -2.88424526e+10\n",
      "  -2.88424526e+10 -2.88424526e+10 -2.88424526e+10 -2.88424526e+10\n",
      "  -2.88424526e+10 -2.88424526e+10 -2.88424526e+10 -2.88424526e+10\n",
      "  -2.88424526e+10 -2.88424526e+10 -2.88424526e+10 -2.88424526e+10\n",
      "  -1.37646328e+09 -5.26781720e+09 -1.02952279e+10 -4.77297289e+09\n",
      "  -5.26781720e+09 -5.26781720e+09 -5.26781720e+09  8.70100831e+08\n",
      "  -5.26781720e+09 -5.26781720e+09 -5.26781720e+09 -2.36384383e+09\n",
      "   9.42623131e+09  2.77844022e+07 -5.26781720e+09 -5.26781720e+09\n",
      "  -5.26781720e+09 -5.26781720e+09  9.42623131e+09 -6.27711217e+09\n",
      "  -6.27711217e+09 -6.27711217e+09 -6.27711217e+09 -6.27711217e+09\n",
      "  -6.27711217e+09 -6.27711217e+09 -6.27711217e+09 -6.27711217e+09\n",
      "  -6.27711217e+09 -6.27711217e+09 -6.27711217e+09  2.61047787e+09\n",
      "  -6.27711217e+09 -6.27711217e+09 -6.27711217e+09 -6.27711217e+09\n",
      "  -6.27711217e+09 -6.27711217e+09 -6.27711217e+09 -6.27711217e+09\n",
      "  -6.27711217e+09 -6.27711217e+09 -6.27711217e+09 -6.27711217e+09\n",
      "  -6.27711217e+09 -6.27711217e+09 -6.27711217e+09 -6.27711217e+09\n",
      "  -6.27711217e+09 -6.27711217e+09 -6.27711216e+09 -6.27711216e+09\n",
      "  -6.27711217e+09 -3.99527463e+09 -6.49572604e+06 -3.99527463e+09\n",
      "  -3.99527463e+09 -3.99527463e+09 -3.99527463e+09 -3.99527463e+09\n",
      "  -3.99527463e+09 -3.99527463e+09 -3.99527463e+09 -3.99527463e+09\n",
      "  -3.99527463e+09 -3.99527463e+09 -3.99527463e+09 -3.99527463e+09\n",
      "  -3.99527463e+09 -3.99527463e+09 -3.99527463e+09  1.71452629e+10\n",
      "   1.71452629e+10  1.75205517e+10  1.75205517e+10  1.75205517e+10\n",
      "   1.75205517e+10  1.75205517e+10  1.75205517e+10  1.75205517e+10\n",
      "   1.75205517e+10  1.75205517e+10  1.75205517e+10  1.75205517e+10\n",
      "   1.75205517e+10  1.75205517e+10  1.75205517e+10  1.75205517e+10\n",
      "   1.75205517e+10  1.75205517e+10 -3.73958431e+10 -3.73958431e+10\n",
      "   1.31929958e+10  1.31929958e+10 -8.71643959e+10  1.31929958e+10\n",
      "   1.31929958e+10  1.31929958e+10  1.31929958e+10  1.31929958e+10\n",
      "   1.31929958e+10  1.31929958e+10  1.31929958e+10  1.31929958e+10\n",
      "   1.31929958e+10  1.31929958e+10  1.31929958e+10  1.31929958e+10\n",
      "  -8.71643959e+10  2.26446137e+10  2.26446137e+10  2.26446137e+10\n",
      "   2.26446137e+10  2.26446137e+10  2.26446137e+10  2.26446137e+10\n",
      "   2.26446137e+10  2.26446137e+10  2.26446137e+10  2.26446137e+10\n",
      "   2.26446137e+10  2.26446137e+10 -9.30021639e+08 -9.30021639e+08\n",
      "  -9.30021638e+08 -9.30021640e+08 -9.30021639e+08  0.00000000e+00\n",
      "  -9.30021638e+08  1.97395173e+09  4.09738907e+09  0.00000000e+00\n",
      "   4.76837158e-07  1.78813934e-07 -9.30021638e+08 -9.30021639e+08\n",
      "  -9.30021639e+08 -9.30021639e+08 -9.30021639e+08 -9.30021638e+08\n",
      "  -3.83399501e+09 -9.30021639e+08  2.43094291e-08 -1.56240701e+10\n",
      "  -9.30021639e+08 -4.52537015e-08 -9.30021639e+08 -9.30021639e+08\n",
      "  -9.30021639e+08 -9.30021639e+08 -9.30021639e+08 -9.30021639e+08\n",
      "  -9.30021639e+08 -9.30021640e+08  1.21430643e-17  7.16653796e+10\n",
      "  -2.86920121e+10  1.14704004e+10  1.14704004e+10  1.14704004e+10\n",
      "   1.14704004e+10  1.14704004e+10  1.14704004e+10  1.14704004e+10\n",
      "   1.14704004e+10  1.14704004e+10  1.14704004e+10  1.14704004e+10\n",
      "   2.58281041e+09  1.14704004e+10  0.00000000e+00  1.14704004e+10\n",
      "   1.14704004e+10  1.14704004e+10  1.14704004e+10  1.14704004e+10\n",
      "   1.14704004e+10  1.14704004e+10  1.14704004e+10  1.14704004e+10\n",
      "   1.14704004e+10  1.14704004e+10  1.14704004e+10  1.14704004e+10\n",
      "   8.56642708e+09  1.14704004e+10 -1.87912345e+11 -1.87912345e+11\n",
      "   5.70007332e+10  5.70007332e+10]]\n",
      "RMSE: 0.27\n",
      "R2: 0.69\n"
     ]
    }
   ],
   "source": [
    "X_poly = np.asarray(X_nb_train)  # No need for PolynomialFeatures in this case\n",
    "\n",
    "plr = LinearRegression()\n",
    "\n",
    "plr.fit(X_poly, y_nb_train)\n",
    "\n",
    "predicted = plr.predict(np.asarray(X_nb_test))\n",
    "\n",
    "train_predicted = plr.predict(X_poly)\n",
    "\n",
    "print(\"Intercept:\", plr.intercept_, \"Coefficients:\", plr.coef_)\n",
    "\n",
    "print(\"RMSE: %.2f\" % mean_squared_error(y_nb_train, train_predicted, squared=False))\n",
    "print(\"R2: %.2f\" % r2_score(y_nb_train, train_predicted))"
   ]
  },
  {
   "cell_type": "code",
   "execution_count": 64,
   "metadata": {
    "colab": {
     "base_uri": "https://localhost:8080/"
    },
    "id": "zsAElK2hHY5J",
    "outputId": "d5a17573-7f6a-44f9-85d5-e8720bfe282e"
   },
   "outputs": [
    {
     "name": "stderr",
     "output_type": "stream",
     "text": [
      "<ipython-input-64-3779b77e8849>:1: RuntimeWarning: overflow encountered in exp\n",
      "  probabilities = 1 / (1 + np.exp(-predicted))\n"
     ]
    }
   ],
   "source": [
    "probabilities = 1 / (1 + np.exp(-predicted))"
   ]
  },
  {
   "cell_type": "code",
   "execution_count": 65,
   "metadata": {
    "colab": {
     "base_uri": "https://localhost:8080/"
    },
    "id": "Es1Gf-xkHcmR",
    "outputId": "b517521e-5b68-4a30-8495-e159c02033d8"
   },
   "outputs": [
    {
     "name": "stdout",
     "output_type": "stream",
     "text": [
      "Accuracy:  0.8870523415977961\n"
     ]
    }
   ],
   "source": [
    "threshold = 0.6\n",
    "\n",
    "y_pred_labels = np.where(probabilities >= threshold, 1, 0)\n",
    "\n",
    "print(\"Accuracy: \",accuracy_score(y_nb_test,y_pred_labels))"
   ]
  },
  {
   "cell_type": "code",
   "execution_count": 66,
   "metadata": {
    "colab": {
     "base_uri": "https://localhost:8080/"
    },
    "id": "3FuOqrpaJTt1",
    "outputId": "8d2866e2-3d5b-4fe8-b9d6-dd9150468a5c"
   },
   "outputs": [
    {
     "name": "stdout",
     "output_type": "stream",
     "text": [
      "              precision    recall  f1-score   support\n",
      "\n",
      "           0       0.97      0.74      0.84       296\n",
      "           1       0.85      0.99      0.91       430\n",
      "\n",
      "    accuracy                           0.89       726\n",
      "   macro avg       0.91      0.86      0.88       726\n",
      "weighted avg       0.90      0.89      0.88       726\n",
      "\n"
     ]
    }
   ],
   "source": [
    "print(classification_report(y_nb_test,y_pred_labels))"
   ]
  },
  {
   "cell_type": "code",
   "execution_count": 67,
   "metadata": {
    "colab": {
     "base_uri": "https://localhost:8080/"
    },
    "id": "t8RaE9LqJXw1",
    "outputId": "23b3ba4c-27d2-4316-e805-fd38cee3cafe"
   },
   "outputs": [
    {
     "name": "stdout",
     "output_type": "stream",
     "text": [
      "Confusion Matrix: \n",
      "[[220  76]\n",
      " [  6 424]]\n"
     ]
    }
   ],
   "source": [
    "from sklearn.metrics import confusion_matrix\n",
    "\n",
    "print(\"Confusion Matrix: \")\n",
    "print(confusion_matrix(y_nb_test,y_pred_labels))"
   ]
  },
  {
   "cell_type": "code",
   "execution_count": 68,
   "metadata": {
    "colab": {
     "base_uri": "https://localhost:8080/"
    },
    "id": "XApBWskGZam6",
    "outputId": "c42a2a86-6b7d-4b24-bdbd-64451ba16344"
   },
   "outputs": [
    {
     "name": "stdout",
     "output_type": "stream",
     "text": [
      "Intercept: [-5.30240378e+11] Coefficients: [[ 3.44759625e+11 -4.54759116e+11 -3.56411269e+11 ...  3.63455085e+09\n",
      "   0.00000000e+00 -1.54716160e+08]]\n",
      "RSME: 0.05\n",
      "R2: 0.99\n"
     ]
    }
   ],
   "source": [
    "poly = PolynomialFeatures(degree=2, include_bias=False)\n",
    "X_poly = poly.fit_transform(np.asarray(X_nb_train))\n",
    "\n",
    "X_poly.shape\n",
    "\n",
    "plr = LinearRegression()\n",
    "\n",
    "plr.fit(X_poly, y_nb_train)\n",
    "    \n",
    "predicted = plr.predict(poly.transform(np.asarray(X_nb_test)))\n",
    "\n",
    "train_predicted = plr.predict(poly.transform(np.asarray(X_nb_train)))\n",
    "\n",
    "print(\"Intercept:\", plr.intercept_, \"Coefficients:\", plr.coef_)\n",
    "\n",
    "print(\"RSME: %.2f\" % mean_squared_error(y_nb_train, train_predicted, squared = False))\n",
    "print(\"R2: %.2f\" % r2_score(y_nb_train, train_predicted))\n"
   ]
  },
  {
   "cell_type": "code",
   "execution_count": 69,
   "metadata": {
    "colab": {
     "base_uri": "https://localhost:8080/"
    },
    "id": "4nqekM5fUUcL",
    "outputId": "15784005-e61f-4e42-c8d1-8b3d824d370a"
   },
   "outputs": [
    {
     "name": "stderr",
     "output_type": "stream",
     "text": [
      "<ipython-input-69-3779b77e8849>:1: RuntimeWarning: overflow encountered in exp\n",
      "  probabilities = 1 / (1 + np.exp(-predicted))\n"
     ]
    }
   ],
   "source": [
    "probabilities = 1 / (1 + np.exp(-predicted))"
   ]
  },
  {
   "cell_type": "code",
   "execution_count": 70,
   "metadata": {
    "colab": {
     "base_uri": "https://localhost:8080/"
    },
    "id": "59MkabQUgjAf",
    "outputId": "7d72d159-b948-4665-e42c-e441de715ab0"
   },
   "outputs": [
    {
     "name": "stdout",
     "output_type": "stream",
     "text": [
      "Accuracy:  0.5881542699724518\n"
     ]
    }
   ],
   "source": [
    "threshold = 0.3\n",
    "\n",
    "y_pred_labels = np.where(probabilities >= threshold, 1, 0)\n",
    "\n",
    "print(\"Accuracy: \",accuracy_score(y_nb_test,y_pred_labels))"
   ]
  },
  {
   "cell_type": "code",
   "execution_count": 71,
   "metadata": {
    "colab": {
     "base_uri": "https://localhost:8080/"
    },
    "id": "CRQD21RVpgsd",
    "outputId": "9a9ab2ba-1722-453c-93d9-72b6ca3208fd"
   },
   "outputs": [
    {
     "name": "stdout",
     "output_type": "stream",
     "text": [
      "              precision    recall  f1-score   support\n",
      "\n",
      "           0       0.49      0.42      0.46       296\n",
      "           1       0.64      0.70      0.67       430\n",
      "\n",
      "    accuracy                           0.59       726\n",
      "   macro avg       0.57      0.56      0.56       726\n",
      "weighted avg       0.58      0.59      0.58       726\n",
      "\n"
     ]
    }
   ],
   "source": [
    "print(classification_report(y_nb_test,y_pred_labels))"
   ]
  },
  {
   "cell_type": "code",
   "execution_count": 72,
   "metadata": {
    "colab": {
     "base_uri": "https://localhost:8080/"
    },
    "id": "agDly72HpZOt",
    "outputId": "9e3979ba-d64a-41d4-cb01-2c77cdf89175"
   },
   "outputs": [
    {
     "name": "stdout",
     "output_type": "stream",
     "text": [
      "Confusion Matrix: \n",
      "[[125 171]\n",
      " [128 302]]\n"
     ]
    }
   ],
   "source": [
    "print(\"Confusion Matrix: \")\n",
    "print(confusion_matrix(y_nb_test,y_pred_labels))\n"
   ]
  },
  {
   "cell_type": "markdown",
   "metadata": {
    "id": "MecbjPCgd2NV"
   },
   "source": [
    "By comparing the accuracy of degree 1 and degree 2 polynomial regressions, it becomes evident that the interpretation and modeling approach using linear regression followed by the sigmoid function is better than degree = 2. This is due to the overfitting issue observed when using degree 2 polynomial regression."
   ]
  },
  {
   "cell_type": "markdown",
   "metadata": {
    "id": "NEdXlJHBDQW5"
   },
   "source": [
    "# **Logistic Regression**"
   ]
  },
  {
   "cell_type": "markdown",
   "metadata": {
    "id": "aOGnSbAzGEm1"
   },
   "source": [
    "*split* the data by 8:2"
   ]
  },
  {
   "cell_type": "code",
   "execution_count": 73,
   "metadata": {
    "id": "JGTAx8FnDPoi"
   },
   "outputs": [],
   "source": [
    "data = df_ohe.copy()\n",
    "train, test = train_test_split(data, test_size=0.2, random_state=42)\n",
    "\n",
    "X_train, y_train = train.drop(columns=['Target']) ,train['Target']\n",
    "X_test, y_test = test.drop(columns=['Target']), test['Target']\n"
   ]
  },
  {
   "cell_type": "markdown",
   "metadata": {
    "id": "MrZoStMIQ14z"
   },
   "source": [
    "train the model"
   ]
  },
  {
   "cell_type": "code",
   "execution_count": 74,
   "metadata": {
    "colab": {
     "base_uri": "https://localhost:8080/"
    },
    "id": "JpUssr10G_-L",
    "outputId": "052e102d-2d6b-487c-c7b9-6670b88605c6"
   },
   "outputs": [
    {
     "name": "stdout",
     "output_type": "stream",
     "text": [
      "              precision    recall  f1-score   support\n",
      "\n",
      "           0       0.91      0.81      0.86       277\n",
      "           1       0.89      0.95      0.92       449\n",
      "\n",
      "    accuracy                           0.90       726\n",
      "   macro avg       0.90      0.88      0.89       726\n",
      "weighted avg       0.90      0.90      0.90       726\n",
      "\n"
     ]
    }
   ],
   "source": [
    "from sklearn.metrics import classification_report\n",
    "from sklearn.linear_model import LogisticRegression\n",
    "\n",
    "lr_model = LogisticRegression(max_iter=10000)\n",
    "lr_model.fit(X_train, y_train)\n",
    "print(classification_report(y_test, lr_model.predict(X_test)))"
   ]
  },
  {
   "cell_type": "code",
   "execution_count": 75,
   "metadata": {
    "colab": {
     "base_uri": "https://localhost:8080/"
    },
    "id": "eMyWX6X-HWPU",
    "outputId": "6ae80a78-8f78-4502-90c8-9ee3582b988f"
   },
   "outputs": [
    {
     "name": "stdout",
     "output_type": "stream",
     "text": [
      "Accuracy:  0.8994490358126722\n"
     ]
    }
   ],
   "source": [
    "y_pred = lr_model.predict(X_test)\n",
    "print(\"Accuracy: \",accuracy_score(y_test,y_pred))"
   ]
  },
  {
   "cell_type": "code",
   "execution_count": 76,
   "metadata": {
    "colab": {
     "base_uri": "https://localhost:8080/"
    },
    "id": "im-5mDi5rr9G",
    "outputId": "68d3d696-d252-4095-d6e1-55ac372b0ae7"
   },
   "outputs": [
    {
     "name": "stdout",
     "output_type": "stream",
     "text": [
      "Confusion Matrix: \n",
      "[[225  52]\n",
      " [ 21 428]]\n"
     ]
    }
   ],
   "source": [
    "from sklearn.metrics import confusion_matrix\n",
    "\n",
    "print(\"Confusion Matrix: \")\n",
    "print(confusion_matrix(y_test, y_pred))\n"
   ]
  },
  {
   "cell_type": "markdown",
   "metadata": {
    "id": "EHzHipbqJKb-"
   },
   "source": [
    "K-fold Cross Validation for logistic function"
   ]
  },
  {
   "cell_type": "code",
   "execution_count": 77,
   "metadata": {
    "colab": {
     "base_uri": "https://localhost:8080/"
    },
    "id": "vKJO-Q3KXzwB",
    "outputId": "5f51e66a-9fa1-498a-9289-662f1f339c5f"
   },
   "outputs": [
    {
     "name": "stdout",
     "output_type": "stream",
     "text": [
      "Accuracy scores: [0.9146005509641874, 0.9104683195592287, 0.9077134986225895, 0.9008264462809917, 0.9104683195592287]\n",
      "Average accuracy: 0.9088154269972453\n"
     ]
    }
   ],
   "source": [
    "from sklearn.model_selection import KFold\n",
    "from sklearn.metrics import accuracy_score\n",
    "\n",
    "accuracy_scores = []\n",
    "\n",
    "X = data.drop('Target', axis = 1)\n",
    "y = data['Target']\n",
    "\n",
    "X = X.values\n",
    "y = y.values\n",
    "\n",
    "kf = KFold(n_splits=5)\n",
    "\n",
    "for train_index, test_index in kf.split(X):\n",
    "    X_train, X_test = X[train_index], X[test_index]\n",
    "    y_train, y_test = y[train_index], y[test_index]\n",
    "\n",
    "    lr_model = LogisticRegression(max_iter = 10000)\n",
    "\n",
    "    lr_model.fit(X_train, y_train)\n",
    "\n",
    "    y_pred = lr_model.predict(X_test)\n",
    "    accuracy = accuracy_score(y_test, y_pred)\n",
    "    accuracy_scores.append(accuracy)\n",
    "\n",
    "average_accuracy = np.mean(accuracy_scores)\n",
    "\n",
    "print(\"Accuracy scores:\", accuracy_scores)\n",
    "print(\"Average accuracy:\", average_accuracy)"
   ]
  },
  {
   "cell_type": "code",
   "execution_count": 78,
   "metadata": {
    "id": "V_nxLRdCN-dq"
   },
   "outputs": [],
   "source": [
    "#for frontend \n",
    "pickle.dump(lr_model, open('model.pkl', 'wb'))"
   ]
  },
  {
   "cell_type": "code",
   "execution_count": 79,
   "metadata": {},
   "outputs": [],
   "source": [
    "model = pickle.load(open('model.pkl', 'rb'))"
   ]
  },
  {
   "cell_type": "code",
   "execution_count": 80,
   "metadata": {},
   "outputs": [
    {
     "name": "stderr",
     "output_type": "stream",
     "text": [
      "/Users/aryaranadive/Library/Python/3.8/lib/python/site-packages/sklearn/base.py:432: UserWarning: X has feature names, but LogisticRegression was fitted without feature names\n",
      "  warnings.warn(\n"
     ]
    },
    {
     "ename": "ValueError",
     "evalue": "X has 30 features, but LogisticRegression is expecting 222 features as input.",
     "output_type": "error",
     "traceback": [
      "\u001b[0;31m---------------------------------------------------------------------------\u001b[0m",
      "\u001b[0;31mValueError\u001b[0m                                Traceback (most recent call last)",
      "\u001b[0;32m<ipython-input-80-2ef6b5fd834c>\u001b[0m in \u001b[0;36m<module>\u001b[0;34m\u001b[0m\n\u001b[0;32m----> 1\u001b[0;31m \u001b[0mprint\u001b[0m\u001b[0;34m(\u001b[0m\u001b[0mmodel\u001b[0m\u001b[0;34m.\u001b[0m\u001b[0mpredict\u001b[0m\u001b[0;34m(\u001b[0m\u001b[0minput_df_encoded\u001b[0m\u001b[0;34m)\u001b[0m\u001b[0;34m)\u001b[0m\u001b[0;34m\u001b[0m\u001b[0;34m\u001b[0m\u001b[0m\n\u001b[0m",
      "\u001b[0;32m~/Library/Python/3.8/lib/python/site-packages/sklearn/linear_model/_base.py\u001b[0m in \u001b[0;36mpredict\u001b[0;34m(self, X)\u001b[0m\n\u001b[1;32m    417\u001b[0m         \"\"\"\n\u001b[1;32m    418\u001b[0m         \u001b[0mxp\u001b[0m\u001b[0;34m,\u001b[0m \u001b[0m_\u001b[0m \u001b[0;34m=\u001b[0m \u001b[0mget_namespace\u001b[0m\u001b[0;34m(\u001b[0m\u001b[0mX\u001b[0m\u001b[0;34m)\u001b[0m\u001b[0;34m\u001b[0m\u001b[0;34m\u001b[0m\u001b[0m\n\u001b[0;32m--> 419\u001b[0;31m         \u001b[0mscores\u001b[0m \u001b[0;34m=\u001b[0m \u001b[0mself\u001b[0m\u001b[0;34m.\u001b[0m\u001b[0mdecision_function\u001b[0m\u001b[0;34m(\u001b[0m\u001b[0mX\u001b[0m\u001b[0;34m)\u001b[0m\u001b[0;34m\u001b[0m\u001b[0;34m\u001b[0m\u001b[0m\n\u001b[0m\u001b[1;32m    420\u001b[0m         \u001b[0;32mif\u001b[0m \u001b[0mlen\u001b[0m\u001b[0;34m(\u001b[0m\u001b[0mscores\u001b[0m\u001b[0;34m.\u001b[0m\u001b[0mshape\u001b[0m\u001b[0;34m)\u001b[0m \u001b[0;34m==\u001b[0m \u001b[0;36m1\u001b[0m\u001b[0;34m:\u001b[0m\u001b[0;34m\u001b[0m\u001b[0;34m\u001b[0m\u001b[0m\n\u001b[1;32m    421\u001b[0m             \u001b[0mindices\u001b[0m \u001b[0;34m=\u001b[0m \u001b[0mxp\u001b[0m\u001b[0;34m.\u001b[0m\u001b[0mastype\u001b[0m\u001b[0;34m(\u001b[0m\u001b[0mscores\u001b[0m \u001b[0;34m>\u001b[0m \u001b[0;36m0\u001b[0m\u001b[0;34m,\u001b[0m \u001b[0mint\u001b[0m\u001b[0;34m)\u001b[0m\u001b[0;34m\u001b[0m\u001b[0;34m\u001b[0m\u001b[0m\n",
      "\u001b[0;32m~/Library/Python/3.8/lib/python/site-packages/sklearn/linear_model/_base.py\u001b[0m in \u001b[0;36mdecision_function\u001b[0;34m(self, X)\u001b[0m\n\u001b[1;32m    398\u001b[0m         \u001b[0mxp\u001b[0m\u001b[0;34m,\u001b[0m \u001b[0m_\u001b[0m \u001b[0;34m=\u001b[0m \u001b[0mget_namespace\u001b[0m\u001b[0;34m(\u001b[0m\u001b[0mX\u001b[0m\u001b[0;34m)\u001b[0m\u001b[0;34m\u001b[0m\u001b[0;34m\u001b[0m\u001b[0m\n\u001b[1;32m    399\u001b[0m \u001b[0;34m\u001b[0m\u001b[0m\n\u001b[0;32m--> 400\u001b[0;31m         \u001b[0mX\u001b[0m \u001b[0;34m=\u001b[0m \u001b[0mself\u001b[0m\u001b[0;34m.\u001b[0m\u001b[0m_validate_data\u001b[0m\u001b[0;34m(\u001b[0m\u001b[0mX\u001b[0m\u001b[0;34m,\u001b[0m \u001b[0maccept_sparse\u001b[0m\u001b[0;34m=\u001b[0m\u001b[0;34m\"csr\"\u001b[0m\u001b[0;34m,\u001b[0m \u001b[0mreset\u001b[0m\u001b[0;34m=\u001b[0m\u001b[0;32mFalse\u001b[0m\u001b[0;34m)\u001b[0m\u001b[0;34m\u001b[0m\u001b[0;34m\u001b[0m\u001b[0m\n\u001b[0m\u001b[1;32m    401\u001b[0m         \u001b[0mscores\u001b[0m \u001b[0;34m=\u001b[0m \u001b[0msafe_sparse_dot\u001b[0m\u001b[0;34m(\u001b[0m\u001b[0mX\u001b[0m\u001b[0;34m,\u001b[0m \u001b[0mself\u001b[0m\u001b[0;34m.\u001b[0m\u001b[0mcoef_\u001b[0m\u001b[0;34m.\u001b[0m\u001b[0mT\u001b[0m\u001b[0;34m,\u001b[0m \u001b[0mdense_output\u001b[0m\u001b[0;34m=\u001b[0m\u001b[0;32mTrue\u001b[0m\u001b[0;34m)\u001b[0m \u001b[0;34m+\u001b[0m \u001b[0mself\u001b[0m\u001b[0;34m.\u001b[0m\u001b[0mintercept_\u001b[0m\u001b[0;34m\u001b[0m\u001b[0;34m\u001b[0m\u001b[0m\n\u001b[1;32m    402\u001b[0m         \u001b[0;32mreturn\u001b[0m \u001b[0mxp\u001b[0m\u001b[0;34m.\u001b[0m\u001b[0mreshape\u001b[0m\u001b[0;34m(\u001b[0m\u001b[0mscores\u001b[0m\u001b[0;34m,\u001b[0m \u001b[0;34m-\u001b[0m\u001b[0;36m1\u001b[0m\u001b[0;34m)\u001b[0m \u001b[0;32mif\u001b[0m \u001b[0mscores\u001b[0m\u001b[0;34m.\u001b[0m\u001b[0mshape\u001b[0m\u001b[0;34m[\u001b[0m\u001b[0;36m1\u001b[0m\u001b[0;34m]\u001b[0m \u001b[0;34m==\u001b[0m \u001b[0;36m1\u001b[0m \u001b[0;32melse\u001b[0m \u001b[0mscores\u001b[0m\u001b[0;34m\u001b[0m\u001b[0;34m\u001b[0m\u001b[0m\n",
      "\u001b[0;32m~/Library/Python/3.8/lib/python/site-packages/sklearn/base.py\u001b[0m in \u001b[0;36m_validate_data\u001b[0;34m(self, X, y, reset, validate_separately, **check_params)\u001b[0m\n\u001b[1;32m    586\u001b[0m \u001b[0;34m\u001b[0m\u001b[0m\n\u001b[1;32m    587\u001b[0m         \u001b[0;32mif\u001b[0m \u001b[0;32mnot\u001b[0m \u001b[0mno_val_X\u001b[0m \u001b[0;32mand\u001b[0m \u001b[0mcheck_params\u001b[0m\u001b[0;34m.\u001b[0m\u001b[0mget\u001b[0m\u001b[0;34m(\u001b[0m\u001b[0;34m\"ensure_2d\"\u001b[0m\u001b[0;34m,\u001b[0m \u001b[0;32mTrue\u001b[0m\u001b[0;34m)\u001b[0m\u001b[0;34m:\u001b[0m\u001b[0;34m\u001b[0m\u001b[0;34m\u001b[0m\u001b[0m\n\u001b[0;32m--> 588\u001b[0;31m             \u001b[0mself\u001b[0m\u001b[0;34m.\u001b[0m\u001b[0m_check_n_features\u001b[0m\u001b[0;34m(\u001b[0m\u001b[0mX\u001b[0m\u001b[0;34m,\u001b[0m \u001b[0mreset\u001b[0m\u001b[0;34m=\u001b[0m\u001b[0mreset\u001b[0m\u001b[0;34m)\u001b[0m\u001b[0;34m\u001b[0m\u001b[0;34m\u001b[0m\u001b[0m\n\u001b[0m\u001b[1;32m    589\u001b[0m \u001b[0;34m\u001b[0m\u001b[0m\n\u001b[1;32m    590\u001b[0m         \u001b[0;32mreturn\u001b[0m \u001b[0mout\u001b[0m\u001b[0;34m\u001b[0m\u001b[0;34m\u001b[0m\u001b[0m\n",
      "\u001b[0;32m~/Library/Python/3.8/lib/python/site-packages/sklearn/base.py\u001b[0m in \u001b[0;36m_check_n_features\u001b[0;34m(self, X, reset)\u001b[0m\n\u001b[1;32m    387\u001b[0m \u001b[0;34m\u001b[0m\u001b[0m\n\u001b[1;32m    388\u001b[0m         \u001b[0;32mif\u001b[0m \u001b[0mn_features\u001b[0m \u001b[0;34m!=\u001b[0m \u001b[0mself\u001b[0m\u001b[0;34m.\u001b[0m\u001b[0mn_features_in_\u001b[0m\u001b[0;34m:\u001b[0m\u001b[0;34m\u001b[0m\u001b[0;34m\u001b[0m\u001b[0m\n\u001b[0;32m--> 389\u001b[0;31m             raise ValueError(\n\u001b[0m\u001b[1;32m    390\u001b[0m                 \u001b[0;34mf\"X has {n_features} features, but {self.__class__.__name__} \"\u001b[0m\u001b[0;34m\u001b[0m\u001b[0;34m\u001b[0m\u001b[0m\n\u001b[1;32m    391\u001b[0m                 \u001b[0;34mf\"is expecting {self.n_features_in_} features as input.\"\u001b[0m\u001b[0;34m\u001b[0m\u001b[0;34m\u001b[0m\u001b[0m\n",
      "\u001b[0;31mValueError\u001b[0m: X has 30 features, but LogisticRegression is expecting 222 features as input."
     ]
    }
   ],
   "source": [
    "print(model.predict(input_df_encoded))"
   ]
  },
  {
   "cell_type": "code",
   "execution_count": null,
   "metadata": {
    "colab": {
     "base_uri": "https://localhost:8080/"
    },
    "id": "pWvxOnmqmX1N",
    "outputId": "65021493-7561-4b11-8d6f-dee59937c9e6"
   },
   "outputs": [],
   "source": [
    "from sklearn.metrics import confusion_matrix\n",
    "\n",
    "cm = confusion_matrix(y_test, y_pred)\n",
    "\n",
    "print(\"Confusion Matrix:\")\n",
    "print(cm)"
   ]
  },
  {
   "cell_type": "markdown",
   "metadata": {
    "id": "oED0X21DgVnp"
   },
   "source": [
    "K-fold cross validation for logistic regression improved 1% accuracy. Thus, K-fold cross validation for logistic regression is better."
   ]
  },
  {
   "cell_type": "markdown",
   "metadata": {
    "id": "I9A8QZFM-Ob5"
   },
   "source": [
    "# **FeedForward Neural Network**\n",
    "to do: srivatsan"
   ]
  },
  {
   "cell_type": "code",
   "execution_count": null,
   "metadata": {
    "colab": {
     "base_uri": "https://localhost:8080/"
    },
    "id": "RsqOaRuFHEMQ",
    "outputId": "cda35eed-43ab-420c-fbf9-157f402ed274"
   },
   "outputs": [],
   "source": [
    "# print(\"Dataset :\")\n",
    "# print(df.head())\n",
    "# print(\"Targets : \")\n",
    "# print(df['Target'].unique())\n",
    "\n",
    "# print(\"Dimensions of the dataset : \", df.shape)\n",
    "# print(\"Features of the dataset :\")\n",
    "# print(df.describe(include = 'all'))\n",
    "df2 = df_ohe.copy()\n",
    "X = df2.drop('Target', axis = 1)\n",
    "y = df2['Target']\n",
    "\n",
    "# normalize data\n",
    "scaler = MinMaxScaler(feature_range=(0, 1))\n",
    "X_rescaled = scaler.fit_transform(X)\n",
    "X = pd.DataFrame(data = X_rescaled, columns = X.columns)\n",
    "\n",
    "set_of_classes = y.value_counts().index.tolist()\n",
    "set_of_classes= pd.DataFrame({'Target': set_of_classes})\n",
    "y = pd.get_dummies(y)\n",
    "\n",
    "# print(\"Pre-processed data :\")\n",
    "# print(X)\n",
    "\n",
    "# print(\"Pre-processed class :\")\n",
    "# print(y)\n",
    "\n",
    "#splitting data into ratio 90:10\n",
    "data_train, data_test, class_train, class_test = train_test_split(X, y, test_size=0.1)\n",
    "\n",
    "# Number of nodes in each hidden layer should be (12, 3)\n",
    "# Learning rate should be 0.3\n",
    "# Number of epochs should be 500\n",
    "mlp = MLPClassifier(solver = 'sgd', random_state = 42, activation = 'logistic', learning_rate_init = 0.3, batch_size = 100, hidden_layer_sizes = (12, 3), max_iter = 500)\n",
    "mlp\n",
    "\n",
    "mlp2 = MLPClassifier(solver = 'sgd', random_state = 42, activation = 'logistic', learning_rate_init = 0.3, batch_size = 70, hidden_layer_sizes = (12, 3), max_iter = 500)\n",
    "mlp2\n",
    "\n",
    "mlp3 = MLPClassifier(solver = 'sgd', random_state = 42, activation = 'tanh', learning_rate_init = 0.3, batch_size = 100, hidden_layer_sizes = (12, 3), max_iter = 500)\n",
    "mlp3\n",
    "\n",
    "mlp4 = MLPClassifier(solver = 'lbfgs', random_state = 42, activation = 'tanh', learning_rate_init = 0.3, batch_size = 100, hidden_layer_sizes = (12, 3), max_iter = 3000)\n",
    "mlp4\n",
    "\n",
    "mlp5 = MLPClassifier(solver = 'lbfgs', random_state = 42, activation = 'logistic', learning_rate_init = 0.3, batch_size = 100, hidden_layer_sizes = (12, 3), max_iter = 500)\n",
    "mlp5\n",
    "\n",
    "\n",
    "\n",
    "#case 1\n",
    "y = df2['Target']\n",
    "y = pd.get_dummies(y)\n",
    "mlp.fit(data_train, class_train)\n",
    "\n",
    "pred = mlp.predict(data_test)\n",
    "pred\n",
    "#prediction on the test data. species are represented using the hot-keys\n",
    "print(\"Case 1: logistic 100 batch size\")\n",
    "print(\"Accuracy : \", accuracy_score(class_test, pred))\n",
    "print(\"Mean Square Error : \", mean_squared_error(class_test, pred))\n",
    "\n",
    "print(pred[:5])\n",
    "print(\"Confusion Matrix for each label : \")\n",
    "print(multilabel_confusion_matrix(class_test, pred))\n",
    "\n",
    "print(\"Classification Report : \")\n",
    "print(classification_report(class_test, pred))\n",
    "\n",
    "#case 2\n",
    "y2 = df2['Target']\n",
    "y2 = pd.get_dummies(y2)\n",
    "mlp2.fit(data_train, class_train)\n",
    "\n",
    "pred2 = mlp2.predict(data_test)\n",
    "pred2\n",
    "#prediction on the test data. species are represented using the hot-keys\n",
    "print(\"Case 2: logistic 70 batch size\")\n",
    "print(\"Accuracy : \", accuracy_score(class_test, pred2))\n",
    "print(\"Mean Square Error : \", mean_squared_error(class_test, pred2))\n",
    "\n",
    "print(pred2[:5])\n",
    "print(\"Confusion Matrix for each label : \")\n",
    "print(multilabel_confusion_matrix(class_test, pred2))\n",
    "\n",
    "print(\"Classification Report : \")\n",
    "print(classification_report(class_test, pred2))\n",
    "\n",
    "#case 3\n",
    "y3 = df2['Target']\n",
    "y3 = pd.get_dummies(y3)\n",
    "mlp3.fit(data_train, class_train)\n",
    "\n",
    "pred3 = mlp3.predict(data_test)\n",
    "pred3\n",
    "#prediction on the test data. species are represented using the hot-keys\n",
    "print(\"Case 3: tanh activation 100 batch size\")\n",
    "print(\"Accuracy : \", accuracy_score(class_test, pred3))\n",
    "print(\"Mean Square Error : \", mean_squared_error(class_test, pred3))\n",
    "\n",
    "print(pred3[:5])\n",
    "print(\"Confusion Matrix for each label : \")\n",
    "print(multilabel_confusion_matrix(class_test, pred3))\n",
    "\n",
    "print(\"Classification Report : \")\n",
    "print(classification_report(class_test, pred3))\n",
    "\n",
    "#case 4\n",
    "y4 = df2['Target']\n",
    "y4 = pd.get_dummies(y4)\n",
    "mlp4.fit(data_train, class_train)\n",
    "\n",
    "pred4 = mlp4.predict(data_test)\n",
    "pred4\n",
    "#prediction on the test data. species are represented using the hot-keys\n",
    "print(\"Case 4: lbfgs solver tanh activation 100 batch size\")\n",
    "print(\"Accuracy : \", accuracy_score(class_test, pred4))\n",
    "print(\"Mean Square Error : \", mean_squared_error(class_test, pred4))\n",
    "\n",
    "print(pred4[:5])\n",
    "print(\"Confusion Matrix for each label : \")\n",
    "print(multilabel_confusion_matrix(class_test, pred4))\n",
    "\n",
    "print(\"Classification Report : \")\n",
    "print(classification_report(class_test, pred4))\n",
    "\n",
    "\n",
    "\n"
   ]
  },
  {
   "cell_type": "markdown",
   "metadata": {
    "id": "ZPilUSHoYs3R"
   },
   "source": [
    "# **Decision Tree**"
   ]
  },
  {
   "cell_type": "code",
   "execution_count": null,
   "metadata": {
    "colab": {
     "base_uri": "https://localhost:8080/"
    },
    "id": "jzB4jMIlYsWE",
    "outputId": "227cebe9-1243-4657-dbd2-c570f562b9ba"
   },
   "outputs": [],
   "source": [
    "from sklearn.tree import DecisionTreeClassifier\n",
    "from sklearn.model_selection import train_test_split\n",
    "from sklearn.metrics import classification_report\n",
    "from sklearn import tree\n",
    "\n",
    "data = df_ohe.copy()\n",
    "train, test = train_test_split(data, test_size=0.2, random_state=42)\n",
    "\n",
    "X_train, y_train = train.drop(columns=['Target']) ,train['Target']\n",
    "X_test, y_test = test.drop(columns=['Target']), test['Target']\n",
    "\n",
    "clf = tree.DecisionTreeClassifier()\n",
    "\n",
    "clf.fit(X_train, y_train)\n",
    "\n",
    "y_pred = clf.predict(X_test)\n",
    "\n",
    "print(classification_report(y_test, y_pred))"
   ]
  },
  {
   "cell_type": "code",
   "execution_count": null,
   "metadata": {
    "colab": {
     "base_uri": "https://localhost:8080/"
    },
    "id": "sQ1HvxVEKU8n",
    "outputId": "cea67762-71c5-46b9-fa8a-a78fd01a31df"
   },
   "outputs": [],
   "source": [
    "cm = confusion_matrix(y_test, y_pred)\n",
    "\n",
    "print(\"Confusion Matrix:\")\n",
    "print(cm)"
   ]
  },
  {
   "cell_type": "code",
   "execution_count": null,
   "metadata": {
    "colab": {
     "base_uri": "https://localhost:8080/",
     "height": 1000
    },
    "id": "3kOazFz0ZSWY",
    "outputId": "b4938dec-a1ac-4c06-cece-0ea9ab9fc79a"
   },
   "outputs": [],
   "source": [
    "tree.plot_tree(clf)"
   ]
  },
  {
   "cell_type": "markdown",
   "metadata": {
    "id": "p0cTLVNims1A"
   },
   "source": [
    "# **Support Vector Machines**"
   ]
  },
  {
   "cell_type": "code",
   "execution_count": null,
   "metadata": {
    "id": "4er7ws4qmN0e"
   },
   "outputs": [],
   "source": [
    "data = df_ohe.copy()\n",
    "train, test = train_test_split(data, test_size=0.2, random_state=42)\n",
    "\n",
    "X_train, y_train = train.drop(columns=['Target']) ,train['Target']\n",
    "X_test, y_test = test.drop(columns=['Target']), test['Target']"
   ]
  },
  {
   "cell_type": "code",
   "execution_count": null,
   "metadata": {
    "colab": {
     "base_uri": "https://localhost:8080/"
    },
    "id": "o1WacBmCmN4Y",
    "outputId": "39124493-89c4-4735-c812-a12aa6feb12a"
   },
   "outputs": [],
   "source": [
    "import pandas as pd\n",
    "from sklearn.svm import SVC\n",
    "from sklearn.model_selection import train_test_split\n",
    "from sklearn.metrics import accuracy_score\n",
    "\n",
    "\n",
    "svm = SVC(kernel='linear')\n",
    "\n",
    "svm.fit(X_train, y_train)\n",
    "\n",
    "y_pred = svm.predict(X_test)\n",
    "\n",
    "accuracy = accuracy_score(y_test, y_pred)\n",
    "print(\"Accuracy:\", accuracy)\n",
    "\n",
    "print(classification_report(y_test, y_pred))\n",
    "\n",
    "cm = confusion_matrix(y_test, y_pred)\n",
    "\n",
    "print(\"Confusion Matrix:\")\n",
    "print(cm)"
   ]
  },
  {
   "cell_type": "markdown",
   "metadata": {
    "id": "pkOX1lKAQQri"
   },
   "source": [
    "# **Naive Bayes**\n"
   ]
  },
  {
   "cell_type": "code",
   "execution_count": null,
   "metadata": {
    "id": "CTnZlhBJKA9I"
   },
   "outputs": [],
   "source": [
    "import pandas as pd\n",
    "import numpy as np\n",
    "from sklearn import preprocessing\n",
    "from sklearn.model_selection import train_test_split\n",
    "from sklearn.naive_bayes import GaussianNB, CategoricalNB\n",
    "from sklearn.metrics import classification_report\n",
    "from sklearn.svm import SVC\n",
    "from imblearn.over_sampling import RandomOverSampler\n",
    "from IPython.display import display # Just for solution"
   ]
  },
  {
   "cell_type": "code",
   "execution_count": null,
   "metadata": {
    "colab": {
     "base_uri": "https://localhost:8080/"
    },
    "id": "06ei-f_IQQTR",
    "outputId": "5611a06c-489c-4103-caa3-6e8629c38727"
   },
   "outputs": [],
   "source": [
    "url = 'https://drive.google.com/uc?id=1RkoTj_yc3o99xDfzmE8q7QFURhf3FwdS'\n",
    "df = pd.read_csv(io.StringIO(requests.get(url).content.decode(\"utf-8\")))\n",
    "nb_df = df.copy()\n",
    "# display(nb_df)\n",
    "\n",
    "#preprocessing\n",
    "\n",
    "#assign Target values and drop enrolled value\n",
    "class_mapping = {'Dropout': 0, 'Graduate': 1, 'Enrolled' : 2}\n",
    "nb_df['Target'] = df['Target'].map(class_mapping)\n",
    "nb_df.drop(nb_df[nb_df[\"Target\"]==2].index,inplace=True)\n",
    "\n",
    "#drop dupes\n",
    "nb_df.drop_duplicates(inplace=True)\n",
    "\n",
    "#look for and fill any na with 0\n",
    "print(nb_df.columns[nb_df.isna().any()])\n",
    "nb_df = nb_df.fillna(0)\n",
    "\n",
    "#manually drop some cat attributes\n",
    "nb_df.drop(columns=['Marital status'], axis=1, inplace=True)\n",
    "nb_df.drop(columns=['Nacionality'], axis=1, inplace=True)\n",
    "nb_df.drop(columns=['Educational special needs'], axis=1, inplace=True)\n",
    "nb_df.drop(columns=['International'], axis=1, inplace=True)\n",
    "# display(nb_df)\n",
    "# print(nb_df['Target'].unique())\n",
    "# display(nb_df.columns.tolist())\n",
    "\n",
    "#cats that will be used\n",
    "#cats not used: 'International','Educational special needs','Nacionality','Marital status',\n",
    "cats = [\"Mother's occupation\", \"Father's occupation\",\"Father's qualification\",\"Mother's qualification\",'Previous qualification','Daytime/evening attendance','Application mode','Debtor', 'Gender','Scholarship holder', 'Course','Tuition fees up to date','Displaced']\n",
    "# cats = ['International','Educational special needs','Nacionality','Marital status',\"Mother's occupation\", \"Father's occupation\",\"Father's qualification\",\"Mother's qualification\",'Previous qualification','Daytime/evening attendance','Application mode','Debtor', 'Gender','Scholarship holder', 'Course','Tuition fees up to date','Displaced']\n",
    "# display(nb_df)\n",
    "\n",
    "#encoding using ordinalencoder()\n",
    "nb_df = pd.DataFrame(preprocessing.OrdinalEncoder().fit_transform(nb_df), columns=nb_df.columns)\n",
    "# display(nb_df)"
   ]
  },
  {
   "cell_type": "code",
   "execution_count": null,
   "metadata": {
    "colab": {
     "base_uri": "https://localhost:8080/"
    },
    "id": "dPftJeJQJTYj",
    "outputId": "7bd08388-4e96-452e-ecb7-70e7fc2150b3"
   },
   "outputs": [],
   "source": [
    "#split data into train and test set with ratio of 80:20\n",
    "# nb_df = df.copy()\n",
    "nb_train, nb_test = train_test_split(nb_df, test_size=0.2, random_state=42)\n",
    "X_nb_train, y_nb_train = nb_train.drop(columns=['Target']), nb_train['Target']\n",
    "X_nb_test, y_nb_test = nb_test.drop(columns=['Target']), nb_test['Target']\n",
    "print(X_nb_train.shape, X_nb_test.shape)\n",
    "# print(nb_df.nunique())"
   ]
  },
  {
   "cell_type": "markdown",
   "metadata": {
    "id": "s7Q7ZJx1JV6V"
   },
   "source": [
    "**Naïve Bayes Classifier for Categorical Attributes**"
   ]
  },
  {
   "cell_type": "code",
   "execution_count": null,
   "metadata": {
    "colab": {
     "base_uri": "https://localhost:8080/"
    },
    "id": "06_M0I-GJgqa",
    "outputId": "677fa56c-c07b-4273-d8d9-550ce9e87973"
   },
   "outputs": [],
   "source": [
    "print(\"CATEGORICAL ATTRIBUTES USED:\\n\", cats)\n",
    "#print(nb_df.nunique())\n",
    "#using CategoricalNB()\n",
    "# clf_cat = CategoricalNB()\n",
    "clf_cat = CategoricalNB(min_categories=nb_df[cats].nunique())\n",
    "\n",
    "clf_cat.fit(X_nb_train[cats], np.asarray(y_nb_train))\n",
    "\n",
    "print(\"\\nCLASSIFICATION REPORT:\\n\")\n",
    "print(classification_report(y_nb_test, clf_cat.predict(X_nb_test[cats])))"
   ]
  },
  {
   "cell_type": "markdown",
   "metadata": {
    "id": "CW7UgX9dKGCm"
   },
   "source": [
    "**Naïve Bayes Classifier for Numerical Attributes**"
   ]
  },
  {
   "cell_type": "code",
   "execution_count": null,
   "metadata": {
    "colab": {
     "base_uri": "https://localhost:8080/"
    },
    "id": "Ek5YtgyQKKGs",
    "outputId": "2d4921dc-8707-4004-ae95-09a218316d3f"
   },
   "outputs": [],
   "source": [
    "#using GaussianNB()\n",
    "\n",
    "nums = [col for col in X_nb_train.columns if col not in cats]\n",
    "print(\"NUMERICAL ATTRIBUTES USED:\\n\",nums)\n",
    "\n",
    "clf_num = GaussianNB()\n",
    "scaler = preprocessing.StandardScaler()\n",
    "scaler.fit(X_nb_train[nums])\n",
    "\n",
    "Z_nb_train = scaler.transform(X_nb_train[nums])\n",
    "Z_nb_test = scaler.transform(X_nb_test[nums])\n",
    "\n",
    "clf_num.fit(Z_nb_train, np.asarray(y_nb_train))\n",
    "\n",
    "print(\"\\nCLASSIFICATION REPORT:\\n\")\n",
    "print(classification_report(y_nb_test, clf_num.predict(Z_nb_test)))"
   ]
  },
  {
   "cell_type": "markdown",
   "metadata": {
    "id": "l0DcD9PPZJIp"
   },
   "source": [
    "Dropping more categorical attributes don't seem to have much effect for the accuracy for Naive Bayes for Categorical Attributes. Dropping no attributes does not really effect the accuracy for categorical attributes either.\n",
    "\n",
    "However, following previous models, the same four categorical attributes were still dropped:\n",
    "\n",
    "\n",
    "*   Marital status\n",
    "*   Nacionality\n",
    "*   Educational special needs\n",
    "*   International\n",
    "\n",
    "Naive Bayes for Categorical Attributes seems to have accuracy numbers usually <80%.\n",
    "\n",
    "Naive Bayes for Numerical Attributes seems to have accuracy numbers usually >=80%.\n",
    "\n",
    "Hence, for our dataset, Naive Bayes seems to work better for Numerical Attributes.\n",
    "\n",
    "\n",
    "\n"
   ]
  },
  {
   "cell_type": "code",
   "execution_count": null,
   "metadata": {},
   "outputs": [],
   "source": []
  }
 ],
 "metadata": {
  "colab": {
   "provenance": [],
   "toc_visible": true
  },
  "kernelspec": {
   "display_name": "Python 3",
   "language": "python",
   "name": "python3"
  },
  "language_info": {
   "codemirror_mode": {
    "name": "ipython",
    "version": 3
   },
   "file_extension": ".py",
   "mimetype": "text/x-python",
   "name": "python",
   "nbconvert_exporter": "python",
   "pygments_lexer": "ipython3",
   "version": "3.8.0"
  }
 },
 "nbformat": 4,
 "nbformat_minor": 1
}
