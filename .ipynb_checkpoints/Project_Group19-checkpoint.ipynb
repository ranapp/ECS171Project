{
 "cells": [
  {
   "cell_type": "markdown",
   "metadata": {
    "id": "2FP3LpCYQw2G"
   },
   "source": [
    "#**Importing Data**"
   ]
  },
  {
   "cell_type": "code",
   "execution_count": 2,
   "metadata": {
    "id": "B8jzGHJoLtBT"
   },
   "outputs": [],
   "source": [
    "import pandas as pd\n",
    "import requests\n",
    "import io\n",
    "\n",
    "import numpy as np\n",
    "from sklearn.model_selection import train_test_split\n",
    "from sklearn.neural_network import MLPClassifier\n",
    "from sklearn.preprocessing import MinMaxScaler\n",
    "from sklearn.metrics import classification_report, confusion_matrix, multilabel_confusion_matrix\n",
    "from sklearn.metrics import mean_squared_error, accuracy_score, precision_score, recall_score\n",
    "import matplotlib.pyplot as plt\n",
    "\n",
    "from sklearn.linear_model import LinearRegression\n",
    "from sklearn.metrics import mean_squared_error, r2_score\n",
    "from sklearn.preprocessing import PolynomialFeatures\n",
    "from sklearn.preprocessing import StandardScaler\n",
    "import plotly.figure_factory as ff\n",
    "import pickle\n"
   ]
  },
  {
   "cell_type": "markdown",
   "metadata": {
    "id": "FB1KUAYRKhsj"
   },
   "source": [
    "Access Data"
   ]
  },
  {
   "cell_type": "code",
   "execution_count": 3,
   "metadata": {
    "colab": {
     "base_uri": "https://localhost:8080/",
     "height": 352
    },
    "id": "o9ZdsU7AJ6VR",
    "outputId": "404b378a-60e4-4acd-c739-4c2645bba4df"
   },
   "outputs": [
    {
     "data": {
      "text/html": [
       "<div>\n",
       "<style scoped>\n",
       "    .dataframe tbody tr th:only-of-type {\n",
       "        vertical-align: middle;\n",
       "    }\n",
       "\n",
       "    .dataframe tbody tr th {\n",
       "        vertical-align: top;\n",
       "    }\n",
       "\n",
       "    .dataframe thead th {\n",
       "        text-align: right;\n",
       "    }\n",
       "</style>\n",
       "<table border=\"1\" class=\"dataframe\">\n",
       "  <thead>\n",
       "    <tr style=\"text-align: right;\">\n",
       "      <th></th>\n",
       "      <th>Marital status</th>\n",
       "      <th>Application mode</th>\n",
       "      <th>Application order</th>\n",
       "      <th>Course</th>\n",
       "      <th>Daytime/evening attendance</th>\n",
       "      <th>Previous qualification</th>\n",
       "      <th>Nacionality</th>\n",
       "      <th>Mother's qualification</th>\n",
       "      <th>Father's qualification</th>\n",
       "      <th>Mother's occupation</th>\n",
       "      <th>...</th>\n",
       "      <th>Curricular units 2nd sem (credited)</th>\n",
       "      <th>Curricular units 2nd sem (enrolled)</th>\n",
       "      <th>Curricular units 2nd sem (evaluations)</th>\n",
       "      <th>Curricular units 2nd sem (approved)</th>\n",
       "      <th>Curricular units 2nd sem (grade)</th>\n",
       "      <th>Curricular units 2nd sem (without evaluations)</th>\n",
       "      <th>Unemployment rate</th>\n",
       "      <th>Inflation rate</th>\n",
       "      <th>GDP</th>\n",
       "      <th>Target</th>\n",
       "    </tr>\n",
       "  </thead>\n",
       "  <tbody>\n",
       "    <tr>\n",
       "      <th>0</th>\n",
       "      <td>1</td>\n",
       "      <td>8</td>\n",
       "      <td>5</td>\n",
       "      <td>2</td>\n",
       "      <td>1</td>\n",
       "      <td>1</td>\n",
       "      <td>1</td>\n",
       "      <td>13</td>\n",
       "      <td>10</td>\n",
       "      <td>6</td>\n",
       "      <td>...</td>\n",
       "      <td>0</td>\n",
       "      <td>0</td>\n",
       "      <td>0</td>\n",
       "      <td>0</td>\n",
       "      <td>0.000000</td>\n",
       "      <td>0</td>\n",
       "      <td>10.8</td>\n",
       "      <td>1.4</td>\n",
       "      <td>1.74</td>\n",
       "      <td>Dropout</td>\n",
       "    </tr>\n",
       "    <tr>\n",
       "      <th>1</th>\n",
       "      <td>1</td>\n",
       "      <td>6</td>\n",
       "      <td>1</td>\n",
       "      <td>11</td>\n",
       "      <td>1</td>\n",
       "      <td>1</td>\n",
       "      <td>1</td>\n",
       "      <td>1</td>\n",
       "      <td>3</td>\n",
       "      <td>4</td>\n",
       "      <td>...</td>\n",
       "      <td>0</td>\n",
       "      <td>6</td>\n",
       "      <td>6</td>\n",
       "      <td>6</td>\n",
       "      <td>13.666667</td>\n",
       "      <td>0</td>\n",
       "      <td>13.9</td>\n",
       "      <td>-0.3</td>\n",
       "      <td>0.79</td>\n",
       "      <td>Graduate</td>\n",
       "    </tr>\n",
       "    <tr>\n",
       "      <th>2</th>\n",
       "      <td>1</td>\n",
       "      <td>1</td>\n",
       "      <td>5</td>\n",
       "      <td>5</td>\n",
       "      <td>1</td>\n",
       "      <td>1</td>\n",
       "      <td>1</td>\n",
       "      <td>22</td>\n",
       "      <td>27</td>\n",
       "      <td>10</td>\n",
       "      <td>...</td>\n",
       "      <td>0</td>\n",
       "      <td>6</td>\n",
       "      <td>0</td>\n",
       "      <td>0</td>\n",
       "      <td>0.000000</td>\n",
       "      <td>0</td>\n",
       "      <td>10.8</td>\n",
       "      <td>1.4</td>\n",
       "      <td>1.74</td>\n",
       "      <td>Dropout</td>\n",
       "    </tr>\n",
       "    <tr>\n",
       "      <th>3</th>\n",
       "      <td>1</td>\n",
       "      <td>8</td>\n",
       "      <td>2</td>\n",
       "      <td>15</td>\n",
       "      <td>1</td>\n",
       "      <td>1</td>\n",
       "      <td>1</td>\n",
       "      <td>23</td>\n",
       "      <td>27</td>\n",
       "      <td>6</td>\n",
       "      <td>...</td>\n",
       "      <td>0</td>\n",
       "      <td>6</td>\n",
       "      <td>10</td>\n",
       "      <td>5</td>\n",
       "      <td>12.400000</td>\n",
       "      <td>0</td>\n",
       "      <td>9.4</td>\n",
       "      <td>-0.8</td>\n",
       "      <td>-3.12</td>\n",
       "      <td>Graduate</td>\n",
       "    </tr>\n",
       "    <tr>\n",
       "      <th>4</th>\n",
       "      <td>2</td>\n",
       "      <td>12</td>\n",
       "      <td>1</td>\n",
       "      <td>3</td>\n",
       "      <td>0</td>\n",
       "      <td>1</td>\n",
       "      <td>1</td>\n",
       "      <td>22</td>\n",
       "      <td>28</td>\n",
       "      <td>10</td>\n",
       "      <td>...</td>\n",
       "      <td>0</td>\n",
       "      <td>6</td>\n",
       "      <td>6</td>\n",
       "      <td>6</td>\n",
       "      <td>13.000000</td>\n",
       "      <td>0</td>\n",
       "      <td>13.9</td>\n",
       "      <td>-0.3</td>\n",
       "      <td>0.79</td>\n",
       "      <td>Graduate</td>\n",
       "    </tr>\n",
       "  </tbody>\n",
       "</table>\n",
       "<p>5 rows × 35 columns</p>\n",
       "</div>"
      ],
      "text/plain": [
       "   Marital status  Application mode  Application order  Course  \\\n",
       "0               1                 8                  5       2   \n",
       "1               1                 6                  1      11   \n",
       "2               1                 1                  5       5   \n",
       "3               1                 8                  2      15   \n",
       "4               2                12                  1       3   \n",
       "\n",
       "   Daytime/evening attendance  Previous qualification  Nacionality  \\\n",
       "0                           1                       1            1   \n",
       "1                           1                       1            1   \n",
       "2                           1                       1            1   \n",
       "3                           1                       1            1   \n",
       "4                           0                       1            1   \n",
       "\n",
       "   Mother's qualification  Father's qualification  Mother's occupation  ...  \\\n",
       "0                      13                      10                    6  ...   \n",
       "1                       1                       3                    4  ...   \n",
       "2                      22                      27                   10  ...   \n",
       "3                      23                      27                    6  ...   \n",
       "4                      22                      28                   10  ...   \n",
       "\n",
       "   Curricular units 2nd sem (credited)  Curricular units 2nd sem (enrolled)  \\\n",
       "0                                    0                                    0   \n",
       "1                                    0                                    6   \n",
       "2                                    0                                    6   \n",
       "3                                    0                                    6   \n",
       "4                                    0                                    6   \n",
       "\n",
       "   Curricular units 2nd sem (evaluations)  \\\n",
       "0                                       0   \n",
       "1                                       6   \n",
       "2                                       0   \n",
       "3                                      10   \n",
       "4                                       6   \n",
       "\n",
       "   Curricular units 2nd sem (approved)  Curricular units 2nd sem (grade)  \\\n",
       "0                                    0                          0.000000   \n",
       "1                                    6                         13.666667   \n",
       "2                                    0                          0.000000   \n",
       "3                                    5                         12.400000   \n",
       "4                                    6                         13.000000   \n",
       "\n",
       "   Curricular units 2nd sem (without evaluations)  Unemployment rate  \\\n",
       "0                                               0               10.8   \n",
       "1                                               0               13.9   \n",
       "2                                               0               10.8   \n",
       "3                                               0                9.4   \n",
       "4                                               0               13.9   \n",
       "\n",
       "   Inflation rate   GDP    Target  \n",
       "0             1.4  1.74   Dropout  \n",
       "1            -0.3  0.79  Graduate  \n",
       "2             1.4  1.74   Dropout  \n",
       "3            -0.8 -3.12  Graduate  \n",
       "4            -0.3  0.79  Graduate  \n",
       "\n",
       "[5 rows x 35 columns]"
      ]
     },
     "execution_count": 3,
     "metadata": {},
     "output_type": "execute_result"
    }
   ],
   "source": [
    "df = pd.read_csv('dataset.csv')\n",
    "df.head()"
   ]
  },
  {
   "cell_type": "code",
   "execution_count": 4,
   "metadata": {
    "colab": {
     "base_uri": "https://localhost:8080/"
    },
    "id": "mB1DvJNk3Gaz",
    "outputId": "97d86422-4c15-4597-f509-82e4416ee55a"
   },
   "outputs": [
    {
     "name": "stdout",
     "output_type": "stream",
     "text": [
      "Demension of the dataset:\n"
     ]
    },
    {
     "data": {
      "text/plain": [
       "(4424, 35)"
      ]
     },
     "execution_count": 4,
     "metadata": {},
     "output_type": "execute_result"
    }
   ],
   "source": [
    "print(\"Demension of the dataset:\")\n",
    "df.shape"
   ]
  },
  {
   "cell_type": "markdown",
   "metadata": {
    "id": "y9Sj_4Y_3QKV"
   },
   "source": [
    "#**Data Preprocessing**\n"
   ]
  },
  {
   "cell_type": "code",
   "execution_count": 5,
   "metadata": {
    "id": "wZ29kcigHQLO"
   },
   "outputs": [],
   "source": [
    "df.drop_duplicates(inplace=True)"
   ]
  },
  {
   "cell_type": "code",
   "execution_count": 6,
   "metadata": {
    "colab": {
     "base_uri": "https://localhost:8080/"
    },
    "id": "FlyshcNB567P",
    "outputId": "8c2de080-25dc-4538-8ca9-10e54d306193"
   },
   "outputs": [
    {
     "name": "stdout",
     "output_type": "stream",
     "text": [
      "Target : \n",
      "['Dropout' 'Graduate' 'Enrolled']\n"
     ]
    }
   ],
   "source": [
    "print(\"Target : \")\n",
    "print(df['Target'].unique())"
   ]
  },
  {
   "cell_type": "markdown",
   "metadata": {
    "id": "59TiwUa_7SMR"
   },
   "source": [
    "As we can see, there are three different elements in \"Target\". So, we can assign that: Dropout = 0, Graduate = 1, Enrolled = 2."
   ]
  },
  {
   "cell_type": "code",
   "execution_count": 7,
   "metadata": {
    "colab": {
     "base_uri": "https://localhost:8080/",
     "height": 540
    },
    "id": "uclkSv_j6mx3",
    "outputId": "4aac7b85-6063-4330-d7de-7349fb7870c7"
   },
   "outputs": [
    {
     "data": {
      "text/html": [
       "<div>\n",
       "<style scoped>\n",
       "    .dataframe tbody tr th:only-of-type {\n",
       "        vertical-align: middle;\n",
       "    }\n",
       "\n",
       "    .dataframe tbody tr th {\n",
       "        vertical-align: top;\n",
       "    }\n",
       "\n",
       "    .dataframe thead th {\n",
       "        text-align: right;\n",
       "    }\n",
       "</style>\n",
       "<table border=\"1\" class=\"dataframe\">\n",
       "  <thead>\n",
       "    <tr style=\"text-align: right;\">\n",
       "      <th></th>\n",
       "      <th>Marital status</th>\n",
       "      <th>Application mode</th>\n",
       "      <th>Application order</th>\n",
       "      <th>Course</th>\n",
       "      <th>Daytime/evening attendance</th>\n",
       "      <th>Previous qualification</th>\n",
       "      <th>Nacionality</th>\n",
       "      <th>Mother's qualification</th>\n",
       "      <th>Father's qualification</th>\n",
       "      <th>Mother's occupation</th>\n",
       "      <th>...</th>\n",
       "      <th>Curricular units 2nd sem (credited)</th>\n",
       "      <th>Curricular units 2nd sem (enrolled)</th>\n",
       "      <th>Curricular units 2nd sem (evaluations)</th>\n",
       "      <th>Curricular units 2nd sem (approved)</th>\n",
       "      <th>Curricular units 2nd sem (grade)</th>\n",
       "      <th>Curricular units 2nd sem (without evaluations)</th>\n",
       "      <th>Unemployment rate</th>\n",
       "      <th>Inflation rate</th>\n",
       "      <th>GDP</th>\n",
       "      <th>Target</th>\n",
       "    </tr>\n",
       "  </thead>\n",
       "  <tbody>\n",
       "    <tr>\n",
       "      <th>0</th>\n",
       "      <td>1</td>\n",
       "      <td>8</td>\n",
       "      <td>5</td>\n",
       "      <td>2</td>\n",
       "      <td>1</td>\n",
       "      <td>1</td>\n",
       "      <td>1</td>\n",
       "      <td>13</td>\n",
       "      <td>10</td>\n",
       "      <td>6</td>\n",
       "      <td>...</td>\n",
       "      <td>0</td>\n",
       "      <td>0</td>\n",
       "      <td>0</td>\n",
       "      <td>0</td>\n",
       "      <td>0.000000</td>\n",
       "      <td>0</td>\n",
       "      <td>10.8</td>\n",
       "      <td>1.4</td>\n",
       "      <td>1.74</td>\n",
       "      <td>0</td>\n",
       "    </tr>\n",
       "    <tr>\n",
       "      <th>1</th>\n",
       "      <td>1</td>\n",
       "      <td>6</td>\n",
       "      <td>1</td>\n",
       "      <td>11</td>\n",
       "      <td>1</td>\n",
       "      <td>1</td>\n",
       "      <td>1</td>\n",
       "      <td>1</td>\n",
       "      <td>3</td>\n",
       "      <td>4</td>\n",
       "      <td>...</td>\n",
       "      <td>0</td>\n",
       "      <td>6</td>\n",
       "      <td>6</td>\n",
       "      <td>6</td>\n",
       "      <td>13.666667</td>\n",
       "      <td>0</td>\n",
       "      <td>13.9</td>\n",
       "      <td>-0.3</td>\n",
       "      <td>0.79</td>\n",
       "      <td>1</td>\n",
       "    </tr>\n",
       "    <tr>\n",
       "      <th>2</th>\n",
       "      <td>1</td>\n",
       "      <td>1</td>\n",
       "      <td>5</td>\n",
       "      <td>5</td>\n",
       "      <td>1</td>\n",
       "      <td>1</td>\n",
       "      <td>1</td>\n",
       "      <td>22</td>\n",
       "      <td>27</td>\n",
       "      <td>10</td>\n",
       "      <td>...</td>\n",
       "      <td>0</td>\n",
       "      <td>6</td>\n",
       "      <td>0</td>\n",
       "      <td>0</td>\n",
       "      <td>0.000000</td>\n",
       "      <td>0</td>\n",
       "      <td>10.8</td>\n",
       "      <td>1.4</td>\n",
       "      <td>1.74</td>\n",
       "      <td>0</td>\n",
       "    </tr>\n",
       "    <tr>\n",
       "      <th>3</th>\n",
       "      <td>1</td>\n",
       "      <td>8</td>\n",
       "      <td>2</td>\n",
       "      <td>15</td>\n",
       "      <td>1</td>\n",
       "      <td>1</td>\n",
       "      <td>1</td>\n",
       "      <td>23</td>\n",
       "      <td>27</td>\n",
       "      <td>6</td>\n",
       "      <td>...</td>\n",
       "      <td>0</td>\n",
       "      <td>6</td>\n",
       "      <td>10</td>\n",
       "      <td>5</td>\n",
       "      <td>12.400000</td>\n",
       "      <td>0</td>\n",
       "      <td>9.4</td>\n",
       "      <td>-0.8</td>\n",
       "      <td>-3.12</td>\n",
       "      <td>1</td>\n",
       "    </tr>\n",
       "    <tr>\n",
       "      <th>4</th>\n",
       "      <td>2</td>\n",
       "      <td>12</td>\n",
       "      <td>1</td>\n",
       "      <td>3</td>\n",
       "      <td>0</td>\n",
       "      <td>1</td>\n",
       "      <td>1</td>\n",
       "      <td>22</td>\n",
       "      <td>28</td>\n",
       "      <td>10</td>\n",
       "      <td>...</td>\n",
       "      <td>0</td>\n",
       "      <td>6</td>\n",
       "      <td>6</td>\n",
       "      <td>6</td>\n",
       "      <td>13.000000</td>\n",
       "      <td>0</td>\n",
       "      <td>13.9</td>\n",
       "      <td>-0.3</td>\n",
       "      <td>0.79</td>\n",
       "      <td>1</td>\n",
       "    </tr>\n",
       "    <tr>\n",
       "      <th>...</th>\n",
       "      <td>...</td>\n",
       "      <td>...</td>\n",
       "      <td>...</td>\n",
       "      <td>...</td>\n",
       "      <td>...</td>\n",
       "      <td>...</td>\n",
       "      <td>...</td>\n",
       "      <td>...</td>\n",
       "      <td>...</td>\n",
       "      <td>...</td>\n",
       "      <td>...</td>\n",
       "      <td>...</td>\n",
       "      <td>...</td>\n",
       "      <td>...</td>\n",
       "      <td>...</td>\n",
       "      <td>...</td>\n",
       "      <td>...</td>\n",
       "      <td>...</td>\n",
       "      <td>...</td>\n",
       "      <td>...</td>\n",
       "      <td>...</td>\n",
       "    </tr>\n",
       "    <tr>\n",
       "      <th>4419</th>\n",
       "      <td>1</td>\n",
       "      <td>1</td>\n",
       "      <td>6</td>\n",
       "      <td>15</td>\n",
       "      <td>1</td>\n",
       "      <td>1</td>\n",
       "      <td>1</td>\n",
       "      <td>1</td>\n",
       "      <td>1</td>\n",
       "      <td>6</td>\n",
       "      <td>...</td>\n",
       "      <td>0</td>\n",
       "      <td>6</td>\n",
       "      <td>8</td>\n",
       "      <td>5</td>\n",
       "      <td>12.666667</td>\n",
       "      <td>0</td>\n",
       "      <td>15.5</td>\n",
       "      <td>2.8</td>\n",
       "      <td>-4.06</td>\n",
       "      <td>1</td>\n",
       "    </tr>\n",
       "    <tr>\n",
       "      <th>4420</th>\n",
       "      <td>1</td>\n",
       "      <td>1</td>\n",
       "      <td>2</td>\n",
       "      <td>15</td>\n",
       "      <td>1</td>\n",
       "      <td>1</td>\n",
       "      <td>19</td>\n",
       "      <td>1</td>\n",
       "      <td>1</td>\n",
       "      <td>10</td>\n",
       "      <td>...</td>\n",
       "      <td>0</td>\n",
       "      <td>6</td>\n",
       "      <td>6</td>\n",
       "      <td>2</td>\n",
       "      <td>11.000000</td>\n",
       "      <td>0</td>\n",
       "      <td>11.1</td>\n",
       "      <td>0.6</td>\n",
       "      <td>2.02</td>\n",
       "      <td>0</td>\n",
       "    </tr>\n",
       "    <tr>\n",
       "      <th>4421</th>\n",
       "      <td>1</td>\n",
       "      <td>1</td>\n",
       "      <td>1</td>\n",
       "      <td>12</td>\n",
       "      <td>1</td>\n",
       "      <td>1</td>\n",
       "      <td>1</td>\n",
       "      <td>22</td>\n",
       "      <td>27</td>\n",
       "      <td>10</td>\n",
       "      <td>...</td>\n",
       "      <td>0</td>\n",
       "      <td>8</td>\n",
       "      <td>9</td>\n",
       "      <td>1</td>\n",
       "      <td>13.500000</td>\n",
       "      <td>0</td>\n",
       "      <td>13.9</td>\n",
       "      <td>-0.3</td>\n",
       "      <td>0.79</td>\n",
       "      <td>0</td>\n",
       "    </tr>\n",
       "    <tr>\n",
       "      <th>4422</th>\n",
       "      <td>1</td>\n",
       "      <td>1</td>\n",
       "      <td>1</td>\n",
       "      <td>9</td>\n",
       "      <td>1</td>\n",
       "      <td>1</td>\n",
       "      <td>1</td>\n",
       "      <td>22</td>\n",
       "      <td>27</td>\n",
       "      <td>8</td>\n",
       "      <td>...</td>\n",
       "      <td>0</td>\n",
       "      <td>5</td>\n",
       "      <td>6</td>\n",
       "      <td>5</td>\n",
       "      <td>12.000000</td>\n",
       "      <td>0</td>\n",
       "      <td>9.4</td>\n",
       "      <td>-0.8</td>\n",
       "      <td>-3.12</td>\n",
       "      <td>1</td>\n",
       "    </tr>\n",
       "    <tr>\n",
       "      <th>4423</th>\n",
       "      <td>1</td>\n",
       "      <td>5</td>\n",
       "      <td>1</td>\n",
       "      <td>15</td>\n",
       "      <td>1</td>\n",
       "      <td>1</td>\n",
       "      <td>9</td>\n",
       "      <td>23</td>\n",
       "      <td>27</td>\n",
       "      <td>6</td>\n",
       "      <td>...</td>\n",
       "      <td>0</td>\n",
       "      <td>6</td>\n",
       "      <td>6</td>\n",
       "      <td>6</td>\n",
       "      <td>13.000000</td>\n",
       "      <td>0</td>\n",
       "      <td>12.7</td>\n",
       "      <td>3.7</td>\n",
       "      <td>-1.70</td>\n",
       "      <td>1</td>\n",
       "    </tr>\n",
       "  </tbody>\n",
       "</table>\n",
       "<p>4424 rows × 35 columns</p>\n",
       "</div>"
      ],
      "text/plain": [
       "      Marital status  Application mode  Application order  Course  \\\n",
       "0                  1                 8                  5       2   \n",
       "1                  1                 6                  1      11   \n",
       "2                  1                 1                  5       5   \n",
       "3                  1                 8                  2      15   \n",
       "4                  2                12                  1       3   \n",
       "...              ...               ...                ...     ...   \n",
       "4419               1                 1                  6      15   \n",
       "4420               1                 1                  2      15   \n",
       "4421               1                 1                  1      12   \n",
       "4422               1                 1                  1       9   \n",
       "4423               1                 5                  1      15   \n",
       "\n",
       "      Daytime/evening attendance  Previous qualification  Nacionality  \\\n",
       "0                              1                       1            1   \n",
       "1                              1                       1            1   \n",
       "2                              1                       1            1   \n",
       "3                              1                       1            1   \n",
       "4                              0                       1            1   \n",
       "...                          ...                     ...          ...   \n",
       "4419                           1                       1            1   \n",
       "4420                           1                       1           19   \n",
       "4421                           1                       1            1   \n",
       "4422                           1                       1            1   \n",
       "4423                           1                       1            9   \n",
       "\n",
       "      Mother's qualification  Father's qualification  Mother's occupation  \\\n",
       "0                         13                      10                    6   \n",
       "1                          1                       3                    4   \n",
       "2                         22                      27                   10   \n",
       "3                         23                      27                    6   \n",
       "4                         22                      28                   10   \n",
       "...                      ...                     ...                  ...   \n",
       "4419                       1                       1                    6   \n",
       "4420                       1                       1                   10   \n",
       "4421                      22                      27                   10   \n",
       "4422                      22                      27                    8   \n",
       "4423                      23                      27                    6   \n",
       "\n",
       "      ...  Curricular units 2nd sem (credited)  \\\n",
       "0     ...                                    0   \n",
       "1     ...                                    0   \n",
       "2     ...                                    0   \n",
       "3     ...                                    0   \n",
       "4     ...                                    0   \n",
       "...   ...                                  ...   \n",
       "4419  ...                                    0   \n",
       "4420  ...                                    0   \n",
       "4421  ...                                    0   \n",
       "4422  ...                                    0   \n",
       "4423  ...                                    0   \n",
       "\n",
       "      Curricular units 2nd sem (enrolled)  \\\n",
       "0                                       0   \n",
       "1                                       6   \n",
       "2                                       6   \n",
       "3                                       6   \n",
       "4                                       6   \n",
       "...                                   ...   \n",
       "4419                                    6   \n",
       "4420                                    6   \n",
       "4421                                    8   \n",
       "4422                                    5   \n",
       "4423                                    6   \n",
       "\n",
       "      Curricular units 2nd sem (evaluations)  \\\n",
       "0                                          0   \n",
       "1                                          6   \n",
       "2                                          0   \n",
       "3                                         10   \n",
       "4                                          6   \n",
       "...                                      ...   \n",
       "4419                                       8   \n",
       "4420                                       6   \n",
       "4421                                       9   \n",
       "4422                                       6   \n",
       "4423                                       6   \n",
       "\n",
       "      Curricular units 2nd sem (approved)  Curricular units 2nd sem (grade)  \\\n",
       "0                                       0                          0.000000   \n",
       "1                                       6                         13.666667   \n",
       "2                                       0                          0.000000   \n",
       "3                                       5                         12.400000   \n",
       "4                                       6                         13.000000   \n",
       "...                                   ...                               ...   \n",
       "4419                                    5                         12.666667   \n",
       "4420                                    2                         11.000000   \n",
       "4421                                    1                         13.500000   \n",
       "4422                                    5                         12.000000   \n",
       "4423                                    6                         13.000000   \n",
       "\n",
       "      Curricular units 2nd sem (without evaluations)  Unemployment rate  \\\n",
       "0                                                  0               10.8   \n",
       "1                                                  0               13.9   \n",
       "2                                                  0               10.8   \n",
       "3                                                  0                9.4   \n",
       "4                                                  0               13.9   \n",
       "...                                              ...                ...   \n",
       "4419                                               0               15.5   \n",
       "4420                                               0               11.1   \n",
       "4421                                               0               13.9   \n",
       "4422                                               0                9.4   \n",
       "4423                                               0               12.7   \n",
       "\n",
       "      Inflation rate   GDP  Target  \n",
       "0                1.4  1.74       0  \n",
       "1               -0.3  0.79       1  \n",
       "2                1.4  1.74       0  \n",
       "3               -0.8 -3.12       1  \n",
       "4               -0.3  0.79       1  \n",
       "...              ...   ...     ...  \n",
       "4419             2.8 -4.06       1  \n",
       "4420             0.6  2.02       0  \n",
       "4421            -0.3  0.79       0  \n",
       "4422            -0.8 -3.12       1  \n",
       "4423             3.7 -1.70       1  \n",
       "\n",
       "[4424 rows x 35 columns]"
      ]
     },
     "execution_count": 7,
     "metadata": {},
     "output_type": "execute_result"
    }
   ],
   "source": [
    "class_mapping = {'Dropout': 0, 'Graduate': 1, 'Enrolled' : 2}\n",
    "df['Target'] = df['Target'].map(class_mapping)\n",
    "df"
   ]
  },
  {
   "cell_type": "markdown",
   "metadata": {
    "id": "H2S1datNvjwJ"
   },
   "source": [
    "mannually drop 6 relatively useless attributes"
   ]
  },
  {
   "cell_type": "code",
   "execution_count": 8,
   "metadata": {
    "colab": {
     "base_uri": "https://localhost:8080/",
     "height": 540
    },
    "id": "j6bsdE0Xvm-y",
    "outputId": "373fdd82-e69b-4caf-fd49-d96abcbf5e52"
   },
   "outputs": [
    {
     "data": {
      "text/html": [
       "<div>\n",
       "<style scoped>\n",
       "    .dataframe tbody tr th:only-of-type {\n",
       "        vertical-align: middle;\n",
       "    }\n",
       "\n",
       "    .dataframe tbody tr th {\n",
       "        vertical-align: top;\n",
       "    }\n",
       "\n",
       "    .dataframe thead th {\n",
       "        text-align: right;\n",
       "    }\n",
       "</style>\n",
       "<table border=\"1\" class=\"dataframe\">\n",
       "  <thead>\n",
       "    <tr style=\"text-align: right;\">\n",
       "      <th></th>\n",
       "      <th>Application mode</th>\n",
       "      <th>Application order</th>\n",
       "      <th>Course</th>\n",
       "      <th>Daytime/evening attendance</th>\n",
       "      <th>Previous qualification</th>\n",
       "      <th>Mother's qualification</th>\n",
       "      <th>Father's qualification</th>\n",
       "      <th>Mother's occupation</th>\n",
       "      <th>Father's occupation</th>\n",
       "      <th>Displaced</th>\n",
       "      <th>...</th>\n",
       "      <th>Curricular units 2nd sem (credited)</th>\n",
       "      <th>Curricular units 2nd sem (enrolled)</th>\n",
       "      <th>Curricular units 2nd sem (evaluations)</th>\n",
       "      <th>Curricular units 2nd sem (approved)</th>\n",
       "      <th>Curricular units 2nd sem (grade)</th>\n",
       "      <th>Curricular units 2nd sem (without evaluations)</th>\n",
       "      <th>Unemployment rate</th>\n",
       "      <th>Inflation rate</th>\n",
       "      <th>GDP</th>\n",
       "      <th>Target</th>\n",
       "    </tr>\n",
       "  </thead>\n",
       "  <tbody>\n",
       "    <tr>\n",
       "      <th>0</th>\n",
       "      <td>8</td>\n",
       "      <td>5</td>\n",
       "      <td>2</td>\n",
       "      <td>1</td>\n",
       "      <td>1</td>\n",
       "      <td>13</td>\n",
       "      <td>10</td>\n",
       "      <td>6</td>\n",
       "      <td>10</td>\n",
       "      <td>1</td>\n",
       "      <td>...</td>\n",
       "      <td>0</td>\n",
       "      <td>0</td>\n",
       "      <td>0</td>\n",
       "      <td>0</td>\n",
       "      <td>0.000000</td>\n",
       "      <td>0</td>\n",
       "      <td>10.8</td>\n",
       "      <td>1.4</td>\n",
       "      <td>1.74</td>\n",
       "      <td>0</td>\n",
       "    </tr>\n",
       "    <tr>\n",
       "      <th>1</th>\n",
       "      <td>6</td>\n",
       "      <td>1</td>\n",
       "      <td>11</td>\n",
       "      <td>1</td>\n",
       "      <td>1</td>\n",
       "      <td>1</td>\n",
       "      <td>3</td>\n",
       "      <td>4</td>\n",
       "      <td>4</td>\n",
       "      <td>1</td>\n",
       "      <td>...</td>\n",
       "      <td>0</td>\n",
       "      <td>6</td>\n",
       "      <td>6</td>\n",
       "      <td>6</td>\n",
       "      <td>13.666667</td>\n",
       "      <td>0</td>\n",
       "      <td>13.9</td>\n",
       "      <td>-0.3</td>\n",
       "      <td>0.79</td>\n",
       "      <td>1</td>\n",
       "    </tr>\n",
       "    <tr>\n",
       "      <th>2</th>\n",
       "      <td>1</td>\n",
       "      <td>5</td>\n",
       "      <td>5</td>\n",
       "      <td>1</td>\n",
       "      <td>1</td>\n",
       "      <td>22</td>\n",
       "      <td>27</td>\n",
       "      <td>10</td>\n",
       "      <td>10</td>\n",
       "      <td>1</td>\n",
       "      <td>...</td>\n",
       "      <td>0</td>\n",
       "      <td>6</td>\n",
       "      <td>0</td>\n",
       "      <td>0</td>\n",
       "      <td>0.000000</td>\n",
       "      <td>0</td>\n",
       "      <td>10.8</td>\n",
       "      <td>1.4</td>\n",
       "      <td>1.74</td>\n",
       "      <td>0</td>\n",
       "    </tr>\n",
       "    <tr>\n",
       "      <th>3</th>\n",
       "      <td>8</td>\n",
       "      <td>2</td>\n",
       "      <td>15</td>\n",
       "      <td>1</td>\n",
       "      <td>1</td>\n",
       "      <td>23</td>\n",
       "      <td>27</td>\n",
       "      <td>6</td>\n",
       "      <td>4</td>\n",
       "      <td>1</td>\n",
       "      <td>...</td>\n",
       "      <td>0</td>\n",
       "      <td>6</td>\n",
       "      <td>10</td>\n",
       "      <td>5</td>\n",
       "      <td>12.400000</td>\n",
       "      <td>0</td>\n",
       "      <td>9.4</td>\n",
       "      <td>-0.8</td>\n",
       "      <td>-3.12</td>\n",
       "      <td>1</td>\n",
       "    </tr>\n",
       "    <tr>\n",
       "      <th>4</th>\n",
       "      <td>12</td>\n",
       "      <td>1</td>\n",
       "      <td>3</td>\n",
       "      <td>0</td>\n",
       "      <td>1</td>\n",
       "      <td>22</td>\n",
       "      <td>28</td>\n",
       "      <td>10</td>\n",
       "      <td>10</td>\n",
       "      <td>0</td>\n",
       "      <td>...</td>\n",
       "      <td>0</td>\n",
       "      <td>6</td>\n",
       "      <td>6</td>\n",
       "      <td>6</td>\n",
       "      <td>13.000000</td>\n",
       "      <td>0</td>\n",
       "      <td>13.9</td>\n",
       "      <td>-0.3</td>\n",
       "      <td>0.79</td>\n",
       "      <td>1</td>\n",
       "    </tr>\n",
       "    <tr>\n",
       "      <th>...</th>\n",
       "      <td>...</td>\n",
       "      <td>...</td>\n",
       "      <td>...</td>\n",
       "      <td>...</td>\n",
       "      <td>...</td>\n",
       "      <td>...</td>\n",
       "      <td>...</td>\n",
       "      <td>...</td>\n",
       "      <td>...</td>\n",
       "      <td>...</td>\n",
       "      <td>...</td>\n",
       "      <td>...</td>\n",
       "      <td>...</td>\n",
       "      <td>...</td>\n",
       "      <td>...</td>\n",
       "      <td>...</td>\n",
       "      <td>...</td>\n",
       "      <td>...</td>\n",
       "      <td>...</td>\n",
       "      <td>...</td>\n",
       "      <td>...</td>\n",
       "    </tr>\n",
       "    <tr>\n",
       "      <th>4419</th>\n",
       "      <td>1</td>\n",
       "      <td>6</td>\n",
       "      <td>15</td>\n",
       "      <td>1</td>\n",
       "      <td>1</td>\n",
       "      <td>1</td>\n",
       "      <td>1</td>\n",
       "      <td>6</td>\n",
       "      <td>5</td>\n",
       "      <td>0</td>\n",
       "      <td>...</td>\n",
       "      <td>0</td>\n",
       "      <td>6</td>\n",
       "      <td>8</td>\n",
       "      <td>5</td>\n",
       "      <td>12.666667</td>\n",
       "      <td>0</td>\n",
       "      <td>15.5</td>\n",
       "      <td>2.8</td>\n",
       "      <td>-4.06</td>\n",
       "      <td>1</td>\n",
       "    </tr>\n",
       "    <tr>\n",
       "      <th>4420</th>\n",
       "      <td>1</td>\n",
       "      <td>2</td>\n",
       "      <td>15</td>\n",
       "      <td>1</td>\n",
       "      <td>1</td>\n",
       "      <td>1</td>\n",
       "      <td>1</td>\n",
       "      <td>10</td>\n",
       "      <td>10</td>\n",
       "      <td>1</td>\n",
       "      <td>...</td>\n",
       "      <td>0</td>\n",
       "      <td>6</td>\n",
       "      <td>6</td>\n",
       "      <td>2</td>\n",
       "      <td>11.000000</td>\n",
       "      <td>0</td>\n",
       "      <td>11.1</td>\n",
       "      <td>0.6</td>\n",
       "      <td>2.02</td>\n",
       "      <td>0</td>\n",
       "    </tr>\n",
       "    <tr>\n",
       "      <th>4421</th>\n",
       "      <td>1</td>\n",
       "      <td>1</td>\n",
       "      <td>12</td>\n",
       "      <td>1</td>\n",
       "      <td>1</td>\n",
       "      <td>22</td>\n",
       "      <td>27</td>\n",
       "      <td>10</td>\n",
       "      <td>10</td>\n",
       "      <td>1</td>\n",
       "      <td>...</td>\n",
       "      <td>0</td>\n",
       "      <td>8</td>\n",
       "      <td>9</td>\n",
       "      <td>1</td>\n",
       "      <td>13.500000</td>\n",
       "      <td>0</td>\n",
       "      <td>13.9</td>\n",
       "      <td>-0.3</td>\n",
       "      <td>0.79</td>\n",
       "      <td>0</td>\n",
       "    </tr>\n",
       "    <tr>\n",
       "      <th>4422</th>\n",
       "      <td>1</td>\n",
       "      <td>1</td>\n",
       "      <td>9</td>\n",
       "      <td>1</td>\n",
       "      <td>1</td>\n",
       "      <td>22</td>\n",
       "      <td>27</td>\n",
       "      <td>8</td>\n",
       "      <td>5</td>\n",
       "      <td>1</td>\n",
       "      <td>...</td>\n",
       "      <td>0</td>\n",
       "      <td>5</td>\n",
       "      <td>6</td>\n",
       "      <td>5</td>\n",
       "      <td>12.000000</td>\n",
       "      <td>0</td>\n",
       "      <td>9.4</td>\n",
       "      <td>-0.8</td>\n",
       "      <td>-3.12</td>\n",
       "      <td>1</td>\n",
       "    </tr>\n",
       "    <tr>\n",
       "      <th>4423</th>\n",
       "      <td>5</td>\n",
       "      <td>1</td>\n",
       "      <td>15</td>\n",
       "      <td>1</td>\n",
       "      <td>1</td>\n",
       "      <td>23</td>\n",
       "      <td>27</td>\n",
       "      <td>6</td>\n",
       "      <td>10</td>\n",
       "      <td>1</td>\n",
       "      <td>...</td>\n",
       "      <td>0</td>\n",
       "      <td>6</td>\n",
       "      <td>6</td>\n",
       "      <td>6</td>\n",
       "      <td>13.000000</td>\n",
       "      <td>0</td>\n",
       "      <td>12.7</td>\n",
       "      <td>3.7</td>\n",
       "      <td>-1.70</td>\n",
       "      <td>1</td>\n",
       "    </tr>\n",
       "  </tbody>\n",
       "</table>\n",
       "<p>4424 rows × 31 columns</p>\n",
       "</div>"
      ],
      "text/plain": [
       "      Application mode  Application order  Course  Daytime/evening attendance  \\\n",
       "0                    8                  5       2                           1   \n",
       "1                    6                  1      11                           1   \n",
       "2                    1                  5       5                           1   \n",
       "3                    8                  2      15                           1   \n",
       "4                   12                  1       3                           0   \n",
       "...                ...                ...     ...                         ...   \n",
       "4419                 1                  6      15                           1   \n",
       "4420                 1                  2      15                           1   \n",
       "4421                 1                  1      12                           1   \n",
       "4422                 1                  1       9                           1   \n",
       "4423                 5                  1      15                           1   \n",
       "\n",
       "      Previous qualification  Mother's qualification  Father's qualification  \\\n",
       "0                          1                      13                      10   \n",
       "1                          1                       1                       3   \n",
       "2                          1                      22                      27   \n",
       "3                          1                      23                      27   \n",
       "4                          1                      22                      28   \n",
       "...                      ...                     ...                     ...   \n",
       "4419                       1                       1                       1   \n",
       "4420                       1                       1                       1   \n",
       "4421                       1                      22                      27   \n",
       "4422                       1                      22                      27   \n",
       "4423                       1                      23                      27   \n",
       "\n",
       "      Mother's occupation  Father's occupation  Displaced  ...  \\\n",
       "0                       6                   10          1  ...   \n",
       "1                       4                    4          1  ...   \n",
       "2                      10                   10          1  ...   \n",
       "3                       6                    4          1  ...   \n",
       "4                      10                   10          0  ...   \n",
       "...                   ...                  ...        ...  ...   \n",
       "4419                    6                    5          0  ...   \n",
       "4420                   10                   10          1  ...   \n",
       "4421                   10                   10          1  ...   \n",
       "4422                    8                    5          1  ...   \n",
       "4423                    6                   10          1  ...   \n",
       "\n",
       "      Curricular units 2nd sem (credited)  \\\n",
       "0                                       0   \n",
       "1                                       0   \n",
       "2                                       0   \n",
       "3                                       0   \n",
       "4                                       0   \n",
       "...                                   ...   \n",
       "4419                                    0   \n",
       "4420                                    0   \n",
       "4421                                    0   \n",
       "4422                                    0   \n",
       "4423                                    0   \n",
       "\n",
       "      Curricular units 2nd sem (enrolled)  \\\n",
       "0                                       0   \n",
       "1                                       6   \n",
       "2                                       6   \n",
       "3                                       6   \n",
       "4                                       6   \n",
       "...                                   ...   \n",
       "4419                                    6   \n",
       "4420                                    6   \n",
       "4421                                    8   \n",
       "4422                                    5   \n",
       "4423                                    6   \n",
       "\n",
       "      Curricular units 2nd sem (evaluations)  \\\n",
       "0                                          0   \n",
       "1                                          6   \n",
       "2                                          0   \n",
       "3                                         10   \n",
       "4                                          6   \n",
       "...                                      ...   \n",
       "4419                                       8   \n",
       "4420                                       6   \n",
       "4421                                       9   \n",
       "4422                                       6   \n",
       "4423                                       6   \n",
       "\n",
       "      Curricular units 2nd sem (approved)  Curricular units 2nd sem (grade)  \\\n",
       "0                                       0                          0.000000   \n",
       "1                                       6                         13.666667   \n",
       "2                                       0                          0.000000   \n",
       "3                                       5                         12.400000   \n",
       "4                                       6                         13.000000   \n",
       "...                                   ...                               ...   \n",
       "4419                                    5                         12.666667   \n",
       "4420                                    2                         11.000000   \n",
       "4421                                    1                         13.500000   \n",
       "4422                                    5                         12.000000   \n",
       "4423                                    6                         13.000000   \n",
       "\n",
       "      Curricular units 2nd sem (without evaluations)  Unemployment rate  \\\n",
       "0                                                  0               10.8   \n",
       "1                                                  0               13.9   \n",
       "2                                                  0               10.8   \n",
       "3                                                  0                9.4   \n",
       "4                                                  0               13.9   \n",
       "...                                              ...                ...   \n",
       "4419                                               0               15.5   \n",
       "4420                                               0               11.1   \n",
       "4421                                               0               13.9   \n",
       "4422                                               0                9.4   \n",
       "4423                                               0               12.7   \n",
       "\n",
       "      Inflation rate   GDP  Target  \n",
       "0                1.4  1.74       0  \n",
       "1               -0.3  0.79       1  \n",
       "2                1.4  1.74       0  \n",
       "3               -0.8 -3.12       1  \n",
       "4               -0.3  0.79       1  \n",
       "...              ...   ...     ...  \n",
       "4419             2.8 -4.06       1  \n",
       "4420             0.6  2.02       0  \n",
       "4421            -0.3  0.79       0  \n",
       "4422            -0.8 -3.12       1  \n",
       "4423             3.7 -1.70       1  \n",
       "\n",
       "[4424 rows x 31 columns]"
      ]
     },
     "execution_count": 8,
     "metadata": {},
     "output_type": "execute_result"
    }
   ],
   "source": [
    "df_ohe = df.copy()\n",
    "df_ohe.drop(columns=['Marital status'], axis=1, inplace=True)\n",
    "df_ohe.drop(columns=['Nacionality'], axis=1, inplace=True)\n",
    "df_ohe.drop(columns=['Educational special needs'], axis=1, inplace=True)\n",
    "df_ohe.drop(columns=['International'], axis=1, inplace=True)\n",
    "df_ohe"
   ]
  },
  {
   "cell_type": "markdown",
   "metadata": {
    "id": "UAh5V2yKy3m5"
   },
   "source": [
    "**Preprocessing one-hot encoding**\n",
    "\n",
    "By the Data Description, we can know Application order, Age at enrollment, Curricular units 1st sem (credited),\n",
    "Curricular units 1st sem (enrolled),\n",
    "Curricular units 1st sem (evaluations),\n",
    "Curricular units 1st sem (approved), Curricular units 1st sem (grade), Curricular units 1st sem (without evaluations), Curricular units 2nd sem (credited), curricular units 2nd sem (enrolled)\tCurricular units 2nd sem (evaluations),\tCurricular units 2nd sem (approved),\tCurricular units 2nd sem (grade),\tCurricular units 2nd sem (without evaluations),\tUnemployment rate, Inflation rate and GDP are numerical variables. \n",
    "\n",
    "If it is not a numerical variable, then it is a categorical variable.\n",
    "\n",
    "In order to use one-hot encoding, we need to convert categorical variables into a numerical representation.\n",
    "\n",
    "Thus, we need to one hot encode those categorical variables.\n"
   ]
  },
  {
   "cell_type": "code",
   "execution_count": 9,
   "metadata": {
    "colab": {
     "base_uri": "https://localhost:8080/"
    },
    "id": "e6Wym_oAyz54",
    "outputId": "ae2967f6-4543-4c7c-f9f8-42794e348501"
   },
   "outputs": [
    {
     "name": "stdout",
     "output_type": "stream",
     "text": [
      "Unique elements:\n",
      "[1 0]\n",
      "[ 8  6  1 12  9 17 15 16 14  4 13  7  3  2  5 18 10 11]\n",
      "[10  4  8 11  6  9  5  2  3 22  7  1 12 39 19 13 29 46 43 34 44 30 41 24\n",
      " 23 45 35 26 28 36 16 37 31 42 20 15 40 25 21 17 32 38 27 18 14 33]\n",
      "[ 2 11  5 15  3 17 12 10 14 16  6  8 13  9  4  1  7]\n",
      "[0 1]\n",
      "[0 1]\n",
      "[ 6  4 10  8  5  2 16  1  7  3 12  9 20 28 13 29 23 32 30 18 24 19 11 21\n",
      " 15 27 31 14 22 17 26 25]\n",
      "[ 1 12 16 14  8  3 15  2  4  9 17 11  6  7 13  5 10]\n",
      "[10  3 27 28  1 14  5  4 24  2 29  9  7 26 18 30 12 15 25 31 16 11 20 33\n",
      " 13 32  8  6 21 17 34 23 19 22]\n",
      "[13  1 22 23  3  4 27  2 19 10 25  7  5 24  9 26 18 11 20 21  6  8 17 28\n",
      " 12 14 16 15 29]\n",
      "[1 0]\n",
      "[1 0]\n",
      "[1 0]\n"
     ]
    }
   ],
   "source": [
    "cats = ['Marital status',\t'Application mode', 'Daytime/evening attendance',\t'Previous qualification', 'Nacionality',\t\"Mother's qualification\",\t\"Father's qualification\",\t\"Mother's occupation\", \\\n",
    "         \"Father's occupation\", 'Debtor', 'Gender',\t'Scholarship holder', 'Course', 'International','Tuition fees up to date', 'Educational special needs','Displaced'] \n",
    "column_names = df_ohe.columns.tolist()\n",
    "cats_set = set(cats)\n",
    "names_set = set(column_names)\n",
    "\n",
    "cats = names_set.intersection(cats_set)\n",
    "print(\"Unique elements:\")\n",
    "for cat in cats:\n",
    "    print(df_ohe[cat].unique()) \n"
   ]
  },
  {
   "cell_type": "code",
   "execution_count": 10,
   "metadata": {
    "colab": {
     "base_uri": "https://localhost:8080/"
    },
    "id": "3cqdzM-2Ade0",
    "outputId": "c5226ee6-cd28-42c4-b1ed-e9c548fd43f2"
   },
   "outputs": [
    {
     "name": "stdout",
     "output_type": "stream",
     "text": [
      "Index([], dtype='object')\n"
     ]
    }
   ],
   "source": [
    "print(df.columns[df.isna().any()])\n",
    "df_ohe = df_ohe.fillna(0)"
   ]
  },
  {
   "cell_type": "code",
   "execution_count": 11,
   "metadata": {
    "colab": {
     "base_uri": "https://localhost:8080/",
     "height": 369
    },
    "id": "EAn90ppSAk7-",
    "outputId": "26cde32b-2773-4087-9882-f19791f2e4ab"
   },
   "outputs": [
    {
     "name": "stdout",
     "output_type": "stream",
     "text": [
      "(4424, 31)\n"
     ]
    },
    {
     "data": {
      "text/html": [
       "<div>\n",
       "<style scoped>\n",
       "    .dataframe tbody tr th:only-of-type {\n",
       "        vertical-align: middle;\n",
       "    }\n",
       "\n",
       "    .dataframe tbody tr th {\n",
       "        vertical-align: top;\n",
       "    }\n",
       "\n",
       "    .dataframe thead th {\n",
       "        text-align: right;\n",
       "    }\n",
       "</style>\n",
       "<table border=\"1\" class=\"dataframe\">\n",
       "  <thead>\n",
       "    <tr style=\"text-align: right;\">\n",
       "      <th></th>\n",
       "      <th>Application mode</th>\n",
       "      <th>Application order</th>\n",
       "      <th>Course</th>\n",
       "      <th>Daytime/evening attendance</th>\n",
       "      <th>Previous qualification</th>\n",
       "      <th>Mother's qualification</th>\n",
       "      <th>Father's qualification</th>\n",
       "      <th>Mother's occupation</th>\n",
       "      <th>Father's occupation</th>\n",
       "      <th>Displaced</th>\n",
       "      <th>...</th>\n",
       "      <th>Curricular units 2nd sem (credited)</th>\n",
       "      <th>Curricular units 2nd sem (enrolled)</th>\n",
       "      <th>Curricular units 2nd sem (evaluations)</th>\n",
       "      <th>Curricular units 2nd sem (approved)</th>\n",
       "      <th>Curricular units 2nd sem (grade)</th>\n",
       "      <th>Curricular units 2nd sem (without evaluations)</th>\n",
       "      <th>Unemployment rate</th>\n",
       "      <th>Inflation rate</th>\n",
       "      <th>GDP</th>\n",
       "      <th>Target</th>\n",
       "    </tr>\n",
       "  </thead>\n",
       "  <tbody>\n",
       "    <tr>\n",
       "      <th>0</th>\n",
       "      <td>8</td>\n",
       "      <td>5</td>\n",
       "      <td>2</td>\n",
       "      <td>1</td>\n",
       "      <td>1</td>\n",
       "      <td>13</td>\n",
       "      <td>10</td>\n",
       "      <td>6</td>\n",
       "      <td>10</td>\n",
       "      <td>1</td>\n",
       "      <td>...</td>\n",
       "      <td>0</td>\n",
       "      <td>0</td>\n",
       "      <td>0</td>\n",
       "      <td>0</td>\n",
       "      <td>0.000000</td>\n",
       "      <td>0</td>\n",
       "      <td>10.8</td>\n",
       "      <td>1.4</td>\n",
       "      <td>1.74</td>\n",
       "      <td>0</td>\n",
       "    </tr>\n",
       "    <tr>\n",
       "      <th>1</th>\n",
       "      <td>6</td>\n",
       "      <td>1</td>\n",
       "      <td>11</td>\n",
       "      <td>1</td>\n",
       "      <td>1</td>\n",
       "      <td>1</td>\n",
       "      <td>3</td>\n",
       "      <td>4</td>\n",
       "      <td>4</td>\n",
       "      <td>1</td>\n",
       "      <td>...</td>\n",
       "      <td>0</td>\n",
       "      <td>6</td>\n",
       "      <td>6</td>\n",
       "      <td>6</td>\n",
       "      <td>13.666667</td>\n",
       "      <td>0</td>\n",
       "      <td>13.9</td>\n",
       "      <td>-0.3</td>\n",
       "      <td>0.79</td>\n",
       "      <td>1</td>\n",
       "    </tr>\n",
       "    <tr>\n",
       "      <th>2</th>\n",
       "      <td>1</td>\n",
       "      <td>5</td>\n",
       "      <td>5</td>\n",
       "      <td>1</td>\n",
       "      <td>1</td>\n",
       "      <td>22</td>\n",
       "      <td>27</td>\n",
       "      <td>10</td>\n",
       "      <td>10</td>\n",
       "      <td>1</td>\n",
       "      <td>...</td>\n",
       "      <td>0</td>\n",
       "      <td>6</td>\n",
       "      <td>0</td>\n",
       "      <td>0</td>\n",
       "      <td>0.000000</td>\n",
       "      <td>0</td>\n",
       "      <td>10.8</td>\n",
       "      <td>1.4</td>\n",
       "      <td>1.74</td>\n",
       "      <td>0</td>\n",
       "    </tr>\n",
       "    <tr>\n",
       "      <th>3</th>\n",
       "      <td>8</td>\n",
       "      <td>2</td>\n",
       "      <td>15</td>\n",
       "      <td>1</td>\n",
       "      <td>1</td>\n",
       "      <td>23</td>\n",
       "      <td>27</td>\n",
       "      <td>6</td>\n",
       "      <td>4</td>\n",
       "      <td>1</td>\n",
       "      <td>...</td>\n",
       "      <td>0</td>\n",
       "      <td>6</td>\n",
       "      <td>10</td>\n",
       "      <td>5</td>\n",
       "      <td>12.400000</td>\n",
       "      <td>0</td>\n",
       "      <td>9.4</td>\n",
       "      <td>-0.8</td>\n",
       "      <td>-3.12</td>\n",
       "      <td>1</td>\n",
       "    </tr>\n",
       "    <tr>\n",
       "      <th>4</th>\n",
       "      <td>12</td>\n",
       "      <td>1</td>\n",
       "      <td>3</td>\n",
       "      <td>0</td>\n",
       "      <td>1</td>\n",
       "      <td>22</td>\n",
       "      <td>28</td>\n",
       "      <td>10</td>\n",
       "      <td>10</td>\n",
       "      <td>0</td>\n",
       "      <td>...</td>\n",
       "      <td>0</td>\n",
       "      <td>6</td>\n",
       "      <td>6</td>\n",
       "      <td>6</td>\n",
       "      <td>13.000000</td>\n",
       "      <td>0</td>\n",
       "      <td>13.9</td>\n",
       "      <td>-0.3</td>\n",
       "      <td>0.79</td>\n",
       "      <td>1</td>\n",
       "    </tr>\n",
       "  </tbody>\n",
       "</table>\n",
       "<p>5 rows × 31 columns</p>\n",
       "</div>"
      ],
      "text/plain": [
       "   Application mode  Application order  Course  Daytime/evening attendance  \\\n",
       "0                 8                  5       2                           1   \n",
       "1                 6                  1      11                           1   \n",
       "2                 1                  5       5                           1   \n",
       "3                 8                  2      15                           1   \n",
       "4                12                  1       3                           0   \n",
       "\n",
       "   Previous qualification  Mother's qualification  Father's qualification  \\\n",
       "0                       1                      13                      10   \n",
       "1                       1                       1                       3   \n",
       "2                       1                      22                      27   \n",
       "3                       1                      23                      27   \n",
       "4                       1                      22                      28   \n",
       "\n",
       "   Mother's occupation  Father's occupation  Displaced  ...  \\\n",
       "0                    6                   10          1  ...   \n",
       "1                    4                    4          1  ...   \n",
       "2                   10                   10          1  ...   \n",
       "3                    6                    4          1  ...   \n",
       "4                   10                   10          0  ...   \n",
       "\n",
       "   Curricular units 2nd sem (credited)  Curricular units 2nd sem (enrolled)  \\\n",
       "0                                    0                                    0   \n",
       "1                                    0                                    6   \n",
       "2                                    0                                    6   \n",
       "3                                    0                                    6   \n",
       "4                                    0                                    6   \n",
       "\n",
       "   Curricular units 2nd sem (evaluations)  \\\n",
       "0                                       0   \n",
       "1                                       6   \n",
       "2                                       0   \n",
       "3                                      10   \n",
       "4                                       6   \n",
       "\n",
       "   Curricular units 2nd sem (approved)  Curricular units 2nd sem (grade)  \\\n",
       "0                                    0                          0.000000   \n",
       "1                                    6                         13.666667   \n",
       "2                                    0                          0.000000   \n",
       "3                                    5                         12.400000   \n",
       "4                                    6                         13.000000   \n",
       "\n",
       "   Curricular units 2nd sem (without evaluations)  Unemployment rate  \\\n",
       "0                                               0               10.8   \n",
       "1                                               0               13.9   \n",
       "2                                               0               10.8   \n",
       "3                                               0                9.4   \n",
       "4                                               0               13.9   \n",
       "\n",
       "   Inflation rate   GDP  Target  \n",
       "0             1.4  1.74       0  \n",
       "1            -0.3  0.79       1  \n",
       "2             1.4  1.74       0  \n",
       "3            -0.8 -3.12       1  \n",
       "4            -0.3  0.79       1  \n",
       "\n",
       "[5 rows x 31 columns]"
      ]
     },
     "metadata": {},
     "output_type": "display_data"
    }
   ],
   "source": [
    "print(df_ohe.shape)\n",
    "display(df_ohe.head(5))"
   ]
  },
  {
   "cell_type": "code",
   "execution_count": 12,
   "metadata": {
    "colab": {
     "base_uri": "https://localhost:8080/",
     "height": 575
    },
    "id": "BZKzfZBmBsh1",
    "outputId": "e1393503-a1f8-43e3-8556-5e6c69860c3a"
   },
   "outputs": [
    {
     "data": {
      "text/html": [
       "<div>\n",
       "<style scoped>\n",
       "    .dataframe tbody tr th:only-of-type {\n",
       "        vertical-align: middle;\n",
       "    }\n",
       "\n",
       "    .dataframe tbody tr th {\n",
       "        vertical-align: top;\n",
       "    }\n",
       "\n",
       "    .dataframe thead th {\n",
       "        text-align: right;\n",
       "    }\n",
       "</style>\n",
       "<table border=\"1\" class=\"dataframe\">\n",
       "  <thead>\n",
       "    <tr style=\"text-align: right;\">\n",
       "      <th></th>\n",
       "      <th>Application order</th>\n",
       "      <th>Age at enrollment</th>\n",
       "      <th>Curricular units 1st sem (credited)</th>\n",
       "      <th>Curricular units 1st sem (enrolled)</th>\n",
       "      <th>Curricular units 1st sem (evaluations)</th>\n",
       "      <th>Curricular units 1st sem (approved)</th>\n",
       "      <th>Curricular units 1st sem (grade)</th>\n",
       "      <th>Curricular units 1st sem (without evaluations)</th>\n",
       "      <th>Curricular units 2nd sem (credited)</th>\n",
       "      <th>Curricular units 2nd sem (enrolled)</th>\n",
       "      <th>...</th>\n",
       "      <th>Mother's qualification_26</th>\n",
       "      <th>Mother's qualification_27</th>\n",
       "      <th>Mother's qualification_28</th>\n",
       "      <th>Mother's qualification_29</th>\n",
       "      <th>Daytime/evening attendance_0</th>\n",
       "      <th>Daytime/evening attendance_1</th>\n",
       "      <th>Displaced_0</th>\n",
       "      <th>Displaced_1</th>\n",
       "      <th>Tuition fees up to date_0</th>\n",
       "      <th>Tuition fees up to date_1</th>\n",
       "    </tr>\n",
       "  </thead>\n",
       "  <tbody>\n",
       "    <tr>\n",
       "      <th>0</th>\n",
       "      <td>5</td>\n",
       "      <td>20</td>\n",
       "      <td>0</td>\n",
       "      <td>0</td>\n",
       "      <td>0</td>\n",
       "      <td>0</td>\n",
       "      <td>0.000000</td>\n",
       "      <td>0</td>\n",
       "      <td>0</td>\n",
       "      <td>0</td>\n",
       "      <td>...</td>\n",
       "      <td>0</td>\n",
       "      <td>0</td>\n",
       "      <td>0</td>\n",
       "      <td>0</td>\n",
       "      <td>0</td>\n",
       "      <td>1</td>\n",
       "      <td>0</td>\n",
       "      <td>1</td>\n",
       "      <td>0</td>\n",
       "      <td>1</td>\n",
       "    </tr>\n",
       "    <tr>\n",
       "      <th>1</th>\n",
       "      <td>1</td>\n",
       "      <td>19</td>\n",
       "      <td>0</td>\n",
       "      <td>6</td>\n",
       "      <td>6</td>\n",
       "      <td>6</td>\n",
       "      <td>14.000000</td>\n",
       "      <td>0</td>\n",
       "      <td>0</td>\n",
       "      <td>6</td>\n",
       "      <td>...</td>\n",
       "      <td>0</td>\n",
       "      <td>0</td>\n",
       "      <td>0</td>\n",
       "      <td>0</td>\n",
       "      <td>0</td>\n",
       "      <td>1</td>\n",
       "      <td>0</td>\n",
       "      <td>1</td>\n",
       "      <td>1</td>\n",
       "      <td>0</td>\n",
       "    </tr>\n",
       "    <tr>\n",
       "      <th>2</th>\n",
       "      <td>5</td>\n",
       "      <td>19</td>\n",
       "      <td>0</td>\n",
       "      <td>6</td>\n",
       "      <td>0</td>\n",
       "      <td>0</td>\n",
       "      <td>0.000000</td>\n",
       "      <td>0</td>\n",
       "      <td>0</td>\n",
       "      <td>6</td>\n",
       "      <td>...</td>\n",
       "      <td>0</td>\n",
       "      <td>0</td>\n",
       "      <td>0</td>\n",
       "      <td>0</td>\n",
       "      <td>0</td>\n",
       "      <td>1</td>\n",
       "      <td>0</td>\n",
       "      <td>1</td>\n",
       "      <td>1</td>\n",
       "      <td>0</td>\n",
       "    </tr>\n",
       "    <tr>\n",
       "      <th>3</th>\n",
       "      <td>2</td>\n",
       "      <td>20</td>\n",
       "      <td>0</td>\n",
       "      <td>6</td>\n",
       "      <td>8</td>\n",
       "      <td>6</td>\n",
       "      <td>13.428571</td>\n",
       "      <td>0</td>\n",
       "      <td>0</td>\n",
       "      <td>6</td>\n",
       "      <td>...</td>\n",
       "      <td>0</td>\n",
       "      <td>0</td>\n",
       "      <td>0</td>\n",
       "      <td>0</td>\n",
       "      <td>0</td>\n",
       "      <td>1</td>\n",
       "      <td>0</td>\n",
       "      <td>1</td>\n",
       "      <td>0</td>\n",
       "      <td>1</td>\n",
       "    </tr>\n",
       "    <tr>\n",
       "      <th>4</th>\n",
       "      <td>1</td>\n",
       "      <td>45</td>\n",
       "      <td>0</td>\n",
       "      <td>6</td>\n",
       "      <td>9</td>\n",
       "      <td>5</td>\n",
       "      <td>12.333333</td>\n",
       "      <td>0</td>\n",
       "      <td>0</td>\n",
       "      <td>6</td>\n",
       "      <td>...</td>\n",
       "      <td>0</td>\n",
       "      <td>0</td>\n",
       "      <td>0</td>\n",
       "      <td>0</td>\n",
       "      <td>1</td>\n",
       "      <td>0</td>\n",
       "      <td>1</td>\n",
       "      <td>0</td>\n",
       "      <td>0</td>\n",
       "      <td>1</td>\n",
       "    </tr>\n",
       "    <tr>\n",
       "      <th>...</th>\n",
       "      <td>...</td>\n",
       "      <td>...</td>\n",
       "      <td>...</td>\n",
       "      <td>...</td>\n",
       "      <td>...</td>\n",
       "      <td>...</td>\n",
       "      <td>...</td>\n",
       "      <td>...</td>\n",
       "      <td>...</td>\n",
       "      <td>...</td>\n",
       "      <td>...</td>\n",
       "      <td>...</td>\n",
       "      <td>...</td>\n",
       "      <td>...</td>\n",
       "      <td>...</td>\n",
       "      <td>...</td>\n",
       "      <td>...</td>\n",
       "      <td>...</td>\n",
       "      <td>...</td>\n",
       "      <td>...</td>\n",
       "      <td>...</td>\n",
       "    </tr>\n",
       "    <tr>\n",
       "      <th>4419</th>\n",
       "      <td>6</td>\n",
       "      <td>19</td>\n",
       "      <td>0</td>\n",
       "      <td>6</td>\n",
       "      <td>7</td>\n",
       "      <td>5</td>\n",
       "      <td>13.600000</td>\n",
       "      <td>0</td>\n",
       "      <td>0</td>\n",
       "      <td>6</td>\n",
       "      <td>...</td>\n",
       "      <td>0</td>\n",
       "      <td>0</td>\n",
       "      <td>0</td>\n",
       "      <td>0</td>\n",
       "      <td>0</td>\n",
       "      <td>1</td>\n",
       "      <td>1</td>\n",
       "      <td>0</td>\n",
       "      <td>0</td>\n",
       "      <td>1</td>\n",
       "    </tr>\n",
       "    <tr>\n",
       "      <th>4420</th>\n",
       "      <td>2</td>\n",
       "      <td>18</td>\n",
       "      <td>0</td>\n",
       "      <td>6</td>\n",
       "      <td>6</td>\n",
       "      <td>6</td>\n",
       "      <td>12.000000</td>\n",
       "      <td>0</td>\n",
       "      <td>0</td>\n",
       "      <td>6</td>\n",
       "      <td>...</td>\n",
       "      <td>0</td>\n",
       "      <td>0</td>\n",
       "      <td>0</td>\n",
       "      <td>0</td>\n",
       "      <td>0</td>\n",
       "      <td>1</td>\n",
       "      <td>0</td>\n",
       "      <td>1</td>\n",
       "      <td>1</td>\n",
       "      <td>0</td>\n",
       "    </tr>\n",
       "    <tr>\n",
       "      <th>4421</th>\n",
       "      <td>1</td>\n",
       "      <td>30</td>\n",
       "      <td>0</td>\n",
       "      <td>7</td>\n",
       "      <td>8</td>\n",
       "      <td>7</td>\n",
       "      <td>14.912500</td>\n",
       "      <td>0</td>\n",
       "      <td>0</td>\n",
       "      <td>8</td>\n",
       "      <td>...</td>\n",
       "      <td>0</td>\n",
       "      <td>0</td>\n",
       "      <td>0</td>\n",
       "      <td>0</td>\n",
       "      <td>0</td>\n",
       "      <td>1</td>\n",
       "      <td>0</td>\n",
       "      <td>1</td>\n",
       "      <td>0</td>\n",
       "      <td>1</td>\n",
       "    </tr>\n",
       "    <tr>\n",
       "      <th>4422</th>\n",
       "      <td>1</td>\n",
       "      <td>20</td>\n",
       "      <td>0</td>\n",
       "      <td>5</td>\n",
       "      <td>5</td>\n",
       "      <td>5</td>\n",
       "      <td>13.800000</td>\n",
       "      <td>0</td>\n",
       "      <td>0</td>\n",
       "      <td>5</td>\n",
       "      <td>...</td>\n",
       "      <td>0</td>\n",
       "      <td>0</td>\n",
       "      <td>0</td>\n",
       "      <td>0</td>\n",
       "      <td>0</td>\n",
       "      <td>1</td>\n",
       "      <td>0</td>\n",
       "      <td>1</td>\n",
       "      <td>0</td>\n",
       "      <td>1</td>\n",
       "    </tr>\n",
       "    <tr>\n",
       "      <th>4423</th>\n",
       "      <td>1</td>\n",
       "      <td>22</td>\n",
       "      <td>0</td>\n",
       "      <td>6</td>\n",
       "      <td>8</td>\n",
       "      <td>6</td>\n",
       "      <td>11.666667</td>\n",
       "      <td>0</td>\n",
       "      <td>0</td>\n",
       "      <td>6</td>\n",
       "      <td>...</td>\n",
       "      <td>0</td>\n",
       "      <td>0</td>\n",
       "      <td>0</td>\n",
       "      <td>0</td>\n",
       "      <td>0</td>\n",
       "      <td>1</td>\n",
       "      <td>0</td>\n",
       "      <td>1</td>\n",
       "      <td>0</td>\n",
       "      <td>1</td>\n",
       "    </tr>\n",
       "  </tbody>\n",
       "</table>\n",
       "<p>4424 rows × 223 columns</p>\n",
       "</div>"
      ],
      "text/plain": [
       "      Application order  Age at enrollment  \\\n",
       "0                     5                 20   \n",
       "1                     1                 19   \n",
       "2                     5                 19   \n",
       "3                     2                 20   \n",
       "4                     1                 45   \n",
       "...                 ...                ...   \n",
       "4419                  6                 19   \n",
       "4420                  2                 18   \n",
       "4421                  1                 30   \n",
       "4422                  1                 20   \n",
       "4423                  1                 22   \n",
       "\n",
       "      Curricular units 1st sem (credited)  \\\n",
       "0                                       0   \n",
       "1                                       0   \n",
       "2                                       0   \n",
       "3                                       0   \n",
       "4                                       0   \n",
       "...                                   ...   \n",
       "4419                                    0   \n",
       "4420                                    0   \n",
       "4421                                    0   \n",
       "4422                                    0   \n",
       "4423                                    0   \n",
       "\n",
       "      Curricular units 1st sem (enrolled)  \\\n",
       "0                                       0   \n",
       "1                                       6   \n",
       "2                                       6   \n",
       "3                                       6   \n",
       "4                                       6   \n",
       "...                                   ...   \n",
       "4419                                    6   \n",
       "4420                                    6   \n",
       "4421                                    7   \n",
       "4422                                    5   \n",
       "4423                                    6   \n",
       "\n",
       "      Curricular units 1st sem (evaluations)  \\\n",
       "0                                          0   \n",
       "1                                          6   \n",
       "2                                          0   \n",
       "3                                          8   \n",
       "4                                          9   \n",
       "...                                      ...   \n",
       "4419                                       7   \n",
       "4420                                       6   \n",
       "4421                                       8   \n",
       "4422                                       5   \n",
       "4423                                       8   \n",
       "\n",
       "      Curricular units 1st sem (approved)  Curricular units 1st sem (grade)  \\\n",
       "0                                       0                          0.000000   \n",
       "1                                       6                         14.000000   \n",
       "2                                       0                          0.000000   \n",
       "3                                       6                         13.428571   \n",
       "4                                       5                         12.333333   \n",
       "...                                   ...                               ...   \n",
       "4419                                    5                         13.600000   \n",
       "4420                                    6                         12.000000   \n",
       "4421                                    7                         14.912500   \n",
       "4422                                    5                         13.800000   \n",
       "4423                                    6                         11.666667   \n",
       "\n",
       "      Curricular units 1st sem (without evaluations)  \\\n",
       "0                                                  0   \n",
       "1                                                  0   \n",
       "2                                                  0   \n",
       "3                                                  0   \n",
       "4                                                  0   \n",
       "...                                              ...   \n",
       "4419                                               0   \n",
       "4420                                               0   \n",
       "4421                                               0   \n",
       "4422                                               0   \n",
       "4423                                               0   \n",
       "\n",
       "      Curricular units 2nd sem (credited)  \\\n",
       "0                                       0   \n",
       "1                                       0   \n",
       "2                                       0   \n",
       "3                                       0   \n",
       "4                                       0   \n",
       "...                                   ...   \n",
       "4419                                    0   \n",
       "4420                                    0   \n",
       "4421                                    0   \n",
       "4422                                    0   \n",
       "4423                                    0   \n",
       "\n",
       "      Curricular units 2nd sem (enrolled)  ...  Mother's qualification_26  \\\n",
       "0                                       0  ...                          0   \n",
       "1                                       6  ...                          0   \n",
       "2                                       6  ...                          0   \n",
       "3                                       6  ...                          0   \n",
       "4                                       6  ...                          0   \n",
       "...                                   ...  ...                        ...   \n",
       "4419                                    6  ...                          0   \n",
       "4420                                    6  ...                          0   \n",
       "4421                                    8  ...                          0   \n",
       "4422                                    5  ...                          0   \n",
       "4423                                    6  ...                          0   \n",
       "\n",
       "      Mother's qualification_27  Mother's qualification_28  \\\n",
       "0                             0                          0   \n",
       "1                             0                          0   \n",
       "2                             0                          0   \n",
       "3                             0                          0   \n",
       "4                             0                          0   \n",
       "...                         ...                        ...   \n",
       "4419                          0                          0   \n",
       "4420                          0                          0   \n",
       "4421                          0                          0   \n",
       "4422                          0                          0   \n",
       "4423                          0                          0   \n",
       "\n",
       "      Mother's qualification_29  Daytime/evening attendance_0  \\\n",
       "0                             0                             0   \n",
       "1                             0                             0   \n",
       "2                             0                             0   \n",
       "3                             0                             0   \n",
       "4                             0                             1   \n",
       "...                         ...                           ...   \n",
       "4419                          0                             0   \n",
       "4420                          0                             0   \n",
       "4421                          0                             0   \n",
       "4422                          0                             0   \n",
       "4423                          0                             0   \n",
       "\n",
       "      Daytime/evening attendance_1  Displaced_0  Displaced_1  \\\n",
       "0                                1            0            1   \n",
       "1                                1            0            1   \n",
       "2                                1            0            1   \n",
       "3                                1            0            1   \n",
       "4                                0            1            0   \n",
       "...                            ...          ...          ...   \n",
       "4419                             1            1            0   \n",
       "4420                             1            0            1   \n",
       "4421                             1            0            1   \n",
       "4422                             1            0            1   \n",
       "4423                             1            0            1   \n",
       "\n",
       "      Tuition fees up to date_0  Tuition fees up to date_1  \n",
       "0                             0                          1  \n",
       "1                             1                          0  \n",
       "2                             1                          0  \n",
       "3                             0                          1  \n",
       "4                             0                          1  \n",
       "...                         ...                        ...  \n",
       "4419                          0                          1  \n",
       "4420                          1                          0  \n",
       "4421                          0                          1  \n",
       "4422                          0                          1  \n",
       "4423                          0                          1  \n",
       "\n",
       "[4424 rows x 223 columns]"
      ]
     },
     "execution_count": 12,
     "metadata": {},
     "output_type": "execute_result"
    }
   ],
   "source": [
    "\n",
    "df_ohe = pd.get_dummies(df_ohe, columns=cats)\n",
    "df_ohe"
   ]
  },
  {
   "cell_type": "markdown",
   "metadata": {
    "id": "phaER6DADM4E"
   },
   "source": [
    "Data Transformation for Numerical attributes"
   ]
  },
  {
   "cell_type": "code",
   "execution_count": 13,
   "metadata": {
    "id": "hhLr8rzODNI1"
   },
   "outputs": [],
   "source": [
    "column_names = df_ohe.columns.tolist()\n",
    "\n",
    "cats_set = set(cats)\n",
    "names_set = set(column_names)\n",
    "\n",
    "common_strings = names_set.intersection(cats_set)\n",
    "\n",
    "nats =  [item for item in names_set if item not in common_strings] # numerical attributes\n",
    "nats.remove('Target')\n"
   ]
  },
  {
   "cell_type": "code",
   "execution_count": 14,
   "metadata": {
    "colab": {
     "base_uri": "https://localhost:8080/"
    },
    "id": "t6ASPTD9E8m_",
    "outputId": "c3b292f7-915f-44b9-8c08-21bf3e4ebe2a"
   },
   "outputs": [
    {
     "name": "stdout",
     "output_type": "stream",
     "text": [
      "Normalized data:\n",
      "      Application order  Age at enrollment  \\\n",
      "0              0.555556           0.056604   \n",
      "1              0.111111           0.037736   \n",
      "2              0.555556           0.037736   \n",
      "3              0.222222           0.056604   \n",
      "4              0.111111           0.528302   \n",
      "...                 ...                ...   \n",
      "4419           0.666667           0.037736   \n",
      "4420           0.222222           0.018868   \n",
      "4421           0.111111           0.245283   \n",
      "4422           0.111111           0.056604   \n",
      "4423           0.111111           0.094340   \n",
      "\n",
      "      Curricular units 1st sem (credited)  \\\n",
      "0                                     0.0   \n",
      "1                                     0.0   \n",
      "2                                     0.0   \n",
      "3                                     0.0   \n",
      "4                                     0.0   \n",
      "...                                   ...   \n",
      "4419                                  0.0   \n",
      "4420                                  0.0   \n",
      "4421                                  0.0   \n",
      "4422                                  0.0   \n",
      "4423                                  0.0   \n",
      "\n",
      "      Curricular units 1st sem (enrolled)  \\\n",
      "0                                0.000000   \n",
      "1                                0.230769   \n",
      "2                                0.230769   \n",
      "3                                0.230769   \n",
      "4                                0.230769   \n",
      "...                                   ...   \n",
      "4419                             0.230769   \n",
      "4420                             0.230769   \n",
      "4421                             0.269231   \n",
      "4422                             0.192308   \n",
      "4423                             0.230769   \n",
      "\n",
      "      Curricular units 1st sem (evaluations)  \\\n",
      "0                                   0.000000   \n",
      "1                                   0.133333   \n",
      "2                                   0.000000   \n",
      "3                                   0.177778   \n",
      "4                                   0.200000   \n",
      "...                                      ...   \n",
      "4419                                0.155556   \n",
      "4420                                0.133333   \n",
      "4421                                0.177778   \n",
      "4422                                0.111111   \n",
      "4423                                0.177778   \n",
      "\n",
      "      Curricular units 1st sem (approved)  Curricular units 1st sem (grade)  \\\n",
      "0                                0.000000                          0.000000   \n",
      "1                                0.230769                          0.741722   \n",
      "2                                0.000000                          0.000000   \n",
      "3                                0.230769                          0.711447   \n",
      "4                                0.192308                          0.653422   \n",
      "...                                   ...                               ...   \n",
      "4419                             0.192308                          0.720530   \n",
      "4420                             0.230769                          0.635762   \n",
      "4421                             0.269231                          0.790066   \n",
      "4422                             0.192308                          0.731126   \n",
      "4423                             0.230769                          0.618102   \n",
      "\n",
      "      Curricular units 1st sem (without evaluations)  \\\n",
      "0                                                0.0   \n",
      "1                                                0.0   \n",
      "2                                                0.0   \n",
      "3                                                0.0   \n",
      "4                                                0.0   \n",
      "...                                              ...   \n",
      "4419                                             0.0   \n",
      "4420                                             0.0   \n",
      "4421                                             0.0   \n",
      "4422                                             0.0   \n",
      "4423                                             0.0   \n",
      "\n",
      "      Curricular units 2nd sem (credited)  \\\n",
      "0                                     0.0   \n",
      "1                                     0.0   \n",
      "2                                     0.0   \n",
      "3                                     0.0   \n",
      "4                                     0.0   \n",
      "...                                   ...   \n",
      "4419                                  0.0   \n",
      "4420                                  0.0   \n",
      "4421                                  0.0   \n",
      "4422                                  0.0   \n",
      "4423                                  0.0   \n",
      "\n",
      "      Curricular units 2nd sem (enrolled)  ...  Mother's qualification_26  \\\n",
      "0                                0.000000  ...                        0.0   \n",
      "1                                0.260870  ...                        0.0   \n",
      "2                                0.260870  ...                        0.0   \n",
      "3                                0.260870  ...                        0.0   \n",
      "4                                0.260870  ...                        0.0   \n",
      "...                                   ...  ...                        ...   \n",
      "4419                             0.260870  ...                        0.0   \n",
      "4420                             0.260870  ...                        0.0   \n",
      "4421                             0.347826  ...                        0.0   \n",
      "4422                             0.217391  ...                        0.0   \n",
      "4423                             0.260870  ...                        0.0   \n",
      "\n",
      "      Mother's qualification_27  Mother's qualification_28  \\\n",
      "0                           0.0                        0.0   \n",
      "1                           0.0                        0.0   \n",
      "2                           0.0                        0.0   \n",
      "3                           0.0                        0.0   \n",
      "4                           0.0                        0.0   \n",
      "...                         ...                        ...   \n",
      "4419                        0.0                        0.0   \n",
      "4420                        0.0                        0.0   \n",
      "4421                        0.0                        0.0   \n",
      "4422                        0.0                        0.0   \n",
      "4423                        0.0                        0.0   \n",
      "\n",
      "      Mother's qualification_29  Daytime/evening attendance_0  \\\n",
      "0                           0.0                           0.0   \n",
      "1                           0.0                           0.0   \n",
      "2                           0.0                           0.0   \n",
      "3                           0.0                           0.0   \n",
      "4                           0.0                           1.0   \n",
      "...                         ...                           ...   \n",
      "4419                        0.0                           0.0   \n",
      "4420                        0.0                           0.0   \n",
      "4421                        0.0                           0.0   \n",
      "4422                        0.0                           0.0   \n",
      "4423                        0.0                           0.0   \n",
      "\n",
      "      Daytime/evening attendance_1  Displaced_0  Displaced_1  \\\n",
      "0                              1.0          0.0          1.0   \n",
      "1                              1.0          0.0          1.0   \n",
      "2                              1.0          0.0          1.0   \n",
      "3                              1.0          0.0          1.0   \n",
      "4                              0.0          1.0          0.0   \n",
      "...                            ...          ...          ...   \n",
      "4419                           1.0          1.0          0.0   \n",
      "4420                           1.0          0.0          1.0   \n",
      "4421                           1.0          0.0          1.0   \n",
      "4422                           1.0          0.0          1.0   \n",
      "4423                           1.0          0.0          1.0   \n",
      "\n",
      "      Tuition fees up to date_0  Tuition fees up to date_1  \n",
      "0                           0.0                        1.0  \n",
      "1                           1.0                        0.0  \n",
      "2                           1.0                        0.0  \n",
      "3                           0.0                        1.0  \n",
      "4                           0.0                        1.0  \n",
      "...                         ...                        ...  \n",
      "4419                        0.0                        1.0  \n",
      "4420                        1.0                        0.0  \n",
      "4421                        0.0                        1.0  \n",
      "4422                        0.0                        1.0  \n",
      "4423                        0.0                        1.0  \n",
      "\n",
      "[4424 rows x 223 columns]\n"
     ]
    }
   ],
   "source": [
    "import numpy as np\n",
    "import pandas as pd\n",
    "from sklearn.preprocessing import MinMaxScaler\n",
    "\n",
    "\n",
    "numeric_df = df_ohe[nats]\n",
    "\n",
    "scaler = MinMaxScaler()\n",
    "scaled_data = scaler.fit_transform(numeric_df)\n",
    "\n",
    "scaled_df = pd.DataFrame(scaled_data, columns=nats)\n",
    "\n",
    "df_ohe[nats] = scaled_df\n",
    "\n",
    "print(\"Normalized data:\")\n",
    "print(df_ohe)\n",
    "\n"
   ]
  },
  {
   "cell_type": "code",
   "execution_count": null,
   "metadata": {
    "id": "3lq3bTKHyC10"
   },
   "outputs": [],
   "source": [
    "df_ohe.drop(df_ohe[df_ohe[\"Target\"]==2].index,inplace=True)"
   ]
  },
  {
   "cell_type": "code",
   "execution_count": null,
   "metadata": {
    "colab": {
     "base_uri": "https://localhost:8080/"
    },
    "id": "eQ5mJZX-_81h",
    "outputId": "a7f2c273-10fc-4cd8-c260-115ec8fa01e9"
   },
   "outputs": [
    {
     "name": "stdout",
     "output_type": "stream",
     "text": [
      "Features of the dataset :\n",
      "       Marital status  Application mode  Application order       Course  \\\n",
      "count     4424.000000       4424.000000        4424.000000  4424.000000   \n",
      "mean         1.178571          6.886980           1.727848     9.899186   \n",
      "std          0.605747          5.298964           1.313793     4.331792   \n",
      "min          1.000000          1.000000           0.000000     1.000000   \n",
      "25%          1.000000          1.000000           1.000000     6.000000   \n",
      "50%          1.000000          8.000000           1.000000    10.000000   \n",
      "75%          1.000000         12.000000           2.000000    13.000000   \n",
      "max          6.000000         18.000000           9.000000    17.000000   \n",
      "\n",
      "       Daytime/evening attendance  Previous qualification  Nacionality  \\\n",
      "count                 4424.000000             4424.000000  4424.000000   \n",
      "mean                     0.890823                2.531420     1.254521   \n",
      "std                      0.311897                3.963707     1.748447   \n",
      "min                      0.000000                1.000000     1.000000   \n",
      "25%                      1.000000                1.000000     1.000000   \n",
      "50%                      1.000000                1.000000     1.000000   \n",
      "75%                      1.000000                1.000000     1.000000   \n",
      "max                      1.000000               17.000000    21.000000   \n",
      "\n",
      "       Mother's qualification  Father's qualification  Mother's occupation  \\\n",
      "count             4424.000000             4424.000000          4424.000000   \n",
      "mean                12.322107               16.455244             7.317812   \n",
      "std                  9.026251               11.044800             3.997828   \n",
      "min                  1.000000                1.000000             1.000000   \n",
      "25%                  2.000000                3.000000             5.000000   \n",
      "50%                 13.000000               14.000000             6.000000   \n",
      "75%                 22.000000               27.000000            10.000000   \n",
      "max                 29.000000               34.000000            32.000000   \n",
      "\n",
      "       ...  Curricular units 2nd sem (credited)  \\\n",
      "count  ...                          4424.000000   \n",
      "mean   ...                             0.541817   \n",
      "std    ...                             1.918546   \n",
      "min    ...                             0.000000   \n",
      "25%    ...                             0.000000   \n",
      "50%    ...                             0.000000   \n",
      "75%    ...                             0.000000   \n",
      "max    ...                            19.000000   \n",
      "\n",
      "       Curricular units 2nd sem (enrolled)  \\\n",
      "count                          4424.000000   \n",
      "mean                              6.232143   \n",
      "std                               2.195951   \n",
      "min                               0.000000   \n",
      "25%                               5.000000   \n",
      "50%                               6.000000   \n",
      "75%                               7.000000   \n",
      "max                              23.000000   \n",
      "\n",
      "       Curricular units 2nd sem (evaluations)  \\\n",
      "count                             4424.000000   \n",
      "mean                                 8.063291   \n",
      "std                                  3.947951   \n",
      "min                                  0.000000   \n",
      "25%                                  6.000000   \n",
      "50%                                  8.000000   \n",
      "75%                                 10.000000   \n",
      "max                                 33.000000   \n",
      "\n",
      "       Curricular units 2nd sem (approved)  Curricular units 2nd sem (grade)  \\\n",
      "count                          4424.000000                       4424.000000   \n",
      "mean                              4.435805                         10.230206   \n",
      "std                               3.014764                          5.210808   \n",
      "min                               0.000000                          0.000000   \n",
      "25%                               2.000000                         10.750000   \n",
      "50%                               5.000000                         12.200000   \n",
      "75%                               6.000000                         13.333333   \n",
      "max                              20.000000                         18.571429   \n",
      "\n",
      "       Curricular units 2nd sem (without evaluations)  Unemployment rate  \\\n",
      "count                                     4424.000000        4424.000000   \n",
      "mean                                         0.150316          11.566139   \n",
      "std                                          0.753774           2.663850   \n",
      "min                                          0.000000           7.600000   \n",
      "25%                                          0.000000           9.400000   \n",
      "50%                                          0.000000          11.100000   \n",
      "75%                                          0.000000          13.900000   \n",
      "max                                         12.000000          16.200000   \n",
      "\n",
      "       Inflation rate          GDP       Target  \n",
      "count     4424.000000  4424.000000  4424.000000  \n",
      "mean         1.228029     0.001969     0.858273  \n",
      "std          1.382711     2.269935     0.693326  \n",
      "min         -0.800000    -4.060000     0.000000  \n",
      "25%          0.300000    -1.700000     0.000000  \n",
      "50%          1.400000     0.320000     1.000000  \n",
      "75%          2.600000     1.790000     1.000000  \n",
      "max          3.700000     3.510000     2.000000  \n",
      "\n",
      "[8 rows x 35 columns]\n"
     ]
    }
   ],
   "source": [
    "print(\"Features of the dataset :\")\n",
    "print(df.describe(include = 'all'))"
   ]
  },
  {
   "cell_type": "markdown",
   "metadata": {
    "id": "i9yBdafSq1Z3"
   },
   "source": [
    "# **Exploratory Data Analysis**\n",
    "\n",
    "to do: leo kim"
   ]
  },
  {
   "cell_type": "code",
   "execution_count": null,
   "metadata": {
    "id": "BOuYeObPsL2Y"
   },
   "outputs": [],
   "source": [
    "#will use mostly bar graphs to visualize and explore some data\n",
    "#since there are many (35) factors/columns, will only explore some data\n",
    "#data description and eda section in report is only 1-2 pages\n",
    "import seaborn as sns\n",
    "url = 'https://drive.google.com/uc?id=1RkoTj_yc3o99xDfzmE8q7QFURhf3FwdS'\n",
    "edadf = pd.read_csv(io.StringIO(requests.get(url).content.decode(\"utf-8\")))\n",
    "eda = edadf.copy()\n",
    "# display(eda)"
   ]
  },
  {
   "cell_type": "markdown",
   "metadata": {
    "id": "Cuql9n-LeOSq"
   },
   "source": [
    "The following plots will show a basic overview of some column/attribute data for visualization purposes."
   ]
  },
  {
   "cell_type": "code",
   "execution_count": null,
   "metadata": {
    "colab": {
     "base_uri": "https://localhost:8080/",
     "height": 474
    },
    "id": "L3KzRfrNApSN",
    "outputId": "c24eb4dd-6b9b-4c31-896e-45d182757603"
   },
   "outputs": [
    {
     "data": {
      "image/png": "[encoded data removed]",
      "text/plain": [
       "<Figure size 640x480 with 1 Axes>"
      ]
     },
     "metadata": {},
     "output_type": "display_data"
    }
   ],
   "source": [
    "#basic overview of Target data counts\n",
    "ax = sns.countplot(x=eda[\"Target\"])\n",
    "plt.title('Distribution of Student Target Outcomes', size=15)\n",
    "plt.xlabel('Target')\n",
    "plt.ylabel('Number of Students')\n",
    "\n",
    "for label in ax.containers:\n",
    "    ax.bar_label(label)\n",
    "\n",
    "plt.show()"
   ]
  },
  {
   "cell_type": "code",
   "execution_count": null,
   "metadata": {
    "colab": {
     "base_uri": "https://localhost:8080/"
    },
    "id": "hk5-WBfxPdOt",
    "outputId": "6024c8ca-2ff6-4ad9-de90-7faf0b539889"
   },
   "outputs": [
    {
     "name": "stdout",
     "output_type": "stream",
     "text": [
      "Total Students: 4424\n",
      "Dropout: 32.12%\n",
      "Graduate: 49.93%\n",
      "Enrolled: 17.95%\n"
     ]
    }
   ],
   "source": [
    "total_students = 1421+2209+794\n",
    "print(\"Total Students:\", total_students)\n",
    "print(\"Dropout:\" + ' {0:.2f}'.format(1421/total_students*100) + \"%\")\n",
    "print(\"Graduate:\" + ' {0:.2f}'.format(2209/total_students*100) + \"%\")\n",
    "print(\"Enrolled:\" + ' {0:.2f}'.format(794/total_students*100) + \"%\")"
   ]
  },
  {
   "cell_type": "markdown",
   "metadata": {
    "id": "Dz7TSkS7dquN"
   },
   "source": [
    "Most students in our dataset have graduated compared to dropped out. For our topic, we will drop Enrolled row values from the dataset. Enrolled does not answer our question because we need to know if the student has either graduated or dropped out. Enrolled just tells us that they are still in school and in progress."
   ]
  },
  {
   "cell_type": "code",
   "execution_count": null,
   "metadata": {
    "colab": {
     "base_uri": "https://localhost:8080/",
     "height": 449
    },
    "id": "LgsoBBGqEmjo",
    "outputId": "a37321fa-ab66-4a50-a6bb-1f76c7ce878c"
   },
   "outputs": [
    {
     "data": {
      "image/png": "[encoded data removed]",
      "text/plain": [
       "<Figure size 640x480 with 1 Axes>"
      ]
     },
     "metadata": {},
     "output_type": "display_data"
    }
   ],
   "source": [
    "#overview of student outcome target counts by gender\n",
    "sns.countplot(data=eda, x='Gender', hue='Target', hue_order=['Dropout', 'Enrolled', 'Graduate'])\n",
    "\n",
    "plt.xticks(ticks=[0,1], labels=['Female','Male'])\n",
    "plt.ylabel('Number of Students')\n",
    "plt.show()"
   ]
  },
  {
   "cell_type": "code",
   "execution_count": null,
   "metadata": {
    "colab": {
     "base_uri": "https://localhost:8080/",
     "height": 429
    },
    "id": "p47sWjjARgd-",
    "outputId": "155fade3-5614-4255-f8c7-607796ff1b46"
   },
   "outputs": [
    {
     "data": {
      "image/png": "[encoded data removed]",
      "text/plain": [
       "<Figure size 640x480 with 1 Axes>"
      ]
     },
     "metadata": {},
     "output_type": "display_data"
    },
    {
     "name": "stdout",
     "output_type": "stream",
     "text": [
      "Average age at enrollment: 23\n"
     ]
    }
   ],
   "source": [
    "#Example of looking for any outliers, in this case for the particular numerical attribute: age of enrollment\n",
    "sns.boxplot(y='Age at enrollment', flierprops={\"marker\":\"o\", \"markerfacecolor\":\"green\", \"markersize\":3.5,}, data=eda)\n",
    "plt.show()\n",
    "#note that round() will round down 2.49 to 2 and round up 2.5 to 3\n",
    "print(\"Average age at enrollment:\", round(np.mean(eda['Age at enrollment'])))"
   ]
  },
  {
   "cell_type": "markdown",
   "metadata": {
    "id": "JPSKvDuPS7CZ"
   },
   "source": [
    "Quick basic overview of simple demographic data using gender and age at enrollment.\n",
    "\n",
    "GENDER: Female has more graduates in this data.\n",
    "\n",
    "AGE AT ENROLLMENT: Average age of students in this data are younger at around 23 years old. The outliers start at 35 and onwards."
   ]
  },
  {
   "cell_type": "code",
   "execution_count": null,
   "metadata": {
    "colab": {
     "base_uri": "https://localhost:8080/",
     "height": 449
    },
    "id": "qCLJCBfrUQ9K",
    "outputId": "8137a75c-22b0-463e-e691-72b402919649"
   },
   "outputs": [
    {
     "data": {
      "image/png": "[encoded data removed]",
      "text/plain": [
       "<Figure size 640x480 with 1 Axes>"
      ]
     },
     "metadata": {},
     "output_type": "display_data"
    }
   ],
   "source": [
    "#overview of student outcome target counts by if tuition fees up to date\n",
    "sns.countplot(data=eda, x=\"Tuition fees up to date\", hue='Target', hue_order=['Dropout', 'Enrolled', 'Graduate'])\n",
    "\n",
    "plt.xticks(ticks=[0,1], labels=['No','Yes'])\n",
    "plt.xlabel('Tuition Fees Up to Date')\n",
    "plt.ylabel('Number of Students')\n",
    "plt.show()\n"
   ]
  },
  {
   "cell_type": "markdown",
   "metadata": {
    "id": "N473l-45fdnw"
   },
   "source": [
    "The majority of students that have graduated had tuition fees up to date. There is also a number of students that have dropped out that also had tuition fees up to date.\n",
    "\n",
    "However, take note how the majority of students that did not have tuition fees up to date dropped out."
   ]
  },
  {
   "cell_type": "code",
   "execution_count": null,
   "metadata": {
    "colab": {
     "base_uri": "https://localhost:8080/",
     "height": 449
    },
    "id": "v1b4z-96Xpxd",
    "outputId": "db5be7eb-b2a1-46b0-9a65-dc98713b0146"
   },
   "outputs": [
    {
     "data": {
      "image/png": "[encoded data removed]",
      "text/plain": [
       "<Figure size 640x480 with 1 Axes>"
      ]
     },
     "metadata": {},
     "output_type": "display_data"
    }
   ],
   "source": [
    "#overview of student outcome target counts by scholarship holders\n",
    "sns.countplot(data=eda, x=\"Scholarship holder\", hue='Target', hue_order=['Dropout', 'Enrolled', 'Graduate'])\n",
    "plt.xticks(ticks=[0,1], labels=['No','Yes'])\n",
    "plt.xlabel('Scholarship Holder')\n",
    "plt.ylabel('Number of Students')\n",
    "plt.show()"
   ]
  },
  {
   "cell_type": "markdown",
   "metadata": {
    "id": "VAxjS_POgCVL"
   },
   "source": [
    "Majority of scholarship holders ended up graduating.\n",
    "\n",
    "Majority of non scholarship holders also graduated. \n",
    "\n",
    "However, take note of how many students that dropped out were also non scholarship holders. "
   ]
  },
  {
   "cell_type": "code",
   "execution_count": null,
   "metadata": {
    "colab": {
     "base_uri": "https://localhost:8080/",
     "height": 449
    },
    "id": "YuZL4KFyXzfZ",
    "outputId": "e3047b20-714d-4cca-9f81-86cda389e507"
   },
   "outputs": [
    {
     "data": {
      "image/png": "[encoded data removed]",
      "text/plain": [
       "<Figure size 640x480 with 1 Axes>"
      ]
     },
     "metadata": {},
     "output_type": "display_data"
    }
   ],
   "source": [
    "#overview of student outcome target counts by course taken by students\n",
    "eda_course = eda.copy()\n",
    "eda_course['Course'] = eda_course['Course'].replace({1:'Biofuel Production Technologies',2:'Animation and Multimedia Design',3:'Social Service (Evening Attendance)',4:'Agronomy',5:'Communication Design',6:'Veterinary Nursing',7:'Informatics Engineering',8:'Equiniculture',9:'Management',10:'Social Service',11:'Tourism',12:'Nursing',13:'Oral Hygiene',14:'Advertising and Marketing Management',15:'Journalism and Communication',16:'Basic Education',17:'Management (Evening Attendance)'})\n",
    "# display(eda_course)\n",
    "ax = sns.countplot(data=eda_course, y=\"Course\", hue=\"Target\")\n",
    "plt.xlabel('Number of Students')\n",
    "plt.ylabel('Course')\n",
    "plt.yticks(labels=None)\n",
    "plt.show()"
   ]
  },
  {
   "cell_type": "markdown",
   "metadata": {
    "id": "kcCsETsPgW3X"
   },
   "source": [
    "Majority of graduates were enrolled in Nursing, Social Service, Journalism and Communication, and Veterinary Nursing."
   ]
  },
  {
   "cell_type": "markdown",
   "metadata": {
    "id": "9j6kfu9Akz2b"
   },
   "source": [
    "Overall, for a basic idea of the data, we looked at a mix of demographic, economic, and academic data to see the student outcomes based on the observed attributes.\n",
    "\n",
    "These previous basic plots were mostly just for visual purposes."
   ]
  },
  {
   "cell_type": "markdown",
   "metadata": {
    "id": "3HhwJ7kle_x8"
   },
   "source": [
    "Now, the next set of plots will dive deeper into the data. \n",
    "\n",
    "We will look at correlation (heat map) between the attributes.\n",
    "\n",
    "We will also look at some important features of our dataset."
   ]
  },
  {
   "cell_type": "code",
   "execution_count": null,
   "metadata": {
    "colab": {
     "base_uri": "https://localhost:8080/",
     "height": 1000
    },
    "id": "-E13beXgzQYz",
    "outputId": "8dc5c5f3-8d24-4c45-cca0-f41ed80d78bb"
   },
   "outputs": [
    {
     "data": {
      "image/png": "[encoded data removed]",
      "text/plain": [
       "<Figure size 1000x1000 with 2 Axes>"
      ]
     },
     "metadata": {},
     "output_type": "display_data"
    }
   ],
   "source": [
    "#make figure bigger because many categories\n",
    "plt.figure(figsize=(10,10))\n",
    "\n",
    "#selecting only the numerical columns\n",
    "eda_heatmap = eda.select_dtypes(include=np.number)\n",
    "# display(eda_heatmap)\n",
    "\n",
    "#using correlation method\n",
    "#too many categories, so no annotations inside the boxes unless the figure is super big\n",
    "sns.heatmap(eda_heatmap.corr(), vmin=-1, vmax=1, center= 0, cmap='coolwarm')\n",
    "plt.title('Correlation Heatmap Between Attributes')\n",
    "plt.show()"
   ]
  },
  {
   "cell_type": "markdown",
   "metadata": {
    "id": "ruLbuRyDgjJ8"
   },
   "source": [
    "Stronger positive correlations between the groups of categories involved with units enrolled during in school. Note how 2nd semester units positively correlate with 1st semester units. Mostly just tells us that these are continuing students in school. However, note how international and nacionality have high correlation with each other."
   ]
  },
  {
   "cell_type": "code",
   "execution_count": null,
   "metadata": {
    "colab": {
     "base_uri": "https://localhost:8080/"
    },
    "id": "smfJlBENx9py",
    "outputId": "cfaa9098-e277-4331-eb93-a12c3714dd8b"
   },
   "outputs": [
    {
     "data": {
      "text/plain": [
       "Portuguese              4314\n",
       "Brazilian                 38\n",
       "Santomean                 14\n",
       "Cape Verdean              13\n",
       "Spanish                   13\n",
       "Guinean                    5\n",
       "Republic of Moldovan       3\n",
       "Italian                    3\n",
       "Ukranian                   3\n",
       "Angolan                    2\n",
       "Mexican                    2\n",
       "Romanian                   2\n",
       "Mozambican                 2\n",
       "German                     2\n",
       "Russian                    2\n",
       "Turkish                    1\n",
       "Dutch                      1\n",
       "Colombian                  1\n",
       "Cuban                      1\n",
       "English                    1\n",
       "Lithuania                  1\n",
       "Name: Nacionality, dtype: int64"
      ]
     },
     "execution_count": 25,
     "metadata": {},
     "output_type": "execute_result"
    }
   ],
   "source": [
    "eda_n = eda.copy()\n",
    "eda_n.Nacionality = eda_n.Nacionality.replace(range(1,22), ['Portuguese', 'German','Spanish', 'Italian', 'Dutch', 'English', 'Lithuania', 'Angolan', 'Cape Verdean', 'Guinean', 'Mozambican', 'Santomean', 'Turkish', 'Brazilian', 'Romanian', 'Republic of Moldovan', 'Mexican', 'Ukranian', 'Russian', 'Cuban', 'Colombian'])\n",
    "eda_n.Nacionality.value_counts()"
   ]
  },
  {
   "cell_type": "markdown",
   "metadata": {
    "id": "dC26Y-zu0RW4"
   },
   "source": [
    "Dataset has dominant amount of Portuguese students which correlates with the international attribute as well. May be useful to drop Nacionality and International attributes because of the bias in these two attributes."
   ]
  },
  {
   "cell_type": "markdown",
   "metadata": {
    "id": "EaLGJSIVyYuq"
   },
   "source": [
    "Now, lets look at feature importance using xgboost. Xgboost was one of the techniques mentioned in the paper to find the more important features of this dataset."
   ]
  },
  {
   "cell_type": "code",
   "execution_count": null,
   "metadata": {
    "id": "am321FvphSU8"
   },
   "outputs": [],
   "source": [
    "url = 'https://drive.google.com/uc?id=1RkoTj_yc3o99xDfzmE8q7QFURhf3FwdS'\n",
    "df = pd.read_csv(io.StringIO(requests.get(url).content.decode(\"utf-8\")))\n",
    "fi_df = df.copy()\n",
    "# display(nb_df)\n",
    "\n",
    "#preprocessing\n",
    "\n",
    "#assign Target values and drop enrolled value\n",
    "class_mapping = {'Dropout': 0, 'Graduate': 1, 'Enrolled' : 2}\n",
    "fi_df['Target'] = fi_df['Target'].map(class_mapping)\n",
    "\n",
    "#drop dupes\n",
    "fi_df.drop_duplicates(inplace=True)\n",
    "\n",
    "#look for and fill any na with 0\n",
    "# print(fi_df.columns[fi_df.isna().any()])\n",
    "fi_df.columns[fi_df.isna().any()]\n",
    "fi_df = fi_df.fillna(0)\n",
    "eda_fi = fi_df.copy()"
   ]
  },
  {
   "cell_type": "code",
   "execution_count": null,
   "metadata": {
    "id": "sV1pJmUZpAMD"
   },
   "outputs": [],
   "source": [
    "from sklearn.preprocessing import StandardScaler\n",
    "from sklearn.model_selection import train_test_split\n",
    "\n",
    "X = eda_fi.drop('Target', axis=1)\n",
    "y = eda_fi['Target']\n",
    "X_train, X_test, y_train, y_test = train_test_split(X, y, test_size=0.25, random_state=42)\n",
    "\n",
    "ss = StandardScaler()\n",
    "X_train_scaled = ss.fit_transform(X_train)\n",
    "X_test_scaled = ss.transform(X_test)"
   ]
  },
  {
   "cell_type": "code",
   "execution_count": null,
   "metadata": {
    "id": "tvF56o03pRMy"
   },
   "outputs": [],
   "source": [
    "from xgboost import XGBClassifier\n",
    "\n",
    "model = XGBClassifier()\n",
    "model.fit(X_train_scaled, y_train)\n",
    "importances = pd.DataFrame(data={\n",
    "    'Attribute': X_train.columns,\n",
    "    'Importance': model.feature_importances_\n",
    "})\n",
    "importances = importances.sort_values(by='Importance', ascending=False)"
   ]
  },
  {
   "cell_type": "code",
   "execution_count": null,
   "metadata": {
    "colab": {
     "base_uri": "https://localhost:8080/",
     "height": 863
    },
    "id": "LHSvXoWKpW-V",
    "outputId": "6057d8aa-7658-48bc-efaa-d366343df44e"
   },
   "outputs": [
    {
     "data": {
      "image/png": "[encoded data removed]",
      "text/plain": [
       "<Figure size 1000x1000 with 1 Axes>"
      ]
     },
     "metadata": {},
     "output_type": "display_data"
    }
   ],
   "source": [
    "#sort the bar plot ascending order: higher values to bottom values\n",
    "importances.sort_values('Importance',inplace=True)\n",
    "\n",
    "#create plot\n",
    "#use figsize to adjust size of plot\n",
    "fig, ax = plt.subplots(figsize=(10, 10))\n",
    "plt.barh(y=importances['Attribute'], width=importances['Importance'],color='blue')\n",
    "ax.xaxis.set_tick_params(pad=5)\n",
    "ax.yaxis.set_tick_params(pad=5)\n",
    "plt.title('Feature Importances', size=20)\n",
    "\n",
    "plt.show()"
   ]
  },
  {
   "cell_type": "markdown",
   "metadata": {
    "id": "fVQch2vj1udf"
   },
   "source": [
    "This was just one method using xgboost to see what kind of features in our dataset might be important. There are multiple ways to use xgboost but this was a basic way to use xgboost.\n",
    "\n",
    "It can be seen how curricular units along with some economic features such as scholarship holder and tuition fee status seem to be important features. These types of features may be kept when using the models.\n",
    "\n",
    "Based on this plot and the heatmap from below, we could consider dropping some features from the dataset."
   ]
  },
  {
   "cell_type": "markdown",
   "metadata": {
    "id": "wpZTUZOWSyMT"
   },
   "source": [
    "# **Polynomial Regression**\n",
    "\n",
    "to do: arya"
   ]
  },
  {
   "cell_type": "code",
   "execution_count": null,
   "metadata": {
    "colab": {
     "base_uri": "https://localhost:8080/"
    },
    "id": "LnTn7w8xect-",
    "outputId": "f3fdcefc-47b4-46e1-d4b3-29712a32d2b0"
   },
   "outputs": [
    {
     "name": "stdout",
     "output_type": "stream",
     "text": [
      "(2904, 222) (726, 222)\n",
      "(2904,) (726,)\n"
     ]
    }
   ],
   "source": [
    "dd = df_ohe.copy()\n",
    "nb_train, nb_test = train_test_split(dd, test_size=0.2, random_state=0)\n",
    "X_nb_train, y_nb_train = nb_train.drop(columns=['Target']), nb_train['Target']\n",
    "X_nb_test, y_nb_test = nb_test.drop(columns=['Target']), nb_test['Target']\n",
    "print(X_nb_train.shape, X_nb_test.shape)\n",
    "print(y_nb_train.shape, y_nb_test.shape)"
   ]
  },
  {
   "cell_type": "code",
   "execution_count": null,
   "metadata": {
    "colab": {
     "base_uri": "https://localhost:8080/"
    },
    "id": "jUK3PsIp7UBv",
    "outputId": "dbeff116-2f43-421f-9433-5ebc6c267b6a"
   },
   "outputs": [
    {
     "data": {
      "text/plain": [
       "781     0\n",
       "4208    0\n",
       "2512    1\n",
       "1536    0\n",
       "1728    0\n",
       "Name: Target, dtype: int64"
      ]
     },
     "execution_count": 31,
     "metadata": {},
     "output_type": "execute_result"
    }
   ],
   "source": [
    "y_nb_train.head()"
   ]
  },
  {
   "cell_type": "code",
   "execution_count": null,
   "metadata": {
    "id": "BCsOpPu3C3-P"
   },
   "outputs": [],
   "source": [
    "y_nb_train = np.asarray(y_nb_train).reshape(-1, 1)"
   ]
  },
  {
   "cell_type": "code",
   "execution_count": null,
   "metadata": {
    "colab": {
     "base_uri": "https://localhost:8080/"
    },
    "id": "yjKid2QSHIzv",
    "outputId": "75fbc664-3496-4f9e-c07a-b00111071c35"
   },
   "outputs": [
    {
     "name": "stdout",
     "output_type": "stream",
     "text": [
      "Intercept: [-1.45944859e+12] Coefficients: [[-1.10868551e-02 -5.43527013e-02 -5.62719380e-01 -9.99533271e-02\n",
      "  -1.52365387e-01  1.16412067e+00 -5.63096634e-02  1.43433631e-01\n",
      "  -4.40906564e-01 -1.74461347e+00 -3.54906741e-01  2.54012923e+00\n",
      "  -1.49882558e-01  1.78574548e-01 -3.38090136e-02  2.37801614e-02\n",
      "   1.82484276e-02  2.61613673e+11  2.61613673e+11  2.61613673e+11\n",
      "   2.61613673e+11  2.61613673e+11  2.61613673e+11  2.61613673e+11\n",
      "   2.61613673e+11  2.61613673e+11  2.61613673e+11  2.61613673e+11\n",
      "   2.61613673e+11  2.61613673e+11  7.30966776e+10  7.30966776e+10\n",
      "   7.30966776e+10  7.30966776e+10  7.30966776e+10 -4.92770354e+09\n",
      "   7.30966776e+10  2.75064366e+10  1.14177093e+11 -7.06272547e+09\n",
      "   9.24789455e+09 -3.24308489e+09  7.30966776e+10  7.30966776e+10\n",
      "   7.30966776e+10  7.30966776e+10  7.30966776e+10  7.30966776e+10\n",
      "   1.18686919e+11  7.30966776e+10  5.80479645e+09  2.00823864e+11\n",
      "   7.30966776e+10  9.98141782e+08  7.30966776e+10  7.30966776e+10\n",
      "   7.30966776e+10  7.30966776e+10  7.30966776e+10  7.30966776e+10\n",
      "   7.30966776e+10  7.30966776e+10 -1.47106089e+08  9.96252386e+09\n",
      "   9.96252386e+09  3.68390505e+11 -2.80778387e+09  3.68390505e+11\n",
      "   3.68390505e+11  3.68390505e+11  3.68390505e+11  3.68390505e+11\n",
      "   3.68390505e+11  3.68390505e+11  3.68390505e+11  3.68390505e+11\n",
      "   3.68390505e+11  3.68390505e+11  3.68390505e+11  3.68390505e+11\n",
      "   3.68390505e+11  3.68390505e+11  3.68390505e+11  6.00456973e+10\n",
      "   6.00456974e+10 -2.68803855e+10 -2.68803855e+10 -2.68803855e+10\n",
      "  -2.68803855e+10 -2.68803855e+10 -2.68803855e+10 -2.68803855e+10\n",
      "  -2.68803855e+10 -2.68803855e+10 -2.68803855e+10 -2.68803855e+10\n",
      "   1.09535455e+10 -2.68803855e+10 -3.47754285e+07 -2.68803855e+10\n",
      "  -2.68803855e+10 -2.68803855e+10 -2.68803855e+10 -2.68803855e+10\n",
      "  -2.68803855e+10 -2.68803855e+10 -2.68803855e+10 -2.68803855e+10\n",
      "  -2.68803855e+10 -2.68803855e+10 -2.68803855e+10 -2.68803855e+10\n",
      "   1.87098555e+10 -2.68803855e+10 -1.94126323e+11  3.73844356e+11\n",
      "   5.07242402e+10  5.07242402e+10  5.07242402e+10  5.07242402e+10\n",
      "   5.07242402e+10  5.07242402e+10  5.07242402e+10  5.07242402e+10\n",
      "   5.07242402e+10  5.07242402e+10  5.07242402e+10  5.07242402e+10\n",
      "   1.28903093e+10  5.07242402e+10  5.07242402e+10  5.07242402e+10\n",
      "   5.07242402e+10  5.07242402e+10  5.07242402e+10  5.07242402e+10\n",
      "   5.07242402e+10  5.07242402e+10  5.07242402e+10  5.07242402e+10\n",
      "   5.07242402e+10  5.07242402e+10  5.07242402e+10  5.07242402e+10\n",
      "   5.07242402e+10  5.07242402e+10  5.07242402e+10  5.07242402e+10\n",
      "   5.07242402e+10  5.07242402e+10 -2.30251445e+10 -2.30251445e+10\n",
      "  -2.30251445e+10 -2.30251445e+10 -2.30251445e+10 -2.30251445e+10\n",
      "  -2.30251445e+10 -2.30251445e+10 -2.30251445e+10 -2.30251445e+10\n",
      "  -2.30251445e+10 -2.30251445e+10 -2.30251445e+10  0.00000000e+00\n",
      "   1.65491851e+11  1.24411436e+11  2.14576721e-06  1.65491851e+11\n",
      "   1.65491851e+11  1.65491851e+11  4.62867320e-07  1.65491851e+11\n",
      "   1.65491851e+11  1.65491851e+11  1.19901610e+11  3.77646646e+10\n",
      "   2.96690796e-06  1.65491851e+11  1.65491851e+11  1.65491851e+11\n",
      "   1.65491851e+11  3.77646646e+10  5.28620629e+10  5.28620629e+10\n",
      "   6.49369635e+10  6.49369635e+10  4.69757634e+10  4.69757634e+10\n",
      "   1.23516254e+11  1.23516254e+11  6.91486933e+11  1.23516254e+11\n",
      "   1.23516254e+11  1.23516254e+11  1.23516254e+11  1.23516254e+11\n",
      "   1.23516254e+11  1.23516254e+11  1.23516254e+11  1.23516254e+11\n",
      "   1.23516254e+11  1.23516254e+11  1.23516254e+11  1.23516254e+11\n",
      "   6.91486933e+11  9.64820753e+10  9.64820753e+10  9.64820753e+10\n",
      "   9.64820753e+10  9.64820753e+10  9.64820753e+10  9.64820753e+10\n",
      "   9.64820753e+10  9.64820753e+10  9.64820753e+10  9.64820753e+10\n",
      "   9.64820753e+10  9.64820753e+10  9.64820753e+10  9.64820753e+10\n",
      "   9.64820753e+10  9.64820753e+10]]\n",
      "RMSE: 0.27\n",
      "R2: 0.69\n"
     ]
    }
   ],
   "source": [
    "X_poly = np.asarray(X_nb_train)  # No need for PolynomialFeatures in this case\n",
    "\n",
    "plr = LinearRegression()\n",
    "\n",
    "plr.fit(X_poly, y_nb_train)\n",
    "\n",
    "predicted = plr.predict(np.asarray(X_nb_test))\n",
    "\n",
    "train_predicted = plr.predict(X_poly)\n",
    "\n",
    "print(\"Intercept:\", plr.intercept_, \"Coefficients:\", plr.coef_)\n",
    "\n",
    "print(\"RMSE: %.2f\" % mean_squared_error(y_nb_train, train_predicted, squared=False))\n",
    "print(\"R2: %.2f\" % r2_score(y_nb_train, train_predicted))"
   ]
  },
  {
   "cell_type": "code",
   "execution_count": null,
   "metadata": {
    "colab": {
     "base_uri": "https://localhost:8080/"
    },
    "id": "zsAElK2hHY5J",
    "outputId": "d5a17573-7f6a-44f9-85d5-e8720bfe282e"
   },
   "outputs": [
    {
     "name": "stderr",
     "output_type": "stream",
     "text": [
      "<ipython-input-34-3779b77e8849>:1: RuntimeWarning: overflow encountered in exp\n",
      "  probabilities = 1 / (1 + np.exp(-predicted))\n"
     ]
    }
   ],
   "source": [
    "probabilities = 1 / (1 + np.exp(-predicted))"
   ]
  },
  {
   "cell_type": "code",
   "execution_count": null,
   "metadata": {
    "colab": {
     "base_uri": "https://localhost:8080/"
    },
    "id": "Es1Gf-xkHcmR",
    "outputId": "b517521e-5b68-4a30-8495-e159c02033d8"
   },
   "outputs": [
    {
     "name": "stdout",
     "output_type": "stream",
     "text": [
      "Accuracy:  0.8842975206611571\n"
     ]
    }
   ],
   "source": [
    "threshold = 0.6\n",
    "\n",
    "y_pred_labels = np.where(probabilities >= threshold, 1, 0)\n",
    "\n",
    "print(\"Accuracy: \",accuracy_score(y_nb_test,y_pred_labels))"
   ]
  },
  {
   "cell_type": "code",
   "execution_count": null,
   "metadata": {
    "colab": {
     "base_uri": "https://localhost:8080/"
    },
    "id": "3FuOqrpaJTt1",
    "outputId": "8d2866e2-3d5b-4fe8-b9d6-dd9150468a5c"
   },
   "outputs": [
    {
     "name": "stdout",
     "output_type": "stream",
     "text": [
      "              precision    recall  f1-score   support\n",
      "\n",
      "           0       0.96      0.75      0.84       296\n",
      "           1       0.85      0.98      0.91       430\n",
      "\n",
      "    accuracy                           0.88       726\n",
      "   macro avg       0.90      0.86      0.88       726\n",
      "weighted avg       0.89      0.88      0.88       726\n",
      "\n"
     ]
    }
   ],
   "source": [
    "print(classification_report(y_nb_test,y_pred_labels))"
   ]
  },
  {
   "cell_type": "code",
   "execution_count": null,
   "metadata": {
    "colab": {
     "base_uri": "https://localhost:8080/"
    },
    "id": "t8RaE9LqJXw1",
    "outputId": "23b3ba4c-27d2-4316-e805-fd38cee3cafe"
   },
   "outputs": [
    {
     "name": "stdout",
     "output_type": "stream",
     "text": [
      "Confusion Matrix: \n",
      "[[222  74]\n",
      " [ 10 420]]\n"
     ]
    }
   ],
   "source": [
    "from sklearn.metrics import confusion_matrix\n",
    "\n",
    "print(\"Confusion Matrix: \")\n",
    "print(confusion_matrix(y_nb_test,y_pred_labels))"
   ]
  },
  {
   "cell_type": "code",
   "execution_count": null,
   "metadata": {
    "colab": {
     "base_uri": "https://localhost:8080/"
    },
    "id": "XApBWskGZam6",
    "outputId": "c42a2a86-6b7d-4b24-bdbd-64451ba16344"
   },
   "outputs": [
    {
     "name": "stdout",
     "output_type": "stream",
     "text": [
      "Intercept: [-9.28362202e+10] Coefficients: [[ 2.04648446e+11 -2.74403703e+11 -3.60178521e+09 ... -1.32868207e+08\n",
      "   0.00000000e+00 -2.02442458e+09]]\n",
      "RSME: 0.05\n",
      "R2: 0.99\n"
     ]
    }
   ],
   "source": [
    "poly = PolynomialFeatures(degree=2, include_bias=False)\n",
    "X_poly = poly.fit_transform(np.asarray(X_nb_train))\n",
    "\n",
    "X_poly.shape\n",
    "\n",
    "plr = LinearRegression()\n",
    "\n",
    "plr.fit(X_poly, y_nb_train)\n",
    "    \n",
    "predicted = plr.predict(poly.transform(np.asarray(X_nb_test)))\n",
    "\n",
    "train_predicted = plr.predict(poly.transform(np.asarray(X_nb_train)))\n",
    "\n",
    "print(\"Intercept:\", plr.intercept_, \"Coefficients:\", plr.coef_)\n",
    "\n",
    "print(\"RSME: %.2f\" % mean_squared_error(y_nb_train, train_predicted, squared = False))\n",
    "print(\"R2: %.2f\" % r2_score(y_nb_train, train_predicted))\n"
   ]
  },
  {
   "cell_type": "code",
   "execution_count": null,
   "metadata": {
    "colab": {
     "base_uri": "https://localhost:8080/"
    },
    "id": "4nqekM5fUUcL",
    "outputId": "15784005-e61f-4e42-c8d1-8b3d824d370a"
   },
   "outputs": [
    {
     "name": "stderr",
     "output_type": "stream",
     "text": [
      "<ipython-input-39-3779b77e8849>:1: RuntimeWarning: overflow encountered in exp\n",
      "  probabilities = 1 / (1 + np.exp(-predicted))\n"
     ]
    }
   ],
   "source": [
    "probabilities = 1 / (1 + np.exp(-predicted))"
   ]
  },
  {
   "cell_type": "code",
   "execution_count": null,
   "metadata": {
    "colab": {
     "base_uri": "https://localhost:8080/"
    },
    "id": "59MkabQUgjAf",
    "outputId": "7d72d159-b948-4665-e42c-e441de715ab0"
   },
   "outputs": [
    {
     "name": "stdout",
     "output_type": "stream",
     "text": [
      "Accuracy:  0.5647382920110193\n"
     ]
    }
   ],
   "source": [
    "threshold = 0.3\n",
    "\n",
    "y_pred_labels = np.where(probabilities >= threshold, 1, 0)\n",
    "\n",
    "print(\"Accuracy: \",accuracy_score(y_nb_test,y_pred_labels))"
   ]
  },
  {
   "cell_type": "code",
   "execution_count": null,
   "metadata": {
    "colab": {
     "base_uri": "https://localhost:8080/"
    },
    "id": "CRQD21RVpgsd",
    "outputId": "9a9ab2ba-1722-453c-93d9-72b6ca3208fd"
   },
   "outputs": [
    {
     "name": "stdout",
     "output_type": "stream",
     "text": [
      "              precision    recall  f1-score   support\n",
      "\n",
      "           0       0.46      0.43      0.45       296\n",
      "           1       0.63      0.66      0.64       430\n",
      "\n",
      "    accuracy                           0.56       726\n",
      "   macro avg       0.55      0.54      0.54       726\n",
      "weighted avg       0.56      0.56      0.56       726\n",
      "\n"
     ]
    }
   ],
   "source": [
    "print(classification_report(y_nb_test,y_pred_labels))"
   ]
  },
  {
   "cell_type": "code",
   "execution_count": null,
   "metadata": {
    "colab": {
     "base_uri": "https://localhost:8080/"
    },
    "id": "agDly72HpZOt",
    "outputId": "9e3979ba-d64a-41d4-cb01-2c77cdf89175"
   },
   "outputs": [
    {
     "name": "stdout",
     "output_type": "stream",
     "text": [
      "Confusion Matrix: \n",
      "[[128 168]\n",
      " [148 282]]\n"
     ]
    }
   ],
   "source": [
    "print(\"Confusion Matrix: \")\n",
    "print(confusion_matrix(y_nb_test,y_pred_labels))\n"
   ]
  },
  {
   "cell_type": "markdown",
   "metadata": {
    "id": "MecbjPCgd2NV"
   },
   "source": [
    "By comparing the accuracy of degree 1 and degree 2 polynomial regressions, it becomes evident that the interpretation and modeling approach using linear regression followed by the sigmoid function is better than degree = 2. This is due to the overfitting issue observed when using degree 2 polynomial regression."
   ]
  },
  {
   "cell_type": "markdown",
   "metadata": {
    "id": "NEdXlJHBDQW5"
   },
   "source": [
    "# **Logistic Regression**"
   ]
  },
  {
   "cell_type": "markdown",
   "metadata": {
    "id": "aOGnSbAzGEm1"
   },
   "source": [
    "*split* the data by 8:2"
   ]
  },
  {
   "cell_type": "code",
   "execution_count": null,
   "metadata": {
    "id": "JGTAx8FnDPoi"
   },
   "outputs": [],
   "source": [
    "data = df_ohe.copy()\n",
    "train, test = train_test_split(data, test_size=0.2, random_state=42)\n",
    "\n",
    "X_train, y_train = train.drop(columns=['Target']) ,train['Target']\n",
    "X_test, y_test = test.drop(columns=['Target']), test['Target']\n"
   ]
  },
  {
   "cell_type": "markdown",
   "metadata": {
    "id": "MrZoStMIQ14z"
   },
   "source": [
    "train the model"
   ]
  },
  {
   "cell_type": "code",
   "execution_count": null,
   "metadata": {
    "colab": {
     "base_uri": "https://localhost:8080/"
    },
    "id": "JpUssr10G_-L",
    "outputId": "052e102d-2d6b-487c-c7b9-6670b88605c6"
   },
   "outputs": [
    {
     "name": "stdout",
     "output_type": "stream",
     "text": [
      "              precision    recall  f1-score   support\n",
      "\n",
      "           0       0.91      0.81      0.86       277\n",
      "           1       0.89      0.95      0.92       449\n",
      "\n",
      "    accuracy                           0.90       726\n",
      "   macro avg       0.90      0.88      0.89       726\n",
      "weighted avg       0.90      0.90      0.90       726\n",
      "\n"
     ]
    }
   ],
   "source": [
    "from sklearn.metrics import classification_report\n",
    "from sklearn.linear_model import LogisticRegression\n",
    "\n",
    "lr_model = LogisticRegression(max_iter=10000)\n",
    "lr_model.fit(X_train, y_train)\n",
    "print(classification_report(y_test, lr_model.predict(X_test)))"
   ]
  },
  {
   "cell_type": "code",
   "execution_count": null,
   "metadata": {
    "colab": {
     "base_uri": "https://localhost:8080/"
    },
    "id": "eMyWX6X-HWPU",
    "outputId": "6ae80a78-8f78-4502-90c8-9ee3582b988f"
   },
   "outputs": [
    {
     "name": "stdout",
     "output_type": "stream",
     "text": [
      "Accuracy:  0.8994490358126722\n"
     ]
    }
   ],
   "source": [
    "y_pred = lr_model.predict(X_test)\n",
    "print(\"Accuracy: \",accuracy_score(y_test,y_pred))"
   ]
  },
  {
   "cell_type": "code",
   "execution_count": null,
   "metadata": {
    "colab": {
     "base_uri": "https://localhost:8080/"
    },
    "id": "im-5mDi5rr9G",
    "outputId": "68d3d696-d252-4095-d6e1-55ac372b0ae7"
   },
   "outputs": [
    {
     "name": "stdout",
     "output_type": "stream",
     "text": [
      "Confusion Matrix: \n",
      "[[225  52]\n",
      " [ 21 428]]\n"
     ]
    }
   ],
   "source": [
    "from sklearn.metrics import confusion_matrix\n",
    "\n",
    "print(\"Confusion Matrix: \")\n",
    "print(confusion_matrix(y_test, y_pred))\n"
   ]
  },
  {
   "cell_type": "markdown",
   "metadata": {
    "id": "EHzHipbqJKb-"
   },
   "source": [
    "K-fold Cross Validation for logistic function"
   ]
  },
  {
   "cell_type": "code",
   "execution_count": null,
   "metadata": {
    "colab": {
     "base_uri": "https://localhost:8080/"
    },
    "id": "vKJO-Q3KXzwB",
    "outputId": "5f51e66a-9fa1-498a-9289-662f1f339c5f"
   },
   "outputs": [
    {
     "name": "stdout",
     "output_type": "stream",
     "text": [
      "Accuracy scores: [0.9146005509641874, 0.9104683195592287, 0.9077134986225895, 0.9008264462809917, 0.9104683195592287]\n",
      "Average accuracy: 0.9088154269972453\n"
     ]
    }
   ],
   "source": [
    "from sklearn.model_selection import KFold\n",
    "from sklearn.metrics import accuracy_score\n",
    "\n",
    "accuracy_scores = []\n",
    "\n",
    "X = data.drop('Target', axis = 1)\n",
    "y = data['Target']\n",
    "\n",
    "X = X.values\n",
    "y = y.values\n",
    "\n",
    "kf = KFold(n_splits=5)\n",
    "\n",
    "for train_index, test_index in kf.split(X):\n",
    "    X_train, X_test = X[train_index], X[test_index]\n",
    "    y_train, y_test = y[train_index], y[test_index]\n",
    "\n",
    "    lr_model = LogisticRegression(max_iter = 10000)\n",
    "\n",
    "    lr_model.fit(X_train, y_train)\n",
    "\n",
    "    y_pred = lr_model.predict(X_test)\n",
    "    accuracy = accuracy_score(y_test, y_pred)\n",
    "    accuracy_scores.append(accuracy)\n",
    "\n",
    "average_accuracy = np.mean(accuracy_scores)\n",
    "\n",
    "print(\"Accuracy scores:\", accuracy_scores)\n",
    "print(\"Average accuracy:\", average_accuracy)"
   ]
  },
  {
   "cell_type": "code",
   "execution_count": null,
   "metadata": {
    "id": "V_nxLRdCN-dq"
   },
   "outputs": [],
   "source": [
    "#for frontend \n",
    "pickle.dump(lr_model, open('model.pkl', 'wb'))"
   ]
  },
  {
   "cell_type": "code",
   "execution_count": null,
   "metadata": {
    "colab": {
     "base_uri": "https://localhost:8080/"
    },
    "id": "pWvxOnmqmX1N",
    "outputId": "65021493-7561-4b11-8d6f-dee59937c9e6"
   },
   "outputs": [
    {
     "name": "stdout",
     "output_type": "stream",
     "text": [
      "Confusion Matrix:\n",
      "[[251  52]\n",
      " [ 13 410]]\n"
     ]
    }
   ],
   "source": [
    "from sklearn.metrics import confusion_matrix\n",
    "\n",
    "cm = confusion_matrix(y_test, y_pred)\n",
    "\n",
    "print(\"Confusion Matrix:\")\n",
    "print(cm)"
   ]
  },
  {
   "cell_type": "markdown",
   "metadata": {
    "id": "oED0X21DgVnp"
   },
   "source": [
    "K-fold cross validation for logistic regression improved 1% accuracy. Thus, K-fold cross validation for logistic regression is better."
   ]
  },
  {
   "cell_type": "markdown",
   "metadata": {
    "id": "I9A8QZFM-Ob5"
   },
   "source": [
    "# **FeedForward Neural Network**\n",
    "to do: srivatsan"
   ]
  },
  {
   "cell_type": "code",
   "execution_count": null,
   "metadata": {
    "colab": {
     "base_uri": "https://localhost:8080/"
    },
    "id": "RsqOaRuFHEMQ",
    "outputId": "cda35eed-43ab-420c-fbf9-157f402ed274"
   },
   "outputs": [
    {
     "name": "stdout",
     "output_type": "stream",
     "text": [
      "Case 1: logistic 100 batch size\n",
      "Accuracy :  0.8622589531680441\n",
      "Mean Square Error :  0.13774104683195593\n",
      "[[0 1]\n",
      " [0 1]\n",
      " [0 1]\n",
      " [1 0]\n",
      " [1 0]]\n",
      "Confusion Matrix for each label : \n",
      "[[[191  16]\n",
      "  [ 34 122]]\n",
      "\n",
      " [[122  34]\n",
      "  [ 16 191]]]\n",
      "Classification Report : \n",
      "              precision    recall  f1-score   support\n",
      "\n",
      "           0       0.88      0.78      0.83       156\n",
      "           1       0.85      0.92      0.88       207\n",
      "\n",
      "   micro avg       0.86      0.86      0.86       363\n",
      "   macro avg       0.87      0.85      0.86       363\n",
      "weighted avg       0.86      0.86      0.86       363\n",
      " samples avg       0.86      0.86      0.86       363\n",
      "\n",
      "Case 2: logistic 70 batch size\n",
      "Accuracy :  0.8622589531680441\n",
      "Mean Square Error :  0.13774104683195593\n",
      "[[0 1]\n",
      " [1 0]\n",
      " [0 1]\n",
      " [1 0]\n",
      " [1 0]]\n",
      "Confusion Matrix for each label : \n",
      "[[[193  14]\n",
      "  [ 36 120]]\n",
      "\n",
      " [[120  36]\n",
      "  [ 14 193]]]\n",
      "Classification Report : \n",
      "              precision    recall  f1-score   support\n",
      "\n",
      "           0       0.90      0.77      0.83       156\n",
      "           1       0.84      0.93      0.89       207\n",
      "\n",
      "   micro avg       0.86      0.86      0.86       363\n",
      "   macro avg       0.87      0.85      0.86       363\n",
      "weighted avg       0.87      0.86      0.86       363\n",
      " samples avg       0.86      0.86      0.86       363\n",
      "\n",
      "Case 3: tanh activation 100 batch size\n",
      "Accuracy :  0.8898071625344353\n",
      "Mean Square Error :  0.11019283746556474\n",
      "[[0 1]\n",
      " [0 1]\n",
      " [0 1]\n",
      " [1 0]\n",
      " [1 0]]\n",
      "Confusion Matrix for each label : \n",
      "[[[199   8]\n",
      "  [ 32 124]]\n",
      "\n",
      " [[124  32]\n",
      "  [  8 199]]]\n",
      "Classification Report : \n",
      "              precision    recall  f1-score   support\n",
      "\n",
      "           0       0.94      0.79      0.86       156\n",
      "           1       0.86      0.96      0.91       207\n",
      "\n",
      "   micro avg       0.89      0.89      0.89       363\n",
      "   macro avg       0.90      0.88      0.88       363\n",
      "weighted avg       0.89      0.89      0.89       363\n",
      " samples avg       0.89      0.89      0.89       363\n",
      "\n",
      "Case 4: lbfgs solver tanh activation 100 batch size\n",
      "Accuracy :  0.8567493112947658\n",
      "Mean Square Error :  0.14325068870523416\n",
      "[[0 1]\n",
      " [1 0]\n",
      " [0 1]\n",
      " [1 0]\n",
      " [1 0]]\n",
      "Confusion Matrix for each label : \n",
      "[[[183  24]\n",
      "  [ 28 128]]\n",
      "\n",
      " [[128  28]\n",
      "  [ 24 183]]]\n",
      "Classification Report : \n",
      "              precision    recall  f1-score   support\n",
      "\n",
      "           0       0.84      0.82      0.83       156\n",
      "           1       0.87      0.88      0.88       207\n",
      "\n",
      "   micro avg       0.86      0.86      0.86       363\n",
      "   macro avg       0.85      0.85      0.85       363\n",
      "weighted avg       0.86      0.86      0.86       363\n",
      " samples avg       0.86      0.86      0.86       363\n",
      "\n"
     ]
    }
   ],
   "source": [
    "# print(\"Dataset :\")\n",
    "# print(df.head())\n",
    "# print(\"Targets : \")\n",
    "# print(df['Target'].unique())\n",
    "\n",
    "# print(\"Dimensions of the dataset : \", df.shape)\n",
    "# print(\"Features of the dataset :\")\n",
    "# print(df.describe(include = 'all'))\n",
    "df2 = df_ohe.copy()\n",
    "X = df2.drop('Target', axis = 1)\n",
    "y = df2['Target']\n",
    "\n",
    "# normalize data\n",
    "scaler = MinMaxScaler(feature_range=(0, 1))\n",
    "X_rescaled = scaler.fit_transform(X)\n",
    "X = pd.DataFrame(data = X_rescaled, columns = X.columns)\n",
    "\n",
    "set_of_classes = y.value_counts().index.tolist()\n",
    "set_of_classes= pd.DataFrame({'Target': set_of_classes})\n",
    "y = pd.get_dummies(y)\n",
    "\n",
    "# print(\"Pre-processed data :\")\n",
    "# print(X)\n",
    "\n",
    "# print(\"Pre-processed class :\")\n",
    "# print(y)\n",
    "\n",
    "#splitting data into ratio 90:10\n",
    "data_train, data_test, class_train, class_test = train_test_split(X, y, test_size=0.1)\n",
    "\n",
    "# Number of nodes in each hidden layer should be (12, 3)\n",
    "# Learning rate should be 0.3\n",
    "# Number of epochs should be 500\n",
    "mlp = MLPClassifier(solver = 'sgd', random_state = 42, activation = 'logistic', learning_rate_init = 0.3, batch_size = 100, hidden_layer_sizes = (12, 3), max_iter = 500)\n",
    "mlp\n",
    "\n",
    "mlp2 = MLPClassifier(solver = 'sgd', random_state = 42, activation = 'logistic', learning_rate_init = 0.3, batch_size = 70, hidden_layer_sizes = (12, 3), max_iter = 500)\n",
    "mlp2\n",
    "\n",
    "mlp3 = MLPClassifier(solver = 'sgd', random_state = 42, activation = 'tanh', learning_rate_init = 0.3, batch_size = 100, hidden_layer_sizes = (12, 3), max_iter = 500)\n",
    "mlp3\n",
    "\n",
    "mlp4 = MLPClassifier(solver = 'lbfgs', random_state = 42, activation = 'tanh', learning_rate_init = 0.3, batch_size = 100, hidden_layer_sizes = (12, 3), max_iter = 3000)\n",
    "mlp4\n",
    "\n",
    "mlp5 = MLPClassifier(solver = 'lbfgs', random_state = 42, activation = 'logistic', learning_rate_init = 0.3, batch_size = 100, hidden_layer_sizes = (12, 3), max_iter = 500)\n",
    "mlp5\n",
    "\n",
    "\n",
    "\n",
    "#case 1\n",
    "y = df2['Target']\n",
    "y = pd.get_dummies(y)\n",
    "mlp.fit(data_train, class_train)\n",
    "\n",
    "pred = mlp.predict(data_test)\n",
    "pred\n",
    "#prediction on the test data. species are represented using the hot-keys\n",
    "print(\"Case 1: logistic 100 batch size\")\n",
    "print(\"Accuracy : \", accuracy_score(class_test, pred))\n",
    "print(\"Mean Square Error : \", mean_squared_error(class_test, pred))\n",
    "\n",
    "print(pred[:5])\n",
    "print(\"Confusion Matrix for each label : \")\n",
    "print(multilabel_confusion_matrix(class_test, pred))\n",
    "\n",
    "print(\"Classification Report : \")\n",
    "print(classification_report(class_test, pred))\n",
    "\n",
    "#case 2\n",
    "y2 = df2['Target']\n",
    "y2 = pd.get_dummies(y2)\n",
    "mlp2.fit(data_train, class_train)\n",
    "\n",
    "pred2 = mlp2.predict(data_test)\n",
    "pred2\n",
    "#prediction on the test data. species are represented using the hot-keys\n",
    "print(\"Case 2: logistic 70 batch size\")\n",
    "print(\"Accuracy : \", accuracy_score(class_test, pred2))\n",
    "print(\"Mean Square Error : \", mean_squared_error(class_test, pred2))\n",
    "\n",
    "print(pred2[:5])\n",
    "print(\"Confusion Matrix for each label : \")\n",
    "print(multilabel_confusion_matrix(class_test, pred2))\n",
    "\n",
    "print(\"Classification Report : \")\n",
    "print(classification_report(class_test, pred2))\n",
    "\n",
    "#case 3\n",
    "y3 = df2['Target']\n",
    "y3 = pd.get_dummies(y3)\n",
    "mlp3.fit(data_train, class_train)\n",
    "\n",
    "pred3 = mlp3.predict(data_test)\n",
    "pred3\n",
    "#prediction on the test data. species are represented using the hot-keys\n",
    "print(\"Case 3: tanh activation 100 batch size\")\n",
    "print(\"Accuracy : \", accuracy_score(class_test, pred3))\n",
    "print(\"Mean Square Error : \", mean_squared_error(class_test, pred3))\n",
    "\n",
    "print(pred3[:5])\n",
    "print(\"Confusion Matrix for each label : \")\n",
    "print(multilabel_confusion_matrix(class_test, pred3))\n",
    "\n",
    "print(\"Classification Report : \")\n",
    "print(classification_report(class_test, pred3))\n",
    "\n",
    "#case 4\n",
    "y4 = df2['Target']\n",
    "y4 = pd.get_dummies(y4)\n",
    "mlp4.fit(data_train, class_train)\n",
    "\n",
    "pred4 = mlp4.predict(data_test)\n",
    "pred4\n",
    "#prediction on the test data. species are represented using the hot-keys\n",
    "print(\"Case 4: lbfgs solver tanh activation 100 batch size\")\n",
    "print(\"Accuracy : \", accuracy_score(class_test, pred4))\n",
    "print(\"Mean Square Error : \", mean_squared_error(class_test, pred4))\n",
    "\n",
    "print(pred4[:5])\n",
    "print(\"Confusion Matrix for each label : \")\n",
    "print(multilabel_confusion_matrix(class_test, pred4))\n",
    "\n",
    "print(\"Classification Report : \")\n",
    "print(classification_report(class_test, pred4))\n",
    "\n",
    "\n",
    "\n"
   ]
  },
  {
   "cell_type": "markdown",
   "metadata": {
    "id": "ZPilUSHoYs3R"
   },
   "source": [
    "# **Decision Tree**"
   ]
  },
  {
   "cell_type": "code",
   "execution_count": null,
   "metadata": {
    "colab": {
     "base_uri": "https://localhost:8080/"
    },
    "id": "jzB4jMIlYsWE",
    "outputId": "227cebe9-1243-4657-dbd2-c570f562b9ba"
   },
   "outputs": [
    {
     "name": "stdout",
     "output_type": "stream",
     "text": [
      "              precision    recall  f1-score   support\n",
      "\n",
      "           0       0.79      0.79      0.79       277\n",
      "           1       0.87      0.87      0.87       449\n",
      "\n",
      "    accuracy                           0.84       726\n",
      "   macro avg       0.83      0.83      0.83       726\n",
      "weighted avg       0.84      0.84      0.84       726\n",
      "\n"
     ]
    }
   ],
   "source": [
    "from sklearn.tree import DecisionTreeClassifier\n",
    "from sklearn.model_selection import train_test_split\n",
    "from sklearn.metrics import classification_report\n",
    "from sklearn import tree\n",
    "\n",
    "data = df_ohe.copy()\n",
    "train, test = train_test_split(data, test_size=0.2, random_state=42)\n",
    "\n",
    "X_train, y_train = train.drop(columns=['Target']) ,train['Target']\n",
    "X_test, y_test = test.drop(columns=['Target']), test['Target']\n",
    "\n",
    "clf = tree.DecisionTreeClassifier()\n",
    "\n",
    "clf.fit(X_train, y_train)\n",
    "\n",
    "y_pred = clf.predict(X_test)\n",
    "\n",
    "print(classification_report(y_test, y_pred))"
   ]
  },
  {
   "cell_type": "code",
   "execution_count": null,
   "metadata": {
    "colab": {
     "base_uri": "https://localhost:8080/"
    },
    "id": "sQ1HvxVEKU8n",
    "outputId": "cea67762-71c5-46b9-fa8a-a78fd01a31df"
   },
   "outputs": [
    {
     "name": "stdout",
     "output_type": "stream",
     "text": [
      "Confusion Matrix:\n",
      "[[219  58]\n",
      " [ 57 392]]\n"
     ]
    }
   ],
   "source": [
    "cm = confusion_matrix(y_test, y_pred)\n",
    "\n",
    "print(\"Confusion Matrix:\")\n",
    "print(cm)"
   ]
  },
  {
   "cell_type": "code",
   "execution_count": null,
   "metadata": {
    "colab": {
     "base_uri": "https://localhost:8080/",
     "height": 1000
    },
    "id": "3kOazFz0ZSWY",
    "outputId": "b4938dec-a1ac-4c06-cece-0ea9ab9fc79a"
   },
   "outputs": [
    {
     "data": {
      "text/plain": [
       "[Text(0.2838827079487771, 0.9772727272727273, 'x[11] <= 0.175\\ngini = 0.478\\nsamples = 2904\\nvalue = [1144, 1760]'),\n",
       " Text(0.1282879556991232, 0.9318181818181818, 'x[3] <= 0.019\\ngini = 0.18\\nsamples = 951\\nvalue = [856, 95]'),\n",
       " Text(0.05229964620827565, 0.8863636363636364, 'x[84] <= 0.5\\ngini = 0.5\\nsamples = 127\\nvalue = [63, 64]'),\n",
       " Text(0.014766958929395477, 0.8409090909090909, 'x[25] <= 0.5\\ngini = 0.18\\nsamples = 20\\nvalue = [18, 2]'),\n",
       " Text(0.009844639286263652, 0.7954545454545454, 'x[20] <= 0.5\\ngini = 0.1\\nsamples = 19\\nvalue = [18, 1]'),\n",
       " Text(0.004922319643131826, 0.75, 'gini = 0.0\\nsamples = 17\\nvalue = [17, 0]'),\n",
       " Text(0.014766958929395477, 0.75, 'x[64] <= 0.5\\ngini = 0.5\\nsamples = 2\\nvalue = [1, 1]'),\n",
       " Text(0.009844639286263652, 0.7045454545454546, 'gini = 0.0\\nsamples = 1\\nvalue = [0, 1]'),\n",
       " Text(0.019689278572527304, 0.7045454545454546, 'gini = 0.0\\nsamples = 1\\nvalue = [1, 0]'),\n",
       " Text(0.019689278572527304, 0.7954545454545454, 'gini = 0.0\\nsamples = 1\\nvalue = [0, 1]'),\n",
       " Text(0.08983233348715582, 0.8409090909090909, 'x[65] <= 0.5\\ngini = 0.487\\nsamples = 107\\nvalue = [45, 62]'),\n",
       " Text(0.06399015536071373, 0.7954545454545454, 'x[15] <= 0.3\\ngini = 0.486\\nsamples = 36\\nvalue = [21, 15]'),\n",
       " Text(0.03937855714505461, 0.75, 'x[116] <= 0.5\\ngini = 0.444\\nsamples = 12\\nvalue = [4, 8]'),\n",
       " Text(0.029533917858790955, 0.7045454545454546, 'x[26] <= 0.5\\ngini = 0.245\\nsamples = 7\\nvalue = [1, 6]'),\n",
       " Text(0.024611598215659128, 0.6590909090909091, 'gini = 0.0\\nsamples = 6\\nvalue = [0, 6]'),\n",
       " Text(0.03445623750192278, 0.6590909090909091, 'gini = 0.0\\nsamples = 1\\nvalue = [1, 0]'),\n",
       " Text(0.049223196431318256, 0.7045454545454546, 'x[1] <= 0.047\\ngini = 0.48\\nsamples = 5\\nvalue = [3, 2]'),\n",
       " Text(0.044300876788186436, 0.6590909090909091, 'gini = 0.0\\nsamples = 2\\nvalue = [2, 0]'),\n",
       " Text(0.05414551607445008, 0.6590909090909091, 'x[63] <= 0.5\\ngini = 0.444\\nsamples = 3\\nvalue = [1, 2]'),\n",
       " Text(0.049223196431318256, 0.6136363636363636, 'gini = 0.0\\nsamples = 1\\nvalue = [1, 0]'),\n",
       " Text(0.05906783571758191, 0.6136363636363636, 'gini = 0.0\\nsamples = 2\\nvalue = [0, 2]'),\n",
       " Text(0.08860175357637287, 0.75, 'x[19] <= 0.5\\ngini = 0.413\\nsamples = 24\\nvalue = [17, 7]'),\n",
       " Text(0.08367943393324104, 0.7045454545454546, 'x[183] <= 0.5\\ngini = 0.351\\nsamples = 22\\nvalue = [17, 5]'),\n",
       " Text(0.07383479464697738, 0.6590909090909091, 'x[213] <= 0.5\\ngini = 0.133\\nsamples = 14\\nvalue = [13, 1]'),\n",
       " Text(0.06891247500384556, 0.6136363636363636, 'gini = 0.0\\nsamples = 13\\nvalue = [13, 0]'),\n",
       " Text(0.07875711429010922, 0.6136363636363636, 'gini = 0.0\\nsamples = 1\\nvalue = [0, 1]'),\n",
       " Text(0.09352407321950469, 0.6590909090909091, 'x[0] <= 0.167\\ngini = 0.5\\nsamples = 8\\nvalue = [4, 4]'),\n",
       " Text(0.08860175357637287, 0.6136363636363636, 'x[15] <= 0.556\\ngini = 0.32\\nsamples = 5\\nvalue = [4, 1]'),\n",
       " Text(0.08367943393324104, 0.5681818181818182, 'gini = 0.0\\nsamples = 1\\nvalue = [0, 1]'),\n",
       " Text(0.09352407321950469, 0.5681818181818182, 'gini = 0.0\\nsamples = 4\\nvalue = [4, 0]'),\n",
       " Text(0.09844639286263651, 0.6136363636363636, 'gini = 0.0\\nsamples = 3\\nvalue = [0, 3]'),\n",
       " Text(0.09352407321950469, 0.7045454545454546, 'gini = 0.0\\nsamples = 2\\nvalue = [0, 2]'),\n",
       " Text(0.1156745116135979, 0.7954545454545454, 'x[16] <= 0.062\\ngini = 0.448\\nsamples = 71\\nvalue = [24, 47]'),\n",
       " Text(0.11075219197046608, 0.75, 'gini = 0.0\\nsamples = 3\\nvalue = [3, 0]'),\n",
       " Text(0.12059683125672974, 0.75, 'x[14] <= 0.076\\ngini = 0.427\\nsamples = 68\\nvalue = [21, 47]'),\n",
       " Text(0.1156745116135979, 0.7045454545454546, 'gini = 0.0\\nsamples = 8\\nvalue = [0, 8]'),\n",
       " Text(0.12551915089986157, 0.7045454545454546, 'x[182] <= 0.5\\ngini = 0.455\\nsamples = 60\\nvalue = [21, 39]'),\n",
       " Text(0.113213351792032, 0.6590909090909091, 'x[21] <= 0.5\\ngini = 0.255\\nsamples = 20\\nvalue = [3, 17]'),\n",
       " Text(0.10829103214890017, 0.6136363636363636, 'x[20] <= 0.5\\ngini = 0.188\\nsamples = 19\\nvalue = [2, 17]'),\n",
       " Text(0.10336871250576835, 0.5681818181818182, 'x[158] <= 0.5\\ngini = 0.105\\nsamples = 18\\nvalue = [1, 17]'),\n",
       " Text(0.09844639286263651, 0.5227272727272727, 'gini = 0.0\\nsamples = 17\\nvalue = [0, 17]'),\n",
       " Text(0.10829103214890017, 0.5227272727272727, 'gini = 0.0\\nsamples = 1\\nvalue = [1, 0]'),\n",
       " Text(0.113213351792032, 0.5681818181818182, 'gini = 0.0\\nsamples = 1\\nvalue = [1, 0]'),\n",
       " Text(0.11813567143516382, 0.6136363636363636, 'gini = 0.0\\nsamples = 1\\nvalue = [1, 0]'),\n",
       " Text(0.13782495000769113, 0.6590909090909091, 'x[142] <= 0.5\\ngini = 0.495\\nsamples = 40\\nvalue = [18, 22]'),\n",
       " Text(0.12798031072142746, 0.6136363636363636, 'x[20] <= 0.5\\ngini = 0.463\\nsamples = 33\\nvalue = [12, 21]'),\n",
       " Text(0.12305799107829565, 0.5681818181818182, 'x[184] <= 0.5\\ngini = 0.497\\nsamples = 26\\nvalue = [12, 14]'),\n",
       " Text(0.11813567143516382, 0.5227272727272727, 'x[1] <= 0.028\\ngini = 0.476\\nsamples = 23\\nvalue = [9, 14]'),\n",
       " Text(0.10582987232733426, 0.4772727272727273, 'x[118] <= 0.5\\ngini = 0.32\\nsamples = 10\\nvalue = [2, 8]'),\n",
       " Text(0.10090755268420243, 0.4318181818181818, 'x[155] <= 0.5\\ngini = 0.198\\nsamples = 9\\nvalue = [1, 8]'),\n",
       " Text(0.09598523304107061, 0.38636363636363635, 'gini = 0.0\\nsamples = 8\\nvalue = [0, 8]'),\n",
       " Text(0.10582987232733426, 0.38636363636363635, 'gini = 0.0\\nsamples = 1\\nvalue = [1, 0]'),\n",
       " Text(0.11075219197046608, 0.4318181818181818, 'gini = 0.0\\nsamples = 1\\nvalue = [1, 0]'),\n",
       " Text(0.13044147054299338, 0.4772727272727273, 'x[16] <= 0.528\\ngini = 0.497\\nsamples = 13\\nvalue = [7, 6]'),\n",
       " Text(0.12059683125672974, 0.4318181818181818, 'x[19] <= 0.5\\ngini = 0.278\\nsamples = 6\\nvalue = [1, 5]'),\n",
       " Text(0.1156745116135979, 0.38636363636363635, 'gini = 0.0\\nsamples = 4\\nvalue = [0, 4]'),\n",
       " Text(0.12551915089986157, 0.38636363636363635, 'x[152] <= 0.5\\ngini = 0.5\\nsamples = 2\\nvalue = [1, 1]'),\n",
       " Text(0.12059683125672974, 0.3409090909090909, 'gini = 0.0\\nsamples = 1\\nvalue = [0, 1]'),\n",
       " Text(0.13044147054299338, 0.3409090909090909, 'gini = 0.0\\nsamples = 1\\nvalue = [1, 0]'),\n",
       " Text(0.14028610982925704, 0.4318181818181818, 'x[25] <= 0.5\\ngini = 0.245\\nsamples = 7\\nvalue = [6, 1]'),\n",
       " Text(0.1353637901861252, 0.38636363636363635, 'gini = 0.0\\nsamples = 5\\nvalue = [5, 0]'),\n",
       " Text(0.14520842947238885, 0.38636363636363635, 'x[154] <= 0.5\\ngini = 0.5\\nsamples = 2\\nvalue = [1, 1]'),\n",
       " Text(0.14028610982925704, 0.3409090909090909, 'gini = 0.0\\nsamples = 1\\nvalue = [1, 0]'),\n",
       " Text(0.15013074911552068, 0.3409090909090909, 'gini = 0.0\\nsamples = 1\\nvalue = [0, 1]'),\n",
       " Text(0.12798031072142746, 0.5227272727272727, 'gini = 0.0\\nsamples = 3\\nvalue = [3, 0]'),\n",
       " Text(0.1329026303645593, 0.5681818181818182, 'gini = 0.0\\nsamples = 7\\nvalue = [0, 7]'),\n",
       " Text(0.14766958929395477, 0.6136363636363636, 'x[97] <= 0.5\\ngini = 0.245\\nsamples = 7\\nvalue = [6, 1]'),\n",
       " Text(0.14274726965082296, 0.5681818181818182, 'gini = 0.0\\nsamples = 6\\nvalue = [6, 0]'),\n",
       " Text(0.1525919089370866, 0.5681818181818182, 'gini = 0.0\\nsamples = 1\\nvalue = [0, 1]'),\n",
       " Text(0.20427626518997077, 0.8863636363636364, 'x[11] <= 0.125\\ngini = 0.072\\nsamples = 824\\nvalue = [793, 31]'),\n",
       " Text(0.17966466697431163, 0.8409090909090909, 'x[12] <= 0.835\\ngini = 0.009\\nsamples = 696\\nvalue = [693, 3]'),\n",
       " Text(0.16735886786648208, 0.7954545454545454, 'x[29] <= 0.5\\ngini = 0.006\\nsamples = 694\\nvalue = [692, 2]'),\n",
       " Text(0.15751422858021843, 0.75, 'x[13] <= 0.292\\ngini = 0.003\\nsamples = 685\\nvalue = [684, 1]'),\n",
       " Text(0.1525919089370866, 0.7045454545454546, 'gini = 0.0\\nsamples = 663\\nvalue = [663, 0]'),\n",
       " Text(0.16243654822335024, 0.7045454545454546, 'x[23] <= 0.5\\ngini = 0.087\\nsamples = 22\\nvalue = [21, 1]'),\n",
       " Text(0.15751422858021843, 0.6590909090909091, 'gini = 0.0\\nsamples = 21\\nvalue = [21, 0]'),\n",
       " Text(0.16735886786648208, 0.6590909090909091, 'gini = 0.0\\nsamples = 1\\nvalue = [0, 1]'),\n",
       " Text(0.17720350715274574, 0.75, 'x[12] <= 0.296\\ngini = 0.198\\nsamples = 9\\nvalue = [8, 1]'),\n",
       " Text(0.1722811875096139, 0.7045454545454546, 'gini = 0.0\\nsamples = 8\\nvalue = [8, 0]'),\n",
       " Text(0.18212582679587755, 0.7045454545454546, 'gini = 0.0\\nsamples = 1\\nvalue = [0, 1]'),\n",
       " Text(0.19197046608214122, 0.7954545454545454, 'x[1] <= 0.198\\ngini = 0.5\\nsamples = 2\\nvalue = [1, 1]'),\n",
       " Text(0.18704814643900938, 0.75, 'gini = 0.0\\nsamples = 1\\nvalue = [0, 1]'),\n",
       " Text(0.19689278572527302, 0.75, 'gini = 0.0\\nsamples = 1\\nvalue = [1, 0]'),\n",
       " Text(0.22888786340562992, 0.8409090909090909, 'x[83] <= 0.5\\ngini = 0.342\\nsamples = 128\\nvalue = [100, 28]'),\n",
       " Text(0.22396554376249808, 0.7954545454545454, 'x[5] <= 0.212\\ngini = 0.421\\nsamples = 93\\nvalue = [65, 28]'),\n",
       " Text(0.2067374250115367, 0.75, 'x[7] <= 0.042\\ngini = 0.354\\nsamples = 74\\nvalue = [57, 17]'),\n",
       " Text(0.19689278572527302, 0.7045454545454546, 'x[157] <= 0.5\\ngini = 0.285\\nsamples = 64\\nvalue = [53, 11]'),\n",
       " Text(0.19197046608214122, 0.6590909090909091, 'x[10] <= 0.167\\ngini = 0.228\\nsamples = 61\\nvalue = [53, 8]'),\n",
       " Text(0.18704814643900938, 0.6136363636363636, 'gini = 0.0\\nsamples = 1\\nvalue = [0, 1]'),\n",
       " Text(0.19689278572527302, 0.6136363636363636, 'x[151] <= 0.5\\ngini = 0.206\\nsamples = 60\\nvalue = [53, 7]'),\n",
       " Text(0.19197046608214122, 0.5681818181818182, 'x[71] <= 0.5\\ngini = 0.183\\nsamples = 59\\nvalue = [53, 6]'),\n",
       " Text(0.18704814643900938, 0.5227272727272727, 'x[12] <= 0.578\\ngini = 0.158\\nsamples = 58\\nvalue = [53, 5]'),\n",
       " Text(0.169820027688048, 0.4772727272727273, 'x[115] <= 0.5\\ngini = 0.346\\nsamples = 18\\nvalue = [14, 4]'),\n",
       " Text(0.15997538840178435, 0.4318181818181818, 'x[25] <= 0.5\\ngini = 0.444\\nsamples = 3\\nvalue = [1, 2]'),\n",
       " Text(0.15505306875865252, 0.38636363636363635, 'gini = 0.0\\nsamples = 2\\nvalue = [0, 2]'),\n",
       " Text(0.16489770804491616, 0.38636363636363635, 'gini = 0.0\\nsamples = 1\\nvalue = [1, 0]'),\n",
       " Text(0.17966466697431163, 0.4318181818181818, 'x[10] <= 0.258\\ngini = 0.231\\nsamples = 15\\nvalue = [13, 2]'),\n",
       " Text(0.17474234733117983, 0.38636363636363635, 'gini = 0.0\\nsamples = 1\\nvalue = [0, 1]'),\n",
       " Text(0.18458698661744347, 0.38636363636363635, 'x[6] <= 0.566\\ngini = 0.133\\nsamples = 14\\nvalue = [13, 1]'),\n",
       " Text(0.17966466697431163, 0.3409090909090909, 'gini = 0.0\\nsamples = 1\\nvalue = [0, 1]'),\n",
       " Text(0.1895093062605753, 0.3409090909090909, 'gini = 0.0\\nsamples = 13\\nvalue = [13, 0]'),\n",
       " Text(0.20427626518997077, 0.4772727272727273, 'x[6] <= 0.536\\ngini = 0.049\\nsamples = 40\\nvalue = [39, 1]'),\n",
       " Text(0.19935394554683894, 0.4318181818181818, 'x[26] <= 0.5\\ngini = 0.5\\nsamples = 2\\nvalue = [1, 1]'),\n",
       " Text(0.19443162590370713, 0.38636363636363635, 'gini = 0.0\\nsamples = 1\\nvalue = [1, 0]'),\n",
       " Text(0.20427626518997077, 0.38636363636363635, 'gini = 0.0\\nsamples = 1\\nvalue = [0, 1]'),\n",
       " Text(0.2091985848331026, 0.4318181818181818, 'gini = 0.0\\nsamples = 38\\nvalue = [38, 0]'),\n",
       " Text(0.19689278572527302, 0.5227272727272727, 'gini = 0.0\\nsamples = 1\\nvalue = [0, 1]'),\n",
       " Text(0.20181510536840486, 0.5681818181818182, 'gini = 0.0\\nsamples = 1\\nvalue = [0, 1]'),\n",
       " Text(0.20181510536840486, 0.6590909090909091, 'gini = 0.0\\nsamples = 3\\nvalue = [0, 3]'),\n",
       " Text(0.21658206429780033, 0.7045454545454546, 'x[16] <= 0.218\\ngini = 0.48\\nsamples = 10\\nvalue = [4, 6]'),\n",
       " Text(0.21165974465466852, 0.6590909090909091, 'x[12] <= 0.637\\ngini = 0.444\\nsamples = 6\\nvalue = [4, 2]'),\n",
       " Text(0.2067374250115367, 0.6136363636363636, 'gini = 0.0\\nsamples = 3\\nvalue = [3, 0]'),\n",
       " Text(0.21658206429780033, 0.6136363636363636, 'x[65] <= 0.5\\ngini = 0.444\\nsamples = 3\\nvalue = [1, 2]'),\n",
       " Text(0.21165974465466852, 0.5681818181818182, 'gini = 0.0\\nsamples = 1\\nvalue = [1, 0]'),\n",
       " Text(0.22150438394093216, 0.5681818181818182, 'gini = 0.0\\nsamples = 2\\nvalue = [0, 2]'),\n",
       " Text(0.22150438394093216, 0.6590909090909091, 'gini = 0.0\\nsamples = 4\\nvalue = [0, 4]'),\n",
       " Text(0.24119366251345947, 0.75, 'x[1] <= 0.057\\ngini = 0.488\\nsamples = 19\\nvalue = [8, 11]'),\n",
       " Text(0.23627134287032764, 0.7045454545454546, 'gini = 0.0\\nsamples = 7\\nvalue = [0, 7]'),\n",
       " Text(0.2461159821565913, 0.7045454545454546, 'x[10] <= 0.394\\ngini = 0.444\\nsamples = 12\\nvalue = [8, 4]'),\n",
       " Text(0.24119366251345947, 0.6590909090909091, 'x[6] <= 0.755\\ngini = 0.32\\nsamples = 10\\nvalue = [8, 2]'),\n",
       " Text(0.23627134287032764, 0.6136363636363636, 'x[23] <= 0.5\\ngini = 0.198\\nsamples = 9\\nvalue = [8, 1]'),\n",
       " Text(0.2313490232271958, 0.5681818181818182, 'gini = 0.0\\nsamples = 8\\nvalue = [8, 0]'),\n",
       " Text(0.24119366251345947, 0.5681818181818182, 'gini = 0.0\\nsamples = 1\\nvalue = [0, 1]'),\n",
       " Text(0.2461159821565913, 0.6136363636363636, 'gini = 0.0\\nsamples = 1\\nvalue = [0, 1]'),\n",
       " Text(0.25103830179972314, 0.6590909090909091, 'gini = 0.0\\nsamples = 2\\nvalue = [0, 2]'),\n",
       " Text(0.23381018304876172, 0.7954545454545454, 'gini = 0.0\\nsamples = 35\\nvalue = [35, 0]'),\n",
       " Text(0.43947746019843104, 0.9318181818181818, 'x[84] <= 0.5\\ngini = 0.251\\nsamples = 1953\\nvalue = [288, 1665]'),\n",
       " Text(0.3014920781418243, 0.8863636363636364, 'x[11] <= 0.275\\ngini = 0.341\\nsamples = 101\\nvalue = [79, 22]'),\n",
       " Text(0.2854945393016459, 0.8409090909090909, 'x[70] <= 0.5\\ngini = 0.142\\nsamples = 65\\nvalue = [60, 5]'),\n",
       " Text(0.2805722196585141, 0.7954545454545454, 'x[5] <= 0.327\\ngini = 0.117\\nsamples = 64\\nvalue = [60, 4]'),\n",
       " Text(0.27564990001538225, 0.75, 'x[183] <= 0.5\\ngini = 0.091\\nsamples = 63\\nvalue = [60, 3]'),\n",
       " Text(0.2658052607291186, 0.7045454545454546, 'x[157] <= 0.5\\ngini = 0.034\\nsamples = 57\\nvalue = [56, 1]'),\n",
       " Text(0.26088294108598675, 0.6590909090909091, 'gini = 0.0\\nsamples = 54\\nvalue = [54, 0]'),\n",
       " Text(0.2707275803722504, 0.6590909090909091, 'x[16] <= 0.902\\ngini = 0.444\\nsamples = 3\\nvalue = [2, 1]'),\n",
       " Text(0.2658052607291186, 0.6136363636363636, 'gini = 0.0\\nsamples = 2\\nvalue = [2, 0]'),\n",
       " Text(0.27564990001538225, 0.6136363636363636, 'gini = 0.0\\nsamples = 1\\nvalue = [0, 1]'),\n",
       " Text(0.2854945393016459, 0.7045454545454546, 'x[65] <= 0.5\\ngini = 0.444\\nsamples = 6\\nvalue = [4, 2]'),\n",
       " Text(0.2805722196585141, 0.6590909090909091, 'gini = 0.0\\nsamples = 3\\nvalue = [3, 0]'),\n",
       " Text(0.2904168589447777, 0.6590909090909091, 'x[85] <= 0.5\\ngini = 0.444\\nsamples = 3\\nvalue = [1, 2]'),\n",
       " Text(0.2854945393016459, 0.6136363636363636, 'gini = 0.0\\nsamples = 2\\nvalue = [0, 2]'),\n",
       " Text(0.29533917858790953, 0.6136363636363636, 'gini = 0.0\\nsamples = 1\\nvalue = [1, 0]'),\n",
       " Text(0.2854945393016459, 0.75, 'gini = 0.0\\nsamples = 1\\nvalue = [0, 1]'),\n",
       " Text(0.2904168589447777, 0.7954545454545454, 'gini = 0.0\\nsamples = 1\\nvalue = [0, 1]'),\n",
       " Text(0.3174896169820028, 0.8409090909090909, 'x[129] <= 0.5\\ngini = 0.498\\nsamples = 36\\nvalue = [19, 17]'),\n",
       " Text(0.31256729733887095, 0.7954545454545454, 'x[12] <= 0.69\\ngini = 0.436\\nsamples = 28\\nvalue = [19, 9]'),\n",
       " Text(0.30026149823104137, 0.75, 'x[0] <= 0.444\\ngini = 0.133\\nsamples = 14\\nvalue = [13, 1]'),\n",
       " Text(0.29533917858790953, 0.7045454545454546, 'gini = 0.0\\nsamples = 13\\nvalue = [13, 0]'),\n",
       " Text(0.3051838178741732, 0.7045454545454546, 'gini = 0.0\\nsamples = 1\\nvalue = [0, 1]'),\n",
       " Text(0.3248730964467005, 0.75, 'x[205] <= 0.5\\ngini = 0.49\\nsamples = 14\\nvalue = [6, 8]'),\n",
       " Text(0.31502845716043687, 0.7045454545454546, 'x[220] <= 0.5\\ngini = 0.32\\nsamples = 5\\nvalue = [4, 1]'),\n",
       " Text(0.31010613751730504, 0.6590909090909091, 'gini = 0.0\\nsamples = 4\\nvalue = [4, 0]'),\n",
       " Text(0.3199507768035687, 0.6590909090909091, 'gini = 0.0\\nsamples = 1\\nvalue = [0, 1]'),\n",
       " Text(0.33471773573296415, 0.7045454545454546, 'x[63] <= 0.5\\ngini = 0.346\\nsamples = 9\\nvalue = [2, 7]'),\n",
       " Text(0.3297954160898323, 0.6590909090909091, 'x[106] <= 0.5\\ngini = 0.444\\nsamples = 3\\nvalue = [2, 1]'),\n",
       " Text(0.3248730964467005, 0.6136363636363636, 'gini = 0.0\\nsamples = 1\\nvalue = [0, 1]'),\n",
       " Text(0.33471773573296415, 0.6136363636363636, 'gini = 0.0\\nsamples = 2\\nvalue = [2, 0]'),\n",
       " Text(0.339640055376096, 0.6590909090909091, 'gini = 0.0\\nsamples = 6\\nvalue = [0, 6]'),\n",
       " Text(0.3224119366251346, 0.7954545454545454, 'gini = 0.0\\nsamples = 8\\nvalue = [0, 8]'),\n",
       " Text(0.5774628422550376, 0.8863636363636364, 'x[11] <= 0.225\\ngini = 0.2\\nsamples = 1852\\nvalue = [209, 1643]'),\n",
       " Text(0.4082448854022458, 0.8409090909090909, 'x[10] <= 0.288\\ngini = 0.455\\nsamples = 163\\nvalue = [57, 106]'),\n",
       " Text(0.3833256422088909, 0.7954545454545454, 'x[5] <= 0.096\\ngini = 0.363\\nsamples = 105\\nvalue = [25, 80]'),\n",
       " Text(0.3784033225657591, 0.75, 'gini = 0.0\\nsamples = 5\\nvalue = [5, 0]'),\n",
       " Text(0.38824796185202276, 0.75, 'x[19] <= 0.5\\ngini = 0.32\\nsamples = 100\\nvalue = [20, 80]'),\n",
       " Text(0.3833256422088909, 0.7045454545454546, 'x[203] <= 0.5\\ngini = 0.289\\nsamples = 97\\nvalue = [17, 80]'),\n",
       " Text(0.36548223350253806, 0.6590909090909091, 'x[1] <= 0.123\\ngini = 0.256\\nsamples = 93\\nvalue = [14, 79]'),\n",
       " Text(0.3445623750192278, 0.6136363636363636, 'x[3] <= 0.25\\ngini = 0.169\\nsamples = 75\\nvalue = [7, 68]'),\n",
       " Text(0.339640055376096, 0.5681818181818182, 'x[201] <= 0.5\\ngini = 0.128\\nsamples = 73\\nvalue = [5, 68]'),\n",
       " Text(0.3224119366251346, 0.5227272727272727, 'x[87] <= 0.5\\ngini = 0.037\\nsamples = 53\\nvalue = [1, 52]'),\n",
       " Text(0.3174896169820028, 0.4772727272727273, 'gini = 0.0\\nsamples = 51\\nvalue = [0, 51]'),\n",
       " Text(0.3273342562682664, 0.4772727272727273, 'x[6] <= 0.662\\ngini = 0.5\\nsamples = 2\\nvalue = [1, 1]'),\n",
       " Text(0.3224119366251346, 0.4318181818181818, 'gini = 0.0\\nsamples = 1\\nvalue = [0, 1]'),\n",
       " Text(0.33225657591139823, 0.4318181818181818, 'gini = 0.0\\nsamples = 1\\nvalue = [1, 0]'),\n",
       " Text(0.3568681741270574, 0.5227272727272727, 'x[3] <= 0.212\\ngini = 0.32\\nsamples = 20\\nvalue = [4, 16]'),\n",
       " Text(0.34702353484079373, 0.4772727272727273, 'x[153] <= 0.5\\ngini = 0.208\\nsamples = 17\\nvalue = [2, 15]'),\n",
       " Text(0.3421012151976619, 0.4318181818181818, 'x[21] <= 0.5\\ngini = 0.117\\nsamples = 16\\nvalue = [1, 15]'),\n",
       " Text(0.33717889555453007, 0.38636363636363635, 'gini = 0.0\\nsamples = 14\\nvalue = [0, 14]'),\n",
       " Text(0.34702353484079373, 0.38636363636363635, 'x[185] <= 0.5\\ngini = 0.5\\nsamples = 2\\nvalue = [1, 1]'),\n",
       " Text(0.3421012151976619, 0.3409090909090909, 'gini = 0.0\\nsamples = 1\\nvalue = [1, 0]'),\n",
       " Text(0.35194585448392557, 0.3409090909090909, 'gini = 0.0\\nsamples = 1\\nvalue = [0, 1]'),\n",
       " Text(0.35194585448392557, 0.4318181818181818, 'gini = 0.0\\nsamples = 1\\nvalue = [1, 0]'),\n",
       " Text(0.366712813413321, 0.4772727272727273, 'x[4] <= 0.189\\ngini = 0.444\\nsamples = 3\\nvalue = [2, 1]'),\n",
       " Text(0.3617904937701892, 0.4318181818181818, 'gini = 0.0\\nsamples = 2\\nvalue = [2, 0]'),\n",
       " Text(0.37163513305645285, 0.4318181818181818, 'gini = 0.0\\nsamples = 1\\nvalue = [0, 1]'),\n",
       " Text(0.34948469466235965, 0.5681818181818182, 'gini = 0.0\\nsamples = 2\\nvalue = [2, 0]'),\n",
       " Text(0.38640209198584835, 0.6136363636363636, 'x[12] <= 0.612\\ngini = 0.475\\nsamples = 18\\nvalue = [7, 11]'),\n",
       " Text(0.3814797723427165, 0.5681818181818182, 'gini = 0.0\\nsamples = 3\\nvalue = [3, 0]'),\n",
       " Text(0.3913244116289802, 0.5681818181818182, 'x[16] <= 0.363\\ngini = 0.391\\nsamples = 15\\nvalue = [4, 11]'),\n",
       " Text(0.3814797723427165, 0.5227272727272727, 'x[7] <= 0.042\\ngini = 0.444\\nsamples = 3\\nvalue = [2, 1]'),\n",
       " Text(0.3765574526995847, 0.4772727272727273, 'gini = 0.0\\nsamples = 2\\nvalue = [2, 0]'),\n",
       " Text(0.38640209198584835, 0.4772727272727273, 'gini = 0.0\\nsamples = 1\\nvalue = [0, 1]'),\n",
       " Text(0.4011690509152438, 0.5227272727272727, 'x[16] <= 0.902\\ngini = 0.278\\nsamples = 12\\nvalue = [2, 10]'),\n",
       " Text(0.39624673127211196, 0.4772727272727273, 'x[16] <= 0.769\\ngini = 0.165\\nsamples = 11\\nvalue = [1, 10]'),\n",
       " Text(0.3913244116289802, 0.4318181818181818, 'gini = 0.0\\nsamples = 8\\nvalue = [0, 8]'),\n",
       " Text(0.4011690509152438, 0.4318181818181818, 'x[5] <= 0.212\\ngini = 0.444\\nsamples = 3\\nvalue = [1, 2]'),\n",
       " Text(0.39624673127211196, 0.38636363636363635, 'gini = 0.0\\nsamples = 1\\nvalue = [1, 0]'),\n",
       " Text(0.40609137055837563, 0.38636363636363635, 'gini = 0.0\\nsamples = 2\\nvalue = [0, 2]'),\n",
       " Text(0.40609137055837563, 0.4772727272727273, 'gini = 0.0\\nsamples = 1\\nvalue = [1, 0]'),\n",
       " Text(0.4011690509152438, 0.6590909090909091, 'x[26] <= 0.5\\ngini = 0.375\\nsamples = 4\\nvalue = [3, 1]'),\n",
       " Text(0.39624673127211196, 0.6136363636363636, 'gini = 0.0\\nsamples = 3\\nvalue = [3, 0]'),\n",
       " Text(0.40609137055837563, 0.6136363636363636, 'gini = 0.0\\nsamples = 1\\nvalue = [0, 1]'),\n",
       " Text(0.3931702814951546, 0.7045454545454546, 'gini = 0.0\\nsamples = 3\\nvalue = [3, 0]'),\n",
       " Text(0.43316412859560066, 0.7954545454545454, 'x[182] <= 0.5\\ngini = 0.495\\nsamples = 58\\nvalue = [32, 26]'),\n",
       " Text(0.42085832948777113, 0.75, 'x[14] <= 0.18\\ngini = 0.153\\nsamples = 12\\nvalue = [1, 11]'),\n",
       " Text(0.4159360098446393, 0.7045454545454546, 'gini = 0.0\\nsamples = 1\\nvalue = [1, 0]'),\n",
       " Text(0.4257806491309029, 0.7045454545454546, 'gini = 0.0\\nsamples = 11\\nvalue = [0, 11]'),\n",
       " Text(0.44546992770343025, 0.75, 'x[193] <= 0.5\\ngini = 0.44\\nsamples = 46\\nvalue = [31, 15]'),\n",
       " Text(0.4356252884171666, 0.7045454545454546, 'x[73] <= 0.5\\ngini = 0.355\\nsamples = 39\\nvalue = [30, 9]'),\n",
       " Text(0.43070296877403474, 0.6590909090909091, 'x[4] <= 0.211\\ngini = 0.307\\nsamples = 37\\nvalue = [30, 7]'),\n",
       " Text(0.4257806491309029, 0.6136363636363636, 'x[14] <= 0.465\\ngini = 0.492\\nsamples = 16\\nvalue = [9, 7]'),\n",
       " Text(0.4159360098446393, 0.5681818181818182, 'x[45] <= 0.5\\ngini = 0.219\\nsamples = 8\\nvalue = [7, 1]'),\n",
       " Text(0.41101369020150746, 0.5227272727272727, 'gini = 0.0\\nsamples = 7\\nvalue = [7, 0]'),\n",
       " Text(0.42085832948777113, 0.5227272727272727, 'gini = 0.0\\nsamples = 1\\nvalue = [0, 1]'),\n",
       " Text(0.4356252884171666, 0.5681818181818182, 'x[157] <= 0.5\\ngini = 0.375\\nsamples = 8\\nvalue = [2, 6]'),\n",
       " Text(0.43070296877403474, 0.5227272727272727, 'gini = 0.0\\nsamples = 6\\nvalue = [0, 6]'),\n",
       " Text(0.4405476080602984, 0.5227272727272727, 'gini = 0.0\\nsamples = 2\\nvalue = [2, 0]'),\n",
       " Text(0.4356252884171666, 0.6136363636363636, 'gini = 0.0\\nsamples = 21\\nvalue = [21, 0]'),\n",
       " Text(0.4405476080602984, 0.6590909090909091, 'gini = 0.0\\nsamples = 2\\nvalue = [0, 2]'),\n",
       " Text(0.4553145669896939, 0.7045454545454546, 'x[21] <= 0.5\\ngini = 0.245\\nsamples = 7\\nvalue = [1, 6]'),\n",
       " Text(0.4503922473465621, 0.6590909090909091, 'gini = 0.0\\nsamples = 6\\nvalue = [0, 6]'),\n",
       " Text(0.4602368866328257, 0.6590909090909091, 'gini = 0.0\\nsamples = 1\\nvalue = [1, 0]'),\n",
       " Text(0.7466807991078296, 0.8409090909090909, 'x[10] <= 0.288\\ngini = 0.164\\nsamples = 1689\\nvalue = [152, 1537]'),\n",
       " Text(0.6684019766189817, 0.7954545454545454, 'x[194] <= 0.5\\ngini = 0.121\\nsamples = 1317\\nvalue = [85, 1232]'),\n",
       " Text(0.6057145054606984, 0.75, 'x[2] <= 0.425\\ngini = 0.114\\nsamples = 1303\\nvalue = [79, 1224]'),\n",
       " Text(0.6007921858175665, 0.7045454545454546, 'x[11] <= 0.275\\ngini = 0.111\\nsamples = 1301\\nvalue = [77, 1224]'),\n",
       " Text(0.500028841716659, 0.6590909090909091, 'x[3] <= 0.25\\ngini = 0.205\\nsamples = 310\\nvalue = [36, 274]'),\n",
       " Text(0.4756768189509306, 0.6136363636363636, 'x[63] <= 0.5\\ngini = 0.181\\nsamples = 299\\nvalue = [30, 269]'),\n",
       " Text(0.4553145669896939, 0.5681818181818182, 'x[196] <= 0.5\\ngini = 0.497\\nsamples = 13\\nvalue = [6, 7]'),\n",
       " Text(0.4503922473465621, 0.5227272727272727, 'x[10] <= 0.258\\ngini = 0.375\\nsamples = 8\\nvalue = [6, 2]'),\n",
       " Text(0.44546992770343025, 0.4772727272727273, 'gini = 0.0\\nsamples = 6\\nvalue = [6, 0]'),\n",
       " Text(0.4553145669896939, 0.4772727272727273, 'gini = 0.0\\nsamples = 2\\nvalue = [0, 2]'),\n",
       " Text(0.4602368866328257, 0.5227272727272727, 'gini = 0.0\\nsamples = 5\\nvalue = [0, 5]'),\n",
       " Text(0.49603907091216737, 0.5681818181818182, 'x[157] <= 0.5\\ngini = 0.154\\nsamples = 286\\nvalue = [24, 262]'),\n",
       " Text(0.47754191662821105, 0.5227272727272727, 'x[203] <= 0.5\\ngini = 0.134\\nsamples = 277\\nvalue = [20, 257]'),\n",
       " Text(0.4651592062759575, 0.4772727272727273, 'x[13] <= 0.208\\ngini = 0.108\\nsamples = 263\\nvalue = [15, 248]'),\n",
       " Text(0.4602368866328257, 0.4318181818181818, 'x[195] <= 0.5\\ngini = 0.101\\nsamples = 262\\nvalue = [14, 248]'),\n",
       " Text(0.44039378557145054, 0.38636363636363635, 'x[151] <= 0.5\\ngini = 0.078\\nsamples = 245\\nvalue = [10, 235]'),\n",
       " Text(0.42531918166435934, 0.3409090909090909, 'x[202] <= 0.5\\ngini = 0.065\\nsamples = 239\\nvalue = [8, 231]'),\n",
       " Text(0.4099369327795724, 0.29545454545454547, 'x[4] <= 0.3\\ngini = 0.044\\nsamples = 221\\nvalue = [5, 216]'),\n",
       " Text(0.3939393939393939, 0.25, 'x[20] <= 0.5\\ngini = 0.036\\nsamples = 219\\nvalue = [4, 215]'),\n",
       " Text(0.37671127518843256, 0.20454545454545456, 'x[85] <= 0.5\\ngini = 0.02\\nsamples = 196\\nvalue = [2, 194]'),\n",
       " Text(0.3717889555453007, 0.1590909090909091, 'gini = 0.0\\nsamples = 149\\nvalue = [0, 149]'),\n",
       " Text(0.3816335948315644, 0.1590909090909091, 'x[159] <= 0.5\\ngini = 0.081\\nsamples = 47\\nvalue = [2, 45]'),\n",
       " Text(0.37671127518843256, 0.11363636363636363, 'gini = 0.0\\nsamples = 35\\nvalue = [0, 35]'),\n",
       " Text(0.3865559144746962, 0.11363636363636363, 'x[14] <= 0.291\\ngini = 0.278\\nsamples = 12\\nvalue = [2, 10]'),\n",
       " Text(0.3816335948315644, 0.06818181818181818, 'gini = 0.0\\nsamples = 2\\nvalue = [2, 0]'),\n",
       " Text(0.391478234117828, 0.06818181818181818, 'gini = 0.0\\nsamples = 10\\nvalue = [0, 10]'),\n",
       " Text(0.41116751269035534, 0.20454545454545456, 'x[198] <= 0.5\\ngini = 0.159\\nsamples = 23\\nvalue = [2, 21]'),\n",
       " Text(0.4013228734040917, 0.1590909090909091, 'x[118] <= 0.5\\ngini = 0.091\\nsamples = 21\\nvalue = [1, 20]'),\n",
       " Text(0.39640055376095984, 0.11363636363636363, 'gini = 0.0\\nsamples = 17\\nvalue = [0, 17]'),\n",
       " Text(0.4062451930472235, 0.11363636363636363, 'x[12] <= 0.695\\ngini = 0.375\\nsamples = 4\\nvalue = [1, 3]'),\n",
       " Text(0.4013228734040917, 0.06818181818181818, 'gini = 0.0\\nsamples = 1\\nvalue = [1, 0]'),\n",
       " Text(0.41116751269035534, 0.06818181818181818, 'gini = 0.0\\nsamples = 3\\nvalue = [0, 3]'),\n",
       " Text(0.421012151976619, 0.1590909090909091, 'x[186] <= 0.5\\ngini = 0.5\\nsamples = 2\\nvalue = [1, 1]'),\n",
       " Text(0.4160898323334872, 0.11363636363636363, 'gini = 0.0\\nsamples = 1\\nvalue = [1, 0]'),\n",
       " Text(0.4259344716197508, 0.11363636363636363, 'gini = 0.0\\nsamples = 1\\nvalue = [0, 1]'),\n",
       " Text(0.4259344716197508, 0.25, 'x[15] <= 0.056\\ngini = 0.5\\nsamples = 2\\nvalue = [1, 1]'),\n",
       " Text(0.421012151976619, 0.20454545454545456, 'gini = 0.0\\nsamples = 1\\nvalue = [0, 1]'),\n",
       " Text(0.4308567912628826, 0.20454545454545456, 'gini = 0.0\\nsamples = 1\\nvalue = [1, 0]'),\n",
       " Text(0.4407014305491463, 0.29545454545454547, 'x[6] <= 0.693\\ngini = 0.278\\nsamples = 18\\nvalue = [3, 15]'),\n",
       " Text(0.43577911090601446, 0.25, 'gini = 0.0\\nsamples = 12\\nvalue = [0, 12]'),\n",
       " Text(0.4456237501922781, 0.25, 'x[5] <= 0.212\\ngini = 0.5\\nsamples = 6\\nvalue = [3, 3]'),\n",
       " Text(0.4407014305491463, 0.20454545454545456, 'gini = 0.0\\nsamples = 2\\nvalue = [0, 2]'),\n",
       " Text(0.45054606983540996, 0.20454545454545456, 'x[26] <= 0.5\\ngini = 0.375\\nsamples = 4\\nvalue = [3, 1]'),\n",
       " Text(0.4456237501922781, 0.1590909090909091, 'gini = 0.0\\nsamples = 3\\nvalue = [3, 0]'),\n",
       " Text(0.45546838947854174, 0.1590909090909091, 'gini = 0.0\\nsamples = 1\\nvalue = [0, 1]'),\n",
       " Text(0.45546838947854174, 0.3409090909090909, 'x[12] <= 0.792\\ngini = 0.444\\nsamples = 6\\nvalue = [2, 4]'),\n",
       " Text(0.45054606983540996, 0.29545454545454547, 'gini = 0.0\\nsamples = 4\\nvalue = [0, 4]'),\n",
       " Text(0.46039070912167357, 0.29545454545454547, 'gini = 0.0\\nsamples = 2\\nvalue = [2, 0]'),\n",
       " Text(0.4800799876942009, 0.38636363636363635, 'x[14] <= 0.663\\ngini = 0.36\\nsamples = 17\\nvalue = [4, 13]'),\n",
       " Text(0.47515766805106907, 0.3409090909090909, 'x[89] <= 0.5\\ngini = 0.231\\nsamples = 15\\nvalue = [2, 13]'),\n",
       " Text(0.47023534840793724, 0.29545454545454547, 'x[25] <= 0.5\\ngini = 0.133\\nsamples = 14\\nvalue = [1, 13]'),\n",
       " Text(0.4653130287648054, 0.25, 'gini = 0.0\\nsamples = 12\\nvalue = [0, 12]'),\n",
       " Text(0.47515766805106907, 0.25, 'x[16] <= 0.218\\ngini = 0.5\\nsamples = 2\\nvalue = [1, 1]'),\n",
       " Text(0.47023534840793724, 0.20454545454545456, 'gini = 0.0\\nsamples = 1\\nvalue = [0, 1]'),\n",
       " Text(0.4800799876942009, 0.20454545454545456, 'gini = 0.0\\nsamples = 1\\nvalue = [1, 0]'),\n",
       " Text(0.4800799876942009, 0.29545454545454547, 'gini = 0.0\\nsamples = 1\\nvalue = [1, 0]'),\n",
       " Text(0.48500230733733274, 0.3409090909090909, 'gini = 0.0\\nsamples = 2\\nvalue = [2, 0]'),\n",
       " Text(0.47008152591908936, 0.4318181818181818, 'gini = 0.0\\nsamples = 1\\nvalue = [1, 0]'),\n",
       " Text(0.4899246269804645, 0.4772727272727273, 'x[14] <= 0.291\\ngini = 0.459\\nsamples = 14\\nvalue = [5, 9]'),\n",
       " Text(0.48500230733733274, 0.4318181818181818, 'gini = 0.0\\nsamples = 8\\nvalue = [0, 8]'),\n",
       " Text(0.49484694662359635, 0.4318181818181818, 'x[4] <= 0.211\\ngini = 0.278\\nsamples = 6\\nvalue = [5, 1]'),\n",
       " Text(0.4899246269804645, 0.38636363636363635, 'gini = 0.0\\nsamples = 5\\nvalue = [5, 0]'),\n",
       " Text(0.4997692662667282, 0.38636363636363635, 'gini = 0.0\\nsamples = 1\\nvalue = [0, 1]'),\n",
       " Text(0.5145362251961236, 0.5227272727272727, 'x[6] <= 0.645\\ngini = 0.494\\nsamples = 9\\nvalue = [4, 5]'),\n",
       " Text(0.5096139055529918, 0.4772727272727273, 'x[13] <= 0.042\\ngini = 0.32\\nsamples = 5\\nvalue = [4, 1]'),\n",
       " Text(0.5046915859098601, 0.4318181818181818, 'gini = 0.0\\nsamples = 4\\nvalue = [4, 0]'),\n",
       " Text(0.5145362251961236, 0.4318181818181818, 'gini = 0.0\\nsamples = 1\\nvalue = [0, 1]'),\n",
       " Text(0.5194585448392555, 0.4772727272727273, 'gini = 0.0\\nsamples = 4\\nvalue = [0, 4]'),\n",
       " Text(0.5243808644823873, 0.6136363636363636, 'x[14] <= 0.308\\ngini = 0.496\\nsamples = 11\\nvalue = [6, 5]'),\n",
       " Text(0.5194585448392555, 0.5681818181818182, 'gini = 0.0\\nsamples = 4\\nvalue = [4, 0]'),\n",
       " Text(0.5293031841255191, 0.5681818181818182, 'x[10] <= 0.258\\ngini = 0.408\\nsamples = 7\\nvalue = [2, 5]'),\n",
       " Text(0.5243808644823873, 0.5227272727272727, 'gini = 0.0\\nsamples = 5\\nvalue = [0, 5]'),\n",
       " Text(0.534225503768651, 0.5227272727272727, 'gini = 0.0\\nsamples = 2\\nvalue = [2, 0]'),\n",
       " Text(0.701555529918474, 0.6590909090909091, 'x[196] <= 0.5\\ngini = 0.079\\nsamples = 991\\nvalue = [41, 950]'),\n",
       " Text(0.6966332102753423, 0.6136363636363636, 'x[202] <= 0.5\\ngini = 0.078\\nsamples = 990\\nvalue = [40, 950]'),\n",
       " Text(0.6310759883094909, 0.5681818181818182, 'x[7] <= 0.042\\ngini = 0.056\\nsamples = 861\\nvalue = [25, 836]'),\n",
       " Text(0.5882556529764652, 0.5227272727272727, 'x[15] <= 0.267\\ngini = 0.051\\nsamples = 843\\nvalue = [22, 821]'),\n",
       " Text(0.5446854330103061, 0.4772727272727273, 'x[200] <= 0.5\\ngini = 0.099\\nsamples = 230\\nvalue = [12, 218]'),\n",
       " Text(0.5305337640363021, 0.4318181818181818, 'x[26] <= 0.5\\ngini = 0.085\\nsamples = 224\\nvalue = [10, 214]'),\n",
       " Text(0.5169973850176895, 0.38636363636363635, 'x[144] <= 0.5\\ngini = 0.053\\nsamples = 182\\nvalue = [5, 177]'),\n",
       " Text(0.5046915859098601, 0.3409090909090909, 'x[71] <= 0.5\\ngini = 0.044\\nsamples = 179\\nvalue = [4, 175]'),\n",
       " Text(0.49484694662359635, 0.29545454545454547, 'x[116] <= 0.5\\ngini = 0.034\\nsamples = 175\\nvalue = [3, 172]'),\n",
       " Text(0.4899246269804645, 0.25, 'gini = 0.0\\nsamples = 126\\nvalue = [0, 126]'),\n",
       " Text(0.4997692662667282, 0.25, 'x[153] <= 0.5\\ngini = 0.115\\nsamples = 49\\nvalue = [3, 46]'),\n",
       " Text(0.4899246269804645, 0.20454545454545456, 'x[72] <= 0.5\\ngini = 0.083\\nsamples = 46\\nvalue = [2, 44]'),\n",
       " Text(0.48500230733733274, 0.1590909090909091, 'gini = 0.0\\nsamples = 35\\nvalue = [0, 35]'),\n",
       " Text(0.49484694662359635, 0.1590909090909091, 'x[12] <= 0.757\\ngini = 0.298\\nsamples = 11\\nvalue = [2, 9]'),\n",
       " Text(0.4899246269804645, 0.11363636363636363, 'x[6] <= 0.688\\ngini = 0.5\\nsamples = 4\\nvalue = [2, 2]'),\n",
       " Text(0.48500230733733274, 0.06818181818181818, 'gini = 0.0\\nsamples = 2\\nvalue = [0, 2]'),\n",
       " Text(0.49484694662359635, 0.06818181818181818, 'gini = 0.0\\nsamples = 2\\nvalue = [2, 0]'),\n",
       " Text(0.4997692662667282, 0.11363636363636363, 'gini = 0.0\\nsamples = 7\\nvalue = [0, 7]'),\n",
       " Text(0.5096139055529918, 0.20454545454545456, 'x[10] <= 0.258\\ngini = 0.444\\nsamples = 3\\nvalue = [1, 2]'),\n",
       " Text(0.5046915859098601, 0.1590909090909091, 'gini = 0.0\\nsamples = 2\\nvalue = [0, 2]'),\n",
       " Text(0.5145362251961236, 0.1590909090909091, 'gini = 0.0\\nsamples = 1\\nvalue = [1, 0]'),\n",
       " Text(0.5145362251961236, 0.29545454545454547, 'x[118] <= 0.5\\ngini = 0.375\\nsamples = 4\\nvalue = [1, 3]'),\n",
       " Text(0.5096139055529918, 0.25, 'gini = 0.0\\nsamples = 3\\nvalue = [0, 3]'),\n",
       " Text(0.5194585448392555, 0.25, 'gini = 0.0\\nsamples = 1\\nvalue = [1, 0]'),\n",
       " Text(0.5293031841255191, 0.3409090909090909, 'x[11] <= 0.375\\ngini = 0.444\\nsamples = 3\\nvalue = [1, 2]'),\n",
       " Text(0.5243808644823873, 0.29545454545454547, 'gini = 0.0\\nsamples = 2\\nvalue = [0, 2]'),\n",
       " Text(0.534225503768651, 0.29545454545454547, 'gini = 0.0\\nsamples = 1\\nvalue = [1, 0]'),\n",
       " Text(0.5440701430549146, 0.38636363636363635, 'x[5] <= 0.173\\ngini = 0.21\\nsamples = 42\\nvalue = [5, 37]'),\n",
       " Text(0.5391478234117828, 0.3409090909090909, 'gini = 0.0\\nsamples = 1\\nvalue = [1, 0]'),\n",
       " Text(0.5489924626980465, 0.3409090909090909, 'x[68] <= 0.5\\ngini = 0.176\\nsamples = 41\\nvalue = [4, 37]'),\n",
       " Text(0.5440701430549146, 0.29545454545454547, 'x[201] <= 0.5\\ngini = 0.139\\nsamples = 40\\nvalue = [3, 37]'),\n",
       " Text(0.5391478234117828, 0.25, 'x[0] <= 0.5\\ngini = 0.097\\nsamples = 39\\nvalue = [2, 37]'),\n",
       " Text(0.534225503768651, 0.20454545454545456, 'gini = 0.0\\nsamples = 35\\nvalue = [0, 35]'),\n",
       " Text(0.5440701430549146, 0.20454545454545456, 'x[153] <= 0.5\\ngini = 0.5\\nsamples = 4\\nvalue = [2, 2]'),\n",
       " Text(0.5391478234117828, 0.1590909090909091, 'gini = 0.0\\nsamples = 2\\nvalue = [2, 0]'),\n",
       " Text(0.5489924626980465, 0.1590909090909091, 'gini = 0.0\\nsamples = 2\\nvalue = [0, 2]'),\n",
       " Text(0.5489924626980465, 0.25, 'gini = 0.0\\nsamples = 1\\nvalue = [1, 0]'),\n",
       " Text(0.5539147823411783, 0.29545454545454547, 'gini = 0.0\\nsamples = 1\\nvalue = [1, 0]'),\n",
       " Text(0.5588371019843101, 0.4318181818181818, 'x[97] <= 0.5\\ngini = 0.444\\nsamples = 6\\nvalue = [2, 4]'),\n",
       " Text(0.5539147823411783, 0.38636363636363635, 'gini = 0.0\\nsamples = 4\\nvalue = [0, 4]'),\n",
       " Text(0.563759421627442, 0.38636363636363635, 'gini = 0.0\\nsamples = 2\\nvalue = [2, 0]'),\n",
       " Text(0.6318258729426243, 0.4772727272727273, 'x[117] <= 0.5\\ngini = 0.032\\nsamples = 613\\nvalue = [10, 603]'),\n",
       " Text(0.614367020458391, 0.4318181818181818, 'x[103] <= 0.5\\ngini = 0.029\\nsamples = 606\\nvalue = [9, 597]'),\n",
       " Text(0.5942162744193201, 0.38636363636363635, 'x[5] <= 0.212\\ngini = 0.026\\nsamples = 598\\nvalue = [8, 590]'),\n",
       " Text(0.5686817412705738, 0.3409090909090909, 'x[6] <= 0.747\\ngini = 0.111\\nsamples = 34\\nvalue = [2, 32]'),\n",
       " Text(0.563759421627442, 0.29545454545454547, 'x[11] <= 0.325\\ngini = 0.059\\nsamples = 33\\nvalue = [1, 32]'),\n",
       " Text(0.5588371019843101, 0.25, 'gini = 0.0\\nsamples = 30\\nvalue = [0, 30]'),\n",
       " Text(0.5686817412705738, 0.25, 'x[0] <= 0.333\\ngini = 0.444\\nsamples = 3\\nvalue = [1, 2]'),\n",
       " Text(0.563759421627442, 0.20454545454545456, 'gini = 0.0\\nsamples = 1\\nvalue = [1, 0]'),\n",
       " Text(0.5736040609137056, 0.20454545454545456, 'gini = 0.0\\nsamples = 2\\nvalue = [0, 2]'),\n",
       " Text(0.5736040609137056, 0.29545454545454547, 'gini = 0.0\\nsamples = 1\\nvalue = [1, 0]'),\n",
       " Text(0.6197508075680664, 0.3409090909090909, 'x[18] <= 0.5\\ngini = 0.021\\nsamples = 564\\nvalue = [6, 558]'),\n",
       " Text(0.6043685586832795, 0.29545454545454547, 'x[0] <= 0.611\\ngini = 0.018\\nsamples = 554\\nvalue = [5, 549]'),\n",
       " Text(0.588371019843101, 0.25, 'x[85] <= 0.5\\ngini = 0.012\\nsamples = 516\\nvalue = [3, 513]'),\n",
       " Text(0.5834487001999692, 0.20454545454545456, 'gini = 0.0\\nsamples = 379\\nvalue = [0, 379]'),\n",
       " Text(0.5932933394862329, 0.20454545454545456, 'x[4] <= 0.144\\ngini = 0.043\\nsamples = 137\\nvalue = [3, 134]'),\n",
       " Text(0.5760652207352714, 0.1590909090909091, 'x[1] <= 0.085\\ngini = 0.117\\nsamples = 32\\nvalue = [2, 30]'),\n",
       " Text(0.5662205814490079, 0.11363636363636363, 'x[0] <= 0.389\\ngini = 0.064\\nsamples = 30\\nvalue = [1, 29]'),\n",
       " Text(0.561298261805876, 0.06818181818181818, 'gini = 0.0\\nsamples = 23\\nvalue = [0, 23]'),\n",
       " Text(0.5711429010921397, 0.06818181818181818, 'x[15] <= 0.3\\ngini = 0.245\\nsamples = 7\\nvalue = [1, 6]'),\n",
       " Text(0.5662205814490079, 0.022727272727272728, 'gini = 0.0\\nsamples = 1\\nvalue = [1, 0]'),\n",
       " Text(0.5760652207352714, 0.022727272727272728, 'gini = 0.0\\nsamples = 6\\nvalue = [0, 6]'),\n",
       " Text(0.5859098600215351, 0.11363636363636363, 'x[185] <= 0.5\\ngini = 0.5\\nsamples = 2\\nvalue = [1, 1]'),\n",
       " Text(0.5809875403784033, 0.06818181818181818, 'gini = 0.0\\nsamples = 1\\nvalue = [0, 1]'),\n",
       " Text(0.590832179664667, 0.06818181818181818, 'gini = 0.0\\nsamples = 1\\nvalue = [1, 0]'),\n",
       " Text(0.6105214582371943, 0.1590909090909091, 'x[12] <= 0.66\\ngini = 0.019\\nsamples = 105\\nvalue = [1, 104]'),\n",
       " Text(0.6055991385940624, 0.11363636363636363, 'x[12] <= 0.657\\ngini = 0.153\\nsamples = 12\\nvalue = [1, 11]'),\n",
       " Text(0.6006768189509306, 0.06818181818181818, 'gini = 0.0\\nsamples = 11\\nvalue = [0, 11]'),\n",
       " Text(0.6105214582371943, 0.06818181818181818, 'gini = 0.0\\nsamples = 1\\nvalue = [1, 0]'),\n",
       " Text(0.6154437778803261, 0.11363636363636363, 'gini = 0.0\\nsamples = 93\\nvalue = [0, 93]'),\n",
       " Text(0.620366097523458, 0.25, 'x[6] <= 0.632\\ngini = 0.1\\nsamples = 38\\nvalue = [2, 36]'),\n",
       " Text(0.6154437778803261, 0.20454545454545456, 'gini = 0.0\\nsamples = 1\\nvalue = [1, 0]'),\n",
       " Text(0.6252884171665898, 0.20454545454545456, 'x[22] <= 0.5\\ngini = 0.053\\nsamples = 37\\nvalue = [1, 36]'),\n",
       " Text(0.620366097523458, 0.1590909090909091, 'gini = 0.0\\nsamples = 30\\nvalue = [0, 30]'),\n",
       " Text(0.6302107368097216, 0.1590909090909091, 'x[159] <= 0.5\\ngini = 0.245\\nsamples = 7\\nvalue = [1, 6]'),\n",
       " Text(0.6252884171665898, 0.11363636363636363, 'gini = 0.0\\nsamples = 6\\nvalue = [0, 6]'),\n",
       " Text(0.6351330564528535, 0.11363636363636363, 'gini = 0.0\\nsamples = 1\\nvalue = [1, 0]'),\n",
       " Text(0.6351330564528535, 0.29545454545454547, 'x[201] <= 0.5\\ngini = 0.18\\nsamples = 10\\nvalue = [1, 9]'),\n",
       " Text(0.6302107368097216, 0.25, 'gini = 0.0\\nsamples = 9\\nvalue = [0, 9]'),\n",
       " Text(0.6400553760959853, 0.25, 'gini = 0.0\\nsamples = 1\\nvalue = [1, 0]'),\n",
       " Text(0.6345177664974619, 0.38636363636363635, 'x[0] <= 0.222\\ngini = 0.219\\nsamples = 8\\nvalue = [1, 7]'),\n",
       " Text(0.6295954468543301, 0.3409090909090909, 'gini = 0.0\\nsamples = 7\\nvalue = [0, 7]'),\n",
       " Text(0.6394400861405938, 0.3409090909090909, 'gini = 0.0\\nsamples = 1\\nvalue = [1, 0]'),\n",
       " Text(0.6492847254268574, 0.4318181818181818, 'x[16] <= 0.788\\ngini = 0.245\\nsamples = 7\\nvalue = [1, 6]'),\n",
       " Text(0.6443624057837256, 0.38636363636363635, 'gini = 0.0\\nsamples = 6\\nvalue = [0, 6]'),\n",
       " Text(0.6542070450699893, 0.38636363636363635, 'gini = 0.0\\nsamples = 1\\nvalue = [1, 0]'),\n",
       " Text(0.6738963236425165, 0.5227272727272727, 'x[6] <= 0.664\\ngini = 0.278\\nsamples = 18\\nvalue = [3, 15]'),\n",
       " Text(0.6640516843562528, 0.4772727272727273, 'x[192] <= 0.5\\ngini = 0.444\\nsamples = 3\\nvalue = [2, 1]'),\n",
       " Text(0.6591293647131211, 0.4318181818181818, 'gini = 0.0\\nsamples = 2\\nvalue = [2, 0]'),\n",
       " Text(0.6689740039993847, 0.4318181818181818, 'gini = 0.0\\nsamples = 1\\nvalue = [0, 1]'),\n",
       " Text(0.6837409629287802, 0.4772727272727273, 'x[63] <= 0.5\\ngini = 0.124\\nsamples = 15\\nvalue = [1, 14]'),\n",
       " Text(0.6788186432856483, 0.4318181818181818, 'x[26] <= 0.5\\ngini = 0.5\\nsamples = 2\\nvalue = [1, 1]'),\n",
       " Text(0.6738963236425165, 0.38636363636363635, 'gini = 0.0\\nsamples = 1\\nvalue = [0, 1]'),\n",
       " Text(0.6837409629287802, 0.38636363636363635, 'gini = 0.0\\nsamples = 1\\nvalue = [1, 0]'),\n",
       " Text(0.688663282571912, 0.4318181818181818, 'gini = 0.0\\nsamples = 13\\nvalue = [0, 13]'),\n",
       " Text(0.7621904322411936, 0.5681818181818182, 'x[4] <= 0.167\\ngini = 0.206\\nsamples = 129\\nvalue = [15, 114]'),\n",
       " Text(0.7421935086909707, 0.5227272727272727, 'x[158] <= 0.5\\ngini = 0.12\\nsamples = 109\\nvalue = [7, 102]'),\n",
       " Text(0.7268112598061837, 0.4772727272727273, 'x[73] <= 0.5\\ngini = 0.106\\nsamples = 107\\nvalue = [6, 101]'),\n",
       " Text(0.7108137209660053, 0.4318181818181818, 'x[24] <= 0.5\\ngini = 0.092\\nsamples = 104\\nvalue = [5, 99]'),\n",
       " Text(0.6935856022150438, 0.38636363636363635, 'x[27] <= 0.5\\ngini = 0.046\\nsamples = 85\\nvalue = [2, 83]'),\n",
       " Text(0.6837409629287802, 0.3409090909090909, 'x[1] <= 0.047\\ngini = 0.024\\nsamples = 81\\nvalue = [1, 80]'),\n",
       " Text(0.6788186432856483, 0.29545454545454547, 'gini = 0.0\\nsamples = 61\\nvalue = [0, 61]'),\n",
       " Text(0.688663282571912, 0.29545454545454547, 'x[85] <= 0.5\\ngini = 0.095\\nsamples = 20\\nvalue = [1, 19]'),\n",
       " Text(0.6837409629287802, 0.25, 'gini = 0.0\\nsamples = 14\\nvalue = [0, 14]'),\n",
       " Text(0.6935856022150438, 0.25, 'x[129] <= 0.5\\ngini = 0.278\\nsamples = 6\\nvalue = [1, 5]'),\n",
       " Text(0.688663282571912, 0.20454545454545456, 'gini = 0.0\\nsamples = 5\\nvalue = [0, 5]'),\n",
       " Text(0.6985079218581757, 0.20454545454545456, 'gini = 0.0\\nsamples = 1\\nvalue = [1, 0]'),\n",
       " Text(0.7034302415013075, 0.3409090909090909, 'x[116] <= 0.5\\ngini = 0.375\\nsamples = 4\\nvalue = [1, 3]'),\n",
       " Text(0.6985079218581757, 0.29545454545454547, 'gini = 0.0\\nsamples = 3\\nvalue = [0, 3]'),\n",
       " Text(0.7083525611444393, 0.29545454545454547, 'gini = 0.0\\nsamples = 1\\nvalue = [1, 0]'),\n",
       " Text(0.7280418397169666, 0.38636363636363635, 'x[87] <= 0.5\\ngini = 0.266\\nsamples = 19\\nvalue = [3, 16]'),\n",
       " Text(0.7231195200738348, 0.3409090909090909, 'x[107] <= 0.5\\ngini = 0.198\\nsamples = 18\\nvalue = [2, 16]'),\n",
       " Text(0.718197200430703, 0.29545454545454547, 'gini = 0.0\\nsamples = 14\\nvalue = [0, 14]'),\n",
       " Text(0.7280418397169666, 0.29545454545454547, 'x[12] <= 0.74\\ngini = 0.5\\nsamples = 4\\nvalue = [2, 2]'),\n",
       " Text(0.7231195200738348, 0.25, 'gini = 0.0\\nsamples = 2\\nvalue = [2, 0]'),\n",
       " Text(0.7329641593600984, 0.25, 'gini = 0.0\\nsamples = 2\\nvalue = [0, 2]'),\n",
       " Text(0.7329641593600984, 0.3409090909090909, 'gini = 0.0\\nsamples = 1\\nvalue = [1, 0]'),\n",
       " Text(0.7428087986463621, 0.4318181818181818, 'x[1] <= 0.028\\ngini = 0.444\\nsamples = 3\\nvalue = [1, 2]'),\n",
       " Text(0.7378864790032302, 0.38636363636363635, 'gini = 0.0\\nsamples = 1\\nvalue = [1, 0]'),\n",
       " Text(0.7477311182894939, 0.38636363636363635, 'gini = 0.0\\nsamples = 2\\nvalue = [0, 2]'),\n",
       " Text(0.7575757575757576, 0.4772727272727273, 'x[6] <= 0.722\\ngini = 0.5\\nsamples = 2\\nvalue = [1, 1]'),\n",
       " Text(0.7526534379326257, 0.4318181818181818, 'gini = 0.0\\nsamples = 1\\nvalue = [0, 1]'),\n",
       " Text(0.7624980772188894, 0.4318181818181818, 'gini = 0.0\\nsamples = 1\\nvalue = [1, 0]'),\n",
       " Text(0.7821873557914167, 0.5227272727272727, 'x[0] <= 0.278\\ngini = 0.48\\nsamples = 20\\nvalue = [8, 12]'),\n",
       " Text(0.7772650361482849, 0.4772727272727273, 'x[153] <= 0.5\\ngini = 0.375\\nsamples = 16\\nvalue = [4, 12]'),\n",
       " Text(0.7723427165051531, 0.4318181818181818, 'x[116] <= 0.5\\ngini = 0.245\\nsamples = 14\\nvalue = [2, 12]'),\n",
       " Text(0.7674203968620212, 0.38636363636363635, 'gini = 0.0\\nsamples = 12\\nvalue = [0, 12]'),\n",
       " Text(0.7772650361482849, 0.38636363636363635, 'gini = 0.0\\nsamples = 2\\nvalue = [2, 0]'),\n",
       " Text(0.7821873557914167, 0.4318181818181818, 'gini = 0.0\\nsamples = 2\\nvalue = [2, 0]'),\n",
       " Text(0.7871096754345486, 0.4772727272727273, 'gini = 0.0\\nsamples = 4\\nvalue = [4, 0]'),\n",
       " Text(0.7064778495616059, 0.6136363636363636, 'gini = 0.0\\nsamples = 1\\nvalue = [1, 0]'),\n",
       " Text(0.6106368251038302, 0.7045454545454546, 'gini = 0.0\\nsamples = 2\\nvalue = [2, 0]'),\n",
       " Text(0.731089447777265, 0.75, 'x[3] <= 0.212\\ngini = 0.49\\nsamples = 14\\nvalue = [6, 8]'),\n",
       " Text(0.7261671281341332, 0.7045454545454546, 'x[21] <= 0.5\\ngini = 0.397\\nsamples = 11\\nvalue = [3, 8]'),\n",
       " Text(0.7212448084910014, 0.6590909090909091, 'x[63] <= 0.5\\ngini = 0.198\\nsamples = 9\\nvalue = [1, 8]'),\n",
       " Text(0.7163224888478695, 0.6136363636363636, 'gini = 0.0\\nsamples = 1\\nvalue = [1, 0]'),\n",
       " Text(0.7261671281341332, 0.6136363636363636, 'gini = 0.0\\nsamples = 8\\nvalue = [0, 8]'),\n",
       " Text(0.731089447777265, 0.6590909090909091, 'gini = 0.0\\nsamples = 2\\nvalue = [2, 0]'),\n",
       " Text(0.7360117674203969, 0.7045454545454546, 'gini = 0.0\\nsamples = 3\\nvalue = [3, 0]'),\n",
       " Text(0.8249596215966775, 0.7954545454545454, 'x[12] <= 0.598\\ngini = 0.295\\nsamples = 372\\nvalue = [67, 305]'),\n",
       " Text(0.7674203968620212, 0.75, 'x[6] <= 0.606\\ngini = 0.497\\nsamples = 26\\nvalue = [14, 12]'),\n",
       " Text(0.7526534379326257, 0.7045454545454546, 'x[26] <= 0.5\\ngini = 0.32\\nsamples = 10\\nvalue = [2, 8]'),\n",
       " Text(0.7477311182894939, 0.6590909090909091, 'gini = 0.0\\nsamples = 7\\nvalue = [0, 7]'),\n",
       " Text(0.7575757575757576, 0.6590909090909091, 'x[12] <= 0.573\\ngini = 0.444\\nsamples = 3\\nvalue = [2, 1]'),\n",
       " Text(0.7526534379326257, 0.6136363636363636, 'gini = 0.0\\nsamples = 2\\nvalue = [2, 0]'),\n",
       " Text(0.7624980772188894, 0.6136363636363636, 'gini = 0.0\\nsamples = 1\\nvalue = [0, 1]'),\n",
       " Text(0.7821873557914167, 0.7045454545454546, 'x[24] <= 0.5\\ngini = 0.375\\nsamples = 16\\nvalue = [12, 4]'),\n",
       " Text(0.7772650361482849, 0.6590909090909091, 'x[63] <= 0.5\\ngini = 0.245\\nsamples = 14\\nvalue = [12, 2]'),\n",
       " Text(0.7723427165051531, 0.6136363636363636, 'gini = 0.0\\nsamples = 1\\nvalue = [0, 1]'),\n",
       " Text(0.7821873557914167, 0.6136363636363636, 'x[157] <= 0.5\\ngini = 0.142\\nsamples = 13\\nvalue = [12, 1]'),\n",
       " Text(0.7772650361482849, 0.5681818181818182, 'gini = 0.0\\nsamples = 12\\nvalue = [12, 0]'),\n",
       " Text(0.7871096754345486, 0.5681818181818182, 'gini = 0.0\\nsamples = 1\\nvalue = [0, 1]'),\n",
       " Text(0.7871096754345486, 0.6590909090909091, 'gini = 0.0\\nsamples = 2\\nvalue = [0, 2]'),\n",
       " Text(0.8824988463313337, 0.75, 'x[6] <= 0.607\\ngini = 0.259\\nsamples = 346\\nvalue = [53, 293]'),\n",
       " Text(0.8400246115982156, 0.7045454545454546, 'x[12] <= 0.658\\ngini = 0.487\\nsamples = 31\\nvalue = [13, 18]'),\n",
       " Text(0.8240270727580372, 0.6590909090909091, 'x[187] <= 0.5\\ngini = 0.435\\nsamples = 25\\nvalue = [8, 17]'),\n",
       " Text(0.8067989540070758, 0.6136363636363636, 'x[2] <= 0.65\\ngini = 0.278\\nsamples = 18\\nvalue = [3, 15]'),\n",
       " Text(0.7969543147208121, 0.5681818181818182, 'x[94] <= 0.5\\ngini = 0.124\\nsamples = 15\\nvalue = [1, 14]'),\n",
       " Text(0.7920319950776804, 0.5227272727272727, 'gini = 0.0\\nsamples = 14\\nvalue = [0, 14]'),\n",
       " Text(0.801876634363944, 0.5227272727272727, 'gini = 0.0\\nsamples = 1\\nvalue = [1, 0]'),\n",
       " Text(0.8166435932933395, 0.5681818181818182, 'x[78] <= 0.5\\ngini = 0.444\\nsamples = 3\\nvalue = [2, 1]'),\n",
       " Text(0.8117212736502076, 0.5227272727272727, 'gini = 0.0\\nsamples = 1\\nvalue = [0, 1]'),\n",
       " Text(0.8215659129364713, 0.5227272727272727, 'gini = 0.0\\nsamples = 2\\nvalue = [2, 0]'),\n",
       " Text(0.8412551915089986, 0.6136363636363636, 'x[15] <= 0.433\\ngini = 0.408\\nsamples = 7\\nvalue = [5, 2]'),\n",
       " Text(0.8363328718658668, 0.5681818181818182, 'x[12] <= 0.619\\ngini = 0.444\\nsamples = 3\\nvalue = [1, 2]'),\n",
       " Text(0.831410552222735, 0.5227272727272727, 'gini = 0.0\\nsamples = 1\\nvalue = [1, 0]'),\n",
       " Text(0.8412551915089986, 0.5227272727272727, 'gini = 0.0\\nsamples = 2\\nvalue = [0, 2]'),\n",
       " Text(0.8461775111521305, 0.5681818181818182, 'gini = 0.0\\nsamples = 4\\nvalue = [4, 0]'),\n",
       " Text(0.8560221504383941, 0.6590909090909091, 'x[26] <= 0.5\\ngini = 0.278\\nsamples = 6\\nvalue = [5, 1]'),\n",
       " Text(0.8510998307952623, 0.6136363636363636, 'gini = 0.0\\nsamples = 5\\nvalue = [5, 0]'),\n",
       " Text(0.860944470081526, 0.6136363636363636, 'gini = 0.0\\nsamples = 1\\nvalue = [0, 1]'),\n",
       " Text(0.9249730810644516, 0.7045454545454546, 'x[1] <= 0.123\\ngini = 0.222\\nsamples = 315\\nvalue = [40, 275]'),\n",
       " Text(0.8757114290109214, 0.6590909090909091, 'x[94] <= 0.5\\ngini = 0.144\\nsamples = 205\\nvalue = [16, 189]'),\n",
       " Text(0.8707891093677895, 0.6136363636363636, 'x[194] <= 0.5\\ngini = 0.136\\nsamples = 204\\nvalue = [15, 189]'),\n",
       " Text(0.8658667897246577, 0.5681818181818182, 'x[204] <= 0.5\\ngini = 0.128\\nsamples = 203\\nvalue = [14, 189]'),\n",
       " Text(0.860944470081526, 0.5227272727272727, 'x[109] <= 0.5\\ngini = 0.12\\nsamples = 202\\nvalue = [13, 189]'),\n",
       " Text(0.8560221504383941, 0.4772727272727273, 'x[119] <= 0.5\\ngini = 0.112\\nsamples = 201\\nvalue = [12, 189]'),\n",
       " Text(0.8387940316874327, 0.4318181818181818, 'x[16] <= 0.788\\ngini = 0.097\\nsamples = 196\\nvalue = [10, 186]'),\n",
       " Text(0.8191047531149054, 0.38636363636363635, 'x[203] <= 0.5\\ngini = 0.039\\nsamples = 152\\nvalue = [3, 149]'),\n",
       " Text(0.8092601138286417, 0.3409090909090909, 'x[0] <= 0.5\\ngini = 0.026\\nsamples = 150\\nvalue = [2, 148]'),\n",
       " Text(0.8043377941855099, 0.29545454545454547, 'gini = 0.0\\nsamples = 131\\nvalue = [0, 131]'),\n",
       " Text(0.8141824334717735, 0.29545454545454547, 'x[97] <= 0.5\\ngini = 0.188\\nsamples = 19\\nvalue = [2, 17]'),\n",
       " Text(0.8092601138286417, 0.25, 'gini = 0.0\\nsamples = 14\\nvalue = [0, 14]'),\n",
       " Text(0.8191047531149054, 0.25, 'x[15] <= 0.544\\ngini = 0.48\\nsamples = 5\\nvalue = [2, 3]'),\n",
       " Text(0.8141824334717735, 0.20454545454545456, 'gini = 0.0\\nsamples = 3\\nvalue = [0, 3]'),\n",
       " Text(0.8240270727580372, 0.20454545454545456, 'gini = 0.0\\nsamples = 2\\nvalue = [2, 0]'),\n",
       " Text(0.828949392401169, 0.3409090909090909, 'x[159] <= 0.5\\ngini = 0.5\\nsamples = 2\\nvalue = [1, 1]'),\n",
       " Text(0.8240270727580372, 0.29545454545454547, 'gini = 0.0\\nsamples = 1\\nvalue = [0, 1]'),\n",
       " Text(0.8338717120443009, 0.29545454545454547, 'gini = 0.0\\nsamples = 1\\nvalue = [1, 0]'),\n",
       " Text(0.85848331025996, 0.38636363636363635, 'x[6] <= 0.691\\ngini = 0.268\\nsamples = 44\\nvalue = [7, 37]'),\n",
       " Text(0.8486386709736964, 0.3409090909090909, 'x[11] <= 0.525\\ngini = 0.457\\nsamples = 17\\nvalue = [6, 11]'),\n",
       " Text(0.8437163513305646, 0.29545454545454547, 'x[116] <= 0.5\\ngini = 0.496\\nsamples = 11\\nvalue = [6, 5]'),\n",
       " Text(0.8387940316874327, 0.25, 'x[12] <= 0.682\\ngini = 0.408\\nsamples = 7\\nvalue = [2, 5]'),\n",
       " Text(0.8338717120443009, 0.20454545454545456, 'gini = 0.0\\nsamples = 4\\nvalue = [0, 4]'),\n",
       " Text(0.8437163513305646, 0.20454545454545456, 'x[8] <= 0.184\\ngini = 0.444\\nsamples = 3\\nvalue = [2, 1]'),\n",
       " Text(0.8387940316874327, 0.1590909090909091, 'gini = 0.0\\nsamples = 1\\nvalue = [0, 1]'),\n",
       " Text(0.8486386709736964, 0.1590909090909091, 'gini = 0.0\\nsamples = 2\\nvalue = [2, 0]'),\n",
       " Text(0.8486386709736964, 0.25, 'gini = 0.0\\nsamples = 4\\nvalue = [4, 0]'),\n",
       " Text(0.8535609906168282, 0.29545454545454547, 'gini = 0.0\\nsamples = 6\\nvalue = [0, 6]'),\n",
       " Text(0.8683279495462236, 0.3409090909090909, 'x[12] <= 0.687\\ngini = 0.071\\nsamples = 27\\nvalue = [1, 26]'),\n",
       " Text(0.8634056299030919, 0.29545454545454547, 'gini = 0.0\\nsamples = 1\\nvalue = [1, 0]'),\n",
       " Text(0.8732502691893554, 0.29545454545454547, 'gini = 0.0\\nsamples = 26\\nvalue = [0, 26]'),\n",
       " Text(0.8732502691893554, 0.4318181818181818, 'x[154] <= 0.5\\ngini = 0.48\\nsamples = 5\\nvalue = [2, 3]'),\n",
       " Text(0.8683279495462236, 0.38636363636363635, 'gini = 0.0\\nsamples = 3\\nvalue = [0, 3]'),\n",
       " Text(0.8781725888324873, 0.38636363636363635, 'gini = 0.0\\nsamples = 2\\nvalue = [2, 0]'),\n",
       " Text(0.8658667897246577, 0.4772727272727273, 'gini = 0.0\\nsamples = 1\\nvalue = [1, 0]'),\n",
       " Text(0.8707891093677895, 0.5227272727272727, 'gini = 0.0\\nsamples = 1\\nvalue = [1, 0]'),\n",
       " Text(0.8757114290109214, 0.5681818181818182, 'gini = 0.0\\nsamples = 1\\nvalue = [1, 0]'),\n",
       " Text(0.8806337486540532, 0.6136363636363636, 'gini = 0.0\\nsamples = 1\\nvalue = [1, 0]'),\n",
       " Text(0.9742347331179818, 0.6590909090909091, 'x[195] <= 0.5\\ngini = 0.341\\nsamples = 110\\nvalue = [24, 86]'),\n",
       " Text(0.96931241347485, 0.6136363636363636, 'x[5] <= 0.135\\ngini = 0.324\\nsamples = 108\\nvalue = [22, 86]'),\n",
       " Text(0.9643900938317181, 0.5681818181818182, 'gini = 0.0\\nsamples = 2\\nvalue = [2, 0]'),\n",
       " Text(0.9742347331179818, 0.5681818181818182, 'x[80] <= 0.5\\ngini = 0.306\\nsamples = 106\\nvalue = [20, 86]'),\n",
       " Text(0.9583141055222274, 0.5227272727272727, 'x[206] <= 0.5\\ngini = 0.28\\nsamples = 101\\nvalue = [17, 84]'),\n",
       " Text(0.9412398092601139, 0.4772727272727273, 'x[208] <= 0.5\\ngini = 0.259\\nsamples = 98\\nvalue = [15, 83]'),\n",
       " Text(0.9218581756652823, 0.4318181818181818, 'x[12] <= 0.642\\ngini = 0.236\\nsamples = 95\\nvalue = [13, 82]'),\n",
       " Text(0.8978618674050146, 0.38636363636363635, 'x[12] <= 0.624\\ngini = 0.444\\nsamples = 18\\nvalue = [6, 12]'),\n",
       " Text(0.888017228118751, 0.3409090909090909, 'x[10] <= 0.318\\ngini = 0.26\\nsamples = 13\\nvalue = [2, 11]'),\n",
       " Text(0.8830949084756191, 0.29545454545454547, 'gini = 0.0\\nsamples = 1\\nvalue = [1, 0]'),\n",
       " Text(0.8929395477618828, 0.29545454545454547, 'x[196] <= 0.5\\ngini = 0.153\\nsamples = 12\\nvalue = [1, 11]'),\n",
       " Text(0.888017228118751, 0.25, 'gini = 0.0\\nsamples = 11\\nvalue = [0, 11]'),\n",
       " Text(0.8978618674050146, 0.25, 'gini = 0.0\\nsamples = 1\\nvalue = [1, 0]'),\n",
       " Text(0.9077065066912783, 0.3409090909090909, 'x[114] <= 0.5\\ngini = 0.32\\nsamples = 5\\nvalue = [4, 1]'),\n",
       " Text(0.9027841870481464, 0.29545454545454547, 'gini = 0.0\\nsamples = 4\\nvalue = [4, 0]'),\n",
       " Text(0.9126288263344101, 0.29545454545454547, 'gini = 0.0\\nsamples = 1\\nvalue = [0, 1]'),\n",
       " Text(0.9458544839255499, 0.38636363636363635, 'x[89] <= 0.5\\ngini = 0.165\\nsamples = 77\\nvalue = [7, 70]'),\n",
       " Text(0.9409321642824181, 0.3409090909090909, 'x[1] <= 0.66\\ngini = 0.145\\nsamples = 76\\nvalue = [6, 70]'),\n",
       " Text(0.9249346254422397, 0.29545454545454547, 'x[204] <= 0.5\\ngini = 0.106\\nsamples = 71\\nvalue = [4, 67]'),\n",
       " Text(0.9077065066912783, 0.25, 'x[8] <= 0.789\\ngini = 0.061\\nsamples = 64\\nvalue = [2, 62]'),\n",
       " Text(0.8978618674050146, 0.20454545454545456, 'x[12] <= 0.84\\ngini = 0.032\\nsamples = 62\\nvalue = [1, 61]'),\n",
       " Text(0.8929395477618828, 0.1590909090909091, 'gini = 0.0\\nsamples = 58\\nvalue = [0, 58]'),\n",
       " Text(0.9027841870481464, 0.1590909090909091, 'x[78] <= 0.5\\ngini = 0.375\\nsamples = 4\\nvalue = [1, 3]'),\n",
       " Text(0.8978618674050146, 0.11363636363636363, 'gini = 0.0\\nsamples = 3\\nvalue = [0, 3]'),\n",
       " Text(0.9077065066912783, 0.11363636363636363, 'gini = 0.0\\nsamples = 1\\nvalue = [1, 0]'),\n",
       " Text(0.917551145977542, 0.20454545454545456, 'x[13] <= 0.125\\ngini = 0.5\\nsamples = 2\\nvalue = [1, 1]'),\n",
       " Text(0.9126288263344101, 0.1590909090909091, 'gini = 0.0\\nsamples = 1\\nvalue = [1, 0]'),\n",
       " Text(0.9224734656206738, 0.1590909090909091, 'gini = 0.0\\nsamples = 1\\nvalue = [0, 1]'),\n",
       " Text(0.942162744193201, 0.25, 'x[142] <= 0.5\\ngini = 0.408\\nsamples = 7\\nvalue = [2, 5]'),\n",
       " Text(0.9372404245500692, 0.20454545454545456, 'x[151] <= 0.5\\ngini = 0.444\\nsamples = 3\\nvalue = [2, 1]'),\n",
       " Text(0.9323181049069373, 0.1590909090909091, 'gini = 0.0\\nsamples = 2\\nvalue = [2, 0]'),\n",
       " Text(0.942162744193201, 0.1590909090909091, 'gini = 0.0\\nsamples = 1\\nvalue = [0, 1]'),\n",
       " Text(0.9470850638363328, 0.20454545454545456, 'gini = 0.0\\nsamples = 4\\nvalue = [0, 4]'),\n",
       " Text(0.9569297031225965, 0.29545454545454547, 'x[11] <= 0.275\\ngini = 0.48\\nsamples = 5\\nvalue = [2, 3]'),\n",
       " Text(0.9520073834794647, 0.25, 'gini = 0.0\\nsamples = 2\\nvalue = [2, 0]'),\n",
       " Text(0.9618520227657283, 0.25, 'gini = 0.0\\nsamples = 3\\nvalue = [0, 3]'),\n",
       " Text(0.9507768035686818, 0.3409090909090909, 'gini = 0.0\\nsamples = 1\\nvalue = [1, 0]'),\n",
       " Text(0.9606214428549454, 0.4318181818181818, 'x[76] <= 0.5\\ngini = 0.444\\nsamples = 3\\nvalue = [2, 1]'),\n",
       " Text(0.9556991232118136, 0.38636363636363635, 'gini = 0.0\\nsamples = 1\\nvalue = [0, 1]'),\n",
       " Text(0.9655437624980773, 0.38636363636363635, 'gini = 0.0\\nsamples = 2\\nvalue = [2, 0]'),\n",
       " Text(0.9753884017843408, 0.4772727272727273, 'x[156] <= 0.5\\ngini = 0.444\\nsamples = 3\\nvalue = [2, 1]'),\n",
       " Text(0.970466082141209, 0.4318181818181818, 'gini = 0.0\\nsamples = 2\\nvalue = [2, 0]'),\n",
       " Text(0.9803107214274727, 0.4318181818181818, 'gini = 0.0\\nsamples = 1\\nvalue = [0, 1]'),\n",
       " Text(0.9901553607137363, 0.5227272727272727, 'x[6] <= 0.69\\ngini = 0.48\\nsamples = 5\\nvalue = [3, 2]'),\n",
       " Text(0.9852330410706045, 0.4772727272727273, 'gini = 0.0\\nsamples = 3\\nvalue = [3, 0]'),\n",
       " Text(0.9950776803568682, 0.4772727272727273, 'gini = 0.0\\nsamples = 2\\nvalue = [0, 2]'),\n",
       " Text(0.9791570527611136, 0.6136363636363636, 'gini = 0.0\\nsamples = 2\\nvalue = [2, 0]')]"
      ]
     },
     "execution_count": 52,
     "metadata": {},
     "output_type": "execute_result"
    },
    {
     "data": {
      "image/png": "[encoded data removed]",
      "text/plain": [
       "<Figure size 640x480 with 1 Axes>"
      ]
     },
     "metadata": {},
     "output_type": "display_data"
    }
   ],
   "source": [
    "tree.plot_tree(clf)"
   ]
  },
  {
   "cell_type": "markdown",
   "metadata": {
    "id": "p0cTLVNims1A"
   },
   "source": [
    "# **Support Vector Machines**"
   ]
  },
  {
   "cell_type": "code",
   "execution_count": null,
   "metadata": {
    "id": "4er7ws4qmN0e"
   },
   "outputs": [],
   "source": [
    "data = df_ohe.copy()\n",
    "train, test = train_test_split(data, test_size=0.2, random_state=42)\n",
    "\n",
    "X_train, y_train = train.drop(columns=['Target']) ,train['Target']\n",
    "X_test, y_test = test.drop(columns=['Target']), test['Target']"
   ]
  },
  {
   "cell_type": "code",
   "execution_count": null,
   "metadata": {
    "colab": {
     "base_uri": "https://localhost:8080/"
    },
    "id": "o1WacBmCmN4Y",
    "outputId": "39124493-89c4-4735-c812-a12aa6feb12a"
   },
   "outputs": [
    {
     "name": "stdout",
     "output_type": "stream",
     "text": [
      "Accuracy: 0.9049586776859504\n",
      "              precision    recall  f1-score   support\n",
      "\n",
      "           0       0.93      0.82      0.87       277\n",
      "           1       0.89      0.96      0.93       449\n",
      "\n",
      "    accuracy                           0.90       726\n",
      "   macro avg       0.91      0.89      0.90       726\n",
      "weighted avg       0.91      0.90      0.90       726\n",
      "\n",
      "Confusion Matrix:\n",
      "[[226  51]\n",
      " [ 18 431]]\n"
     ]
    }
   ],
   "source": [
    "import pandas as pd\n",
    "from sklearn.svm import SVC\n",
    "from sklearn.model_selection import train_test_split\n",
    "from sklearn.metrics import accuracy_score\n",
    "\n",
    "\n",
    "svm = SVC(kernel='linear')\n",
    "\n",
    "svm.fit(X_train, y_train)\n",
    "\n",
    "y_pred = svm.predict(X_test)\n",
    "\n",
    "accuracy = accuracy_score(y_test, y_pred)\n",
    "print(\"Accuracy:\", accuracy)\n",
    "\n",
    "print(classification_report(y_test, y_pred))\n",
    "\n",
    "cm = confusion_matrix(y_test, y_pred)\n",
    "\n",
    "print(\"Confusion Matrix:\")\n",
    "print(cm)"
   ]
  },
  {
   "cell_type": "markdown",
   "metadata": {
    "id": "pkOX1lKAQQri"
   },
   "source": [
    "# **Naive Bayes**\n"
   ]
  },
  {
   "cell_type": "code",
   "execution_count": null,
   "metadata": {
    "id": "CTnZlhBJKA9I"
   },
   "outputs": [],
   "source": [
    "import pandas as pd\n",
    "import numpy as np\n",
    "from sklearn import preprocessing\n",
    "from sklearn.model_selection import train_test_split\n",
    "from sklearn.naive_bayes import GaussianNB, CategoricalNB\n",
    "from sklearn.metrics import classification_report\n",
    "from sklearn.svm import SVC\n",
    "from imblearn.over_sampling import RandomOverSampler\n",
    "from IPython.display import display # Just for solution"
   ]
  },
  {
   "cell_type": "code",
   "execution_count": null,
   "metadata": {
    "colab": {
     "base_uri": "https://localhost:8080/"
    },
    "id": "06ei-f_IQQTR",
    "outputId": "5611a06c-489c-4103-caa3-6e8629c38727"
   },
   "outputs": [
    {
     "name": "stdout",
     "output_type": "stream",
     "text": [
      "Index([], dtype='object')\n"
     ]
    }
   ],
   "source": [
    "url = 'https://drive.google.com/uc?id=1RkoTj_yc3o99xDfzmE8q7QFURhf3FwdS'\n",
    "df = pd.read_csv(io.StringIO(requests.get(url).content.decode(\"utf-8\")))\n",
    "nb_df = df.copy()\n",
    "# display(nb_df)\n",
    "\n",
    "#preprocessing\n",
    "\n",
    "#assign Target values and drop enrolled value\n",
    "class_mapping = {'Dropout': 0, 'Graduate': 1, 'Enrolled' : 2}\n",
    "nb_df['Target'] = df['Target'].map(class_mapping)\n",
    "nb_df.drop(nb_df[nb_df[\"Target\"]==2].index,inplace=True)\n",
    "\n",
    "#drop dupes\n",
    "nb_df.drop_duplicates(inplace=True)\n",
    "\n",
    "#look for and fill any na with 0\n",
    "print(nb_df.columns[nb_df.isna().any()])\n",
    "nb_df = nb_df.fillna(0)\n",
    "\n",
    "#manually drop some cat attributes\n",
    "nb_df.drop(columns=['Marital status'], axis=1, inplace=True)\n",
    "nb_df.drop(columns=['Nacionality'], axis=1, inplace=True)\n",
    "nb_df.drop(columns=['Educational special needs'], axis=1, inplace=True)\n",
    "nb_df.drop(columns=['International'], axis=1, inplace=True)\n",
    "# display(nb_df)\n",
    "# print(nb_df['Target'].unique())\n",
    "# display(nb_df.columns.tolist())\n",
    "\n",
    "#cats that will be used\n",
    "#cats not used: 'International','Educational special needs','Nacionality','Marital status',\n",
    "cats = [\"Mother's occupation\", \"Father's occupation\",\"Father's qualification\",\"Mother's qualification\",'Previous qualification','Daytime/evening attendance','Application mode','Debtor', 'Gender','Scholarship holder', 'Course','Tuition fees up to date','Displaced']\n",
    "# cats = ['International','Educational special needs','Nacionality','Marital status',\"Mother's occupation\", \"Father's occupation\",\"Father's qualification\",\"Mother's qualification\",'Previous qualification','Daytime/evening attendance','Application mode','Debtor', 'Gender','Scholarship holder', 'Course','Tuition fees up to date','Displaced']\n",
    "# display(nb_df)\n",
    "\n",
    "#encoding using ordinalencoder()\n",
    "nb_df = pd.DataFrame(preprocessing.OrdinalEncoder().fit_transform(nb_df), columns=nb_df.columns)\n",
    "# display(nb_df)"
   ]
  },
  {
   "cell_type": "code",
   "execution_count": null,
   "metadata": {
    "colab": {
     "base_uri": "https://localhost:8080/"
    },
    "id": "dPftJeJQJTYj",
    "outputId": "7bd08388-4e96-452e-ecb7-70e7fc2150b3"
   },
   "outputs": [
    {
     "name": "stdout",
     "output_type": "stream",
     "text": [
      "(2904, 30) (726, 30)\n"
     ]
    }
   ],
   "source": [
    "#split data into train and test set with ratio of 80:20\n",
    "# nb_df = df.copy()\n",
    "nb_train, nb_test = train_test_split(nb_df, test_size=0.2, random_state=42)\n",
    "X_nb_train, y_nb_train = nb_train.drop(columns=['Target']), nb_train['Target']\n",
    "X_nb_test, y_nb_test = nb_test.drop(columns=['Target']), nb_test['Target']\n",
    "print(X_nb_train.shape, X_nb_test.shape)\n",
    "# print(nb_df.nunique())"
   ]
  },
  {
   "cell_type": "markdown",
   "metadata": {
    "id": "s7Q7ZJx1JV6V"
   },
   "source": [
    "**Naïve Bayes Classifier for Categorical Attributes**"
   ]
  },
  {
   "cell_type": "code",
   "execution_count": null,
   "metadata": {
    "colab": {
     "base_uri": "https://localhost:8080/"
    },
    "id": "06_M0I-GJgqa",
    "outputId": "677fa56c-c07b-4273-d8d9-550ce9e87973"
   },
   "outputs": [
    {
     "name": "stdout",
     "output_type": "stream",
     "text": [
      "CATEGORICAL ATTRIBUTES USED:\n",
      " [\"Mother's occupation\", \"Father's occupation\", \"Father's qualification\", \"Mother's qualification\", 'Previous qualification', 'Daytime/evening attendance', 'Application mode', 'Debtor', 'Gender', 'Scholarship holder', 'Course', 'Tuition fees up to date', 'Displaced']\n",
      "\n",
      "CLASSIFICATION REPORT:\n",
      "\n",
      "              precision    recall  f1-score   support\n",
      "\n",
      "         0.0       0.69      0.64      0.66       277\n",
      "         1.0       0.79      0.82      0.80       449\n",
      "\n",
      "    accuracy                           0.75       726\n",
      "   macro avg       0.74      0.73      0.73       726\n",
      "weighted avg       0.75      0.75      0.75       726\n",
      "\n"
     ]
    }
   ],
   "source": [
    "print(\"CATEGORICAL ATTRIBUTES USED:\\n\", cats)\n",
    "#print(nb_df.nunique())\n",
    "#using CategoricalNB()\n",
    "# clf_cat = CategoricalNB()\n",
    "clf_cat = CategoricalNB(min_categories=nb_df[cats].nunique())\n",
    "\n",
    "clf_cat.fit(X_nb_train[cats], np.asarray(y_nb_train))\n",
    "\n",
    "print(\"\\nCLASSIFICATION REPORT:\\n\")\n",
    "print(classification_report(y_nb_test, clf_cat.predict(X_nb_test[cats])))"
   ]
  },
  {
   "cell_type": "markdown",
   "metadata": {
    "id": "CW7UgX9dKGCm"
   },
   "source": [
    "**Naïve Bayes Classifier for Numerical Attributes**"
   ]
  },
  {
   "cell_type": "code",
   "execution_count": null,
   "metadata": {
    "colab": {
     "base_uri": "https://localhost:8080/"
    },
    "id": "Ek5YtgyQKKGs",
    "outputId": "2d4921dc-8707-4004-ae95-09a218316d3f"
   },
   "outputs": [
    {
     "name": "stdout",
     "output_type": "stream",
     "text": [
      "NUMERICAL ATTRIBUTES USED:\n",
      " ['Application order', 'Age at enrollment', 'Curricular units 1st sem (credited)', 'Curricular units 1st sem (enrolled)', 'Curricular units 1st sem (evaluations)', 'Curricular units 1st sem (approved)', 'Curricular units 1st sem (grade)', 'Curricular units 1st sem (without evaluations)', 'Curricular units 2nd sem (credited)', 'Curricular units 2nd sem (enrolled)', 'Curricular units 2nd sem (evaluations)', 'Curricular units 2nd sem (approved)', 'Curricular units 2nd sem (grade)', 'Curricular units 2nd sem (without evaluations)', 'Unemployment rate', 'Inflation rate', 'GDP']\n",
      "\n",
      "CLASSIFICATION REPORT:\n",
      "\n",
      "              precision    recall  f1-score   support\n",
      "\n",
      "         0.0       0.82      0.76      0.79       277\n",
      "         1.0       0.86      0.90      0.88       449\n",
      "\n",
      "    accuracy                           0.84       726\n",
      "   macro avg       0.84      0.83      0.83       726\n",
      "weighted avg       0.84      0.84      0.84       726\n",
      "\n"
     ]
    }
   ],
   "source": [
    "#using GaussianNB()\n",
    "\n",
    "nums = [col for col in X_nb_train.columns if col not in cats]\n",
    "print(\"NUMERICAL ATTRIBUTES USED:\\n\",nums)\n",
    "\n",
    "clf_num = GaussianNB()\n",
    "scaler = preprocessing.StandardScaler()\n",
    "scaler.fit(X_nb_train[nums])\n",
    "\n",
    "Z_nb_train = scaler.transform(X_nb_train[nums])\n",
    "Z_nb_test = scaler.transform(X_nb_test[nums])\n",
    "\n",
    "clf_num.fit(Z_nb_train, np.asarray(y_nb_train))\n",
    "\n",
    "print(\"\\nCLASSIFICATION REPORT:\\n\")\n",
    "print(classification_report(y_nb_test, clf_num.predict(Z_nb_test)))"
   ]
  },
  {
   "cell_type": "markdown",
   "metadata": {
    "id": "l0DcD9PPZJIp"
   },
   "source": [
    "Dropping more categorical attributes don't seem to have much effect for the accuracy for Naive Bayes for Categorical Attributes. Dropping no attributes does not really effect the accuracy for categorical attributes either.\n",
    "\n",
    "However, following previous models, the same four categorical attributes were still dropped:\n",
    "\n",
    "\n",
    "*   Marital status\n",
    "*   Nacionality\n",
    "*   Educational special needs\n",
    "*   International\n",
    "\n",
    "Naive Bayes for Categorical Attributes seems to have accuracy numbers usually <80%.\n",
    "\n",
    "Naive Bayes for Numerical Attributes seems to have accuracy numbers usually >=80%.\n",
    "\n",
    "Hence, for our dataset, Naive Bayes seems to work better for Numerical Attributes.\n",
    "\n",
    "\n",
    "\n"
   ]
  }
 ],
 "metadata": {
  "colab": {
   "provenance": [],
   "toc_visible": true
  },
  "kernelspec": {
   "display_name": "Python 3",
   "language": "python",
   "name": "python3"
  },
  "language_info": {
   "codemirror_mode": {
    "name": "ipython",
    "version": 3
   },
   "file_extension": ".py",
   "mimetype": "text/x-python",
   "name": "python",
   "nbconvert_exporter": "python",
   "pygments_lexer": "ipython3",
   "version": "3.8.0"
  }
 },
 "nbformat": 4,
 "nbformat_minor": 1
}
